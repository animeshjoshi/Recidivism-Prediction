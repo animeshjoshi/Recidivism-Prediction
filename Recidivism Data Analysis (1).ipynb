{
 "cells": [
  {
   "cell_type": "code",
   "execution_count": 1,
   "id": "af6f5020",
   "metadata": {},
   "outputs": [],
   "source": [
    "import pandas as pd\n",
    "import numpy as np"
   ]
  },
  {
   "cell_type": "code",
   "execution_count": 2,
   "id": "15696bb3",
   "metadata": {},
   "outputs": [],
   "source": [
    "rec_data = pd.read_csv(\"C:/Users/anime/Downloads/NIJ_s_Recidivism_Challenge_Full_Dataset.csv\")"
   ]
  },
  {
   "cell_type": "code",
   "execution_count": 367,
   "id": "1fde65fb",
   "metadata": {},
   "outputs": [
    {
     "data": {
      "text/plain": [
       "(25835, 62)"
      ]
     },
     "execution_count": 367,
     "metadata": {},
     "output_type": "execute_result"
    }
   ],
   "source": [
    "rec_data.shape"
   ]
  },
  {
   "cell_type": "code",
   "execution_count": 3,
   "id": "087abbc7",
   "metadata": {},
   "outputs": [
    {
     "data": {
      "text/html": [
       "<div>\n",
       "<style scoped>\n",
       "    .dataframe tbody tr th:only-of-type {\n",
       "        vertical-align: middle;\n",
       "    }\n",
       "\n",
       "    .dataframe tbody tr th {\n",
       "        vertical-align: top;\n",
       "    }\n",
       "\n",
       "    .dataframe thead th {\n",
       "        text-align: right;\n",
       "    }\n",
       "</style>\n",
       "<table border=\"1\" class=\"dataframe\">\n",
       "  <thead>\n",
       "    <tr style=\"text-align: right;\">\n",
       "      <th></th>\n",
       "      <th>ID</th>\n",
       "      <th>Gender</th>\n",
       "      <th>Race</th>\n",
       "      <th>Age_at_Release</th>\n",
       "      <th>Residence_PUMA</th>\n",
       "      <th>Gang_Affiliated</th>\n",
       "      <th>Supervision_Risk_Score_First</th>\n",
       "      <th>Supervision_Level_First</th>\n",
       "      <th>Education_Level</th>\n",
       "      <th>Dependents</th>\n",
       "      <th>...</th>\n",
       "      <th>DrugTests_Meth_Positive</th>\n",
       "      <th>DrugTests_Other_Positive</th>\n",
       "      <th>Percent_Days_Employed</th>\n",
       "      <th>Jobs_Per_Year</th>\n",
       "      <th>Employment_Exempt</th>\n",
       "      <th>Recidivism_Within_3years</th>\n",
       "      <th>Recidivism_Arrest_Year1</th>\n",
       "      <th>Recidivism_Arrest_Year2</th>\n",
       "      <th>Recidivism_Arrest_Year3</th>\n",
       "      <th>Training_Sample</th>\n",
       "    </tr>\n",
       "  </thead>\n",
       "  <tbody>\n",
       "    <tr>\n",
       "      <th>0</th>\n",
       "      <td>1</td>\n",
       "      <td>M</td>\n",
       "      <td>BLACK</td>\n",
       "      <td>43-47</td>\n",
       "      <td>16</td>\n",
       "      <td>False</td>\n",
       "      <td>3.0</td>\n",
       "      <td>Standard</td>\n",
       "      <td>At least some college</td>\n",
       "      <td>3 or more</td>\n",
       "      <td>...</td>\n",
       "      <td>0.000000</td>\n",
       "      <td>0.0</td>\n",
       "      <td>0.488562</td>\n",
       "      <td>0.447610</td>\n",
       "      <td>False</td>\n",
       "      <td>False</td>\n",
       "      <td>False</td>\n",
       "      <td>False</td>\n",
       "      <td>False</td>\n",
       "      <td>1</td>\n",
       "    </tr>\n",
       "    <tr>\n",
       "      <th>1</th>\n",
       "      <td>2</td>\n",
       "      <td>M</td>\n",
       "      <td>BLACK</td>\n",
       "      <td>33-37</td>\n",
       "      <td>16</td>\n",
       "      <td>False</td>\n",
       "      <td>6.0</td>\n",
       "      <td>Specialized</td>\n",
       "      <td>Less than HS diploma</td>\n",
       "      <td>1</td>\n",
       "      <td>...</td>\n",
       "      <td>0.000000</td>\n",
       "      <td>0.0</td>\n",
       "      <td>0.425234</td>\n",
       "      <td>2.000000</td>\n",
       "      <td>False</td>\n",
       "      <td>True</td>\n",
       "      <td>False</td>\n",
       "      <td>False</td>\n",
       "      <td>True</td>\n",
       "      <td>1</td>\n",
       "    </tr>\n",
       "    <tr>\n",
       "      <th>2</th>\n",
       "      <td>3</td>\n",
       "      <td>M</td>\n",
       "      <td>BLACK</td>\n",
       "      <td>48 or older</td>\n",
       "      <td>24</td>\n",
       "      <td>False</td>\n",
       "      <td>7.0</td>\n",
       "      <td>High</td>\n",
       "      <td>At least some college</td>\n",
       "      <td>3 or more</td>\n",
       "      <td>...</td>\n",
       "      <td>0.166667</td>\n",
       "      <td>0.0</td>\n",
       "      <td>0.000000</td>\n",
       "      <td>0.000000</td>\n",
       "      <td>False</td>\n",
       "      <td>True</td>\n",
       "      <td>False</td>\n",
       "      <td>True</td>\n",
       "      <td>False</td>\n",
       "      <td>1</td>\n",
       "    </tr>\n",
       "    <tr>\n",
       "      <th>3</th>\n",
       "      <td>4</td>\n",
       "      <td>M</td>\n",
       "      <td>WHITE</td>\n",
       "      <td>38-42</td>\n",
       "      <td>16</td>\n",
       "      <td>False</td>\n",
       "      <td>7.0</td>\n",
       "      <td>High</td>\n",
       "      <td>Less than HS diploma</td>\n",
       "      <td>1</td>\n",
       "      <td>...</td>\n",
       "      <td>0.000000</td>\n",
       "      <td>0.0</td>\n",
       "      <td>1.000000</td>\n",
       "      <td>0.718996</td>\n",
       "      <td>False</td>\n",
       "      <td>False</td>\n",
       "      <td>False</td>\n",
       "      <td>False</td>\n",
       "      <td>False</td>\n",
       "      <td>1</td>\n",
       "    </tr>\n",
       "    <tr>\n",
       "      <th>4</th>\n",
       "      <td>5</td>\n",
       "      <td>M</td>\n",
       "      <td>WHITE</td>\n",
       "      <td>33-37</td>\n",
       "      <td>16</td>\n",
       "      <td>False</td>\n",
       "      <td>4.0</td>\n",
       "      <td>Specialized</td>\n",
       "      <td>Less than HS diploma</td>\n",
       "      <td>3 or more</td>\n",
       "      <td>...</td>\n",
       "      <td>0.058824</td>\n",
       "      <td>0.0</td>\n",
       "      <td>0.203562</td>\n",
       "      <td>0.929389</td>\n",
       "      <td>False</td>\n",
       "      <td>True</td>\n",
       "      <td>True</td>\n",
       "      <td>False</td>\n",
       "      <td>False</td>\n",
       "      <td>1</td>\n",
       "    </tr>\n",
       "  </tbody>\n",
       "</table>\n",
       "<p>5 rows × 54 columns</p>\n",
       "</div>"
      ],
      "text/plain": [
       "   ID Gender   Race Age_at_Release  Residence_PUMA Gang_Affiliated  \\\n",
       "0   1      M  BLACK          43-47              16           False   \n",
       "1   2      M  BLACK          33-37              16           False   \n",
       "2   3      M  BLACK    48 or older              24           False   \n",
       "3   4      M  WHITE          38-42              16           False   \n",
       "4   5      M  WHITE          33-37              16           False   \n",
       "\n",
       "   Supervision_Risk_Score_First Supervision_Level_First  \\\n",
       "0                           3.0                Standard   \n",
       "1                           6.0             Specialized   \n",
       "2                           7.0                    High   \n",
       "3                           7.0                    High   \n",
       "4                           4.0             Specialized   \n",
       "\n",
       "         Education_Level Dependents  ... DrugTests_Meth_Positive  \\\n",
       "0  At least some college  3 or more  ...                0.000000   \n",
       "1   Less than HS diploma          1  ...                0.000000   \n",
       "2  At least some college  3 or more  ...                0.166667   \n",
       "3   Less than HS diploma          1  ...                0.000000   \n",
       "4   Less than HS diploma  3 or more  ...                0.058824   \n",
       "\n",
       "  DrugTests_Other_Positive Percent_Days_Employed Jobs_Per_Year  \\\n",
       "0                      0.0              0.488562      0.447610   \n",
       "1                      0.0              0.425234      2.000000   \n",
       "2                      0.0              0.000000      0.000000   \n",
       "3                      0.0              1.000000      0.718996   \n",
       "4                      0.0              0.203562      0.929389   \n",
       "\n",
       "  Employment_Exempt Recidivism_Within_3years Recidivism_Arrest_Year1  \\\n",
       "0             False                    False                   False   \n",
       "1             False                     True                   False   \n",
       "2             False                     True                   False   \n",
       "3             False                    False                   False   \n",
       "4             False                     True                    True   \n",
       "\n",
       "  Recidivism_Arrest_Year2  Recidivism_Arrest_Year3  Training_Sample  \n",
       "0                   False                    False                1  \n",
       "1                   False                     True                1  \n",
       "2                    True                    False                1  \n",
       "3                   False                    False                1  \n",
       "4                   False                    False                1  \n",
       "\n",
       "[5 rows x 54 columns]"
      ]
     },
     "execution_count": 3,
     "metadata": {},
     "output_type": "execute_result"
    }
   ],
   "source": [
    "rec_data.head()"
   ]
  },
  {
   "cell_type": "code",
   "execution_count": 4,
   "id": "863806a3",
   "metadata": {},
   "outputs": [
    {
     "data": {
      "text/plain": [
       "array(['M', 'F'], dtype=object)"
      ]
     },
     "execution_count": 4,
     "metadata": {},
     "output_type": "execute_result"
    }
   ],
   "source": [
    "rec_data['Gender'].unique()"
   ]
  },
  {
   "cell_type": "code",
   "execution_count": 5,
   "id": "79186467",
   "metadata": {},
   "outputs": [
    {
     "data": {
      "text/plain": [
       "0        M\n",
       "1        M\n",
       "2        M\n",
       "3        M\n",
       "4        M\n",
       "        ..\n",
       "25830    M\n",
       "25831    M\n",
       "25832    M\n",
       "25833    F\n",
       "25834    M\n",
       "Name: Gender, Length: 25835, dtype: object"
      ]
     },
     "execution_count": 5,
     "metadata": {},
     "output_type": "execute_result"
    }
   ],
   "source": [
    "rec_data['Gender']"
   ]
  },
  {
   "cell_type": "code",
   "execution_count": 6,
   "id": "45f012e3",
   "metadata": {},
   "outputs": [],
   "source": [
    "gender_encode = pd.get_dummies(rec_data['Gender'])"
   ]
  },
  {
   "cell_type": "code",
   "execution_count": 7,
   "id": "b49a0c09",
   "metadata": {},
   "outputs": [
    {
     "data": {
      "text/html": [
       "<div>\n",
       "<style scoped>\n",
       "    .dataframe tbody tr th:only-of-type {\n",
       "        vertical-align: middle;\n",
       "    }\n",
       "\n",
       "    .dataframe tbody tr th {\n",
       "        vertical-align: top;\n",
       "    }\n",
       "\n",
       "    .dataframe thead th {\n",
       "        text-align: right;\n",
       "    }\n",
       "</style>\n",
       "<table border=\"1\" class=\"dataframe\">\n",
       "  <thead>\n",
       "    <tr style=\"text-align: right;\">\n",
       "      <th></th>\n",
       "      <th>F</th>\n",
       "      <th>M</th>\n",
       "    </tr>\n",
       "  </thead>\n",
       "  <tbody>\n",
       "    <tr>\n",
       "      <th>0</th>\n",
       "      <td>0</td>\n",
       "      <td>1</td>\n",
       "    </tr>\n",
       "    <tr>\n",
       "      <th>1</th>\n",
       "      <td>0</td>\n",
       "      <td>1</td>\n",
       "    </tr>\n",
       "    <tr>\n",
       "      <th>2</th>\n",
       "      <td>0</td>\n",
       "      <td>1</td>\n",
       "    </tr>\n",
       "    <tr>\n",
       "      <th>3</th>\n",
       "      <td>0</td>\n",
       "      <td>1</td>\n",
       "    </tr>\n",
       "    <tr>\n",
       "      <th>4</th>\n",
       "      <td>0</td>\n",
       "      <td>1</td>\n",
       "    </tr>\n",
       "  </tbody>\n",
       "</table>\n",
       "</div>"
      ],
      "text/plain": [
       "   F  M\n",
       "0  0  1\n",
       "1  0  1\n",
       "2  0  1\n",
       "3  0  1\n",
       "4  0  1"
      ]
     },
     "execution_count": 7,
     "metadata": {},
     "output_type": "execute_result"
    }
   ],
   "source": [
    "gender_encode.head()"
   ]
  },
  {
   "cell_type": "code",
   "execution_count": 8,
   "id": "c106d83f",
   "metadata": {},
   "outputs": [],
   "source": [
    "rec_data = rec_data.drop('Gender',axis=1)"
   ]
  },
  {
   "cell_type": "code",
   "execution_count": 9,
   "id": "7a0e3045",
   "metadata": {},
   "outputs": [],
   "source": [
    "rec_data = rec_data.join(gender_encode)"
   ]
  },
  {
   "cell_type": "code",
   "execution_count": 10,
   "id": "7bebc7ac",
   "metadata": {},
   "outputs": [
    {
     "data": {
      "text/html": [
       "<div>\n",
       "<style scoped>\n",
       "    .dataframe tbody tr th:only-of-type {\n",
       "        vertical-align: middle;\n",
       "    }\n",
       "\n",
       "    .dataframe tbody tr th {\n",
       "        vertical-align: top;\n",
       "    }\n",
       "\n",
       "    .dataframe thead th {\n",
       "        text-align: right;\n",
       "    }\n",
       "</style>\n",
       "<table border=\"1\" class=\"dataframe\">\n",
       "  <thead>\n",
       "    <tr style=\"text-align: right;\">\n",
       "      <th></th>\n",
       "      <th>ID</th>\n",
       "      <th>Race</th>\n",
       "      <th>Age_at_Release</th>\n",
       "      <th>Residence_PUMA</th>\n",
       "      <th>Gang_Affiliated</th>\n",
       "      <th>Supervision_Risk_Score_First</th>\n",
       "      <th>Supervision_Level_First</th>\n",
       "      <th>Education_Level</th>\n",
       "      <th>Dependents</th>\n",
       "      <th>Prison_Offense</th>\n",
       "      <th>...</th>\n",
       "      <th>Percent_Days_Employed</th>\n",
       "      <th>Jobs_Per_Year</th>\n",
       "      <th>Employment_Exempt</th>\n",
       "      <th>Recidivism_Within_3years</th>\n",
       "      <th>Recidivism_Arrest_Year1</th>\n",
       "      <th>Recidivism_Arrest_Year2</th>\n",
       "      <th>Recidivism_Arrest_Year3</th>\n",
       "      <th>Training_Sample</th>\n",
       "      <th>F</th>\n",
       "      <th>M</th>\n",
       "    </tr>\n",
       "  </thead>\n",
       "  <tbody>\n",
       "    <tr>\n",
       "      <th>0</th>\n",
       "      <td>1</td>\n",
       "      <td>BLACK</td>\n",
       "      <td>43-47</td>\n",
       "      <td>16</td>\n",
       "      <td>False</td>\n",
       "      <td>3.0</td>\n",
       "      <td>Standard</td>\n",
       "      <td>At least some college</td>\n",
       "      <td>3 or more</td>\n",
       "      <td>Drug</td>\n",
       "      <td>...</td>\n",
       "      <td>0.488562</td>\n",
       "      <td>0.447610</td>\n",
       "      <td>False</td>\n",
       "      <td>False</td>\n",
       "      <td>False</td>\n",
       "      <td>False</td>\n",
       "      <td>False</td>\n",
       "      <td>1</td>\n",
       "      <td>0</td>\n",
       "      <td>1</td>\n",
       "    </tr>\n",
       "    <tr>\n",
       "      <th>1</th>\n",
       "      <td>2</td>\n",
       "      <td>BLACK</td>\n",
       "      <td>33-37</td>\n",
       "      <td>16</td>\n",
       "      <td>False</td>\n",
       "      <td>6.0</td>\n",
       "      <td>Specialized</td>\n",
       "      <td>Less than HS diploma</td>\n",
       "      <td>1</td>\n",
       "      <td>Violent/Non-Sex</td>\n",
       "      <td>...</td>\n",
       "      <td>0.425234</td>\n",
       "      <td>2.000000</td>\n",
       "      <td>False</td>\n",
       "      <td>True</td>\n",
       "      <td>False</td>\n",
       "      <td>False</td>\n",
       "      <td>True</td>\n",
       "      <td>1</td>\n",
       "      <td>0</td>\n",
       "      <td>1</td>\n",
       "    </tr>\n",
       "    <tr>\n",
       "      <th>2</th>\n",
       "      <td>3</td>\n",
       "      <td>BLACK</td>\n",
       "      <td>48 or older</td>\n",
       "      <td>24</td>\n",
       "      <td>False</td>\n",
       "      <td>7.0</td>\n",
       "      <td>High</td>\n",
       "      <td>At least some college</td>\n",
       "      <td>3 or more</td>\n",
       "      <td>Drug</td>\n",
       "      <td>...</td>\n",
       "      <td>0.000000</td>\n",
       "      <td>0.000000</td>\n",
       "      <td>False</td>\n",
       "      <td>True</td>\n",
       "      <td>False</td>\n",
       "      <td>True</td>\n",
       "      <td>False</td>\n",
       "      <td>1</td>\n",
       "      <td>0</td>\n",
       "      <td>1</td>\n",
       "    </tr>\n",
       "    <tr>\n",
       "      <th>3</th>\n",
       "      <td>4</td>\n",
       "      <td>WHITE</td>\n",
       "      <td>38-42</td>\n",
       "      <td>16</td>\n",
       "      <td>False</td>\n",
       "      <td>7.0</td>\n",
       "      <td>High</td>\n",
       "      <td>Less than HS diploma</td>\n",
       "      <td>1</td>\n",
       "      <td>Property</td>\n",
       "      <td>...</td>\n",
       "      <td>1.000000</td>\n",
       "      <td>0.718996</td>\n",
       "      <td>False</td>\n",
       "      <td>False</td>\n",
       "      <td>False</td>\n",
       "      <td>False</td>\n",
       "      <td>False</td>\n",
       "      <td>1</td>\n",
       "      <td>0</td>\n",
       "      <td>1</td>\n",
       "    </tr>\n",
       "    <tr>\n",
       "      <th>4</th>\n",
       "      <td>5</td>\n",
       "      <td>WHITE</td>\n",
       "      <td>33-37</td>\n",
       "      <td>16</td>\n",
       "      <td>False</td>\n",
       "      <td>4.0</td>\n",
       "      <td>Specialized</td>\n",
       "      <td>Less than HS diploma</td>\n",
       "      <td>3 or more</td>\n",
       "      <td>Violent/Non-Sex</td>\n",
       "      <td>...</td>\n",
       "      <td>0.203562</td>\n",
       "      <td>0.929389</td>\n",
       "      <td>False</td>\n",
       "      <td>True</td>\n",
       "      <td>True</td>\n",
       "      <td>False</td>\n",
       "      <td>False</td>\n",
       "      <td>1</td>\n",
       "      <td>0</td>\n",
       "      <td>1</td>\n",
       "    </tr>\n",
       "  </tbody>\n",
       "</table>\n",
       "<p>5 rows × 55 columns</p>\n",
       "</div>"
      ],
      "text/plain": [
       "   ID   Race Age_at_Release  Residence_PUMA Gang_Affiliated  \\\n",
       "0   1  BLACK          43-47              16           False   \n",
       "1   2  BLACK          33-37              16           False   \n",
       "2   3  BLACK    48 or older              24           False   \n",
       "3   4  WHITE          38-42              16           False   \n",
       "4   5  WHITE          33-37              16           False   \n",
       "\n",
       "   Supervision_Risk_Score_First Supervision_Level_First  \\\n",
       "0                           3.0                Standard   \n",
       "1                           6.0             Specialized   \n",
       "2                           7.0                    High   \n",
       "3                           7.0                    High   \n",
       "4                           4.0             Specialized   \n",
       "\n",
       "         Education_Level Dependents   Prison_Offense  ...  \\\n",
       "0  At least some college  3 or more             Drug  ...   \n",
       "1   Less than HS diploma          1  Violent/Non-Sex  ...   \n",
       "2  At least some college  3 or more             Drug  ...   \n",
       "3   Less than HS diploma          1         Property  ...   \n",
       "4   Less than HS diploma  3 or more  Violent/Non-Sex  ...   \n",
       "\n",
       "  Percent_Days_Employed Jobs_Per_Year Employment_Exempt  \\\n",
       "0              0.488562      0.447610             False   \n",
       "1              0.425234      2.000000             False   \n",
       "2              0.000000      0.000000             False   \n",
       "3              1.000000      0.718996             False   \n",
       "4              0.203562      0.929389             False   \n",
       "\n",
       "  Recidivism_Within_3years Recidivism_Arrest_Year1 Recidivism_Arrest_Year2  \\\n",
       "0                    False                   False                   False   \n",
       "1                     True                   False                   False   \n",
       "2                     True                   False                    True   \n",
       "3                    False                   False                   False   \n",
       "4                     True                    True                   False   \n",
       "\n",
       "  Recidivism_Arrest_Year3  Training_Sample  F  M  \n",
       "0                   False                1  0  1  \n",
       "1                    True                1  0  1  \n",
       "2                   False                1  0  1  \n",
       "3                   False                1  0  1  \n",
       "4                   False                1  0  1  \n",
       "\n",
       "[5 rows x 55 columns]"
      ]
     },
     "execution_count": 10,
     "metadata": {},
     "output_type": "execute_result"
    }
   ],
   "source": [
    "rec_data.head()"
   ]
  },
  {
   "cell_type": "code",
   "execution_count": 11,
   "id": "2b28ef3c",
   "metadata": {},
   "outputs": [],
   "source": [
    "rec_data.rename(columns={'F': 'Female', 'M': 'Male'}, inplace=True)"
   ]
  },
  {
   "cell_type": "code",
   "execution_count": 12,
   "id": "9998a373",
   "metadata": {},
   "outputs": [
    {
     "data": {
      "text/plain": [
       "Index(['ID', 'Race', 'Age_at_Release', 'Residence_PUMA', 'Gang_Affiliated',\n",
       "       'Supervision_Risk_Score_First', 'Supervision_Level_First',\n",
       "       'Education_Level', 'Dependents', 'Prison_Offense', 'Prison_Years',\n",
       "       'Prior_Arrest_Episodes_Felony', 'Prior_Arrest_Episodes_Misd',\n",
       "       'Prior_Arrest_Episodes_Violent', 'Prior_Arrest_Episodes_Property',\n",
       "       'Prior_Arrest_Episodes_Drug',\n",
       "       'Prior_Arrest_Episodes_PPViolationCharges',\n",
       "       'Prior_Arrest_Episodes_DVCharges', 'Prior_Arrest_Episodes_GunCharges',\n",
       "       'Prior_Conviction_Episodes_Felony', 'Prior_Conviction_Episodes_Misd',\n",
       "       'Prior_Conviction_Episodes_Viol', 'Prior_Conviction_Episodes_Prop',\n",
       "       'Prior_Conviction_Episodes_Drug',\n",
       "       'Prior_Conviction_Episodes_PPViolationCharges',\n",
       "       'Prior_Conviction_Episodes_DomesticViolenceCharges',\n",
       "       'Prior_Conviction_Episodes_GunCharges', 'Prior_Revocations_Parole',\n",
       "       'Prior_Revocations_Probation', 'Condition_MH_SA', 'Condition_Cog_Ed',\n",
       "       'Condition_Other', 'Violations_ElectronicMonitoring',\n",
       "       'Violations_Instruction', 'Violations_FailToReport',\n",
       "       'Violations_MoveWithoutPermission', 'Delinquency_Reports',\n",
       "       'Program_Attendances', 'Program_UnexcusedAbsences', 'Residence_Changes',\n",
       "       'Avg_Days_per_DrugTest', 'DrugTests_THC_Positive',\n",
       "       'DrugTests_Cocaine_Positive', 'DrugTests_Meth_Positive',\n",
       "       'DrugTests_Other_Positive', 'Percent_Days_Employed', 'Jobs_Per_Year',\n",
       "       'Employment_Exempt', 'Recidivism_Within_3years',\n",
       "       'Recidivism_Arrest_Year1', 'Recidivism_Arrest_Year2',\n",
       "       'Recidivism_Arrest_Year3', 'Training_Sample', 'Female', 'Male'],\n",
       "      dtype='object')"
      ]
     },
     "execution_count": 12,
     "metadata": {},
     "output_type": "execute_result"
    }
   ],
   "source": [
    "rec_data.columns"
   ]
  },
  {
   "cell_type": "code",
   "execution_count": 13,
   "id": "26da9f19",
   "metadata": {},
   "outputs": [
    {
     "data": {
      "text/html": [
       "<div>\n",
       "<style scoped>\n",
       "    .dataframe tbody tr th:only-of-type {\n",
       "        vertical-align: middle;\n",
       "    }\n",
       "\n",
       "    .dataframe tbody tr th {\n",
       "        vertical-align: top;\n",
       "    }\n",
       "\n",
       "    .dataframe thead th {\n",
       "        text-align: right;\n",
       "    }\n",
       "</style>\n",
       "<table border=\"1\" class=\"dataframe\">\n",
       "  <thead>\n",
       "    <tr style=\"text-align: right;\">\n",
       "      <th></th>\n",
       "      <th>ID</th>\n",
       "      <th>Residence_PUMA</th>\n",
       "      <th>Supervision_Risk_Score_First</th>\n",
       "      <th>Avg_Days_per_DrugTest</th>\n",
       "      <th>DrugTests_THC_Positive</th>\n",
       "      <th>DrugTests_Cocaine_Positive</th>\n",
       "      <th>DrugTests_Meth_Positive</th>\n",
       "      <th>DrugTests_Other_Positive</th>\n",
       "      <th>Percent_Days_Employed</th>\n",
       "      <th>Jobs_Per_Year</th>\n",
       "      <th>Training_Sample</th>\n",
       "      <th>Female</th>\n",
       "      <th>Male</th>\n",
       "    </tr>\n",
       "  </thead>\n",
       "  <tbody>\n",
       "    <tr>\n",
       "      <th>count</th>\n",
       "      <td>25835.000000</td>\n",
       "      <td>25835.000000</td>\n",
       "      <td>25360.000000</td>\n",
       "      <td>19732.000000</td>\n",
       "      <td>20663.000000</td>\n",
       "      <td>20663.000000</td>\n",
       "      <td>20663.000000</td>\n",
       "      <td>20663.00000</td>\n",
       "      <td>25373.000000</td>\n",
       "      <td>25027.000000</td>\n",
       "      <td>25835.000000</td>\n",
       "      <td>25835.000000</td>\n",
       "      <td>25835.000000</td>\n",
       "    </tr>\n",
       "    <tr>\n",
       "      <th>mean</th>\n",
       "      <td>13314.004838</td>\n",
       "      <td>12.361796</td>\n",
       "      <td>6.082216</td>\n",
       "      <td>93.890044</td>\n",
       "      <td>0.063350</td>\n",
       "      <td>0.013741</td>\n",
       "      <td>0.012890</td>\n",
       "      <td>0.00755</td>\n",
       "      <td>0.482331</td>\n",
       "      <td>0.769295</td>\n",
       "      <td>0.697813</td>\n",
       "      <td>0.122586</td>\n",
       "      <td>0.877414</td>\n",
       "    </tr>\n",
       "    <tr>\n",
       "      <th>std</th>\n",
       "      <td>7722.206327</td>\n",
       "      <td>7.133742</td>\n",
       "      <td>2.381442</td>\n",
       "      <td>117.169847</td>\n",
       "      <td>0.138453</td>\n",
       "      <td>0.061233</td>\n",
       "      <td>0.060581</td>\n",
       "      <td>0.04115</td>\n",
       "      <td>0.425004</td>\n",
       "      <td>0.813787</td>\n",
       "      <td>0.459215</td>\n",
       "      <td>0.327967</td>\n",
       "      <td>0.327967</td>\n",
       "    </tr>\n",
       "    <tr>\n",
       "      <th>min</th>\n",
       "      <td>1.000000</td>\n",
       "      <td>1.000000</td>\n",
       "      <td>1.000000</td>\n",
       "      <td>0.500000</td>\n",
       "      <td>0.000000</td>\n",
       "      <td>0.000000</td>\n",
       "      <td>0.000000</td>\n",
       "      <td>0.00000</td>\n",
       "      <td>0.000000</td>\n",
       "      <td>0.000000</td>\n",
       "      <td>0.000000</td>\n",
       "      <td>0.000000</td>\n",
       "      <td>0.000000</td>\n",
       "    </tr>\n",
       "    <tr>\n",
       "      <th>25%</th>\n",
       "      <td>6626.500000</td>\n",
       "      <td>6.000000</td>\n",
       "      <td>4.000000</td>\n",
       "      <td>28.837366</td>\n",
       "      <td>0.000000</td>\n",
       "      <td>0.000000</td>\n",
       "      <td>0.000000</td>\n",
       "      <td>0.00000</td>\n",
       "      <td>0.000000</td>\n",
       "      <td>0.000000</td>\n",
       "      <td>0.000000</td>\n",
       "      <td>0.000000</td>\n",
       "      <td>1.000000</td>\n",
       "    </tr>\n",
       "    <tr>\n",
       "      <th>50%</th>\n",
       "      <td>13270.000000</td>\n",
       "      <td>12.000000</td>\n",
       "      <td>6.000000</td>\n",
       "      <td>55.424812</td>\n",
       "      <td>0.000000</td>\n",
       "      <td>0.000000</td>\n",
       "      <td>0.000000</td>\n",
       "      <td>0.00000</td>\n",
       "      <td>0.475728</td>\n",
       "      <td>0.635217</td>\n",
       "      <td>1.000000</td>\n",
       "      <td>0.000000</td>\n",
       "      <td>1.000000</td>\n",
       "    </tr>\n",
       "    <tr>\n",
       "      <th>75%</th>\n",
       "      <td>20021.500000</td>\n",
       "      <td>18.000000</td>\n",
       "      <td>8.000000</td>\n",
       "      <td>110.333333</td>\n",
       "      <td>0.071429</td>\n",
       "      <td>0.000000</td>\n",
       "      <td>0.000000</td>\n",
       "      <td>0.00000</td>\n",
       "      <td>0.969325</td>\n",
       "      <td>1.000000</td>\n",
       "      <td>1.000000</td>\n",
       "      <td>0.000000</td>\n",
       "      <td>1.000000</td>\n",
       "    </tr>\n",
       "    <tr>\n",
       "      <th>max</th>\n",
       "      <td>26761.000000</td>\n",
       "      <td>25.000000</td>\n",
       "      <td>10.000000</td>\n",
       "      <td>1088.500000</td>\n",
       "      <td>1.000000</td>\n",
       "      <td>1.000000</td>\n",
       "      <td>1.000000</td>\n",
       "      <td>1.00000</td>\n",
       "      <td>1.000000</td>\n",
       "      <td>8.000000</td>\n",
       "      <td>1.000000</td>\n",
       "      <td>1.000000</td>\n",
       "      <td>1.000000</td>\n",
       "    </tr>\n",
       "  </tbody>\n",
       "</table>\n",
       "</div>"
      ],
      "text/plain": [
       "                 ID  Residence_PUMA  Supervision_Risk_Score_First  \\\n",
       "count  25835.000000    25835.000000                  25360.000000   \n",
       "mean   13314.004838       12.361796                      6.082216   \n",
       "std     7722.206327        7.133742                      2.381442   \n",
       "min        1.000000        1.000000                      1.000000   \n",
       "25%     6626.500000        6.000000                      4.000000   \n",
       "50%    13270.000000       12.000000                      6.000000   \n",
       "75%    20021.500000       18.000000                      8.000000   \n",
       "max    26761.000000       25.000000                     10.000000   \n",
       "\n",
       "       Avg_Days_per_DrugTest  DrugTests_THC_Positive  \\\n",
       "count           19732.000000            20663.000000   \n",
       "mean               93.890044                0.063350   \n",
       "std               117.169847                0.138453   \n",
       "min                 0.500000                0.000000   \n",
       "25%                28.837366                0.000000   \n",
       "50%                55.424812                0.000000   \n",
       "75%               110.333333                0.071429   \n",
       "max              1088.500000                1.000000   \n",
       "\n",
       "       DrugTests_Cocaine_Positive  DrugTests_Meth_Positive  \\\n",
       "count                20663.000000             20663.000000   \n",
       "mean                     0.013741                 0.012890   \n",
       "std                      0.061233                 0.060581   \n",
       "min                      0.000000                 0.000000   \n",
       "25%                      0.000000                 0.000000   \n",
       "50%                      0.000000                 0.000000   \n",
       "75%                      0.000000                 0.000000   \n",
       "max                      1.000000                 1.000000   \n",
       "\n",
       "       DrugTests_Other_Positive  Percent_Days_Employed  Jobs_Per_Year  \\\n",
       "count               20663.00000           25373.000000   25027.000000   \n",
       "mean                    0.00755               0.482331       0.769295   \n",
       "std                     0.04115               0.425004       0.813787   \n",
       "min                     0.00000               0.000000       0.000000   \n",
       "25%                     0.00000               0.000000       0.000000   \n",
       "50%                     0.00000               0.475728       0.635217   \n",
       "75%                     0.00000               0.969325       1.000000   \n",
       "max                     1.00000               1.000000       8.000000   \n",
       "\n",
       "       Training_Sample        Female          Male  \n",
       "count     25835.000000  25835.000000  25835.000000  \n",
       "mean          0.697813      0.122586      0.877414  \n",
       "std           0.459215      0.327967      0.327967  \n",
       "min           0.000000      0.000000      0.000000  \n",
       "25%           0.000000      0.000000      1.000000  \n",
       "50%           1.000000      0.000000      1.000000  \n",
       "75%           1.000000      0.000000      1.000000  \n",
       "max           1.000000      1.000000      1.000000  "
      ]
     },
     "execution_count": 13,
     "metadata": {},
     "output_type": "execute_result"
    }
   ],
   "source": [
    "rec_data.describe()"
   ]
  },
  {
   "cell_type": "code",
   "execution_count": 14,
   "id": "beb3d329",
   "metadata": {},
   "outputs": [],
   "source": [
    "rec_data = rec_data.drop('Female', axis=1)"
   ]
  },
  {
   "cell_type": "code",
   "execution_count": 15,
   "id": "6177b45e",
   "metadata": {},
   "outputs": [
    {
     "data": {
      "text/html": [
       "<div>\n",
       "<style scoped>\n",
       "    .dataframe tbody tr th:only-of-type {\n",
       "        vertical-align: middle;\n",
       "    }\n",
       "\n",
       "    .dataframe tbody tr th {\n",
       "        vertical-align: top;\n",
       "    }\n",
       "\n",
       "    .dataframe thead th {\n",
       "        text-align: right;\n",
       "    }\n",
       "</style>\n",
       "<table border=\"1\" class=\"dataframe\">\n",
       "  <thead>\n",
       "    <tr style=\"text-align: right;\">\n",
       "      <th></th>\n",
       "      <th>ID</th>\n",
       "      <th>Race</th>\n",
       "      <th>Age_at_Release</th>\n",
       "      <th>Residence_PUMA</th>\n",
       "      <th>Gang_Affiliated</th>\n",
       "      <th>Supervision_Risk_Score_First</th>\n",
       "      <th>Supervision_Level_First</th>\n",
       "      <th>Education_Level</th>\n",
       "      <th>Dependents</th>\n",
       "      <th>Prison_Offense</th>\n",
       "      <th>...</th>\n",
       "      <th>DrugTests_Other_Positive</th>\n",
       "      <th>Percent_Days_Employed</th>\n",
       "      <th>Jobs_Per_Year</th>\n",
       "      <th>Employment_Exempt</th>\n",
       "      <th>Recidivism_Within_3years</th>\n",
       "      <th>Recidivism_Arrest_Year1</th>\n",
       "      <th>Recidivism_Arrest_Year2</th>\n",
       "      <th>Recidivism_Arrest_Year3</th>\n",
       "      <th>Training_Sample</th>\n",
       "      <th>Male</th>\n",
       "    </tr>\n",
       "  </thead>\n",
       "  <tbody>\n",
       "    <tr>\n",
       "      <th>0</th>\n",
       "      <td>1</td>\n",
       "      <td>BLACK</td>\n",
       "      <td>43-47</td>\n",
       "      <td>16</td>\n",
       "      <td>False</td>\n",
       "      <td>3.0</td>\n",
       "      <td>Standard</td>\n",
       "      <td>At least some college</td>\n",
       "      <td>3 or more</td>\n",
       "      <td>Drug</td>\n",
       "      <td>...</td>\n",
       "      <td>0.0</td>\n",
       "      <td>0.488562</td>\n",
       "      <td>0.447610</td>\n",
       "      <td>False</td>\n",
       "      <td>False</td>\n",
       "      <td>False</td>\n",
       "      <td>False</td>\n",
       "      <td>False</td>\n",
       "      <td>1</td>\n",
       "      <td>1</td>\n",
       "    </tr>\n",
       "    <tr>\n",
       "      <th>1</th>\n",
       "      <td>2</td>\n",
       "      <td>BLACK</td>\n",
       "      <td>33-37</td>\n",
       "      <td>16</td>\n",
       "      <td>False</td>\n",
       "      <td>6.0</td>\n",
       "      <td>Specialized</td>\n",
       "      <td>Less than HS diploma</td>\n",
       "      <td>1</td>\n",
       "      <td>Violent/Non-Sex</td>\n",
       "      <td>...</td>\n",
       "      <td>0.0</td>\n",
       "      <td>0.425234</td>\n",
       "      <td>2.000000</td>\n",
       "      <td>False</td>\n",
       "      <td>True</td>\n",
       "      <td>False</td>\n",
       "      <td>False</td>\n",
       "      <td>True</td>\n",
       "      <td>1</td>\n",
       "      <td>1</td>\n",
       "    </tr>\n",
       "    <tr>\n",
       "      <th>2</th>\n",
       "      <td>3</td>\n",
       "      <td>BLACK</td>\n",
       "      <td>48 or older</td>\n",
       "      <td>24</td>\n",
       "      <td>False</td>\n",
       "      <td>7.0</td>\n",
       "      <td>High</td>\n",
       "      <td>At least some college</td>\n",
       "      <td>3 or more</td>\n",
       "      <td>Drug</td>\n",
       "      <td>...</td>\n",
       "      <td>0.0</td>\n",
       "      <td>0.000000</td>\n",
       "      <td>0.000000</td>\n",
       "      <td>False</td>\n",
       "      <td>True</td>\n",
       "      <td>False</td>\n",
       "      <td>True</td>\n",
       "      <td>False</td>\n",
       "      <td>1</td>\n",
       "      <td>1</td>\n",
       "    </tr>\n",
       "    <tr>\n",
       "      <th>3</th>\n",
       "      <td>4</td>\n",
       "      <td>WHITE</td>\n",
       "      <td>38-42</td>\n",
       "      <td>16</td>\n",
       "      <td>False</td>\n",
       "      <td>7.0</td>\n",
       "      <td>High</td>\n",
       "      <td>Less than HS diploma</td>\n",
       "      <td>1</td>\n",
       "      <td>Property</td>\n",
       "      <td>...</td>\n",
       "      <td>0.0</td>\n",
       "      <td>1.000000</td>\n",
       "      <td>0.718996</td>\n",
       "      <td>False</td>\n",
       "      <td>False</td>\n",
       "      <td>False</td>\n",
       "      <td>False</td>\n",
       "      <td>False</td>\n",
       "      <td>1</td>\n",
       "      <td>1</td>\n",
       "    </tr>\n",
       "    <tr>\n",
       "      <th>4</th>\n",
       "      <td>5</td>\n",
       "      <td>WHITE</td>\n",
       "      <td>33-37</td>\n",
       "      <td>16</td>\n",
       "      <td>False</td>\n",
       "      <td>4.0</td>\n",
       "      <td>Specialized</td>\n",
       "      <td>Less than HS diploma</td>\n",
       "      <td>3 or more</td>\n",
       "      <td>Violent/Non-Sex</td>\n",
       "      <td>...</td>\n",
       "      <td>0.0</td>\n",
       "      <td>0.203562</td>\n",
       "      <td>0.929389</td>\n",
       "      <td>False</td>\n",
       "      <td>True</td>\n",
       "      <td>True</td>\n",
       "      <td>False</td>\n",
       "      <td>False</td>\n",
       "      <td>1</td>\n",
       "      <td>1</td>\n",
       "    </tr>\n",
       "  </tbody>\n",
       "</table>\n",
       "<p>5 rows × 54 columns</p>\n",
       "</div>"
      ],
      "text/plain": [
       "   ID   Race Age_at_Release  Residence_PUMA Gang_Affiliated  \\\n",
       "0   1  BLACK          43-47              16           False   \n",
       "1   2  BLACK          33-37              16           False   \n",
       "2   3  BLACK    48 or older              24           False   \n",
       "3   4  WHITE          38-42              16           False   \n",
       "4   5  WHITE          33-37              16           False   \n",
       "\n",
       "   Supervision_Risk_Score_First Supervision_Level_First  \\\n",
       "0                           3.0                Standard   \n",
       "1                           6.0             Specialized   \n",
       "2                           7.0                    High   \n",
       "3                           7.0                    High   \n",
       "4                           4.0             Specialized   \n",
       "\n",
       "         Education_Level Dependents   Prison_Offense  ...  \\\n",
       "0  At least some college  3 or more             Drug  ...   \n",
       "1   Less than HS diploma          1  Violent/Non-Sex  ...   \n",
       "2  At least some college  3 or more             Drug  ...   \n",
       "3   Less than HS diploma          1         Property  ...   \n",
       "4   Less than HS diploma  3 or more  Violent/Non-Sex  ...   \n",
       "\n",
       "  DrugTests_Other_Positive Percent_Days_Employed Jobs_Per_Year  \\\n",
       "0                      0.0              0.488562      0.447610   \n",
       "1                      0.0              0.425234      2.000000   \n",
       "2                      0.0              0.000000      0.000000   \n",
       "3                      0.0              1.000000      0.718996   \n",
       "4                      0.0              0.203562      0.929389   \n",
       "\n",
       "  Employment_Exempt Recidivism_Within_3years Recidivism_Arrest_Year1  \\\n",
       "0             False                    False                   False   \n",
       "1             False                     True                   False   \n",
       "2             False                     True                   False   \n",
       "3             False                    False                   False   \n",
       "4             False                     True                    True   \n",
       "\n",
       "  Recidivism_Arrest_Year2  Recidivism_Arrest_Year3  Training_Sample Male  \n",
       "0                   False                    False                1    1  \n",
       "1                   False                     True                1    1  \n",
       "2                    True                    False                1    1  \n",
       "3                   False                    False                1    1  \n",
       "4                   False                    False                1    1  \n",
       "\n",
       "[5 rows x 54 columns]"
      ]
     },
     "execution_count": 15,
     "metadata": {},
     "output_type": "execute_result"
    }
   ],
   "source": [
    "rec_data.head()"
   ]
  },
  {
   "cell_type": "code",
   "execution_count": 16,
   "id": "8b8752ec",
   "metadata": {},
   "outputs": [],
   "source": [
    "rec_data = rec_data.drop('ID', axis = 1)"
   ]
  },
  {
   "cell_type": "code",
   "execution_count": 17,
   "id": "a0766043",
   "metadata": {},
   "outputs": [
    {
     "data": {
      "text/html": [
       "<div>\n",
       "<style scoped>\n",
       "    .dataframe tbody tr th:only-of-type {\n",
       "        vertical-align: middle;\n",
       "    }\n",
       "\n",
       "    .dataframe tbody tr th {\n",
       "        vertical-align: top;\n",
       "    }\n",
       "\n",
       "    .dataframe thead th {\n",
       "        text-align: right;\n",
       "    }\n",
       "</style>\n",
       "<table border=\"1\" class=\"dataframe\">\n",
       "  <thead>\n",
       "    <tr style=\"text-align: right;\">\n",
       "      <th></th>\n",
       "      <th>Race</th>\n",
       "      <th>Age_at_Release</th>\n",
       "      <th>Residence_PUMA</th>\n",
       "      <th>Gang_Affiliated</th>\n",
       "      <th>Supervision_Risk_Score_First</th>\n",
       "      <th>Supervision_Level_First</th>\n",
       "      <th>Education_Level</th>\n",
       "      <th>Dependents</th>\n",
       "      <th>Prison_Offense</th>\n",
       "      <th>Prison_Years</th>\n",
       "      <th>...</th>\n",
       "      <th>DrugTests_Other_Positive</th>\n",
       "      <th>Percent_Days_Employed</th>\n",
       "      <th>Jobs_Per_Year</th>\n",
       "      <th>Employment_Exempt</th>\n",
       "      <th>Recidivism_Within_3years</th>\n",
       "      <th>Recidivism_Arrest_Year1</th>\n",
       "      <th>Recidivism_Arrest_Year2</th>\n",
       "      <th>Recidivism_Arrest_Year3</th>\n",
       "      <th>Training_Sample</th>\n",
       "      <th>Male</th>\n",
       "    </tr>\n",
       "  </thead>\n",
       "  <tbody>\n",
       "    <tr>\n",
       "      <th>0</th>\n",
       "      <td>BLACK</td>\n",
       "      <td>43-47</td>\n",
       "      <td>16</td>\n",
       "      <td>False</td>\n",
       "      <td>3.0</td>\n",
       "      <td>Standard</td>\n",
       "      <td>At least some college</td>\n",
       "      <td>3 or more</td>\n",
       "      <td>Drug</td>\n",
       "      <td>More than 3 years</td>\n",
       "      <td>...</td>\n",
       "      <td>0.0</td>\n",
       "      <td>0.488562</td>\n",
       "      <td>0.447610</td>\n",
       "      <td>False</td>\n",
       "      <td>False</td>\n",
       "      <td>False</td>\n",
       "      <td>False</td>\n",
       "      <td>False</td>\n",
       "      <td>1</td>\n",
       "      <td>1</td>\n",
       "    </tr>\n",
       "    <tr>\n",
       "      <th>1</th>\n",
       "      <td>BLACK</td>\n",
       "      <td>33-37</td>\n",
       "      <td>16</td>\n",
       "      <td>False</td>\n",
       "      <td>6.0</td>\n",
       "      <td>Specialized</td>\n",
       "      <td>Less than HS diploma</td>\n",
       "      <td>1</td>\n",
       "      <td>Violent/Non-Sex</td>\n",
       "      <td>More than 3 years</td>\n",
       "      <td>...</td>\n",
       "      <td>0.0</td>\n",
       "      <td>0.425234</td>\n",
       "      <td>2.000000</td>\n",
       "      <td>False</td>\n",
       "      <td>True</td>\n",
       "      <td>False</td>\n",
       "      <td>False</td>\n",
       "      <td>True</td>\n",
       "      <td>1</td>\n",
       "      <td>1</td>\n",
       "    </tr>\n",
       "    <tr>\n",
       "      <th>2</th>\n",
       "      <td>BLACK</td>\n",
       "      <td>48 or older</td>\n",
       "      <td>24</td>\n",
       "      <td>False</td>\n",
       "      <td>7.0</td>\n",
       "      <td>High</td>\n",
       "      <td>At least some college</td>\n",
       "      <td>3 or more</td>\n",
       "      <td>Drug</td>\n",
       "      <td>1-2 years</td>\n",
       "      <td>...</td>\n",
       "      <td>0.0</td>\n",
       "      <td>0.000000</td>\n",
       "      <td>0.000000</td>\n",
       "      <td>False</td>\n",
       "      <td>True</td>\n",
       "      <td>False</td>\n",
       "      <td>True</td>\n",
       "      <td>False</td>\n",
       "      <td>1</td>\n",
       "      <td>1</td>\n",
       "    </tr>\n",
       "    <tr>\n",
       "      <th>3</th>\n",
       "      <td>WHITE</td>\n",
       "      <td>38-42</td>\n",
       "      <td>16</td>\n",
       "      <td>False</td>\n",
       "      <td>7.0</td>\n",
       "      <td>High</td>\n",
       "      <td>Less than HS diploma</td>\n",
       "      <td>1</td>\n",
       "      <td>Property</td>\n",
       "      <td>1-2 years</td>\n",
       "      <td>...</td>\n",
       "      <td>0.0</td>\n",
       "      <td>1.000000</td>\n",
       "      <td>0.718996</td>\n",
       "      <td>False</td>\n",
       "      <td>False</td>\n",
       "      <td>False</td>\n",
       "      <td>False</td>\n",
       "      <td>False</td>\n",
       "      <td>1</td>\n",
       "      <td>1</td>\n",
       "    </tr>\n",
       "    <tr>\n",
       "      <th>4</th>\n",
       "      <td>WHITE</td>\n",
       "      <td>33-37</td>\n",
       "      <td>16</td>\n",
       "      <td>False</td>\n",
       "      <td>4.0</td>\n",
       "      <td>Specialized</td>\n",
       "      <td>Less than HS diploma</td>\n",
       "      <td>3 or more</td>\n",
       "      <td>Violent/Non-Sex</td>\n",
       "      <td>1-2 years</td>\n",
       "      <td>...</td>\n",
       "      <td>0.0</td>\n",
       "      <td>0.203562</td>\n",
       "      <td>0.929389</td>\n",
       "      <td>False</td>\n",
       "      <td>True</td>\n",
       "      <td>True</td>\n",
       "      <td>False</td>\n",
       "      <td>False</td>\n",
       "      <td>1</td>\n",
       "      <td>1</td>\n",
       "    </tr>\n",
       "  </tbody>\n",
       "</table>\n",
       "<p>5 rows × 53 columns</p>\n",
       "</div>"
      ],
      "text/plain": [
       "    Race Age_at_Release  Residence_PUMA Gang_Affiliated  \\\n",
       "0  BLACK          43-47              16           False   \n",
       "1  BLACK          33-37              16           False   \n",
       "2  BLACK    48 or older              24           False   \n",
       "3  WHITE          38-42              16           False   \n",
       "4  WHITE          33-37              16           False   \n",
       "\n",
       "   Supervision_Risk_Score_First Supervision_Level_First  \\\n",
       "0                           3.0                Standard   \n",
       "1                           6.0             Specialized   \n",
       "2                           7.0                    High   \n",
       "3                           7.0                    High   \n",
       "4                           4.0             Specialized   \n",
       "\n",
       "         Education_Level Dependents   Prison_Offense       Prison_Years  ...  \\\n",
       "0  At least some college  3 or more             Drug  More than 3 years  ...   \n",
       "1   Less than HS diploma          1  Violent/Non-Sex  More than 3 years  ...   \n",
       "2  At least some college  3 or more             Drug          1-2 years  ...   \n",
       "3   Less than HS diploma          1         Property          1-2 years  ...   \n",
       "4   Less than HS diploma  3 or more  Violent/Non-Sex          1-2 years  ...   \n",
       "\n",
       "  DrugTests_Other_Positive Percent_Days_Employed Jobs_Per_Year  \\\n",
       "0                      0.0              0.488562      0.447610   \n",
       "1                      0.0              0.425234      2.000000   \n",
       "2                      0.0              0.000000      0.000000   \n",
       "3                      0.0              1.000000      0.718996   \n",
       "4                      0.0              0.203562      0.929389   \n",
       "\n",
       "  Employment_Exempt Recidivism_Within_3years Recidivism_Arrest_Year1  \\\n",
       "0             False                    False                   False   \n",
       "1             False                     True                   False   \n",
       "2             False                     True                   False   \n",
       "3             False                    False                   False   \n",
       "4             False                     True                    True   \n",
       "\n",
       "   Recidivism_Arrest_Year2  Recidivism_Arrest_Year3 Training_Sample Male  \n",
       "0                    False                    False               1    1  \n",
       "1                    False                     True               1    1  \n",
       "2                     True                    False               1    1  \n",
       "3                    False                    False               1    1  \n",
       "4                    False                    False               1    1  \n",
       "\n",
       "[5 rows x 53 columns]"
      ]
     },
     "execution_count": 17,
     "metadata": {},
     "output_type": "execute_result"
    }
   ],
   "source": [
    "rec_data.head()"
   ]
  },
  {
   "cell_type": "code",
   "execution_count": 18,
   "id": "6047da6a",
   "metadata": {},
   "outputs": [
    {
     "data": {
      "text/plain": [
       "array(['BLACK', 'WHITE'], dtype=object)"
      ]
     },
     "execution_count": 18,
     "metadata": {},
     "output_type": "execute_result"
    }
   ],
   "source": [
    "rec_data['Race'].unique()"
   ]
  },
  {
   "cell_type": "code",
   "execution_count": 19,
   "id": "8772da69",
   "metadata": {},
   "outputs": [],
   "source": [
    "race_encoded = pd.get_dummies(rec_data['Race'])"
   ]
  },
  {
   "cell_type": "code",
   "execution_count": 20,
   "id": "12080910",
   "metadata": {},
   "outputs": [
    {
     "data": {
      "text/html": [
       "<div>\n",
       "<style scoped>\n",
       "    .dataframe tbody tr th:only-of-type {\n",
       "        vertical-align: middle;\n",
       "    }\n",
       "\n",
       "    .dataframe tbody tr th {\n",
       "        vertical-align: top;\n",
       "    }\n",
       "\n",
       "    .dataframe thead th {\n",
       "        text-align: right;\n",
       "    }\n",
       "</style>\n",
       "<table border=\"1\" class=\"dataframe\">\n",
       "  <thead>\n",
       "    <tr style=\"text-align: right;\">\n",
       "      <th></th>\n",
       "      <th>BLACK</th>\n",
       "      <th>WHITE</th>\n",
       "    </tr>\n",
       "  </thead>\n",
       "  <tbody>\n",
       "    <tr>\n",
       "      <th>0</th>\n",
       "      <td>1</td>\n",
       "      <td>0</td>\n",
       "    </tr>\n",
       "    <tr>\n",
       "      <th>1</th>\n",
       "      <td>1</td>\n",
       "      <td>0</td>\n",
       "    </tr>\n",
       "    <tr>\n",
       "      <th>2</th>\n",
       "      <td>1</td>\n",
       "      <td>0</td>\n",
       "    </tr>\n",
       "    <tr>\n",
       "      <th>3</th>\n",
       "      <td>0</td>\n",
       "      <td>1</td>\n",
       "    </tr>\n",
       "    <tr>\n",
       "      <th>4</th>\n",
       "      <td>0</td>\n",
       "      <td>1</td>\n",
       "    </tr>\n",
       "  </tbody>\n",
       "</table>\n",
       "</div>"
      ],
      "text/plain": [
       "   BLACK  WHITE\n",
       "0      1      0\n",
       "1      1      0\n",
       "2      1      0\n",
       "3      0      1\n",
       "4      0      1"
      ]
     },
     "execution_count": 20,
     "metadata": {},
     "output_type": "execute_result"
    }
   ],
   "source": [
    "race_encoded.head()"
   ]
  },
  {
   "cell_type": "code",
   "execution_count": 21,
   "id": "74bdbfed",
   "metadata": {},
   "outputs": [],
   "source": [
    "rec_data = rec_data.drop('Race', axis=1)"
   ]
  },
  {
   "cell_type": "code",
   "execution_count": 22,
   "id": "54c20468",
   "metadata": {},
   "outputs": [],
   "source": [
    "rec_data = rec_data.join(race_encoded)"
   ]
  },
  {
   "cell_type": "code",
   "execution_count": 23,
   "id": "1b0283cb",
   "metadata": {},
   "outputs": [],
   "source": [
    "rec_data = rec_data.drop('BLACK', axis = 1)"
   ]
  },
  {
   "cell_type": "code",
   "execution_count": 24,
   "id": "2f96b6f5",
   "metadata": {},
   "outputs": [
    {
     "data": {
      "text/html": [
       "<div>\n",
       "<style scoped>\n",
       "    .dataframe tbody tr th:only-of-type {\n",
       "        vertical-align: middle;\n",
       "    }\n",
       "\n",
       "    .dataframe tbody tr th {\n",
       "        vertical-align: top;\n",
       "    }\n",
       "\n",
       "    .dataframe thead th {\n",
       "        text-align: right;\n",
       "    }\n",
       "</style>\n",
       "<table border=\"1\" class=\"dataframe\">\n",
       "  <thead>\n",
       "    <tr style=\"text-align: right;\">\n",
       "      <th></th>\n",
       "      <th>Age_at_Release</th>\n",
       "      <th>Residence_PUMA</th>\n",
       "      <th>Gang_Affiliated</th>\n",
       "      <th>Supervision_Risk_Score_First</th>\n",
       "      <th>Supervision_Level_First</th>\n",
       "      <th>Education_Level</th>\n",
       "      <th>Dependents</th>\n",
       "      <th>Prison_Offense</th>\n",
       "      <th>Prison_Years</th>\n",
       "      <th>Prior_Arrest_Episodes_Felony</th>\n",
       "      <th>...</th>\n",
       "      <th>Percent_Days_Employed</th>\n",
       "      <th>Jobs_Per_Year</th>\n",
       "      <th>Employment_Exempt</th>\n",
       "      <th>Recidivism_Within_3years</th>\n",
       "      <th>Recidivism_Arrest_Year1</th>\n",
       "      <th>Recidivism_Arrest_Year2</th>\n",
       "      <th>Recidivism_Arrest_Year3</th>\n",
       "      <th>Training_Sample</th>\n",
       "      <th>Male</th>\n",
       "      <th>WHITE</th>\n",
       "    </tr>\n",
       "  </thead>\n",
       "  <tbody>\n",
       "    <tr>\n",
       "      <th>0</th>\n",
       "      <td>43-47</td>\n",
       "      <td>16</td>\n",
       "      <td>False</td>\n",
       "      <td>3.0</td>\n",
       "      <td>Standard</td>\n",
       "      <td>At least some college</td>\n",
       "      <td>3 or more</td>\n",
       "      <td>Drug</td>\n",
       "      <td>More than 3 years</td>\n",
       "      <td>6</td>\n",
       "      <td>...</td>\n",
       "      <td>0.488562</td>\n",
       "      <td>0.447610</td>\n",
       "      <td>False</td>\n",
       "      <td>False</td>\n",
       "      <td>False</td>\n",
       "      <td>False</td>\n",
       "      <td>False</td>\n",
       "      <td>1</td>\n",
       "      <td>1</td>\n",
       "      <td>0</td>\n",
       "    </tr>\n",
       "    <tr>\n",
       "      <th>1</th>\n",
       "      <td>33-37</td>\n",
       "      <td>16</td>\n",
       "      <td>False</td>\n",
       "      <td>6.0</td>\n",
       "      <td>Specialized</td>\n",
       "      <td>Less than HS diploma</td>\n",
       "      <td>1</td>\n",
       "      <td>Violent/Non-Sex</td>\n",
       "      <td>More than 3 years</td>\n",
       "      <td>7</td>\n",
       "      <td>...</td>\n",
       "      <td>0.425234</td>\n",
       "      <td>2.000000</td>\n",
       "      <td>False</td>\n",
       "      <td>True</td>\n",
       "      <td>False</td>\n",
       "      <td>False</td>\n",
       "      <td>True</td>\n",
       "      <td>1</td>\n",
       "      <td>1</td>\n",
       "      <td>0</td>\n",
       "    </tr>\n",
       "    <tr>\n",
       "      <th>2</th>\n",
       "      <td>48 or older</td>\n",
       "      <td>24</td>\n",
       "      <td>False</td>\n",
       "      <td>7.0</td>\n",
       "      <td>High</td>\n",
       "      <td>At least some college</td>\n",
       "      <td>3 or more</td>\n",
       "      <td>Drug</td>\n",
       "      <td>1-2 years</td>\n",
       "      <td>6</td>\n",
       "      <td>...</td>\n",
       "      <td>0.000000</td>\n",
       "      <td>0.000000</td>\n",
       "      <td>False</td>\n",
       "      <td>True</td>\n",
       "      <td>False</td>\n",
       "      <td>True</td>\n",
       "      <td>False</td>\n",
       "      <td>1</td>\n",
       "      <td>1</td>\n",
       "      <td>0</td>\n",
       "    </tr>\n",
       "    <tr>\n",
       "      <th>3</th>\n",
       "      <td>38-42</td>\n",
       "      <td>16</td>\n",
       "      <td>False</td>\n",
       "      <td>7.0</td>\n",
       "      <td>High</td>\n",
       "      <td>Less than HS diploma</td>\n",
       "      <td>1</td>\n",
       "      <td>Property</td>\n",
       "      <td>1-2 years</td>\n",
       "      <td>8</td>\n",
       "      <td>...</td>\n",
       "      <td>1.000000</td>\n",
       "      <td>0.718996</td>\n",
       "      <td>False</td>\n",
       "      <td>False</td>\n",
       "      <td>False</td>\n",
       "      <td>False</td>\n",
       "      <td>False</td>\n",
       "      <td>1</td>\n",
       "      <td>1</td>\n",
       "      <td>1</td>\n",
       "    </tr>\n",
       "    <tr>\n",
       "      <th>4</th>\n",
       "      <td>33-37</td>\n",
       "      <td>16</td>\n",
       "      <td>False</td>\n",
       "      <td>4.0</td>\n",
       "      <td>Specialized</td>\n",
       "      <td>Less than HS diploma</td>\n",
       "      <td>3 or more</td>\n",
       "      <td>Violent/Non-Sex</td>\n",
       "      <td>1-2 years</td>\n",
       "      <td>4</td>\n",
       "      <td>...</td>\n",
       "      <td>0.203562</td>\n",
       "      <td>0.929389</td>\n",
       "      <td>False</td>\n",
       "      <td>True</td>\n",
       "      <td>True</td>\n",
       "      <td>False</td>\n",
       "      <td>False</td>\n",
       "      <td>1</td>\n",
       "      <td>1</td>\n",
       "      <td>1</td>\n",
       "    </tr>\n",
       "  </tbody>\n",
       "</table>\n",
       "<p>5 rows × 53 columns</p>\n",
       "</div>"
      ],
      "text/plain": [
       "  Age_at_Release  Residence_PUMA Gang_Affiliated  \\\n",
       "0          43-47              16           False   \n",
       "1          33-37              16           False   \n",
       "2    48 or older              24           False   \n",
       "3          38-42              16           False   \n",
       "4          33-37              16           False   \n",
       "\n",
       "   Supervision_Risk_Score_First Supervision_Level_First  \\\n",
       "0                           3.0                Standard   \n",
       "1                           6.0             Specialized   \n",
       "2                           7.0                    High   \n",
       "3                           7.0                    High   \n",
       "4                           4.0             Specialized   \n",
       "\n",
       "         Education_Level Dependents   Prison_Offense       Prison_Years  \\\n",
       "0  At least some college  3 or more             Drug  More than 3 years   \n",
       "1   Less than HS diploma          1  Violent/Non-Sex  More than 3 years   \n",
       "2  At least some college  3 or more             Drug          1-2 years   \n",
       "3   Less than HS diploma          1         Property          1-2 years   \n",
       "4   Less than HS diploma  3 or more  Violent/Non-Sex          1-2 years   \n",
       "\n",
       "  Prior_Arrest_Episodes_Felony  ... Percent_Days_Employed Jobs_Per_Year  \\\n",
       "0                            6  ...              0.488562      0.447610   \n",
       "1                            7  ...              0.425234      2.000000   \n",
       "2                            6  ...              0.000000      0.000000   \n",
       "3                            8  ...              1.000000      0.718996   \n",
       "4                            4  ...              0.203562      0.929389   \n",
       "\n",
       "  Employment_Exempt Recidivism_Within_3years Recidivism_Arrest_Year1  \\\n",
       "0             False                    False                   False   \n",
       "1             False                     True                   False   \n",
       "2             False                     True                   False   \n",
       "3             False                    False                   False   \n",
       "4             False                     True                    True   \n",
       "\n",
       "   Recidivism_Arrest_Year2  Recidivism_Arrest_Year3 Training_Sample Male  \\\n",
       "0                    False                    False               1    1   \n",
       "1                    False                     True               1    1   \n",
       "2                     True                    False               1    1   \n",
       "3                    False                    False               1    1   \n",
       "4                    False                    False               1    1   \n",
       "\n",
       "   WHITE  \n",
       "0      0  \n",
       "1      0  \n",
       "2      0  \n",
       "3      1  \n",
       "4      1  \n",
       "\n",
       "[5 rows x 53 columns]"
      ]
     },
     "execution_count": 24,
     "metadata": {},
     "output_type": "execute_result"
    }
   ],
   "source": [
    "rec_data.head()"
   ]
  },
  {
   "cell_type": "code",
   "execution_count": 25,
   "id": "c09fcd2f",
   "metadata": {},
   "outputs": [
    {
     "data": {
      "text/plain": [
       "array(['43-47', '33-37', '48 or older', '38-42', '18-22', '23-27',\n",
       "       '28-32'], dtype=object)"
      ]
     },
     "execution_count": 25,
     "metadata": {},
     "output_type": "execute_result"
    }
   ],
   "source": [
    "rec_data['Age_at_Release'].unique()"
   ]
  },
  {
   "cell_type": "code",
   "execution_count": 26,
   "id": "897815db",
   "metadata": {},
   "outputs": [],
   "source": [
    "rec_data['Age_at_Release'] = rec_data['Age_at_Release'].replace(['43-47', '33-37', '48 or older', \n",
    "                                                                '38-42', '18-22', '23-27', '28-32'], [45,35,50,40,20,25,30])"
   ]
  },
  {
   "cell_type": "code",
   "execution_count": 27,
   "id": "b7ea6daf",
   "metadata": {},
   "outputs": [
    {
     "data": {
      "text/html": [
       "<div>\n",
       "<style scoped>\n",
       "    .dataframe tbody tr th:only-of-type {\n",
       "        vertical-align: middle;\n",
       "    }\n",
       "\n",
       "    .dataframe tbody tr th {\n",
       "        vertical-align: top;\n",
       "    }\n",
       "\n",
       "    .dataframe thead th {\n",
       "        text-align: right;\n",
       "    }\n",
       "</style>\n",
       "<table border=\"1\" class=\"dataframe\">\n",
       "  <thead>\n",
       "    <tr style=\"text-align: right;\">\n",
       "      <th></th>\n",
       "      <th>Age_at_Release</th>\n",
       "      <th>Residence_PUMA</th>\n",
       "      <th>Gang_Affiliated</th>\n",
       "      <th>Supervision_Risk_Score_First</th>\n",
       "      <th>Supervision_Level_First</th>\n",
       "      <th>Education_Level</th>\n",
       "      <th>Dependents</th>\n",
       "      <th>Prison_Offense</th>\n",
       "      <th>Prison_Years</th>\n",
       "      <th>Prior_Arrest_Episodes_Felony</th>\n",
       "      <th>...</th>\n",
       "      <th>Percent_Days_Employed</th>\n",
       "      <th>Jobs_Per_Year</th>\n",
       "      <th>Employment_Exempt</th>\n",
       "      <th>Recidivism_Within_3years</th>\n",
       "      <th>Recidivism_Arrest_Year1</th>\n",
       "      <th>Recidivism_Arrest_Year2</th>\n",
       "      <th>Recidivism_Arrest_Year3</th>\n",
       "      <th>Training_Sample</th>\n",
       "      <th>Male</th>\n",
       "      <th>WHITE</th>\n",
       "    </tr>\n",
       "  </thead>\n",
       "  <tbody>\n",
       "    <tr>\n",
       "      <th>0</th>\n",
       "      <td>45</td>\n",
       "      <td>16</td>\n",
       "      <td>False</td>\n",
       "      <td>3.0</td>\n",
       "      <td>Standard</td>\n",
       "      <td>At least some college</td>\n",
       "      <td>3 or more</td>\n",
       "      <td>Drug</td>\n",
       "      <td>More than 3 years</td>\n",
       "      <td>6</td>\n",
       "      <td>...</td>\n",
       "      <td>0.488562</td>\n",
       "      <td>0.447610</td>\n",
       "      <td>False</td>\n",
       "      <td>False</td>\n",
       "      <td>False</td>\n",
       "      <td>False</td>\n",
       "      <td>False</td>\n",
       "      <td>1</td>\n",
       "      <td>1</td>\n",
       "      <td>0</td>\n",
       "    </tr>\n",
       "    <tr>\n",
       "      <th>1</th>\n",
       "      <td>35</td>\n",
       "      <td>16</td>\n",
       "      <td>False</td>\n",
       "      <td>6.0</td>\n",
       "      <td>Specialized</td>\n",
       "      <td>Less than HS diploma</td>\n",
       "      <td>1</td>\n",
       "      <td>Violent/Non-Sex</td>\n",
       "      <td>More than 3 years</td>\n",
       "      <td>7</td>\n",
       "      <td>...</td>\n",
       "      <td>0.425234</td>\n",
       "      <td>2.000000</td>\n",
       "      <td>False</td>\n",
       "      <td>True</td>\n",
       "      <td>False</td>\n",
       "      <td>False</td>\n",
       "      <td>True</td>\n",
       "      <td>1</td>\n",
       "      <td>1</td>\n",
       "      <td>0</td>\n",
       "    </tr>\n",
       "    <tr>\n",
       "      <th>2</th>\n",
       "      <td>50</td>\n",
       "      <td>24</td>\n",
       "      <td>False</td>\n",
       "      <td>7.0</td>\n",
       "      <td>High</td>\n",
       "      <td>At least some college</td>\n",
       "      <td>3 or more</td>\n",
       "      <td>Drug</td>\n",
       "      <td>1-2 years</td>\n",
       "      <td>6</td>\n",
       "      <td>...</td>\n",
       "      <td>0.000000</td>\n",
       "      <td>0.000000</td>\n",
       "      <td>False</td>\n",
       "      <td>True</td>\n",
       "      <td>False</td>\n",
       "      <td>True</td>\n",
       "      <td>False</td>\n",
       "      <td>1</td>\n",
       "      <td>1</td>\n",
       "      <td>0</td>\n",
       "    </tr>\n",
       "    <tr>\n",
       "      <th>3</th>\n",
       "      <td>40</td>\n",
       "      <td>16</td>\n",
       "      <td>False</td>\n",
       "      <td>7.0</td>\n",
       "      <td>High</td>\n",
       "      <td>Less than HS diploma</td>\n",
       "      <td>1</td>\n",
       "      <td>Property</td>\n",
       "      <td>1-2 years</td>\n",
       "      <td>8</td>\n",
       "      <td>...</td>\n",
       "      <td>1.000000</td>\n",
       "      <td>0.718996</td>\n",
       "      <td>False</td>\n",
       "      <td>False</td>\n",
       "      <td>False</td>\n",
       "      <td>False</td>\n",
       "      <td>False</td>\n",
       "      <td>1</td>\n",
       "      <td>1</td>\n",
       "      <td>1</td>\n",
       "    </tr>\n",
       "    <tr>\n",
       "      <th>4</th>\n",
       "      <td>35</td>\n",
       "      <td>16</td>\n",
       "      <td>False</td>\n",
       "      <td>4.0</td>\n",
       "      <td>Specialized</td>\n",
       "      <td>Less than HS diploma</td>\n",
       "      <td>3 or more</td>\n",
       "      <td>Violent/Non-Sex</td>\n",
       "      <td>1-2 years</td>\n",
       "      <td>4</td>\n",
       "      <td>...</td>\n",
       "      <td>0.203562</td>\n",
       "      <td>0.929389</td>\n",
       "      <td>False</td>\n",
       "      <td>True</td>\n",
       "      <td>True</td>\n",
       "      <td>False</td>\n",
       "      <td>False</td>\n",
       "      <td>1</td>\n",
       "      <td>1</td>\n",
       "      <td>1</td>\n",
       "    </tr>\n",
       "  </tbody>\n",
       "</table>\n",
       "<p>5 rows × 53 columns</p>\n",
       "</div>"
      ],
      "text/plain": [
       "   Age_at_Release  Residence_PUMA Gang_Affiliated  \\\n",
       "0              45              16           False   \n",
       "1              35              16           False   \n",
       "2              50              24           False   \n",
       "3              40              16           False   \n",
       "4              35              16           False   \n",
       "\n",
       "   Supervision_Risk_Score_First Supervision_Level_First  \\\n",
       "0                           3.0                Standard   \n",
       "1                           6.0             Specialized   \n",
       "2                           7.0                    High   \n",
       "3                           7.0                    High   \n",
       "4                           4.0             Specialized   \n",
       "\n",
       "         Education_Level Dependents   Prison_Offense       Prison_Years  \\\n",
       "0  At least some college  3 or more             Drug  More than 3 years   \n",
       "1   Less than HS diploma          1  Violent/Non-Sex  More than 3 years   \n",
       "2  At least some college  3 or more             Drug          1-2 years   \n",
       "3   Less than HS diploma          1         Property          1-2 years   \n",
       "4   Less than HS diploma  3 or more  Violent/Non-Sex          1-2 years   \n",
       "\n",
       "  Prior_Arrest_Episodes_Felony  ... Percent_Days_Employed Jobs_Per_Year  \\\n",
       "0                            6  ...              0.488562      0.447610   \n",
       "1                            7  ...              0.425234      2.000000   \n",
       "2                            6  ...              0.000000      0.000000   \n",
       "3                            8  ...              1.000000      0.718996   \n",
       "4                            4  ...              0.203562      0.929389   \n",
       "\n",
       "  Employment_Exempt Recidivism_Within_3years Recidivism_Arrest_Year1  \\\n",
       "0             False                    False                   False   \n",
       "1             False                     True                   False   \n",
       "2             False                     True                   False   \n",
       "3             False                    False                   False   \n",
       "4             False                     True                    True   \n",
       "\n",
       "   Recidivism_Arrest_Year2  Recidivism_Arrest_Year3 Training_Sample Male  \\\n",
       "0                    False                    False               1    1   \n",
       "1                    False                     True               1    1   \n",
       "2                     True                    False               1    1   \n",
       "3                    False                    False               1    1   \n",
       "4                    False                    False               1    1   \n",
       "\n",
       "   WHITE  \n",
       "0      0  \n",
       "1      0  \n",
       "2      0  \n",
       "3      1  \n",
       "4      1  \n",
       "\n",
       "[5 rows x 53 columns]"
      ]
     },
     "execution_count": 27,
     "metadata": {},
     "output_type": "execute_result"
    }
   ],
   "source": [
    "rec_data.head()"
   ]
  },
  {
   "cell_type": "code",
   "execution_count": 28,
   "id": "bff4638b",
   "metadata": {},
   "outputs": [
    {
     "data": {
      "text/plain": [
       "(25835, 53)"
      ]
     },
     "execution_count": 28,
     "metadata": {},
     "output_type": "execute_result"
    }
   ],
   "source": [
    "rec_data.shape"
   ]
  },
  {
   "cell_type": "code",
   "execution_count": 29,
   "id": "228c59e5",
   "metadata": {},
   "outputs": [
    {
     "data": {
      "text/plain": [
       "array([False, nan, True], dtype=object)"
      ]
     },
     "execution_count": 29,
     "metadata": {},
     "output_type": "execute_result"
    }
   ],
   "source": [
    "rec_data['Gang_Affiliated'].unique()"
   ]
  },
  {
   "cell_type": "code",
   "execution_count": 30,
   "id": "5e3e0030",
   "metadata": {},
   "outputs": [
    {
     "name": "stdout",
     "output_type": "stream",
     "text": [
      "<class 'pandas.core.frame.DataFrame'>\n",
      "RangeIndex: 25835 entries, 0 to 25834\n",
      "Data columns (total 53 columns):\n",
      " #   Column                                             Non-Null Count  Dtype  \n",
      "---  ------                                             --------------  -----  \n",
      " 0   Age_at_Release                                     25835 non-null  int64  \n",
      " 1   Residence_PUMA                                     25835 non-null  int64  \n",
      " 2   Gang_Affiliated                                    22668 non-null  object \n",
      " 3   Supervision_Risk_Score_First                       25360 non-null  float64\n",
      " 4   Supervision_Level_First                            24115 non-null  object \n",
      " 5   Education_Level                                    25835 non-null  object \n",
      " 6   Dependents                                         25835 non-null  object \n",
      " 7   Prison_Offense                                     22558 non-null  object \n",
      " 8   Prison_Years                                       25835 non-null  object \n",
      " 9   Prior_Arrest_Episodes_Felony                       25835 non-null  object \n",
      " 10  Prior_Arrest_Episodes_Misd                         25835 non-null  object \n",
      " 11  Prior_Arrest_Episodes_Violent                      25835 non-null  object \n",
      " 12  Prior_Arrest_Episodes_Property                     25835 non-null  object \n",
      " 13  Prior_Arrest_Episodes_Drug                         25835 non-null  object \n",
      " 14  Prior_Arrest_Episodes_PPViolationCharges           25835 non-null  object \n",
      " 15  Prior_Arrest_Episodes_DVCharges                    25835 non-null  bool   \n",
      " 16  Prior_Arrest_Episodes_GunCharges                   25835 non-null  bool   \n",
      " 17  Prior_Conviction_Episodes_Felony                   25835 non-null  object \n",
      " 18  Prior_Conviction_Episodes_Misd                     25835 non-null  object \n",
      " 19  Prior_Conviction_Episodes_Viol                     25835 non-null  bool   \n",
      " 20  Prior_Conviction_Episodes_Prop                     25835 non-null  object \n",
      " 21  Prior_Conviction_Episodes_Drug                     25835 non-null  object \n",
      " 22  Prior_Conviction_Episodes_PPViolationCharges       25835 non-null  bool   \n",
      " 23  Prior_Conviction_Episodes_DomesticViolenceCharges  25835 non-null  bool   \n",
      " 24  Prior_Conviction_Episodes_GunCharges               25835 non-null  bool   \n",
      " 25  Prior_Revocations_Parole                           25835 non-null  bool   \n",
      " 26  Prior_Revocations_Probation                        25835 non-null  bool   \n",
      " 27  Condition_MH_SA                                    25835 non-null  bool   \n",
      " 28  Condition_Cog_Ed                                   25835 non-null  bool   \n",
      " 29  Condition_Other                                    25835 non-null  bool   \n",
      " 30  Violations_ElectronicMonitoring                    25835 non-null  bool   \n",
      " 31  Violations_Instruction                             25835 non-null  bool   \n",
      " 32  Violations_FailToReport                            25835 non-null  bool   \n",
      " 33  Violations_MoveWithoutPermission                   25835 non-null  bool   \n",
      " 34  Delinquency_Reports                                25835 non-null  object \n",
      " 35  Program_Attendances                                25835 non-null  object \n",
      " 36  Program_UnexcusedAbsences                          25835 non-null  object \n",
      " 37  Residence_Changes                                  25835 non-null  object \n",
      " 38  Avg_Days_per_DrugTest                              19732 non-null  float64\n",
      " 39  DrugTests_THC_Positive                             20663 non-null  float64\n",
      " 40  DrugTests_Cocaine_Positive                         20663 non-null  float64\n",
      " 41  DrugTests_Meth_Positive                            20663 non-null  float64\n",
      " 42  DrugTests_Other_Positive                           20663 non-null  float64\n",
      " 43  Percent_Days_Employed                              25373 non-null  float64\n",
      " 44  Jobs_Per_Year                                      25027 non-null  float64\n",
      " 45  Employment_Exempt                                  25835 non-null  bool   \n",
      " 46  Recidivism_Within_3years                           25835 non-null  bool   \n",
      " 47  Recidivism_Arrest_Year1                            25835 non-null  bool   \n",
      " 48  Recidivism_Arrest_Year2                            25835 non-null  bool   \n",
      " 49  Recidivism_Arrest_Year3                            25835 non-null  bool   \n",
      " 50  Training_Sample                                    25835 non-null  int64  \n",
      " 51  Male                                               25835 non-null  uint8  \n",
      " 52  WHITE                                              25835 non-null  uint8  \n",
      "dtypes: bool(20), float64(8), int64(3), object(20), uint8(2)\n",
      "memory usage: 6.7+ MB\n"
     ]
    }
   ],
   "source": [
    "rec_data.info()"
   ]
  },
  {
   "cell_type": "code",
   "execution_count": 31,
   "id": "49ef8205",
   "metadata": {},
   "outputs": [],
   "source": [
    "rec_data['Gang_Affiliated'] = rec_data['Gang_Affiliated'].replace([True, False], [1,0])"
   ]
  },
  {
   "cell_type": "code",
   "execution_count": 32,
   "id": "5b963bb2",
   "metadata": {},
   "outputs": [
    {
     "data": {
      "text/plain": [
       "1.0"
      ]
     },
     "execution_count": 32,
     "metadata": {},
     "output_type": "execute_result"
    }
   ],
   "source": [
    "rec_data['Gang_Affiliated'].max()"
   ]
  },
  {
   "cell_type": "code",
   "execution_count": 33,
   "id": "45f07098",
   "metadata": {},
   "outputs": [
    {
     "data": {
      "text/plain": [
       "array(['Standard', 'Specialized', 'High', nan], dtype=object)"
      ]
     },
     "execution_count": 33,
     "metadata": {},
     "output_type": "execute_result"
    }
   ],
   "source": [
    "rec_data['Supervision_Level_First'].unique()"
   ]
  },
  {
   "cell_type": "code",
   "execution_count": 34,
   "id": "4bb873fd",
   "metadata": {},
   "outputs": [],
   "source": [
    "supervision_encoding = pd.get_dummies(rec_data['Supervision_Level_First'])"
   ]
  },
  {
   "cell_type": "code",
   "execution_count": 35,
   "id": "42441dcf",
   "metadata": {},
   "outputs": [],
   "source": [
    "supervision_encoding.rename(columns= {'High': 'High Supervision', 'Specialized': 'Specialized Supervision', 'Standard': 'Standard Supervision'}, inplace = True)"
   ]
  },
  {
   "cell_type": "code",
   "execution_count": 36,
   "id": "e459d3b1",
   "metadata": {},
   "outputs": [
    {
     "data": {
      "text/html": [
       "<div>\n",
       "<style scoped>\n",
       "    .dataframe tbody tr th:only-of-type {\n",
       "        vertical-align: middle;\n",
       "    }\n",
       "\n",
       "    .dataframe tbody tr th {\n",
       "        vertical-align: top;\n",
       "    }\n",
       "\n",
       "    .dataframe thead th {\n",
       "        text-align: right;\n",
       "    }\n",
       "</style>\n",
       "<table border=\"1\" class=\"dataframe\">\n",
       "  <thead>\n",
       "    <tr style=\"text-align: right;\">\n",
       "      <th></th>\n",
       "      <th>High Supervision</th>\n",
       "      <th>Specialized Supervision</th>\n",
       "      <th>Standard Supervision</th>\n",
       "    </tr>\n",
       "  </thead>\n",
       "  <tbody>\n",
       "    <tr>\n",
       "      <th>0</th>\n",
       "      <td>0</td>\n",
       "      <td>0</td>\n",
       "      <td>1</td>\n",
       "    </tr>\n",
       "    <tr>\n",
       "      <th>1</th>\n",
       "      <td>0</td>\n",
       "      <td>1</td>\n",
       "      <td>0</td>\n",
       "    </tr>\n",
       "    <tr>\n",
       "      <th>2</th>\n",
       "      <td>1</td>\n",
       "      <td>0</td>\n",
       "      <td>0</td>\n",
       "    </tr>\n",
       "    <tr>\n",
       "      <th>3</th>\n",
       "      <td>1</td>\n",
       "      <td>0</td>\n",
       "      <td>0</td>\n",
       "    </tr>\n",
       "    <tr>\n",
       "      <th>4</th>\n",
       "      <td>0</td>\n",
       "      <td>1</td>\n",
       "      <td>0</td>\n",
       "    </tr>\n",
       "    <tr>\n",
       "      <th>...</th>\n",
       "      <td>...</td>\n",
       "      <td>...</td>\n",
       "      <td>...</td>\n",
       "    </tr>\n",
       "    <tr>\n",
       "      <th>25830</th>\n",
       "      <td>0</td>\n",
       "      <td>0</td>\n",
       "      <td>1</td>\n",
       "    </tr>\n",
       "    <tr>\n",
       "      <th>25831</th>\n",
       "      <td>0</td>\n",
       "      <td>0</td>\n",
       "      <td>1</td>\n",
       "    </tr>\n",
       "    <tr>\n",
       "      <th>25832</th>\n",
       "      <td>0</td>\n",
       "      <td>0</td>\n",
       "      <td>1</td>\n",
       "    </tr>\n",
       "    <tr>\n",
       "      <th>25833</th>\n",
       "      <td>0</td>\n",
       "      <td>0</td>\n",
       "      <td>1</td>\n",
       "    </tr>\n",
       "    <tr>\n",
       "      <th>25834</th>\n",
       "      <td>0</td>\n",
       "      <td>0</td>\n",
       "      <td>1</td>\n",
       "    </tr>\n",
       "  </tbody>\n",
       "</table>\n",
       "<p>25835 rows × 3 columns</p>\n",
       "</div>"
      ],
      "text/plain": [
       "       High Supervision  Specialized Supervision  Standard Supervision\n",
       "0                     0                        0                     1\n",
       "1                     0                        1                     0\n",
       "2                     1                        0                     0\n",
       "3                     1                        0                     0\n",
       "4                     0                        1                     0\n",
       "...                 ...                      ...                   ...\n",
       "25830                 0                        0                     1\n",
       "25831                 0                        0                     1\n",
       "25832                 0                        0                     1\n",
       "25833                 0                        0                     1\n",
       "25834                 0                        0                     1\n",
       "\n",
       "[25835 rows x 3 columns]"
      ]
     },
     "execution_count": 36,
     "metadata": {},
     "output_type": "execute_result"
    }
   ],
   "source": [
    "supervision_encoding"
   ]
  },
  {
   "cell_type": "code",
   "execution_count": 37,
   "id": "8992cf08",
   "metadata": {},
   "outputs": [],
   "source": [
    "rec_data = rec_data.join(supervision_encoding)"
   ]
  },
  {
   "cell_type": "code",
   "execution_count": 38,
   "id": "f93b067f",
   "metadata": {},
   "outputs": [
    {
     "data": {
      "text/html": [
       "<div>\n",
       "<style scoped>\n",
       "    .dataframe tbody tr th:only-of-type {\n",
       "        vertical-align: middle;\n",
       "    }\n",
       "\n",
       "    .dataframe tbody tr th {\n",
       "        vertical-align: top;\n",
       "    }\n",
       "\n",
       "    .dataframe thead th {\n",
       "        text-align: right;\n",
       "    }\n",
       "</style>\n",
       "<table border=\"1\" class=\"dataframe\">\n",
       "  <thead>\n",
       "    <tr style=\"text-align: right;\">\n",
       "      <th></th>\n",
       "      <th>Age_at_Release</th>\n",
       "      <th>Residence_PUMA</th>\n",
       "      <th>Gang_Affiliated</th>\n",
       "      <th>Supervision_Risk_Score_First</th>\n",
       "      <th>Supervision_Level_First</th>\n",
       "      <th>Education_Level</th>\n",
       "      <th>Dependents</th>\n",
       "      <th>Prison_Offense</th>\n",
       "      <th>Prison_Years</th>\n",
       "      <th>Prior_Arrest_Episodes_Felony</th>\n",
       "      <th>...</th>\n",
       "      <th>Recidivism_Within_3years</th>\n",
       "      <th>Recidivism_Arrest_Year1</th>\n",
       "      <th>Recidivism_Arrest_Year2</th>\n",
       "      <th>Recidivism_Arrest_Year3</th>\n",
       "      <th>Training_Sample</th>\n",
       "      <th>Male</th>\n",
       "      <th>WHITE</th>\n",
       "      <th>High Supervision</th>\n",
       "      <th>Specialized Supervision</th>\n",
       "      <th>Standard Supervision</th>\n",
       "    </tr>\n",
       "  </thead>\n",
       "  <tbody>\n",
       "    <tr>\n",
       "      <th>0</th>\n",
       "      <td>45</td>\n",
       "      <td>16</td>\n",
       "      <td>0.0</td>\n",
       "      <td>3.0</td>\n",
       "      <td>Standard</td>\n",
       "      <td>At least some college</td>\n",
       "      <td>3 or more</td>\n",
       "      <td>Drug</td>\n",
       "      <td>More than 3 years</td>\n",
       "      <td>6</td>\n",
       "      <td>...</td>\n",
       "      <td>False</td>\n",
       "      <td>False</td>\n",
       "      <td>False</td>\n",
       "      <td>False</td>\n",
       "      <td>1</td>\n",
       "      <td>1</td>\n",
       "      <td>0</td>\n",
       "      <td>0</td>\n",
       "      <td>0</td>\n",
       "      <td>1</td>\n",
       "    </tr>\n",
       "    <tr>\n",
       "      <th>1</th>\n",
       "      <td>35</td>\n",
       "      <td>16</td>\n",
       "      <td>0.0</td>\n",
       "      <td>6.0</td>\n",
       "      <td>Specialized</td>\n",
       "      <td>Less than HS diploma</td>\n",
       "      <td>1</td>\n",
       "      <td>Violent/Non-Sex</td>\n",
       "      <td>More than 3 years</td>\n",
       "      <td>7</td>\n",
       "      <td>...</td>\n",
       "      <td>True</td>\n",
       "      <td>False</td>\n",
       "      <td>False</td>\n",
       "      <td>True</td>\n",
       "      <td>1</td>\n",
       "      <td>1</td>\n",
       "      <td>0</td>\n",
       "      <td>0</td>\n",
       "      <td>1</td>\n",
       "      <td>0</td>\n",
       "    </tr>\n",
       "    <tr>\n",
       "      <th>2</th>\n",
       "      <td>50</td>\n",
       "      <td>24</td>\n",
       "      <td>0.0</td>\n",
       "      <td>7.0</td>\n",
       "      <td>High</td>\n",
       "      <td>At least some college</td>\n",
       "      <td>3 or more</td>\n",
       "      <td>Drug</td>\n",
       "      <td>1-2 years</td>\n",
       "      <td>6</td>\n",
       "      <td>...</td>\n",
       "      <td>True</td>\n",
       "      <td>False</td>\n",
       "      <td>True</td>\n",
       "      <td>False</td>\n",
       "      <td>1</td>\n",
       "      <td>1</td>\n",
       "      <td>0</td>\n",
       "      <td>1</td>\n",
       "      <td>0</td>\n",
       "      <td>0</td>\n",
       "    </tr>\n",
       "    <tr>\n",
       "      <th>3</th>\n",
       "      <td>40</td>\n",
       "      <td>16</td>\n",
       "      <td>0.0</td>\n",
       "      <td>7.0</td>\n",
       "      <td>High</td>\n",
       "      <td>Less than HS diploma</td>\n",
       "      <td>1</td>\n",
       "      <td>Property</td>\n",
       "      <td>1-2 years</td>\n",
       "      <td>8</td>\n",
       "      <td>...</td>\n",
       "      <td>False</td>\n",
       "      <td>False</td>\n",
       "      <td>False</td>\n",
       "      <td>False</td>\n",
       "      <td>1</td>\n",
       "      <td>1</td>\n",
       "      <td>1</td>\n",
       "      <td>1</td>\n",
       "      <td>0</td>\n",
       "      <td>0</td>\n",
       "    </tr>\n",
       "    <tr>\n",
       "      <th>4</th>\n",
       "      <td>35</td>\n",
       "      <td>16</td>\n",
       "      <td>0.0</td>\n",
       "      <td>4.0</td>\n",
       "      <td>Specialized</td>\n",
       "      <td>Less than HS diploma</td>\n",
       "      <td>3 or more</td>\n",
       "      <td>Violent/Non-Sex</td>\n",
       "      <td>1-2 years</td>\n",
       "      <td>4</td>\n",
       "      <td>...</td>\n",
       "      <td>True</td>\n",
       "      <td>True</td>\n",
       "      <td>False</td>\n",
       "      <td>False</td>\n",
       "      <td>1</td>\n",
       "      <td>1</td>\n",
       "      <td>1</td>\n",
       "      <td>0</td>\n",
       "      <td>1</td>\n",
       "      <td>0</td>\n",
       "    </tr>\n",
       "  </tbody>\n",
       "</table>\n",
       "<p>5 rows × 56 columns</p>\n",
       "</div>"
      ],
      "text/plain": [
       "   Age_at_Release  Residence_PUMA  Gang_Affiliated  \\\n",
       "0              45              16              0.0   \n",
       "1              35              16              0.0   \n",
       "2              50              24              0.0   \n",
       "3              40              16              0.0   \n",
       "4              35              16              0.0   \n",
       "\n",
       "   Supervision_Risk_Score_First Supervision_Level_First  \\\n",
       "0                           3.0                Standard   \n",
       "1                           6.0             Specialized   \n",
       "2                           7.0                    High   \n",
       "3                           7.0                    High   \n",
       "4                           4.0             Specialized   \n",
       "\n",
       "         Education_Level Dependents   Prison_Offense       Prison_Years  \\\n",
       "0  At least some college  3 or more             Drug  More than 3 years   \n",
       "1   Less than HS diploma          1  Violent/Non-Sex  More than 3 years   \n",
       "2  At least some college  3 or more             Drug          1-2 years   \n",
       "3   Less than HS diploma          1         Property          1-2 years   \n",
       "4   Less than HS diploma  3 or more  Violent/Non-Sex          1-2 years   \n",
       "\n",
       "  Prior_Arrest_Episodes_Felony  ... Recidivism_Within_3years  \\\n",
       "0                            6  ...                    False   \n",
       "1                            7  ...                     True   \n",
       "2                            6  ...                     True   \n",
       "3                            8  ...                    False   \n",
       "4                            4  ...                     True   \n",
       "\n",
       "  Recidivism_Arrest_Year1 Recidivism_Arrest_Year2 Recidivism_Arrest_Year3  \\\n",
       "0                   False                   False                   False   \n",
       "1                   False                   False                    True   \n",
       "2                   False                    True                   False   \n",
       "3                   False                   False                   False   \n",
       "4                    True                   False                   False   \n",
       "\n",
       "  Training_Sample  Male  WHITE High Supervision Specialized Supervision  \\\n",
       "0               1     1      0                0                       0   \n",
       "1               1     1      0                0                       1   \n",
       "2               1     1      0                1                       0   \n",
       "3               1     1      1                1                       0   \n",
       "4               1     1      1                0                       1   \n",
       "\n",
       "   Standard Supervision  \n",
       "0                     1  \n",
       "1                     0  \n",
       "2                     0  \n",
       "3                     0  \n",
       "4                     0  \n",
       "\n",
       "[5 rows x 56 columns]"
      ]
     },
     "execution_count": 38,
     "metadata": {},
     "output_type": "execute_result"
    }
   ],
   "source": [
    "rec_data.head()"
   ]
  },
  {
   "cell_type": "code",
   "execution_count": 39,
   "id": "004ecb03",
   "metadata": {},
   "outputs": [],
   "source": [
    "rec_data = rec_data.drop('Supervision_Level_First', axis=1)"
   ]
  },
  {
   "cell_type": "code",
   "execution_count": 40,
   "id": "762e4165",
   "metadata": {
    "scrolled": true
   },
   "outputs": [
    {
     "data": {
      "text/html": [
       "<div>\n",
       "<style scoped>\n",
       "    .dataframe tbody tr th:only-of-type {\n",
       "        vertical-align: middle;\n",
       "    }\n",
       "\n",
       "    .dataframe tbody tr th {\n",
       "        vertical-align: top;\n",
       "    }\n",
       "\n",
       "    .dataframe thead th {\n",
       "        text-align: right;\n",
       "    }\n",
       "</style>\n",
       "<table border=\"1\" class=\"dataframe\">\n",
       "  <thead>\n",
       "    <tr style=\"text-align: right;\">\n",
       "      <th></th>\n",
       "      <th>Age_at_Release</th>\n",
       "      <th>Residence_PUMA</th>\n",
       "      <th>Gang_Affiliated</th>\n",
       "      <th>Supervision_Risk_Score_First</th>\n",
       "      <th>Education_Level</th>\n",
       "      <th>Dependents</th>\n",
       "      <th>Prison_Offense</th>\n",
       "      <th>Prison_Years</th>\n",
       "      <th>Prior_Arrest_Episodes_Felony</th>\n",
       "      <th>Prior_Arrest_Episodes_Misd</th>\n",
       "      <th>...</th>\n",
       "      <th>Recidivism_Within_3years</th>\n",
       "      <th>Recidivism_Arrest_Year1</th>\n",
       "      <th>Recidivism_Arrest_Year2</th>\n",
       "      <th>Recidivism_Arrest_Year3</th>\n",
       "      <th>Training_Sample</th>\n",
       "      <th>Male</th>\n",
       "      <th>WHITE</th>\n",
       "      <th>High Supervision</th>\n",
       "      <th>Specialized Supervision</th>\n",
       "      <th>Standard Supervision</th>\n",
       "    </tr>\n",
       "  </thead>\n",
       "  <tbody>\n",
       "    <tr>\n",
       "      <th>0</th>\n",
       "      <td>45</td>\n",
       "      <td>16</td>\n",
       "      <td>0.0</td>\n",
       "      <td>3.0</td>\n",
       "      <td>At least some college</td>\n",
       "      <td>3 or more</td>\n",
       "      <td>Drug</td>\n",
       "      <td>More than 3 years</td>\n",
       "      <td>6</td>\n",
       "      <td>6 or more</td>\n",
       "      <td>...</td>\n",
       "      <td>False</td>\n",
       "      <td>False</td>\n",
       "      <td>False</td>\n",
       "      <td>False</td>\n",
       "      <td>1</td>\n",
       "      <td>1</td>\n",
       "      <td>0</td>\n",
       "      <td>0</td>\n",
       "      <td>0</td>\n",
       "      <td>1</td>\n",
       "    </tr>\n",
       "    <tr>\n",
       "      <th>1</th>\n",
       "      <td>35</td>\n",
       "      <td>16</td>\n",
       "      <td>0.0</td>\n",
       "      <td>6.0</td>\n",
       "      <td>Less than HS diploma</td>\n",
       "      <td>1</td>\n",
       "      <td>Violent/Non-Sex</td>\n",
       "      <td>More than 3 years</td>\n",
       "      <td>7</td>\n",
       "      <td>6 or more</td>\n",
       "      <td>...</td>\n",
       "      <td>True</td>\n",
       "      <td>False</td>\n",
       "      <td>False</td>\n",
       "      <td>True</td>\n",
       "      <td>1</td>\n",
       "      <td>1</td>\n",
       "      <td>0</td>\n",
       "      <td>0</td>\n",
       "      <td>1</td>\n",
       "      <td>0</td>\n",
       "    </tr>\n",
       "    <tr>\n",
       "      <th>2</th>\n",
       "      <td>50</td>\n",
       "      <td>24</td>\n",
       "      <td>0.0</td>\n",
       "      <td>7.0</td>\n",
       "      <td>At least some college</td>\n",
       "      <td>3 or more</td>\n",
       "      <td>Drug</td>\n",
       "      <td>1-2 years</td>\n",
       "      <td>6</td>\n",
       "      <td>6 or more</td>\n",
       "      <td>...</td>\n",
       "      <td>True</td>\n",
       "      <td>False</td>\n",
       "      <td>True</td>\n",
       "      <td>False</td>\n",
       "      <td>1</td>\n",
       "      <td>1</td>\n",
       "      <td>0</td>\n",
       "      <td>1</td>\n",
       "      <td>0</td>\n",
       "      <td>0</td>\n",
       "    </tr>\n",
       "    <tr>\n",
       "      <th>3</th>\n",
       "      <td>40</td>\n",
       "      <td>16</td>\n",
       "      <td>0.0</td>\n",
       "      <td>7.0</td>\n",
       "      <td>Less than HS diploma</td>\n",
       "      <td>1</td>\n",
       "      <td>Property</td>\n",
       "      <td>1-2 years</td>\n",
       "      <td>8</td>\n",
       "      <td>6 or more</td>\n",
       "      <td>...</td>\n",
       "      <td>False</td>\n",
       "      <td>False</td>\n",
       "      <td>False</td>\n",
       "      <td>False</td>\n",
       "      <td>1</td>\n",
       "      <td>1</td>\n",
       "      <td>1</td>\n",
       "      <td>1</td>\n",
       "      <td>0</td>\n",
       "      <td>0</td>\n",
       "    </tr>\n",
       "    <tr>\n",
       "      <th>4</th>\n",
       "      <td>35</td>\n",
       "      <td>16</td>\n",
       "      <td>0.0</td>\n",
       "      <td>4.0</td>\n",
       "      <td>Less than HS diploma</td>\n",
       "      <td>3 or more</td>\n",
       "      <td>Violent/Non-Sex</td>\n",
       "      <td>1-2 years</td>\n",
       "      <td>4</td>\n",
       "      <td>4</td>\n",
       "      <td>...</td>\n",
       "      <td>True</td>\n",
       "      <td>True</td>\n",
       "      <td>False</td>\n",
       "      <td>False</td>\n",
       "      <td>1</td>\n",
       "      <td>1</td>\n",
       "      <td>1</td>\n",
       "      <td>0</td>\n",
       "      <td>1</td>\n",
       "      <td>0</td>\n",
       "    </tr>\n",
       "  </tbody>\n",
       "</table>\n",
       "<p>5 rows × 55 columns</p>\n",
       "</div>"
      ],
      "text/plain": [
       "   Age_at_Release  Residence_PUMA  Gang_Affiliated  \\\n",
       "0              45              16              0.0   \n",
       "1              35              16              0.0   \n",
       "2              50              24              0.0   \n",
       "3              40              16              0.0   \n",
       "4              35              16              0.0   \n",
       "\n",
       "   Supervision_Risk_Score_First        Education_Level Dependents  \\\n",
       "0                           3.0  At least some college  3 or more   \n",
       "1                           6.0   Less than HS diploma          1   \n",
       "2                           7.0  At least some college  3 or more   \n",
       "3                           7.0   Less than HS diploma          1   \n",
       "4                           4.0   Less than HS diploma  3 or more   \n",
       "\n",
       "    Prison_Offense       Prison_Years Prior_Arrest_Episodes_Felony  \\\n",
       "0             Drug  More than 3 years                            6   \n",
       "1  Violent/Non-Sex  More than 3 years                            7   \n",
       "2             Drug          1-2 years                            6   \n",
       "3         Property          1-2 years                            8   \n",
       "4  Violent/Non-Sex          1-2 years                            4   \n",
       "\n",
       "  Prior_Arrest_Episodes_Misd  ... Recidivism_Within_3years  \\\n",
       "0                  6 or more  ...                    False   \n",
       "1                  6 or more  ...                     True   \n",
       "2                  6 or more  ...                     True   \n",
       "3                  6 or more  ...                    False   \n",
       "4                          4  ...                     True   \n",
       "\n",
       "  Recidivism_Arrest_Year1 Recidivism_Arrest_Year2 Recidivism_Arrest_Year3  \\\n",
       "0                   False                   False                   False   \n",
       "1                   False                   False                    True   \n",
       "2                   False                    True                   False   \n",
       "3                   False                   False                   False   \n",
       "4                    True                   False                   False   \n",
       "\n",
       "   Training_Sample  Male WHITE High Supervision  Specialized Supervision  \\\n",
       "0                1     1     0                0                        0   \n",
       "1                1     1     0                0                        1   \n",
       "2                1     1     0                1                        0   \n",
       "3                1     1     1                1                        0   \n",
       "4                1     1     1                0                        1   \n",
       "\n",
       "  Standard Supervision  \n",
       "0                    1  \n",
       "1                    0  \n",
       "2                    0  \n",
       "3                    0  \n",
       "4                    0  \n",
       "\n",
       "[5 rows x 55 columns]"
      ]
     },
     "execution_count": 40,
     "metadata": {},
     "output_type": "execute_result"
    }
   ],
   "source": [
    "rec_data.head()"
   ]
  },
  {
   "cell_type": "code",
   "execution_count": 41,
   "id": "ac206969",
   "metadata": {},
   "outputs": [
    {
     "data": {
      "text/plain": [
       "array(['At least some college', 'Less than HS diploma',\n",
       "       'High School Diploma'], dtype=object)"
      ]
     },
     "execution_count": 41,
     "metadata": {},
     "output_type": "execute_result"
    }
   ],
   "source": [
    "rec_data['Education_Level'].unique()"
   ]
  },
  {
   "cell_type": "code",
   "execution_count": 42,
   "id": "5a50819e",
   "metadata": {},
   "outputs": [],
   "source": [
    "rec_data['Education_Level'] = rec_data['Education_Level'].replace(['At least some college', 'High School Diploma', 'Less than HS diploma'],\n",
    "                                                                 [2,1,0])"
   ]
  },
  {
   "cell_type": "code",
   "execution_count": 43,
   "id": "dad60fff",
   "metadata": {
    "scrolled": true
   },
   "outputs": [
    {
     "data": {
      "text/html": [
       "<div>\n",
       "<style scoped>\n",
       "    .dataframe tbody tr th:only-of-type {\n",
       "        vertical-align: middle;\n",
       "    }\n",
       "\n",
       "    .dataframe tbody tr th {\n",
       "        vertical-align: top;\n",
       "    }\n",
       "\n",
       "    .dataframe thead th {\n",
       "        text-align: right;\n",
       "    }\n",
       "</style>\n",
       "<table border=\"1\" class=\"dataframe\">\n",
       "  <thead>\n",
       "    <tr style=\"text-align: right;\">\n",
       "      <th></th>\n",
       "      <th>Age_at_Release</th>\n",
       "      <th>Residence_PUMA</th>\n",
       "      <th>Gang_Affiliated</th>\n",
       "      <th>Supervision_Risk_Score_First</th>\n",
       "      <th>Education_Level</th>\n",
       "      <th>Dependents</th>\n",
       "      <th>Prison_Offense</th>\n",
       "      <th>Prison_Years</th>\n",
       "      <th>Prior_Arrest_Episodes_Felony</th>\n",
       "      <th>Prior_Arrest_Episodes_Misd</th>\n",
       "      <th>...</th>\n",
       "      <th>Recidivism_Within_3years</th>\n",
       "      <th>Recidivism_Arrest_Year1</th>\n",
       "      <th>Recidivism_Arrest_Year2</th>\n",
       "      <th>Recidivism_Arrest_Year3</th>\n",
       "      <th>Training_Sample</th>\n",
       "      <th>Male</th>\n",
       "      <th>WHITE</th>\n",
       "      <th>High Supervision</th>\n",
       "      <th>Specialized Supervision</th>\n",
       "      <th>Standard Supervision</th>\n",
       "    </tr>\n",
       "  </thead>\n",
       "  <tbody>\n",
       "    <tr>\n",
       "      <th>0</th>\n",
       "      <td>45</td>\n",
       "      <td>16</td>\n",
       "      <td>0.0</td>\n",
       "      <td>3.0</td>\n",
       "      <td>2</td>\n",
       "      <td>3 or more</td>\n",
       "      <td>Drug</td>\n",
       "      <td>More than 3 years</td>\n",
       "      <td>6</td>\n",
       "      <td>6 or more</td>\n",
       "      <td>...</td>\n",
       "      <td>False</td>\n",
       "      <td>False</td>\n",
       "      <td>False</td>\n",
       "      <td>False</td>\n",
       "      <td>1</td>\n",
       "      <td>1</td>\n",
       "      <td>0</td>\n",
       "      <td>0</td>\n",
       "      <td>0</td>\n",
       "      <td>1</td>\n",
       "    </tr>\n",
       "    <tr>\n",
       "      <th>1</th>\n",
       "      <td>35</td>\n",
       "      <td>16</td>\n",
       "      <td>0.0</td>\n",
       "      <td>6.0</td>\n",
       "      <td>0</td>\n",
       "      <td>1</td>\n",
       "      <td>Violent/Non-Sex</td>\n",
       "      <td>More than 3 years</td>\n",
       "      <td>7</td>\n",
       "      <td>6 or more</td>\n",
       "      <td>...</td>\n",
       "      <td>True</td>\n",
       "      <td>False</td>\n",
       "      <td>False</td>\n",
       "      <td>True</td>\n",
       "      <td>1</td>\n",
       "      <td>1</td>\n",
       "      <td>0</td>\n",
       "      <td>0</td>\n",
       "      <td>1</td>\n",
       "      <td>0</td>\n",
       "    </tr>\n",
       "    <tr>\n",
       "      <th>2</th>\n",
       "      <td>50</td>\n",
       "      <td>24</td>\n",
       "      <td>0.0</td>\n",
       "      <td>7.0</td>\n",
       "      <td>2</td>\n",
       "      <td>3 or more</td>\n",
       "      <td>Drug</td>\n",
       "      <td>1-2 years</td>\n",
       "      <td>6</td>\n",
       "      <td>6 or more</td>\n",
       "      <td>...</td>\n",
       "      <td>True</td>\n",
       "      <td>False</td>\n",
       "      <td>True</td>\n",
       "      <td>False</td>\n",
       "      <td>1</td>\n",
       "      <td>1</td>\n",
       "      <td>0</td>\n",
       "      <td>1</td>\n",
       "      <td>0</td>\n",
       "      <td>0</td>\n",
       "    </tr>\n",
       "    <tr>\n",
       "      <th>3</th>\n",
       "      <td>40</td>\n",
       "      <td>16</td>\n",
       "      <td>0.0</td>\n",
       "      <td>7.0</td>\n",
       "      <td>0</td>\n",
       "      <td>1</td>\n",
       "      <td>Property</td>\n",
       "      <td>1-2 years</td>\n",
       "      <td>8</td>\n",
       "      <td>6 or more</td>\n",
       "      <td>...</td>\n",
       "      <td>False</td>\n",
       "      <td>False</td>\n",
       "      <td>False</td>\n",
       "      <td>False</td>\n",
       "      <td>1</td>\n",
       "      <td>1</td>\n",
       "      <td>1</td>\n",
       "      <td>1</td>\n",
       "      <td>0</td>\n",
       "      <td>0</td>\n",
       "    </tr>\n",
       "    <tr>\n",
       "      <th>4</th>\n",
       "      <td>35</td>\n",
       "      <td>16</td>\n",
       "      <td>0.0</td>\n",
       "      <td>4.0</td>\n",
       "      <td>0</td>\n",
       "      <td>3 or more</td>\n",
       "      <td>Violent/Non-Sex</td>\n",
       "      <td>1-2 years</td>\n",
       "      <td>4</td>\n",
       "      <td>4</td>\n",
       "      <td>...</td>\n",
       "      <td>True</td>\n",
       "      <td>True</td>\n",
       "      <td>False</td>\n",
       "      <td>False</td>\n",
       "      <td>1</td>\n",
       "      <td>1</td>\n",
       "      <td>1</td>\n",
       "      <td>0</td>\n",
       "      <td>1</td>\n",
       "      <td>0</td>\n",
       "    </tr>\n",
       "  </tbody>\n",
       "</table>\n",
       "<p>5 rows × 55 columns</p>\n",
       "</div>"
      ],
      "text/plain": [
       "   Age_at_Release  Residence_PUMA  Gang_Affiliated  \\\n",
       "0              45              16              0.0   \n",
       "1              35              16              0.0   \n",
       "2              50              24              0.0   \n",
       "3              40              16              0.0   \n",
       "4              35              16              0.0   \n",
       "\n",
       "   Supervision_Risk_Score_First  Education_Level Dependents   Prison_Offense  \\\n",
       "0                           3.0                2  3 or more             Drug   \n",
       "1                           6.0                0          1  Violent/Non-Sex   \n",
       "2                           7.0                2  3 or more             Drug   \n",
       "3                           7.0                0          1         Property   \n",
       "4                           4.0                0  3 or more  Violent/Non-Sex   \n",
       "\n",
       "        Prison_Years Prior_Arrest_Episodes_Felony Prior_Arrest_Episodes_Misd  \\\n",
       "0  More than 3 years                            6                  6 or more   \n",
       "1  More than 3 years                            7                  6 or more   \n",
       "2          1-2 years                            6                  6 or more   \n",
       "3          1-2 years                            8                  6 or more   \n",
       "4          1-2 years                            4                          4   \n",
       "\n",
       "   ... Recidivism_Within_3years Recidivism_Arrest_Year1  \\\n",
       "0  ...                    False                   False   \n",
       "1  ...                     True                   False   \n",
       "2  ...                     True                   False   \n",
       "3  ...                    False                   False   \n",
       "4  ...                     True                    True   \n",
       "\n",
       "  Recidivism_Arrest_Year2 Recidivism_Arrest_Year3  Training_Sample  Male  \\\n",
       "0                   False                   False                1     1   \n",
       "1                   False                    True                1     1   \n",
       "2                    True                   False                1     1   \n",
       "3                   False                   False                1     1   \n",
       "4                   False                   False                1     1   \n",
       "\n",
       "  WHITE High Supervision  Specialized Supervision Standard Supervision  \n",
       "0     0                0                        0                    1  \n",
       "1     0                0                        1                    0  \n",
       "2     0                1                        0                    0  \n",
       "3     1                1                        0                    0  \n",
       "4     1                0                        1                    0  \n",
       "\n",
       "[5 rows x 55 columns]"
      ]
     },
     "execution_count": 43,
     "metadata": {},
     "output_type": "execute_result"
    }
   ],
   "source": [
    "rec_data.head()"
   ]
  },
  {
   "cell_type": "code",
   "execution_count": 44,
   "id": "1bf5b1e4",
   "metadata": {},
   "outputs": [
    {
     "data": {
      "text/plain": [
       "array(['3 or more', '1', '0', '2'], dtype=object)"
      ]
     },
     "execution_count": 44,
     "metadata": {},
     "output_type": "execute_result"
    }
   ],
   "source": [
    "rec_data['Dependents'].unique()"
   ]
  },
  {
   "cell_type": "code",
   "execution_count": 45,
   "id": "3a09a4a4",
   "metadata": {},
   "outputs": [],
   "source": [
    "rec_data['Dependents'] = rec_data['Dependents'].replace(['3 or more', '2', '1', '0'], [3,2,1,0])"
   ]
  },
  {
   "cell_type": "code",
   "execution_count": 46,
   "id": "a02475f3",
   "metadata": {},
   "outputs": [
    {
     "data": {
      "text/html": [
       "<div>\n",
       "<style scoped>\n",
       "    .dataframe tbody tr th:only-of-type {\n",
       "        vertical-align: middle;\n",
       "    }\n",
       "\n",
       "    .dataframe tbody tr th {\n",
       "        vertical-align: top;\n",
       "    }\n",
       "\n",
       "    .dataframe thead th {\n",
       "        text-align: right;\n",
       "    }\n",
       "</style>\n",
       "<table border=\"1\" class=\"dataframe\">\n",
       "  <thead>\n",
       "    <tr style=\"text-align: right;\">\n",
       "      <th></th>\n",
       "      <th>Age_at_Release</th>\n",
       "      <th>Residence_PUMA</th>\n",
       "      <th>Gang_Affiliated</th>\n",
       "      <th>Supervision_Risk_Score_First</th>\n",
       "      <th>Education_Level</th>\n",
       "      <th>Dependents</th>\n",
       "      <th>Prison_Offense</th>\n",
       "      <th>Prison_Years</th>\n",
       "      <th>Prior_Arrest_Episodes_Felony</th>\n",
       "      <th>Prior_Arrest_Episodes_Misd</th>\n",
       "      <th>...</th>\n",
       "      <th>Recidivism_Within_3years</th>\n",
       "      <th>Recidivism_Arrest_Year1</th>\n",
       "      <th>Recidivism_Arrest_Year2</th>\n",
       "      <th>Recidivism_Arrest_Year3</th>\n",
       "      <th>Training_Sample</th>\n",
       "      <th>Male</th>\n",
       "      <th>WHITE</th>\n",
       "      <th>High Supervision</th>\n",
       "      <th>Specialized Supervision</th>\n",
       "      <th>Standard Supervision</th>\n",
       "    </tr>\n",
       "  </thead>\n",
       "  <tbody>\n",
       "    <tr>\n",
       "      <th>0</th>\n",
       "      <td>45</td>\n",
       "      <td>16</td>\n",
       "      <td>0.0</td>\n",
       "      <td>3.0</td>\n",
       "      <td>2</td>\n",
       "      <td>3</td>\n",
       "      <td>Drug</td>\n",
       "      <td>More than 3 years</td>\n",
       "      <td>6</td>\n",
       "      <td>6 or more</td>\n",
       "      <td>...</td>\n",
       "      <td>False</td>\n",
       "      <td>False</td>\n",
       "      <td>False</td>\n",
       "      <td>False</td>\n",
       "      <td>1</td>\n",
       "      <td>1</td>\n",
       "      <td>0</td>\n",
       "      <td>0</td>\n",
       "      <td>0</td>\n",
       "      <td>1</td>\n",
       "    </tr>\n",
       "    <tr>\n",
       "      <th>1</th>\n",
       "      <td>35</td>\n",
       "      <td>16</td>\n",
       "      <td>0.0</td>\n",
       "      <td>6.0</td>\n",
       "      <td>0</td>\n",
       "      <td>1</td>\n",
       "      <td>Violent/Non-Sex</td>\n",
       "      <td>More than 3 years</td>\n",
       "      <td>7</td>\n",
       "      <td>6 or more</td>\n",
       "      <td>...</td>\n",
       "      <td>True</td>\n",
       "      <td>False</td>\n",
       "      <td>False</td>\n",
       "      <td>True</td>\n",
       "      <td>1</td>\n",
       "      <td>1</td>\n",
       "      <td>0</td>\n",
       "      <td>0</td>\n",
       "      <td>1</td>\n",
       "      <td>0</td>\n",
       "    </tr>\n",
       "    <tr>\n",
       "      <th>2</th>\n",
       "      <td>50</td>\n",
       "      <td>24</td>\n",
       "      <td>0.0</td>\n",
       "      <td>7.0</td>\n",
       "      <td>2</td>\n",
       "      <td>3</td>\n",
       "      <td>Drug</td>\n",
       "      <td>1-2 years</td>\n",
       "      <td>6</td>\n",
       "      <td>6 or more</td>\n",
       "      <td>...</td>\n",
       "      <td>True</td>\n",
       "      <td>False</td>\n",
       "      <td>True</td>\n",
       "      <td>False</td>\n",
       "      <td>1</td>\n",
       "      <td>1</td>\n",
       "      <td>0</td>\n",
       "      <td>1</td>\n",
       "      <td>0</td>\n",
       "      <td>0</td>\n",
       "    </tr>\n",
       "    <tr>\n",
       "      <th>3</th>\n",
       "      <td>40</td>\n",
       "      <td>16</td>\n",
       "      <td>0.0</td>\n",
       "      <td>7.0</td>\n",
       "      <td>0</td>\n",
       "      <td>1</td>\n",
       "      <td>Property</td>\n",
       "      <td>1-2 years</td>\n",
       "      <td>8</td>\n",
       "      <td>6 or more</td>\n",
       "      <td>...</td>\n",
       "      <td>False</td>\n",
       "      <td>False</td>\n",
       "      <td>False</td>\n",
       "      <td>False</td>\n",
       "      <td>1</td>\n",
       "      <td>1</td>\n",
       "      <td>1</td>\n",
       "      <td>1</td>\n",
       "      <td>0</td>\n",
       "      <td>0</td>\n",
       "    </tr>\n",
       "    <tr>\n",
       "      <th>4</th>\n",
       "      <td>35</td>\n",
       "      <td>16</td>\n",
       "      <td>0.0</td>\n",
       "      <td>4.0</td>\n",
       "      <td>0</td>\n",
       "      <td>3</td>\n",
       "      <td>Violent/Non-Sex</td>\n",
       "      <td>1-2 years</td>\n",
       "      <td>4</td>\n",
       "      <td>4</td>\n",
       "      <td>...</td>\n",
       "      <td>True</td>\n",
       "      <td>True</td>\n",
       "      <td>False</td>\n",
       "      <td>False</td>\n",
       "      <td>1</td>\n",
       "      <td>1</td>\n",
       "      <td>1</td>\n",
       "      <td>0</td>\n",
       "      <td>1</td>\n",
       "      <td>0</td>\n",
       "    </tr>\n",
       "  </tbody>\n",
       "</table>\n",
       "<p>5 rows × 55 columns</p>\n",
       "</div>"
      ],
      "text/plain": [
       "   Age_at_Release  Residence_PUMA  Gang_Affiliated  \\\n",
       "0              45              16              0.0   \n",
       "1              35              16              0.0   \n",
       "2              50              24              0.0   \n",
       "3              40              16              0.0   \n",
       "4              35              16              0.0   \n",
       "\n",
       "   Supervision_Risk_Score_First  Education_Level  Dependents   Prison_Offense  \\\n",
       "0                           3.0                2           3             Drug   \n",
       "1                           6.0                0           1  Violent/Non-Sex   \n",
       "2                           7.0                2           3             Drug   \n",
       "3                           7.0                0           1         Property   \n",
       "4                           4.0                0           3  Violent/Non-Sex   \n",
       "\n",
       "        Prison_Years Prior_Arrest_Episodes_Felony Prior_Arrest_Episodes_Misd  \\\n",
       "0  More than 3 years                            6                  6 or more   \n",
       "1  More than 3 years                            7                  6 or more   \n",
       "2          1-2 years                            6                  6 or more   \n",
       "3          1-2 years                            8                  6 or more   \n",
       "4          1-2 years                            4                          4   \n",
       "\n",
       "   ... Recidivism_Within_3years Recidivism_Arrest_Year1  \\\n",
       "0  ...                    False                   False   \n",
       "1  ...                     True                   False   \n",
       "2  ...                     True                   False   \n",
       "3  ...                    False                   False   \n",
       "4  ...                     True                    True   \n",
       "\n",
       "  Recidivism_Arrest_Year2 Recidivism_Arrest_Year3  Training_Sample  Male  \\\n",
       "0                   False                   False                1     1   \n",
       "1                   False                    True                1     1   \n",
       "2                    True                   False                1     1   \n",
       "3                   False                   False                1     1   \n",
       "4                   False                   False                1     1   \n",
       "\n",
       "  WHITE High Supervision  Specialized Supervision Standard Supervision  \n",
       "0     0                0                        0                    1  \n",
       "1     0                0                        1                    0  \n",
       "2     0                1                        0                    0  \n",
       "3     1                1                        0                    0  \n",
       "4     1                0                        1                    0  \n",
       "\n",
       "[5 rows x 55 columns]"
      ]
     },
     "execution_count": 46,
     "metadata": {},
     "output_type": "execute_result"
    }
   ],
   "source": [
    "rec_data.head()"
   ]
  },
  {
   "cell_type": "code",
   "execution_count": 47,
   "id": "0794af4b",
   "metadata": {},
   "outputs": [
    {
     "data": {
      "text/plain": [
       "Index(['Age_at_Release', 'Residence_PUMA', 'Gang_Affiliated',\n",
       "       'Supervision_Risk_Score_First', 'Education_Level', 'Dependents',\n",
       "       'Prison_Offense', 'Prison_Years', 'Prior_Arrest_Episodes_Felony',\n",
       "       'Prior_Arrest_Episodes_Misd', 'Prior_Arrest_Episodes_Violent',\n",
       "       'Prior_Arrest_Episodes_Property', 'Prior_Arrest_Episodes_Drug',\n",
       "       'Prior_Arrest_Episodes_PPViolationCharges',\n",
       "       'Prior_Arrest_Episodes_DVCharges', 'Prior_Arrest_Episodes_GunCharges',\n",
       "       'Prior_Conviction_Episodes_Felony', 'Prior_Conviction_Episodes_Misd',\n",
       "       'Prior_Conviction_Episodes_Viol', 'Prior_Conviction_Episodes_Prop',\n",
       "       'Prior_Conviction_Episodes_Drug',\n",
       "       'Prior_Conviction_Episodes_PPViolationCharges',\n",
       "       'Prior_Conviction_Episodes_DomesticViolenceCharges',\n",
       "       'Prior_Conviction_Episodes_GunCharges', 'Prior_Revocations_Parole',\n",
       "       'Prior_Revocations_Probation', 'Condition_MH_SA', 'Condition_Cog_Ed',\n",
       "       'Condition_Other', 'Violations_ElectronicMonitoring',\n",
       "       'Violations_Instruction', 'Violations_FailToReport',\n",
       "       'Violations_MoveWithoutPermission', 'Delinquency_Reports',\n",
       "       'Program_Attendances', 'Program_UnexcusedAbsences', 'Residence_Changes',\n",
       "       'Avg_Days_per_DrugTest', 'DrugTests_THC_Positive',\n",
       "       'DrugTests_Cocaine_Positive', 'DrugTests_Meth_Positive',\n",
       "       'DrugTests_Other_Positive', 'Percent_Days_Employed', 'Jobs_Per_Year',\n",
       "       'Employment_Exempt', 'Recidivism_Within_3years',\n",
       "       'Recidivism_Arrest_Year1', 'Recidivism_Arrest_Year2',\n",
       "       'Recidivism_Arrest_Year3', 'Training_Sample', 'Male', 'WHITE',\n",
       "       'High Supervision', 'Specialized Supervision', 'Standard Supervision'],\n",
       "      dtype='object')"
      ]
     },
     "execution_count": 47,
     "metadata": {},
     "output_type": "execute_result"
    }
   ],
   "source": [
    "rec_data.columns"
   ]
  },
  {
   "cell_type": "code",
   "execution_count": 48,
   "id": "62ab30d7",
   "metadata": {},
   "outputs": [
    {
     "data": {
      "text/plain": [
       "array(['Drug', 'Violent/Non-Sex', 'Property', nan, 'Other', 'Violent/Sex'],\n",
       "      dtype=object)"
      ]
     },
     "execution_count": 48,
     "metadata": {},
     "output_type": "execute_result"
    }
   ],
   "source": [
    "rec_data['Prison_Offense'].unique()"
   ]
  },
  {
   "cell_type": "code",
   "execution_count": 49,
   "id": "a5f8881c",
   "metadata": {},
   "outputs": [],
   "source": [
    "offense_encoding = pd.get_dummies(rec_data['Prison_Offense'])"
   ]
  },
  {
   "cell_type": "code",
   "execution_count": 50,
   "id": "3a3e170f",
   "metadata": {},
   "outputs": [
    {
     "data": {
      "text/html": [
       "<div>\n",
       "<style scoped>\n",
       "    .dataframe tbody tr th:only-of-type {\n",
       "        vertical-align: middle;\n",
       "    }\n",
       "\n",
       "    .dataframe tbody tr th {\n",
       "        vertical-align: top;\n",
       "    }\n",
       "\n",
       "    .dataframe thead th {\n",
       "        text-align: right;\n",
       "    }\n",
       "</style>\n",
       "<table border=\"1\" class=\"dataframe\">\n",
       "  <thead>\n",
       "    <tr style=\"text-align: right;\">\n",
       "      <th></th>\n",
       "      <th>Drug</th>\n",
       "      <th>Other</th>\n",
       "      <th>Property</th>\n",
       "      <th>Violent/Non-Sex</th>\n",
       "      <th>Violent/Sex</th>\n",
       "    </tr>\n",
       "  </thead>\n",
       "  <tbody>\n",
       "    <tr>\n",
       "      <th>0</th>\n",
       "      <td>1</td>\n",
       "      <td>0</td>\n",
       "      <td>0</td>\n",
       "      <td>0</td>\n",
       "      <td>0</td>\n",
       "    </tr>\n",
       "    <tr>\n",
       "      <th>1</th>\n",
       "      <td>0</td>\n",
       "      <td>0</td>\n",
       "      <td>0</td>\n",
       "      <td>1</td>\n",
       "      <td>0</td>\n",
       "    </tr>\n",
       "    <tr>\n",
       "      <th>2</th>\n",
       "      <td>1</td>\n",
       "      <td>0</td>\n",
       "      <td>0</td>\n",
       "      <td>0</td>\n",
       "      <td>0</td>\n",
       "    </tr>\n",
       "    <tr>\n",
       "      <th>3</th>\n",
       "      <td>0</td>\n",
       "      <td>0</td>\n",
       "      <td>1</td>\n",
       "      <td>0</td>\n",
       "      <td>0</td>\n",
       "    </tr>\n",
       "    <tr>\n",
       "      <th>4</th>\n",
       "      <td>0</td>\n",
       "      <td>0</td>\n",
       "      <td>0</td>\n",
       "      <td>1</td>\n",
       "      <td>0</td>\n",
       "    </tr>\n",
       "  </tbody>\n",
       "</table>\n",
       "</div>"
      ],
      "text/plain": [
       "   Drug  Other  Property  Violent/Non-Sex  Violent/Sex\n",
       "0     1      0         0                0            0\n",
       "1     0      0         0                1            0\n",
       "2     1      0         0                0            0\n",
       "3     0      0         1                0            0\n",
       "4     0      0         0                1            0"
      ]
     },
     "execution_count": 50,
     "metadata": {},
     "output_type": "execute_result"
    }
   ],
   "source": [
    "offense_encoding.head()"
   ]
  },
  {
   "cell_type": "code",
   "execution_count": 51,
   "id": "3dac4cff",
   "metadata": {},
   "outputs": [],
   "source": [
    "offense_encoding.rename(columns={'Drug': 'Drug Offense', 'Other': 'Other Offense', 'Property': 'Property Offense', 'Violent/Non-Sex':'Violent/Non-Sex Offense', 'Violent/Sex':'Violent/Sex Offense'}, inplace=True)"
   ]
  },
  {
   "cell_type": "code",
   "execution_count": 52,
   "id": "6dd454f8",
   "metadata": {},
   "outputs": [
    {
     "data": {
      "text/html": [
       "<div>\n",
       "<style scoped>\n",
       "    .dataframe tbody tr th:only-of-type {\n",
       "        vertical-align: middle;\n",
       "    }\n",
       "\n",
       "    .dataframe tbody tr th {\n",
       "        vertical-align: top;\n",
       "    }\n",
       "\n",
       "    .dataframe thead th {\n",
       "        text-align: right;\n",
       "    }\n",
       "</style>\n",
       "<table border=\"1\" class=\"dataframe\">\n",
       "  <thead>\n",
       "    <tr style=\"text-align: right;\">\n",
       "      <th></th>\n",
       "      <th>Drug Offense</th>\n",
       "      <th>Other Offense</th>\n",
       "      <th>Property Offense</th>\n",
       "      <th>Violent/Non-Sex Offense</th>\n",
       "      <th>Violent/Sex Offense</th>\n",
       "    </tr>\n",
       "  </thead>\n",
       "  <tbody>\n",
       "    <tr>\n",
       "      <th>0</th>\n",
       "      <td>1</td>\n",
       "      <td>0</td>\n",
       "      <td>0</td>\n",
       "      <td>0</td>\n",
       "      <td>0</td>\n",
       "    </tr>\n",
       "    <tr>\n",
       "      <th>1</th>\n",
       "      <td>0</td>\n",
       "      <td>0</td>\n",
       "      <td>0</td>\n",
       "      <td>1</td>\n",
       "      <td>0</td>\n",
       "    </tr>\n",
       "    <tr>\n",
       "      <th>2</th>\n",
       "      <td>1</td>\n",
       "      <td>0</td>\n",
       "      <td>0</td>\n",
       "      <td>0</td>\n",
       "      <td>0</td>\n",
       "    </tr>\n",
       "    <tr>\n",
       "      <th>3</th>\n",
       "      <td>0</td>\n",
       "      <td>0</td>\n",
       "      <td>1</td>\n",
       "      <td>0</td>\n",
       "      <td>0</td>\n",
       "    </tr>\n",
       "    <tr>\n",
       "      <th>4</th>\n",
       "      <td>0</td>\n",
       "      <td>0</td>\n",
       "      <td>0</td>\n",
       "      <td>1</td>\n",
       "      <td>0</td>\n",
       "    </tr>\n",
       "  </tbody>\n",
       "</table>\n",
       "</div>"
      ],
      "text/plain": [
       "   Drug Offense  Other Offense  Property Offense  Violent/Non-Sex Offense  \\\n",
       "0             1              0                 0                        0   \n",
       "1             0              0                 0                        1   \n",
       "2             1              0                 0                        0   \n",
       "3             0              0                 1                        0   \n",
       "4             0              0                 0                        1   \n",
       "\n",
       "   Violent/Sex Offense  \n",
       "0                    0  \n",
       "1                    0  \n",
       "2                    0  \n",
       "3                    0  \n",
       "4                    0  "
      ]
     },
     "execution_count": 52,
     "metadata": {},
     "output_type": "execute_result"
    }
   ],
   "source": [
    "offense_encoding.head()"
   ]
  },
  {
   "cell_type": "code",
   "execution_count": 53,
   "id": "9c47c48a",
   "metadata": {},
   "outputs": [],
   "source": [
    "rec_data = rec_data.drop('Prison_Offense', axis=1)"
   ]
  },
  {
   "cell_type": "code",
   "execution_count": 54,
   "id": "d90e78cd",
   "metadata": {},
   "outputs": [],
   "source": [
    "rec_data = rec_data.join(offense_encoding)"
   ]
  },
  {
   "cell_type": "code",
   "execution_count": 55,
   "id": "ea103f4f",
   "metadata": {},
   "outputs": [
    {
     "data": {
      "text/html": [
       "<div>\n",
       "<style scoped>\n",
       "    .dataframe tbody tr th:only-of-type {\n",
       "        vertical-align: middle;\n",
       "    }\n",
       "\n",
       "    .dataframe tbody tr th {\n",
       "        vertical-align: top;\n",
       "    }\n",
       "\n",
       "    .dataframe thead th {\n",
       "        text-align: right;\n",
       "    }\n",
       "</style>\n",
       "<table border=\"1\" class=\"dataframe\">\n",
       "  <thead>\n",
       "    <tr style=\"text-align: right;\">\n",
       "      <th></th>\n",
       "      <th>Age_at_Release</th>\n",
       "      <th>Residence_PUMA</th>\n",
       "      <th>Gang_Affiliated</th>\n",
       "      <th>Supervision_Risk_Score_First</th>\n",
       "      <th>Education_Level</th>\n",
       "      <th>Dependents</th>\n",
       "      <th>Prison_Years</th>\n",
       "      <th>Prior_Arrest_Episodes_Felony</th>\n",
       "      <th>Prior_Arrest_Episodes_Misd</th>\n",
       "      <th>Prior_Arrest_Episodes_Violent</th>\n",
       "      <th>...</th>\n",
       "      <th>Male</th>\n",
       "      <th>WHITE</th>\n",
       "      <th>High Supervision</th>\n",
       "      <th>Specialized Supervision</th>\n",
       "      <th>Standard Supervision</th>\n",
       "      <th>Drug Offense</th>\n",
       "      <th>Other Offense</th>\n",
       "      <th>Property Offense</th>\n",
       "      <th>Violent/Non-Sex Offense</th>\n",
       "      <th>Violent/Sex Offense</th>\n",
       "    </tr>\n",
       "  </thead>\n",
       "  <tbody>\n",
       "    <tr>\n",
       "      <th>0</th>\n",
       "      <td>45</td>\n",
       "      <td>16</td>\n",
       "      <td>0.0</td>\n",
       "      <td>3.0</td>\n",
       "      <td>2</td>\n",
       "      <td>3</td>\n",
       "      <td>More than 3 years</td>\n",
       "      <td>6</td>\n",
       "      <td>6 or more</td>\n",
       "      <td>1</td>\n",
       "      <td>...</td>\n",
       "      <td>1</td>\n",
       "      <td>0</td>\n",
       "      <td>0</td>\n",
       "      <td>0</td>\n",
       "      <td>1</td>\n",
       "      <td>1</td>\n",
       "      <td>0</td>\n",
       "      <td>0</td>\n",
       "      <td>0</td>\n",
       "      <td>0</td>\n",
       "    </tr>\n",
       "    <tr>\n",
       "      <th>1</th>\n",
       "      <td>35</td>\n",
       "      <td>16</td>\n",
       "      <td>0.0</td>\n",
       "      <td>6.0</td>\n",
       "      <td>0</td>\n",
       "      <td>1</td>\n",
       "      <td>More than 3 years</td>\n",
       "      <td>7</td>\n",
       "      <td>6 or more</td>\n",
       "      <td>3 or more</td>\n",
       "      <td>...</td>\n",
       "      <td>1</td>\n",
       "      <td>0</td>\n",
       "      <td>0</td>\n",
       "      <td>1</td>\n",
       "      <td>0</td>\n",
       "      <td>0</td>\n",
       "      <td>0</td>\n",
       "      <td>0</td>\n",
       "      <td>1</td>\n",
       "      <td>0</td>\n",
       "    </tr>\n",
       "    <tr>\n",
       "      <th>2</th>\n",
       "      <td>50</td>\n",
       "      <td>24</td>\n",
       "      <td>0.0</td>\n",
       "      <td>7.0</td>\n",
       "      <td>2</td>\n",
       "      <td>3</td>\n",
       "      <td>1-2 years</td>\n",
       "      <td>6</td>\n",
       "      <td>6 or more</td>\n",
       "      <td>3 or more</td>\n",
       "      <td>...</td>\n",
       "      <td>1</td>\n",
       "      <td>0</td>\n",
       "      <td>1</td>\n",
       "      <td>0</td>\n",
       "      <td>0</td>\n",
       "      <td>1</td>\n",
       "      <td>0</td>\n",
       "      <td>0</td>\n",
       "      <td>0</td>\n",
       "      <td>0</td>\n",
       "    </tr>\n",
       "    <tr>\n",
       "      <th>3</th>\n",
       "      <td>40</td>\n",
       "      <td>16</td>\n",
       "      <td>0.0</td>\n",
       "      <td>7.0</td>\n",
       "      <td>0</td>\n",
       "      <td>1</td>\n",
       "      <td>1-2 years</td>\n",
       "      <td>8</td>\n",
       "      <td>6 or more</td>\n",
       "      <td>0</td>\n",
       "      <td>...</td>\n",
       "      <td>1</td>\n",
       "      <td>1</td>\n",
       "      <td>1</td>\n",
       "      <td>0</td>\n",
       "      <td>0</td>\n",
       "      <td>0</td>\n",
       "      <td>0</td>\n",
       "      <td>1</td>\n",
       "      <td>0</td>\n",
       "      <td>0</td>\n",
       "    </tr>\n",
       "    <tr>\n",
       "      <th>4</th>\n",
       "      <td>35</td>\n",
       "      <td>16</td>\n",
       "      <td>0.0</td>\n",
       "      <td>4.0</td>\n",
       "      <td>0</td>\n",
       "      <td>3</td>\n",
       "      <td>1-2 years</td>\n",
       "      <td>4</td>\n",
       "      <td>4</td>\n",
       "      <td>3 or more</td>\n",
       "      <td>...</td>\n",
       "      <td>1</td>\n",
       "      <td>1</td>\n",
       "      <td>0</td>\n",
       "      <td>1</td>\n",
       "      <td>0</td>\n",
       "      <td>0</td>\n",
       "      <td>0</td>\n",
       "      <td>0</td>\n",
       "      <td>1</td>\n",
       "      <td>0</td>\n",
       "    </tr>\n",
       "  </tbody>\n",
       "</table>\n",
       "<p>5 rows × 59 columns</p>\n",
       "</div>"
      ],
      "text/plain": [
       "   Age_at_Release  Residence_PUMA  Gang_Affiliated  \\\n",
       "0              45              16              0.0   \n",
       "1              35              16              0.0   \n",
       "2              50              24              0.0   \n",
       "3              40              16              0.0   \n",
       "4              35              16              0.0   \n",
       "\n",
       "   Supervision_Risk_Score_First  Education_Level  Dependents  \\\n",
       "0                           3.0                2           3   \n",
       "1                           6.0                0           1   \n",
       "2                           7.0                2           3   \n",
       "3                           7.0                0           1   \n",
       "4                           4.0                0           3   \n",
       "\n",
       "        Prison_Years Prior_Arrest_Episodes_Felony Prior_Arrest_Episodes_Misd  \\\n",
       "0  More than 3 years                            6                  6 or more   \n",
       "1  More than 3 years                            7                  6 or more   \n",
       "2          1-2 years                            6                  6 or more   \n",
       "3          1-2 years                            8                  6 or more   \n",
       "4          1-2 years                            4                          4   \n",
       "\n",
       "  Prior_Arrest_Episodes_Violent  ... Male WHITE High Supervision  \\\n",
       "0                             1  ...    1     0                0   \n",
       "1                     3 or more  ...    1     0                0   \n",
       "2                     3 or more  ...    1     0                1   \n",
       "3                             0  ...    1     1                1   \n",
       "4                     3 or more  ...    1     1                0   \n",
       "\n",
       "   Specialized Supervision  Standard Supervision Drug Offense Other Offense  \\\n",
       "0                        0                     1            1             0   \n",
       "1                        1                     0            0             0   \n",
       "2                        0                     0            1             0   \n",
       "3                        0                     0            0             0   \n",
       "4                        1                     0            0             0   \n",
       "\n",
       "   Property Offense Violent/Non-Sex Offense Violent/Sex Offense  \n",
       "0                 0                       0                   0  \n",
       "1                 0                       1                   0  \n",
       "2                 0                       0                   0  \n",
       "3                 1                       0                   0  \n",
       "4                 0                       1                   0  \n",
       "\n",
       "[5 rows x 59 columns]"
      ]
     },
     "execution_count": 55,
     "metadata": {},
     "output_type": "execute_result"
    }
   ],
   "source": [
    "rec_data.head()"
   ]
  },
  {
   "cell_type": "code",
   "execution_count": 56,
   "id": "4a7e08a9",
   "metadata": {},
   "outputs": [
    {
     "data": {
      "text/plain": [
       "array(['More than 3 years', '1-2 years', 'Less than 1 year',\n",
       "       'Greater than 2 to 3 years'], dtype=object)"
      ]
     },
     "execution_count": 56,
     "metadata": {},
     "output_type": "execute_result"
    }
   ],
   "source": [
    "rec_data['Prison_Years'].unique()"
   ]
  },
  {
   "cell_type": "code",
   "execution_count": 57,
   "id": "690f9df4",
   "metadata": {},
   "outputs": [],
   "source": [
    "years_encoding = pd.get_dummies(rec_data['Prison_Years'])"
   ]
  },
  {
   "cell_type": "code",
   "execution_count": 58,
   "id": "ff302456",
   "metadata": {},
   "outputs": [
    {
     "data": {
      "text/html": [
       "<div>\n",
       "<style scoped>\n",
       "    .dataframe tbody tr th:only-of-type {\n",
       "        vertical-align: middle;\n",
       "    }\n",
       "\n",
       "    .dataframe tbody tr th {\n",
       "        vertical-align: top;\n",
       "    }\n",
       "\n",
       "    .dataframe thead th {\n",
       "        text-align: right;\n",
       "    }\n",
       "</style>\n",
       "<table border=\"1\" class=\"dataframe\">\n",
       "  <thead>\n",
       "    <tr style=\"text-align: right;\">\n",
       "      <th></th>\n",
       "      <th>1-2 years</th>\n",
       "      <th>Greater than 2 to 3 years</th>\n",
       "      <th>Less than 1 year</th>\n",
       "      <th>More than 3 years</th>\n",
       "    </tr>\n",
       "  </thead>\n",
       "  <tbody>\n",
       "    <tr>\n",
       "      <th>0</th>\n",
       "      <td>0</td>\n",
       "      <td>0</td>\n",
       "      <td>0</td>\n",
       "      <td>1</td>\n",
       "    </tr>\n",
       "    <tr>\n",
       "      <th>1</th>\n",
       "      <td>0</td>\n",
       "      <td>0</td>\n",
       "      <td>0</td>\n",
       "      <td>1</td>\n",
       "    </tr>\n",
       "    <tr>\n",
       "      <th>2</th>\n",
       "      <td>1</td>\n",
       "      <td>0</td>\n",
       "      <td>0</td>\n",
       "      <td>0</td>\n",
       "    </tr>\n",
       "    <tr>\n",
       "      <th>3</th>\n",
       "      <td>1</td>\n",
       "      <td>0</td>\n",
       "      <td>0</td>\n",
       "      <td>0</td>\n",
       "    </tr>\n",
       "    <tr>\n",
       "      <th>4</th>\n",
       "      <td>1</td>\n",
       "      <td>0</td>\n",
       "      <td>0</td>\n",
       "      <td>0</td>\n",
       "    </tr>\n",
       "  </tbody>\n",
       "</table>\n",
       "</div>"
      ],
      "text/plain": [
       "   1-2 years  Greater than 2 to 3 years  Less than 1 year  More than 3 years\n",
       "0          0                          0                 0                  1\n",
       "1          0                          0                 0                  1\n",
       "2          1                          0                 0                  0\n",
       "3          1                          0                 0                  0\n",
       "4          1                          0                 0                  0"
      ]
     },
     "execution_count": 58,
     "metadata": {},
     "output_type": "execute_result"
    }
   ],
   "source": [
    "years_encoding.head()"
   ]
  },
  {
   "cell_type": "code",
   "execution_count": 59,
   "id": "a54ee9ab",
   "metadata": {},
   "outputs": [],
   "source": [
    "years_encoding.rename(columns={'1-2 years': '1-2 years in prison', 'Greater than 2 to 3 years': '2-3+ years in prison',\n",
    "                              'Less than 1 year': '1- years in prison', 'More than 3 years': '3+ years in prison'}, inplace=True)"
   ]
  },
  {
   "cell_type": "code",
   "execution_count": 60,
   "id": "5fd50385",
   "metadata": {},
   "outputs": [
    {
     "data": {
      "text/html": [
       "<div>\n",
       "<style scoped>\n",
       "    .dataframe tbody tr th:only-of-type {\n",
       "        vertical-align: middle;\n",
       "    }\n",
       "\n",
       "    .dataframe tbody tr th {\n",
       "        vertical-align: top;\n",
       "    }\n",
       "\n",
       "    .dataframe thead th {\n",
       "        text-align: right;\n",
       "    }\n",
       "</style>\n",
       "<table border=\"1\" class=\"dataframe\">\n",
       "  <thead>\n",
       "    <tr style=\"text-align: right;\">\n",
       "      <th></th>\n",
       "      <th>1-2 years in prison</th>\n",
       "      <th>2-3+ years in prison</th>\n",
       "      <th>1- years in prison</th>\n",
       "      <th>3+ years in prison</th>\n",
       "    </tr>\n",
       "  </thead>\n",
       "  <tbody>\n",
       "    <tr>\n",
       "      <th>0</th>\n",
       "      <td>0</td>\n",
       "      <td>0</td>\n",
       "      <td>0</td>\n",
       "      <td>1</td>\n",
       "    </tr>\n",
       "    <tr>\n",
       "      <th>1</th>\n",
       "      <td>0</td>\n",
       "      <td>0</td>\n",
       "      <td>0</td>\n",
       "      <td>1</td>\n",
       "    </tr>\n",
       "    <tr>\n",
       "      <th>2</th>\n",
       "      <td>1</td>\n",
       "      <td>0</td>\n",
       "      <td>0</td>\n",
       "      <td>0</td>\n",
       "    </tr>\n",
       "    <tr>\n",
       "      <th>3</th>\n",
       "      <td>1</td>\n",
       "      <td>0</td>\n",
       "      <td>0</td>\n",
       "      <td>0</td>\n",
       "    </tr>\n",
       "    <tr>\n",
       "      <th>4</th>\n",
       "      <td>1</td>\n",
       "      <td>0</td>\n",
       "      <td>0</td>\n",
       "      <td>0</td>\n",
       "    </tr>\n",
       "  </tbody>\n",
       "</table>\n",
       "</div>"
      ],
      "text/plain": [
       "   1-2 years in prison  2-3+ years in prison  1- years in prison  \\\n",
       "0                    0                     0                   0   \n",
       "1                    0                     0                   0   \n",
       "2                    1                     0                   0   \n",
       "3                    1                     0                   0   \n",
       "4                    1                     0                   0   \n",
       "\n",
       "   3+ years in prison  \n",
       "0                   1  \n",
       "1                   1  \n",
       "2                   0  \n",
       "3                   0  \n",
       "4                   0  "
      ]
     },
     "execution_count": 60,
     "metadata": {},
     "output_type": "execute_result"
    }
   ],
   "source": [
    "years_encoding.head()"
   ]
  },
  {
   "cell_type": "code",
   "execution_count": 61,
   "id": "77eec6f4",
   "metadata": {},
   "outputs": [],
   "source": [
    "rec_data = rec_data.drop('Prison_Years', axis=1)"
   ]
  },
  {
   "cell_type": "code",
   "execution_count": 62,
   "id": "1cc72ace",
   "metadata": {},
   "outputs": [],
   "source": [
    "rec_data = rec_data.join(years_encoding)"
   ]
  },
  {
   "cell_type": "code",
   "execution_count": 63,
   "id": "4a855974",
   "metadata": {},
   "outputs": [
    {
     "data": {
      "text/html": [
       "<div>\n",
       "<style scoped>\n",
       "    .dataframe tbody tr th:only-of-type {\n",
       "        vertical-align: middle;\n",
       "    }\n",
       "\n",
       "    .dataframe tbody tr th {\n",
       "        vertical-align: top;\n",
       "    }\n",
       "\n",
       "    .dataframe thead th {\n",
       "        text-align: right;\n",
       "    }\n",
       "</style>\n",
       "<table border=\"1\" class=\"dataframe\">\n",
       "  <thead>\n",
       "    <tr style=\"text-align: right;\">\n",
       "      <th></th>\n",
       "      <th>Age_at_Release</th>\n",
       "      <th>Residence_PUMA</th>\n",
       "      <th>Gang_Affiliated</th>\n",
       "      <th>Supervision_Risk_Score_First</th>\n",
       "      <th>Education_Level</th>\n",
       "      <th>Dependents</th>\n",
       "      <th>Prior_Arrest_Episodes_Felony</th>\n",
       "      <th>Prior_Arrest_Episodes_Misd</th>\n",
       "      <th>Prior_Arrest_Episodes_Violent</th>\n",
       "      <th>Prior_Arrest_Episodes_Property</th>\n",
       "      <th>...</th>\n",
       "      <th>Standard Supervision</th>\n",
       "      <th>Drug Offense</th>\n",
       "      <th>Other Offense</th>\n",
       "      <th>Property Offense</th>\n",
       "      <th>Violent/Non-Sex Offense</th>\n",
       "      <th>Violent/Sex Offense</th>\n",
       "      <th>1-2 years in prison</th>\n",
       "      <th>2-3+ years in prison</th>\n",
       "      <th>1- years in prison</th>\n",
       "      <th>3+ years in prison</th>\n",
       "    </tr>\n",
       "  </thead>\n",
       "  <tbody>\n",
       "    <tr>\n",
       "      <th>0</th>\n",
       "      <td>45</td>\n",
       "      <td>16</td>\n",
       "      <td>0.0</td>\n",
       "      <td>3.0</td>\n",
       "      <td>2</td>\n",
       "      <td>3</td>\n",
       "      <td>6</td>\n",
       "      <td>6 or more</td>\n",
       "      <td>1</td>\n",
       "      <td>3</td>\n",
       "      <td>...</td>\n",
       "      <td>1</td>\n",
       "      <td>1</td>\n",
       "      <td>0</td>\n",
       "      <td>0</td>\n",
       "      <td>0</td>\n",
       "      <td>0</td>\n",
       "      <td>0</td>\n",
       "      <td>0</td>\n",
       "      <td>0</td>\n",
       "      <td>1</td>\n",
       "    </tr>\n",
       "    <tr>\n",
       "      <th>1</th>\n",
       "      <td>35</td>\n",
       "      <td>16</td>\n",
       "      <td>0.0</td>\n",
       "      <td>6.0</td>\n",
       "      <td>0</td>\n",
       "      <td>1</td>\n",
       "      <td>7</td>\n",
       "      <td>6 or more</td>\n",
       "      <td>3 or more</td>\n",
       "      <td>0</td>\n",
       "      <td>...</td>\n",
       "      <td>0</td>\n",
       "      <td>0</td>\n",
       "      <td>0</td>\n",
       "      <td>0</td>\n",
       "      <td>1</td>\n",
       "      <td>0</td>\n",
       "      <td>0</td>\n",
       "      <td>0</td>\n",
       "      <td>0</td>\n",
       "      <td>1</td>\n",
       "    </tr>\n",
       "    <tr>\n",
       "      <th>2</th>\n",
       "      <td>50</td>\n",
       "      <td>24</td>\n",
       "      <td>0.0</td>\n",
       "      <td>7.0</td>\n",
       "      <td>2</td>\n",
       "      <td>3</td>\n",
       "      <td>6</td>\n",
       "      <td>6 or more</td>\n",
       "      <td>3 or more</td>\n",
       "      <td>2</td>\n",
       "      <td>...</td>\n",
       "      <td>0</td>\n",
       "      <td>1</td>\n",
       "      <td>0</td>\n",
       "      <td>0</td>\n",
       "      <td>0</td>\n",
       "      <td>0</td>\n",
       "      <td>1</td>\n",
       "      <td>0</td>\n",
       "      <td>0</td>\n",
       "      <td>0</td>\n",
       "    </tr>\n",
       "    <tr>\n",
       "      <th>3</th>\n",
       "      <td>40</td>\n",
       "      <td>16</td>\n",
       "      <td>0.0</td>\n",
       "      <td>7.0</td>\n",
       "      <td>0</td>\n",
       "      <td>1</td>\n",
       "      <td>8</td>\n",
       "      <td>6 or more</td>\n",
       "      <td>0</td>\n",
       "      <td>3</td>\n",
       "      <td>...</td>\n",
       "      <td>0</td>\n",
       "      <td>0</td>\n",
       "      <td>0</td>\n",
       "      <td>1</td>\n",
       "      <td>0</td>\n",
       "      <td>0</td>\n",
       "      <td>1</td>\n",
       "      <td>0</td>\n",
       "      <td>0</td>\n",
       "      <td>0</td>\n",
       "    </tr>\n",
       "    <tr>\n",
       "      <th>4</th>\n",
       "      <td>35</td>\n",
       "      <td>16</td>\n",
       "      <td>0.0</td>\n",
       "      <td>4.0</td>\n",
       "      <td>0</td>\n",
       "      <td>3</td>\n",
       "      <td>4</td>\n",
       "      <td>4</td>\n",
       "      <td>3 or more</td>\n",
       "      <td>2</td>\n",
       "      <td>...</td>\n",
       "      <td>0</td>\n",
       "      <td>0</td>\n",
       "      <td>0</td>\n",
       "      <td>0</td>\n",
       "      <td>1</td>\n",
       "      <td>0</td>\n",
       "      <td>1</td>\n",
       "      <td>0</td>\n",
       "      <td>0</td>\n",
       "      <td>0</td>\n",
       "    </tr>\n",
       "  </tbody>\n",
       "</table>\n",
       "<p>5 rows × 62 columns</p>\n",
       "</div>"
      ],
      "text/plain": [
       "   Age_at_Release  Residence_PUMA  Gang_Affiliated  \\\n",
       "0              45              16              0.0   \n",
       "1              35              16              0.0   \n",
       "2              50              24              0.0   \n",
       "3              40              16              0.0   \n",
       "4              35              16              0.0   \n",
       "\n",
       "   Supervision_Risk_Score_First  Education_Level  Dependents  \\\n",
       "0                           3.0                2           3   \n",
       "1                           6.0                0           1   \n",
       "2                           7.0                2           3   \n",
       "3                           7.0                0           1   \n",
       "4                           4.0                0           3   \n",
       "\n",
       "  Prior_Arrest_Episodes_Felony Prior_Arrest_Episodes_Misd  \\\n",
       "0                            6                  6 or more   \n",
       "1                            7                  6 or more   \n",
       "2                            6                  6 or more   \n",
       "3                            8                  6 or more   \n",
       "4                            4                          4   \n",
       "\n",
       "  Prior_Arrest_Episodes_Violent Prior_Arrest_Episodes_Property  ...  \\\n",
       "0                             1                              3  ...   \n",
       "1                     3 or more                              0  ...   \n",
       "2                     3 or more                              2  ...   \n",
       "3                             0                              3  ...   \n",
       "4                     3 or more                              2  ...   \n",
       "\n",
       "  Standard Supervision Drug Offense  Other Offense  Property Offense  \\\n",
       "0                    1            1              0                 0   \n",
       "1                    0            0              0                 0   \n",
       "2                    0            1              0                 0   \n",
       "3                    0            0              0                 1   \n",
       "4                    0            0              0                 0   \n",
       "\n",
       "  Violent/Non-Sex Offense Violent/Sex Offense  1-2 years in prison  \\\n",
       "0                       0                   0                    0   \n",
       "1                       1                   0                    0   \n",
       "2                       0                   0                    1   \n",
       "3                       0                   0                    1   \n",
       "4                       1                   0                    1   \n",
       "\n",
       "  2-3+ years in prison 1- years in prison  3+ years in prison  \n",
       "0                    0                  0                   1  \n",
       "1                    0                  0                   1  \n",
       "2                    0                  0                   0  \n",
       "3                    0                  0                   0  \n",
       "4                    0                  0                   0  \n",
       "\n",
       "[5 rows x 62 columns]"
      ]
     },
     "execution_count": 63,
     "metadata": {},
     "output_type": "execute_result"
    }
   ],
   "source": [
    "rec_data.head()"
   ]
  },
  {
   "cell_type": "code",
   "execution_count": 64,
   "id": "ca687eb3",
   "metadata": {},
   "outputs": [
    {
     "data": {
      "text/plain": [
       "Index(['Age_at_Release', 'Residence_PUMA', 'Gang_Affiliated',\n",
       "       'Supervision_Risk_Score_First', 'Education_Level', 'Dependents',\n",
       "       'Prior_Arrest_Episodes_Felony', 'Prior_Arrest_Episodes_Misd',\n",
       "       'Prior_Arrest_Episodes_Violent', 'Prior_Arrest_Episodes_Property',\n",
       "       'Prior_Arrest_Episodes_Drug',\n",
       "       'Prior_Arrest_Episodes_PPViolationCharges',\n",
       "       'Prior_Arrest_Episodes_DVCharges', 'Prior_Arrest_Episodes_GunCharges',\n",
       "       'Prior_Conviction_Episodes_Felony', 'Prior_Conviction_Episodes_Misd',\n",
       "       'Prior_Conviction_Episodes_Viol', 'Prior_Conviction_Episodes_Prop',\n",
       "       'Prior_Conviction_Episodes_Drug',\n",
       "       'Prior_Conviction_Episodes_PPViolationCharges',\n",
       "       'Prior_Conviction_Episodes_DomesticViolenceCharges',\n",
       "       'Prior_Conviction_Episodes_GunCharges', 'Prior_Revocations_Parole',\n",
       "       'Prior_Revocations_Probation', 'Condition_MH_SA', 'Condition_Cog_Ed',\n",
       "       'Condition_Other', 'Violations_ElectronicMonitoring',\n",
       "       'Violations_Instruction', 'Violations_FailToReport',\n",
       "       'Violations_MoveWithoutPermission', 'Delinquency_Reports',\n",
       "       'Program_Attendances', 'Program_UnexcusedAbsences', 'Residence_Changes',\n",
       "       'Avg_Days_per_DrugTest', 'DrugTests_THC_Positive',\n",
       "       'DrugTests_Cocaine_Positive', 'DrugTests_Meth_Positive',\n",
       "       'DrugTests_Other_Positive', 'Percent_Days_Employed', 'Jobs_Per_Year',\n",
       "       'Employment_Exempt', 'Recidivism_Within_3years',\n",
       "       'Recidivism_Arrest_Year1', 'Recidivism_Arrest_Year2',\n",
       "       'Recidivism_Arrest_Year3', 'Training_Sample', 'Male', 'WHITE',\n",
       "       'High Supervision', 'Specialized Supervision', 'Standard Supervision',\n",
       "       'Drug Offense', 'Other Offense', 'Property Offense',\n",
       "       'Violent/Non-Sex Offense', 'Violent/Sex Offense', '1-2 years in prison',\n",
       "       '2-3+ years in prison', '1- years in prison', '3+ years in prison'],\n",
       "      dtype='object')"
      ]
     },
     "execution_count": 64,
     "metadata": {},
     "output_type": "execute_result"
    }
   ],
   "source": [
    "rec_data.columns"
   ]
  },
  {
   "cell_type": "code",
   "execution_count": 65,
   "id": "b05f61dc",
   "metadata": {},
   "outputs": [
    {
     "data": {
      "text/plain": [
       "array(['6', '7', '8', '4', '10 or more', '3', '9', '2', '5', '1', '0'],\n",
       "      dtype=object)"
      ]
     },
     "execution_count": 65,
     "metadata": {},
     "output_type": "execute_result"
    }
   ],
   "source": [
    "rec_data['Prior_Arrest_Episodes_Felony'].unique()"
   ]
  },
  {
   "cell_type": "code",
   "execution_count": 66,
   "id": "cefe39df",
   "metadata": {},
   "outputs": [
    {
     "data": {
      "text/plain": [
       "array([45, 35, 50, 40, 20, 25, 30], dtype=int64)"
      ]
     },
     "execution_count": 66,
     "metadata": {},
     "output_type": "execute_result"
    }
   ],
   "source": [
    "rec_data['Age_at_Release'].unique()"
   ]
  },
  {
   "cell_type": "code",
   "execution_count": 67,
   "id": "18e506aa",
   "metadata": {},
   "outputs": [],
   "source": [
    "rec_data['Age_at_Release'] = rec_data['Age_at_Release'].astype('int')"
   ]
  },
  {
   "cell_type": "code",
   "execution_count": 68,
   "id": "01aa29f0",
   "metadata": {},
   "outputs": [],
   "source": [
    "rec_data['Education_Level'] = rec_data['Education_Level'].astype('int')"
   ]
  },
  {
   "cell_type": "code",
   "execution_count": 69,
   "id": "0c0aae58",
   "metadata": {},
   "outputs": [],
   "source": [
    "rec_data['Dependents'] = rec_data['Dependents'].astype('int')"
   ]
  },
  {
   "cell_type": "code",
   "execution_count": 70,
   "id": "ccdb82fb",
   "metadata": {},
   "outputs": [],
   "source": [
    "rec_data['Prior_Arrest_Episodes_Felony'] = rec_data['Prior_Arrest_Episodes_Felony'].replace(['10 or more', 10])"
   ]
  },
  {
   "cell_type": "code",
   "execution_count": 71,
   "id": "b8e5d252",
   "metadata": {},
   "outputs": [],
   "source": [
    "rec_data['Prior_Arrest_Episodes_Felony'] = rec_data['Prior_Arrest_Episodes_Felony'].astype(int)"
   ]
  },
  {
   "cell_type": "code",
   "execution_count": 72,
   "id": "a55912bd",
   "metadata": {},
   "outputs": [],
   "source": [
    "rec_data['Prior_Arrest_Episodes_Misd'] = rec_data['Prior_Arrest_Episodes_Misd'].replace(['6 or more'], 6)"
   ]
  },
  {
   "cell_type": "code",
   "execution_count": 73,
   "id": "96e82a24",
   "metadata": {},
   "outputs": [
    {
     "data": {
      "text/html": [
       "<div>\n",
       "<style scoped>\n",
       "    .dataframe tbody tr th:only-of-type {\n",
       "        vertical-align: middle;\n",
       "    }\n",
       "\n",
       "    .dataframe tbody tr th {\n",
       "        vertical-align: top;\n",
       "    }\n",
       "\n",
       "    .dataframe thead th {\n",
       "        text-align: right;\n",
       "    }\n",
       "</style>\n",
       "<table border=\"1\" class=\"dataframe\">\n",
       "  <thead>\n",
       "    <tr style=\"text-align: right;\">\n",
       "      <th></th>\n",
       "      <th>Age_at_Release</th>\n",
       "      <th>Residence_PUMA</th>\n",
       "      <th>Gang_Affiliated</th>\n",
       "      <th>Supervision_Risk_Score_First</th>\n",
       "      <th>Education_Level</th>\n",
       "      <th>Dependents</th>\n",
       "      <th>Prior_Arrest_Episodes_Felony</th>\n",
       "      <th>Prior_Arrest_Episodes_Misd</th>\n",
       "      <th>Prior_Arrest_Episodes_Violent</th>\n",
       "      <th>Prior_Arrest_Episodes_Property</th>\n",
       "      <th>...</th>\n",
       "      <th>Standard Supervision</th>\n",
       "      <th>Drug Offense</th>\n",
       "      <th>Other Offense</th>\n",
       "      <th>Property Offense</th>\n",
       "      <th>Violent/Non-Sex Offense</th>\n",
       "      <th>Violent/Sex Offense</th>\n",
       "      <th>1-2 years in prison</th>\n",
       "      <th>2-3+ years in prison</th>\n",
       "      <th>1- years in prison</th>\n",
       "      <th>3+ years in prison</th>\n",
       "    </tr>\n",
       "  </thead>\n",
       "  <tbody>\n",
       "    <tr>\n",
       "      <th>0</th>\n",
       "      <td>45</td>\n",
       "      <td>16</td>\n",
       "      <td>0.0</td>\n",
       "      <td>3.0</td>\n",
       "      <td>2</td>\n",
       "      <td>3</td>\n",
       "      <td>6</td>\n",
       "      <td>6</td>\n",
       "      <td>1</td>\n",
       "      <td>3</td>\n",
       "      <td>...</td>\n",
       "      <td>1</td>\n",
       "      <td>1</td>\n",
       "      <td>0</td>\n",
       "      <td>0</td>\n",
       "      <td>0</td>\n",
       "      <td>0</td>\n",
       "      <td>0</td>\n",
       "      <td>0</td>\n",
       "      <td>0</td>\n",
       "      <td>1</td>\n",
       "    </tr>\n",
       "    <tr>\n",
       "      <th>1</th>\n",
       "      <td>35</td>\n",
       "      <td>16</td>\n",
       "      <td>0.0</td>\n",
       "      <td>6.0</td>\n",
       "      <td>0</td>\n",
       "      <td>1</td>\n",
       "      <td>7</td>\n",
       "      <td>6</td>\n",
       "      <td>3 or more</td>\n",
       "      <td>0</td>\n",
       "      <td>...</td>\n",
       "      <td>0</td>\n",
       "      <td>0</td>\n",
       "      <td>0</td>\n",
       "      <td>0</td>\n",
       "      <td>1</td>\n",
       "      <td>0</td>\n",
       "      <td>0</td>\n",
       "      <td>0</td>\n",
       "      <td>0</td>\n",
       "      <td>1</td>\n",
       "    </tr>\n",
       "    <tr>\n",
       "      <th>2</th>\n",
       "      <td>50</td>\n",
       "      <td>24</td>\n",
       "      <td>0.0</td>\n",
       "      <td>7.0</td>\n",
       "      <td>2</td>\n",
       "      <td>3</td>\n",
       "      <td>6</td>\n",
       "      <td>6</td>\n",
       "      <td>3 or more</td>\n",
       "      <td>2</td>\n",
       "      <td>...</td>\n",
       "      <td>0</td>\n",
       "      <td>1</td>\n",
       "      <td>0</td>\n",
       "      <td>0</td>\n",
       "      <td>0</td>\n",
       "      <td>0</td>\n",
       "      <td>1</td>\n",
       "      <td>0</td>\n",
       "      <td>0</td>\n",
       "      <td>0</td>\n",
       "    </tr>\n",
       "    <tr>\n",
       "      <th>3</th>\n",
       "      <td>40</td>\n",
       "      <td>16</td>\n",
       "      <td>0.0</td>\n",
       "      <td>7.0</td>\n",
       "      <td>0</td>\n",
       "      <td>1</td>\n",
       "      <td>8</td>\n",
       "      <td>6</td>\n",
       "      <td>0</td>\n",
       "      <td>3</td>\n",
       "      <td>...</td>\n",
       "      <td>0</td>\n",
       "      <td>0</td>\n",
       "      <td>0</td>\n",
       "      <td>1</td>\n",
       "      <td>0</td>\n",
       "      <td>0</td>\n",
       "      <td>1</td>\n",
       "      <td>0</td>\n",
       "      <td>0</td>\n",
       "      <td>0</td>\n",
       "    </tr>\n",
       "    <tr>\n",
       "      <th>4</th>\n",
       "      <td>35</td>\n",
       "      <td>16</td>\n",
       "      <td>0.0</td>\n",
       "      <td>4.0</td>\n",
       "      <td>0</td>\n",
       "      <td>3</td>\n",
       "      <td>4</td>\n",
       "      <td>4</td>\n",
       "      <td>3 or more</td>\n",
       "      <td>2</td>\n",
       "      <td>...</td>\n",
       "      <td>0</td>\n",
       "      <td>0</td>\n",
       "      <td>0</td>\n",
       "      <td>0</td>\n",
       "      <td>1</td>\n",
       "      <td>0</td>\n",
       "      <td>1</td>\n",
       "      <td>0</td>\n",
       "      <td>0</td>\n",
       "      <td>0</td>\n",
       "    </tr>\n",
       "  </tbody>\n",
       "</table>\n",
       "<p>5 rows × 62 columns</p>\n",
       "</div>"
      ],
      "text/plain": [
       "   Age_at_Release  Residence_PUMA  Gang_Affiliated  \\\n",
       "0              45              16              0.0   \n",
       "1              35              16              0.0   \n",
       "2              50              24              0.0   \n",
       "3              40              16              0.0   \n",
       "4              35              16              0.0   \n",
       "\n",
       "   Supervision_Risk_Score_First  Education_Level  Dependents  \\\n",
       "0                           3.0                2           3   \n",
       "1                           6.0                0           1   \n",
       "2                           7.0                2           3   \n",
       "3                           7.0                0           1   \n",
       "4                           4.0                0           3   \n",
       "\n",
       "   Prior_Arrest_Episodes_Felony Prior_Arrest_Episodes_Misd  \\\n",
       "0                             6                          6   \n",
       "1                             7                          6   \n",
       "2                             6                          6   \n",
       "3                             8                          6   \n",
       "4                             4                          4   \n",
       "\n",
       "  Prior_Arrest_Episodes_Violent Prior_Arrest_Episodes_Property  ...  \\\n",
       "0                             1                              3  ...   \n",
       "1                     3 or more                              0  ...   \n",
       "2                     3 or more                              2  ...   \n",
       "3                             0                              3  ...   \n",
       "4                     3 or more                              2  ...   \n",
       "\n",
       "  Standard Supervision Drug Offense  Other Offense  Property Offense  \\\n",
       "0                    1            1              0                 0   \n",
       "1                    0            0              0                 0   \n",
       "2                    0            1              0                 0   \n",
       "3                    0            0              0                 1   \n",
       "4                    0            0              0                 0   \n",
       "\n",
       "  Violent/Non-Sex Offense Violent/Sex Offense  1-2 years in prison  \\\n",
       "0                       0                   0                    0   \n",
       "1                       1                   0                    0   \n",
       "2                       0                   0                    1   \n",
       "3                       0                   0                    1   \n",
       "4                       1                   0                    1   \n",
       "\n",
       "  2-3+ years in prison 1- years in prison  3+ years in prison  \n",
       "0                    0                  0                   1  \n",
       "1                    0                  0                   1  \n",
       "2                    0                  0                   0  \n",
       "3                    0                  0                   0  \n",
       "4                    0                  0                   0  \n",
       "\n",
       "[5 rows x 62 columns]"
      ]
     },
     "execution_count": 73,
     "metadata": {},
     "output_type": "execute_result"
    }
   ],
   "source": [
    "rec_data.head()"
   ]
  },
  {
   "cell_type": "code",
   "execution_count": 74,
   "id": "b748f256",
   "metadata": {},
   "outputs": [],
   "source": [
    "rec_data['Prior_Arrest_Episodes_Misd'] = rec_data['Prior_Arrest_Episodes_Misd'].astype(int)"
   ]
  },
  {
   "cell_type": "code",
   "execution_count": 75,
   "id": "0e76357a",
   "metadata": {},
   "outputs": [
    {
     "data": {
      "text/plain": [
       "array(['1', '3 or more', '0', '2'], dtype=object)"
      ]
     },
     "execution_count": 75,
     "metadata": {},
     "output_type": "execute_result"
    }
   ],
   "source": [
    "rec_data['Prior_Arrest_Episodes_Violent'].unique()"
   ]
  },
  {
   "cell_type": "code",
   "execution_count": 76,
   "id": "8f2feee9",
   "metadata": {},
   "outputs": [],
   "source": [
    "rec_data['Prior_Arrest_Episodes_Violent'] = rec_data['Prior_Arrest_Episodes_Violent'].replace(['3 or more'], 3)"
   ]
  },
  {
   "cell_type": "code",
   "execution_count": 77,
   "id": "336cac29",
   "metadata": {},
   "outputs": [],
   "source": [
    "rec_data['Prior_Arrest_Episodes_Violent'] = rec_data['Prior_Arrest_Episodes_Violent'].astype(int)"
   ]
  },
  {
   "cell_type": "code",
   "execution_count": 78,
   "id": "d7369b03",
   "metadata": {},
   "outputs": [
    {
     "data": {
      "text/plain": [
       "array(['3', '0', '2', '5 or more', '1', '4'], dtype=object)"
      ]
     },
     "execution_count": 78,
     "metadata": {},
     "output_type": "execute_result"
    }
   ],
   "source": [
    "rec_data['Prior_Arrest_Episodes_Property'].unique()"
   ]
  },
  {
   "cell_type": "code",
   "execution_count": 79,
   "id": "b851b634",
   "metadata": {},
   "outputs": [],
   "source": [
    "rec_data['Prior_Arrest_Episodes_Property'] = rec_data['Prior_Arrest_Episodes_Property'].replace(['5 or more'], 5)"
   ]
  },
  {
   "cell_type": "code",
   "execution_count": 80,
   "id": "ab0d03f3",
   "metadata": {},
   "outputs": [
    {
     "data": {
      "text/plain": [
       "array(['3', '0', '2', 5, '1', '4'], dtype=object)"
      ]
     },
     "execution_count": 80,
     "metadata": {},
     "output_type": "execute_result"
    }
   ],
   "source": [
    "rec_data['Prior_Arrest_Episodes_Property'].unique()"
   ]
  },
  {
   "cell_type": "code",
   "execution_count": 81,
   "id": "1e03a3d1",
   "metadata": {},
   "outputs": [],
   "source": [
    "rec_data['Prior_Arrest_Episodes_Property'] = rec_data['Prior_Arrest_Episodes_Property'].astype(int)"
   ]
  },
  {
   "cell_type": "code",
   "execution_count": 82,
   "id": "918e166e",
   "metadata": {},
   "outputs": [
    {
     "data": {
      "text/plain": [
       "array(['3', '2', '1', '0', '5 or more', '4'], dtype=object)"
      ]
     },
     "execution_count": 82,
     "metadata": {},
     "output_type": "execute_result"
    }
   ],
   "source": [
    "rec_data['Prior_Arrest_Episodes_Drug'].unique()"
   ]
  },
  {
   "cell_type": "code",
   "execution_count": 83,
   "id": "4e37b871",
   "metadata": {},
   "outputs": [],
   "source": [
    "rec_data['Prior_Arrest_Episodes_Drug'] = rec_data['Prior_Arrest_Episodes_Drug'].replace(['5 or more'], 5)"
   ]
  },
  {
   "cell_type": "code",
   "execution_count": 84,
   "id": "ddd75500",
   "metadata": {},
   "outputs": [],
   "source": [
    "rec_data['Prior_Arrest_Episodes_Drug'] = rec_data['Prior_Arrest_Episodes_Drug'].astype(int)"
   ]
  },
  {
   "cell_type": "code",
   "execution_count": 85,
   "id": "9522bc52",
   "metadata": {},
   "outputs": [
    {
     "data": {
      "text/plain": [
       "array(['4', '5 or more', '3', '0', '1', '2'], dtype=object)"
      ]
     },
     "execution_count": 85,
     "metadata": {},
     "output_type": "execute_result"
    }
   ],
   "source": [
    "rec_data['Prior_Arrest_Episodes_PPViolationCharges'].unique()"
   ]
  },
  {
   "cell_type": "code",
   "execution_count": 86,
   "id": "208c289d",
   "metadata": {},
   "outputs": [],
   "source": [
    "rec_data['Prior_Arrest_Episodes_PPViolationCharges'] = rec_data['Prior_Arrest_Episodes_PPViolationCharges'].replace([\n",
    "    '5 or more'], [5])"
   ]
  },
  {
   "cell_type": "code",
   "execution_count": 87,
   "id": "550193ec",
   "metadata": {},
   "outputs": [],
   "source": [
    "rec_data['Prior_Arrest_Episodes_PPViolationCharges'] = rec_data['Prior_Arrest_Episodes_PPViolationCharges'].astype(int)"
   ]
  },
  {
   "cell_type": "code",
   "execution_count": 88,
   "id": "473952e1",
   "metadata": {
    "scrolled": true
   },
   "outputs": [
    {
     "name": "stdout",
     "output_type": "stream",
     "text": [
      "<class 'pandas.core.frame.DataFrame'>\n",
      "RangeIndex: 25835 entries, 0 to 25834\n",
      "Data columns (total 62 columns):\n",
      " #   Column                                             Non-Null Count  Dtype  \n",
      "---  ------                                             --------------  -----  \n",
      " 0   Age_at_Release                                     25835 non-null  int32  \n",
      " 1   Residence_PUMA                                     25835 non-null  int64  \n",
      " 2   Gang_Affiliated                                    22668 non-null  float64\n",
      " 3   Supervision_Risk_Score_First                       25360 non-null  float64\n",
      " 4   Education_Level                                    25835 non-null  int32  \n",
      " 5   Dependents                                         25835 non-null  int32  \n",
      " 6   Prior_Arrest_Episodes_Felony                       25835 non-null  int32  \n",
      " 7   Prior_Arrest_Episodes_Misd                         25835 non-null  int32  \n",
      " 8   Prior_Arrest_Episodes_Violent                      25835 non-null  int32  \n",
      " 9   Prior_Arrest_Episodes_Property                     25835 non-null  int32  \n",
      " 10  Prior_Arrest_Episodes_Drug                         25835 non-null  int32  \n",
      " 11  Prior_Arrest_Episodes_PPViolationCharges           25835 non-null  int32  \n",
      " 12  Prior_Arrest_Episodes_DVCharges                    25835 non-null  bool   \n",
      " 13  Prior_Arrest_Episodes_GunCharges                   25835 non-null  bool   \n",
      " 14  Prior_Conviction_Episodes_Felony                   25835 non-null  object \n",
      " 15  Prior_Conviction_Episodes_Misd                     25835 non-null  object \n",
      " 16  Prior_Conviction_Episodes_Viol                     25835 non-null  bool   \n",
      " 17  Prior_Conviction_Episodes_Prop                     25835 non-null  object \n",
      " 18  Prior_Conviction_Episodes_Drug                     25835 non-null  object \n",
      " 19  Prior_Conviction_Episodes_PPViolationCharges       25835 non-null  bool   \n",
      " 20  Prior_Conviction_Episodes_DomesticViolenceCharges  25835 non-null  bool   \n",
      " 21  Prior_Conviction_Episodes_GunCharges               25835 non-null  bool   \n",
      " 22  Prior_Revocations_Parole                           25835 non-null  bool   \n",
      " 23  Prior_Revocations_Probation                        25835 non-null  bool   \n",
      " 24  Condition_MH_SA                                    25835 non-null  bool   \n",
      " 25  Condition_Cog_Ed                                   25835 non-null  bool   \n",
      " 26  Condition_Other                                    25835 non-null  bool   \n",
      " 27  Violations_ElectronicMonitoring                    25835 non-null  bool   \n",
      " 28  Violations_Instruction                             25835 non-null  bool   \n",
      " 29  Violations_FailToReport                            25835 non-null  bool   \n",
      " 30  Violations_MoveWithoutPermission                   25835 non-null  bool   \n",
      " 31  Delinquency_Reports                                25835 non-null  object \n",
      " 32  Program_Attendances                                25835 non-null  object \n",
      " 33  Program_UnexcusedAbsences                          25835 non-null  object \n",
      " 34  Residence_Changes                                  25835 non-null  object \n",
      " 35  Avg_Days_per_DrugTest                              19732 non-null  float64\n",
      " 36  DrugTests_THC_Positive                             20663 non-null  float64\n",
      " 37  DrugTests_Cocaine_Positive                         20663 non-null  float64\n",
      " 38  DrugTests_Meth_Positive                            20663 non-null  float64\n",
      " 39  DrugTests_Other_Positive                           20663 non-null  float64\n",
      " 40  Percent_Days_Employed                              25373 non-null  float64\n",
      " 41  Jobs_Per_Year                                      25027 non-null  float64\n",
      " 42  Employment_Exempt                                  25835 non-null  bool   \n",
      " 43  Recidivism_Within_3years                           25835 non-null  bool   \n",
      " 44  Recidivism_Arrest_Year1                            25835 non-null  bool   \n",
      " 45  Recidivism_Arrest_Year2                            25835 non-null  bool   \n",
      " 46  Recidivism_Arrest_Year3                            25835 non-null  bool   \n",
      " 47  Training_Sample                                    25835 non-null  int64  \n",
      " 48  Male                                               25835 non-null  uint8  \n",
      " 49  WHITE                                              25835 non-null  uint8  \n",
      " 50  High Supervision                                   25835 non-null  uint8  \n",
      " 51  Specialized Supervision                            25835 non-null  uint8  \n",
      " 52  Standard Supervision                               25835 non-null  uint8  \n",
      " 53  Drug Offense                                       25835 non-null  uint8  \n",
      " 54  Other Offense                                      25835 non-null  uint8  \n",
      " 55  Property Offense                                   25835 non-null  uint8  \n",
      " 56  Violent/Non-Sex Offense                            25835 non-null  uint8  \n",
      " 57  Violent/Sex Offense                                25835 non-null  uint8  \n",
      " 58  1-2 years in prison                                25835 non-null  uint8  \n",
      " 59  2-3+ years in prison                               25835 non-null  uint8  \n",
      " 60  1- years in prison                                 25835 non-null  uint8  \n",
      " 61  3+ years in prison                                 25835 non-null  uint8  \n",
      "dtypes: bool(20), float64(9), int32(9), int64(2), object(8), uint8(14)\n",
      "memory usage: 5.5+ MB\n"
     ]
    }
   ],
   "source": [
    "rec_data.info()"
   ]
  },
  {
   "cell_type": "code",
   "execution_count": 89,
   "id": "e51f3839",
   "metadata": {},
   "outputs": [
    {
     "data": {
      "text/plain": [
       "array(['3 or more', '1', '2', '0'], dtype=object)"
      ]
     },
     "execution_count": 89,
     "metadata": {},
     "output_type": "execute_result"
    }
   ],
   "source": [
    "\n",
    "\n",
    "rec_data['Prior_Conviction_Episodes_Felony'].unique()"
   ]
  },
  {
   "cell_type": "code",
   "execution_count": 90,
   "id": "37e5f020",
   "metadata": {},
   "outputs": [],
   "source": [
    "rec_data['Prior_Conviction_Episodes_Felony'] = rec_data['Prior_Conviction_Episodes_Felony'].replace(['3 or more'], 3)"
   ]
  },
  {
   "cell_type": "code",
   "execution_count": 91,
   "id": "71b4d69c",
   "metadata": {},
   "outputs": [],
   "source": [
    "rec_data['Prior_Conviction_Episodes_Felony'] = rec_data['Prior_Conviction_Episodes_Felony'].astype(int)"
   ]
  },
  {
   "cell_type": "code",
   "execution_count": 92,
   "id": "c3a79bc3",
   "metadata": {},
   "outputs": [
    {
     "data": {
      "text/plain": [
       "array(['3', '4 or more', '2', '0', '1'], dtype=object)"
      ]
     },
     "execution_count": 92,
     "metadata": {},
     "output_type": "execute_result"
    }
   ],
   "source": [
    "rec_data['Prior_Conviction_Episodes_Misd'].unique()"
   ]
  },
  {
   "cell_type": "code",
   "execution_count": 93,
   "id": "84371391",
   "metadata": {},
   "outputs": [],
   "source": [
    "rec_data['Prior_Conviction_Episodes_Misd'] = rec_data['Prior_Conviction_Episodes_Misd'].replace(['4 or more'], [4])"
   ]
  },
  {
   "cell_type": "code",
   "execution_count": 94,
   "id": "2db480c3",
   "metadata": {},
   "outputs": [],
   "source": [
    "rec_data['Prior_Conviction_Episodes_Misd'] = rec_data['Prior_Conviction_Episodes_Misd'].astype(int)"
   ]
  },
  {
   "cell_type": "code",
   "execution_count": 95,
   "id": "e690c040",
   "metadata": {},
   "outputs": [
    {
     "name": "stdout",
     "output_type": "stream",
     "text": [
      "<class 'pandas.core.frame.DataFrame'>\n",
      "RangeIndex: 25835 entries, 0 to 25834\n",
      "Data columns (total 62 columns):\n",
      " #   Column                                             Non-Null Count  Dtype  \n",
      "---  ------                                             --------------  -----  \n",
      " 0   Age_at_Release                                     25835 non-null  int32  \n",
      " 1   Residence_PUMA                                     25835 non-null  int64  \n",
      " 2   Gang_Affiliated                                    22668 non-null  float64\n",
      " 3   Supervision_Risk_Score_First                       25360 non-null  float64\n",
      " 4   Education_Level                                    25835 non-null  int32  \n",
      " 5   Dependents                                         25835 non-null  int32  \n",
      " 6   Prior_Arrest_Episodes_Felony                       25835 non-null  int32  \n",
      " 7   Prior_Arrest_Episodes_Misd                         25835 non-null  int32  \n",
      " 8   Prior_Arrest_Episodes_Violent                      25835 non-null  int32  \n",
      " 9   Prior_Arrest_Episodes_Property                     25835 non-null  int32  \n",
      " 10  Prior_Arrest_Episodes_Drug                         25835 non-null  int32  \n",
      " 11  Prior_Arrest_Episodes_PPViolationCharges           25835 non-null  int32  \n",
      " 12  Prior_Arrest_Episodes_DVCharges                    25835 non-null  bool   \n",
      " 13  Prior_Arrest_Episodes_GunCharges                   25835 non-null  bool   \n",
      " 14  Prior_Conviction_Episodes_Felony                   25835 non-null  int32  \n",
      " 15  Prior_Conviction_Episodes_Misd                     25835 non-null  int32  \n",
      " 16  Prior_Conviction_Episodes_Viol                     25835 non-null  bool   \n",
      " 17  Prior_Conviction_Episodes_Prop                     25835 non-null  object \n",
      " 18  Prior_Conviction_Episodes_Drug                     25835 non-null  object \n",
      " 19  Prior_Conviction_Episodes_PPViolationCharges       25835 non-null  bool   \n",
      " 20  Prior_Conviction_Episodes_DomesticViolenceCharges  25835 non-null  bool   \n",
      " 21  Prior_Conviction_Episodes_GunCharges               25835 non-null  bool   \n",
      " 22  Prior_Revocations_Parole                           25835 non-null  bool   \n",
      " 23  Prior_Revocations_Probation                        25835 non-null  bool   \n",
      " 24  Condition_MH_SA                                    25835 non-null  bool   \n",
      " 25  Condition_Cog_Ed                                   25835 non-null  bool   \n",
      " 26  Condition_Other                                    25835 non-null  bool   \n",
      " 27  Violations_ElectronicMonitoring                    25835 non-null  bool   \n",
      " 28  Violations_Instruction                             25835 non-null  bool   \n",
      " 29  Violations_FailToReport                            25835 non-null  bool   \n",
      " 30  Violations_MoveWithoutPermission                   25835 non-null  bool   \n",
      " 31  Delinquency_Reports                                25835 non-null  object \n",
      " 32  Program_Attendances                                25835 non-null  object \n",
      " 33  Program_UnexcusedAbsences                          25835 non-null  object \n",
      " 34  Residence_Changes                                  25835 non-null  object \n",
      " 35  Avg_Days_per_DrugTest                              19732 non-null  float64\n",
      " 36  DrugTests_THC_Positive                             20663 non-null  float64\n",
      " 37  DrugTests_Cocaine_Positive                         20663 non-null  float64\n",
      " 38  DrugTests_Meth_Positive                            20663 non-null  float64\n",
      " 39  DrugTests_Other_Positive                           20663 non-null  float64\n",
      " 40  Percent_Days_Employed                              25373 non-null  float64\n",
      " 41  Jobs_Per_Year                                      25027 non-null  float64\n",
      " 42  Employment_Exempt                                  25835 non-null  bool   \n",
      " 43  Recidivism_Within_3years                           25835 non-null  bool   \n",
      " 44  Recidivism_Arrest_Year1                            25835 non-null  bool   \n",
      " 45  Recidivism_Arrest_Year2                            25835 non-null  bool   \n",
      " 46  Recidivism_Arrest_Year3                            25835 non-null  bool   \n",
      " 47  Training_Sample                                    25835 non-null  int64  \n",
      " 48  Male                                               25835 non-null  uint8  \n",
      " 49  WHITE                                              25835 non-null  uint8  \n",
      " 50  High Supervision                                   25835 non-null  uint8  \n",
      " 51  Specialized Supervision                            25835 non-null  uint8  \n",
      " 52  Standard Supervision                               25835 non-null  uint8  \n",
      " 53  Drug Offense                                       25835 non-null  uint8  \n",
      " 54  Other Offense                                      25835 non-null  uint8  \n",
      " 55  Property Offense                                   25835 non-null  uint8  \n",
      " 56  Violent/Non-Sex Offense                            25835 non-null  uint8  \n",
      " 57  Violent/Sex Offense                                25835 non-null  uint8  \n",
      " 58  1-2 years in prison                                25835 non-null  uint8  \n",
      " 59  2-3+ years in prison                               25835 non-null  uint8  \n",
      " 60  1- years in prison                                 25835 non-null  uint8  \n",
      " 61  3+ years in prison                                 25835 non-null  uint8  \n",
      "dtypes: bool(20), float64(9), int32(11), int64(2), object(6), uint8(14)\n",
      "memory usage: 5.3+ MB\n"
     ]
    }
   ],
   "source": [
    "rec_data.info()"
   ]
  },
  {
   "cell_type": "code",
   "execution_count": 96,
   "id": "36b9213c",
   "metadata": {},
   "outputs": [
    {
     "data": {
      "text/plain": [
       "array([False,  True])"
      ]
     },
     "execution_count": 96,
     "metadata": {},
     "output_type": "execute_result"
    }
   ],
   "source": [
    "rec_data['Prior_Arrest_Episodes_DVCharges'].unique()"
   ]
  },
  {
   "cell_type": "code",
   "execution_count": 97,
   "id": "3f3440cb",
   "metadata": {},
   "outputs": [],
   "source": [
    "rec_data['Prior_Arrest_Episodes_DVCharges'] = rec_data['Prior_Arrest_Episodes_DVCharges'].replace([True, False], [1,0])"
   ]
  },
  {
   "cell_type": "code",
   "execution_count": 98,
   "id": "1f5ed631",
   "metadata": {},
   "outputs": [
    {
     "data": {
      "text/plain": [
       "0        0\n",
       "1        1\n",
       "2        1\n",
       "3        0\n",
       "4        1\n",
       "        ..\n",
       "25830    1\n",
       "25831    0\n",
       "25832    0\n",
       "25833    0\n",
       "25834    0\n",
       "Name: Prior_Arrest_Episodes_DVCharges, Length: 25835, dtype: int64"
      ]
     },
     "execution_count": 98,
     "metadata": {},
     "output_type": "execute_result"
    }
   ],
   "source": [
    "rec_data['Prior_Arrest_Episodes_DVCharges']"
   ]
  },
  {
   "cell_type": "code",
   "execution_count": 99,
   "id": "d6a60603",
   "metadata": {},
   "outputs": [
    {
     "data": {
      "text/plain": [
       "array([False,  True])"
      ]
     },
     "execution_count": 99,
     "metadata": {},
     "output_type": "execute_result"
    }
   ],
   "source": [
    "rec_data['Prior_Arrest_Episodes_GunCharges'].unique()"
   ]
  },
  {
   "cell_type": "code",
   "execution_count": 100,
   "id": "e25ef791",
   "metadata": {},
   "outputs": [],
   "source": [
    "rec_data['Prior_Arrest_Episodes_GunCharges'] = rec_data['Prior_Arrest_Episodes_GunCharges'].replace([True,False], [1,0])"
   ]
  },
  {
   "cell_type": "code",
   "execution_count": 101,
   "id": "f17cbbca",
   "metadata": {},
   "outputs": [
    {
     "data": {
      "text/html": [
       "<div>\n",
       "<style scoped>\n",
       "    .dataframe tbody tr th:only-of-type {\n",
       "        vertical-align: middle;\n",
       "    }\n",
       "\n",
       "    .dataframe tbody tr th {\n",
       "        vertical-align: top;\n",
       "    }\n",
       "\n",
       "    .dataframe thead th {\n",
       "        text-align: right;\n",
       "    }\n",
       "</style>\n",
       "<table border=\"1\" class=\"dataframe\">\n",
       "  <thead>\n",
       "    <tr style=\"text-align: right;\">\n",
       "      <th></th>\n",
       "      <th>Age_at_Release</th>\n",
       "      <th>Residence_PUMA</th>\n",
       "      <th>Gang_Affiliated</th>\n",
       "      <th>Supervision_Risk_Score_First</th>\n",
       "      <th>Education_Level</th>\n",
       "      <th>Dependents</th>\n",
       "      <th>Prior_Arrest_Episodes_Felony</th>\n",
       "      <th>Prior_Arrest_Episodes_Misd</th>\n",
       "      <th>Prior_Arrest_Episodes_Violent</th>\n",
       "      <th>Prior_Arrest_Episodes_Property</th>\n",
       "      <th>...</th>\n",
       "      <th>Standard Supervision</th>\n",
       "      <th>Drug Offense</th>\n",
       "      <th>Other Offense</th>\n",
       "      <th>Property Offense</th>\n",
       "      <th>Violent/Non-Sex Offense</th>\n",
       "      <th>Violent/Sex Offense</th>\n",
       "      <th>1-2 years in prison</th>\n",
       "      <th>2-3+ years in prison</th>\n",
       "      <th>1- years in prison</th>\n",
       "      <th>3+ years in prison</th>\n",
       "    </tr>\n",
       "  </thead>\n",
       "  <tbody>\n",
       "    <tr>\n",
       "      <th>0</th>\n",
       "      <td>45</td>\n",
       "      <td>16</td>\n",
       "      <td>0.0</td>\n",
       "      <td>3.0</td>\n",
       "      <td>2</td>\n",
       "      <td>3</td>\n",
       "      <td>6</td>\n",
       "      <td>6</td>\n",
       "      <td>1</td>\n",
       "      <td>3</td>\n",
       "      <td>...</td>\n",
       "      <td>1</td>\n",
       "      <td>1</td>\n",
       "      <td>0</td>\n",
       "      <td>0</td>\n",
       "      <td>0</td>\n",
       "      <td>0</td>\n",
       "      <td>0</td>\n",
       "      <td>0</td>\n",
       "      <td>0</td>\n",
       "      <td>1</td>\n",
       "    </tr>\n",
       "    <tr>\n",
       "      <th>1</th>\n",
       "      <td>35</td>\n",
       "      <td>16</td>\n",
       "      <td>0.0</td>\n",
       "      <td>6.0</td>\n",
       "      <td>0</td>\n",
       "      <td>1</td>\n",
       "      <td>7</td>\n",
       "      <td>6</td>\n",
       "      <td>3</td>\n",
       "      <td>0</td>\n",
       "      <td>...</td>\n",
       "      <td>0</td>\n",
       "      <td>0</td>\n",
       "      <td>0</td>\n",
       "      <td>0</td>\n",
       "      <td>1</td>\n",
       "      <td>0</td>\n",
       "      <td>0</td>\n",
       "      <td>0</td>\n",
       "      <td>0</td>\n",
       "      <td>1</td>\n",
       "    </tr>\n",
       "    <tr>\n",
       "      <th>2</th>\n",
       "      <td>50</td>\n",
       "      <td>24</td>\n",
       "      <td>0.0</td>\n",
       "      <td>7.0</td>\n",
       "      <td>2</td>\n",
       "      <td>3</td>\n",
       "      <td>6</td>\n",
       "      <td>6</td>\n",
       "      <td>3</td>\n",
       "      <td>2</td>\n",
       "      <td>...</td>\n",
       "      <td>0</td>\n",
       "      <td>1</td>\n",
       "      <td>0</td>\n",
       "      <td>0</td>\n",
       "      <td>0</td>\n",
       "      <td>0</td>\n",
       "      <td>1</td>\n",
       "      <td>0</td>\n",
       "      <td>0</td>\n",
       "      <td>0</td>\n",
       "    </tr>\n",
       "    <tr>\n",
       "      <th>3</th>\n",
       "      <td>40</td>\n",
       "      <td>16</td>\n",
       "      <td>0.0</td>\n",
       "      <td>7.0</td>\n",
       "      <td>0</td>\n",
       "      <td>1</td>\n",
       "      <td>8</td>\n",
       "      <td>6</td>\n",
       "      <td>0</td>\n",
       "      <td>3</td>\n",
       "      <td>...</td>\n",
       "      <td>0</td>\n",
       "      <td>0</td>\n",
       "      <td>0</td>\n",
       "      <td>1</td>\n",
       "      <td>0</td>\n",
       "      <td>0</td>\n",
       "      <td>1</td>\n",
       "      <td>0</td>\n",
       "      <td>0</td>\n",
       "      <td>0</td>\n",
       "    </tr>\n",
       "    <tr>\n",
       "      <th>4</th>\n",
       "      <td>35</td>\n",
       "      <td>16</td>\n",
       "      <td>0.0</td>\n",
       "      <td>4.0</td>\n",
       "      <td>0</td>\n",
       "      <td>3</td>\n",
       "      <td>4</td>\n",
       "      <td>4</td>\n",
       "      <td>3</td>\n",
       "      <td>2</td>\n",
       "      <td>...</td>\n",
       "      <td>0</td>\n",
       "      <td>0</td>\n",
       "      <td>0</td>\n",
       "      <td>0</td>\n",
       "      <td>1</td>\n",
       "      <td>0</td>\n",
       "      <td>1</td>\n",
       "      <td>0</td>\n",
       "      <td>0</td>\n",
       "      <td>0</td>\n",
       "    </tr>\n",
       "  </tbody>\n",
       "</table>\n",
       "<p>5 rows × 62 columns</p>\n",
       "</div>"
      ],
      "text/plain": [
       "   Age_at_Release  Residence_PUMA  Gang_Affiliated  \\\n",
       "0              45              16              0.0   \n",
       "1              35              16              0.0   \n",
       "2              50              24              0.0   \n",
       "3              40              16              0.0   \n",
       "4              35              16              0.0   \n",
       "\n",
       "   Supervision_Risk_Score_First  Education_Level  Dependents  \\\n",
       "0                           3.0                2           3   \n",
       "1                           6.0                0           1   \n",
       "2                           7.0                2           3   \n",
       "3                           7.0                0           1   \n",
       "4                           4.0                0           3   \n",
       "\n",
       "   Prior_Arrest_Episodes_Felony  Prior_Arrest_Episodes_Misd  \\\n",
       "0                             6                           6   \n",
       "1                             7                           6   \n",
       "2                             6                           6   \n",
       "3                             8                           6   \n",
       "4                             4                           4   \n",
       "\n",
       "   Prior_Arrest_Episodes_Violent  Prior_Arrest_Episodes_Property  ...  \\\n",
       "0                              1                               3  ...   \n",
       "1                              3                               0  ...   \n",
       "2                              3                               2  ...   \n",
       "3                              0                               3  ...   \n",
       "4                              3                               2  ...   \n",
       "\n",
       "   Standard Supervision  Drug Offense  Other Offense  Property Offense  \\\n",
       "0                     1             1              0                 0   \n",
       "1                     0             0              0                 0   \n",
       "2                     0             1              0                 0   \n",
       "3                     0             0              0                 1   \n",
       "4                     0             0              0                 0   \n",
       "\n",
       "   Violent/Non-Sex Offense  Violent/Sex Offense  1-2 years in prison  \\\n",
       "0                        0                    0                    0   \n",
       "1                        1                    0                    0   \n",
       "2                        0                    0                    1   \n",
       "3                        0                    0                    1   \n",
       "4                        1                    0                    1   \n",
       "\n",
       "  2-3+ years in prison 1- years in prison  3+ years in prison  \n",
       "0                    0                  0                   1  \n",
       "1                    0                  0                   1  \n",
       "2                    0                  0                   0  \n",
       "3                    0                  0                   0  \n",
       "4                    0                  0                   0  \n",
       "\n",
       "[5 rows x 62 columns]"
      ]
     },
     "execution_count": 101,
     "metadata": {},
     "output_type": "execute_result"
    }
   ],
   "source": [
    "rec_data.head()"
   ]
  },
  {
   "cell_type": "code",
   "execution_count": 102,
   "id": "a71ade01",
   "metadata": {},
   "outputs": [
    {
     "name": "stdout",
     "output_type": "stream",
     "text": [
      "<class 'pandas.core.frame.DataFrame'>\n",
      "RangeIndex: 25835 entries, 0 to 25834\n",
      "Data columns (total 62 columns):\n",
      " #   Column                                             Non-Null Count  Dtype  \n",
      "---  ------                                             --------------  -----  \n",
      " 0   Age_at_Release                                     25835 non-null  int32  \n",
      " 1   Residence_PUMA                                     25835 non-null  int64  \n",
      " 2   Gang_Affiliated                                    22668 non-null  float64\n",
      " 3   Supervision_Risk_Score_First                       25360 non-null  float64\n",
      " 4   Education_Level                                    25835 non-null  int32  \n",
      " 5   Dependents                                         25835 non-null  int32  \n",
      " 6   Prior_Arrest_Episodes_Felony                       25835 non-null  int32  \n",
      " 7   Prior_Arrest_Episodes_Misd                         25835 non-null  int32  \n",
      " 8   Prior_Arrest_Episodes_Violent                      25835 non-null  int32  \n",
      " 9   Prior_Arrest_Episodes_Property                     25835 non-null  int32  \n",
      " 10  Prior_Arrest_Episodes_Drug                         25835 non-null  int32  \n",
      " 11  Prior_Arrest_Episodes_PPViolationCharges           25835 non-null  int32  \n",
      " 12  Prior_Arrest_Episodes_DVCharges                    25835 non-null  int64  \n",
      " 13  Prior_Arrest_Episodes_GunCharges                   25835 non-null  int64  \n",
      " 14  Prior_Conviction_Episodes_Felony                   25835 non-null  int32  \n",
      " 15  Prior_Conviction_Episodes_Misd                     25835 non-null  int32  \n",
      " 16  Prior_Conviction_Episodes_Viol                     25835 non-null  bool   \n",
      " 17  Prior_Conviction_Episodes_Prop                     25835 non-null  object \n",
      " 18  Prior_Conviction_Episodes_Drug                     25835 non-null  object \n",
      " 19  Prior_Conviction_Episodes_PPViolationCharges       25835 non-null  bool   \n",
      " 20  Prior_Conviction_Episodes_DomesticViolenceCharges  25835 non-null  bool   \n",
      " 21  Prior_Conviction_Episodes_GunCharges               25835 non-null  bool   \n",
      " 22  Prior_Revocations_Parole                           25835 non-null  bool   \n",
      " 23  Prior_Revocations_Probation                        25835 non-null  bool   \n",
      " 24  Condition_MH_SA                                    25835 non-null  bool   \n",
      " 25  Condition_Cog_Ed                                   25835 non-null  bool   \n",
      " 26  Condition_Other                                    25835 non-null  bool   \n",
      " 27  Violations_ElectronicMonitoring                    25835 non-null  bool   \n",
      " 28  Violations_Instruction                             25835 non-null  bool   \n",
      " 29  Violations_FailToReport                            25835 non-null  bool   \n",
      " 30  Violations_MoveWithoutPermission                   25835 non-null  bool   \n",
      " 31  Delinquency_Reports                                25835 non-null  object \n",
      " 32  Program_Attendances                                25835 non-null  object \n",
      " 33  Program_UnexcusedAbsences                          25835 non-null  object \n",
      " 34  Residence_Changes                                  25835 non-null  object \n",
      " 35  Avg_Days_per_DrugTest                              19732 non-null  float64\n",
      " 36  DrugTests_THC_Positive                             20663 non-null  float64\n",
      " 37  DrugTests_Cocaine_Positive                         20663 non-null  float64\n",
      " 38  DrugTests_Meth_Positive                            20663 non-null  float64\n",
      " 39  DrugTests_Other_Positive                           20663 non-null  float64\n",
      " 40  Percent_Days_Employed                              25373 non-null  float64\n",
      " 41  Jobs_Per_Year                                      25027 non-null  float64\n",
      " 42  Employment_Exempt                                  25835 non-null  bool   \n",
      " 43  Recidivism_Within_3years                           25835 non-null  bool   \n",
      " 44  Recidivism_Arrest_Year1                            25835 non-null  bool   \n",
      " 45  Recidivism_Arrest_Year2                            25835 non-null  bool   \n",
      " 46  Recidivism_Arrest_Year3                            25835 non-null  bool   \n",
      " 47  Training_Sample                                    25835 non-null  int64  \n",
      " 48  Male                                               25835 non-null  uint8  \n",
      " 49  WHITE                                              25835 non-null  uint8  \n",
      " 50  High Supervision                                   25835 non-null  uint8  \n",
      " 51  Specialized Supervision                            25835 non-null  uint8  \n",
      " 52  Standard Supervision                               25835 non-null  uint8  \n",
      " 53  Drug Offense                                       25835 non-null  uint8  \n",
      " 54  Other Offense                                      25835 non-null  uint8  \n",
      " 55  Property Offense                                   25835 non-null  uint8  \n",
      " 56  Violent/Non-Sex Offense                            25835 non-null  uint8  \n",
      " 57  Violent/Sex Offense                                25835 non-null  uint8  \n",
      " 58  1-2 years in prison                                25835 non-null  uint8  \n",
      " 59  2-3+ years in prison                               25835 non-null  uint8  \n",
      " 60  1- years in prison                                 25835 non-null  uint8  \n",
      " 61  3+ years in prison                                 25835 non-null  uint8  \n",
      "dtypes: bool(18), float64(9), int32(11), int64(4), object(6), uint8(14)\n",
      "memory usage: 5.6+ MB\n"
     ]
    }
   ],
   "source": [
    "rec_data.info()"
   ]
  },
  {
   "cell_type": "code",
   "execution_count": 103,
   "id": "a7bfccb6",
   "metadata": {},
   "outputs": [],
   "source": [
    "rec_data['Prior_Conviction_Episodes_Viol'] = rec_data['Prior_Conviction_Episodes_Viol'].replace([True,False], [1,0])"
   ]
  },
  {
   "cell_type": "code",
   "execution_count": 104,
   "id": "b1d34ff1",
   "metadata": {},
   "outputs": [
    {
     "data": {
      "text/plain": [
       "array(['2', '0', '1', '3 or more'], dtype=object)"
      ]
     },
     "execution_count": 104,
     "metadata": {},
     "output_type": "execute_result"
    }
   ],
   "source": [
    "rec_data['Prior_Conviction_Episodes_Prop'].unique()"
   ]
  },
  {
   "cell_type": "code",
   "execution_count": 105,
   "id": "c1010cc2",
   "metadata": {},
   "outputs": [],
   "source": [
    "\n",
    "rec_data['Prior_Conviction_Episodes_Prop'] = rec_data['Prior_Conviction_Episodes_Prop'].replace(['3 or more'], [3])"
   ]
  },
  {
   "cell_type": "code",
   "execution_count": 106,
   "id": "6399e96a",
   "metadata": {},
   "outputs": [],
   "source": [
    "rec_data['Prior_Conviction_Episodes_Prop'] = rec_data['Prior_Conviction_Episodes_Prop'].astype(int)"
   ]
  },
  {
   "cell_type": "code",
   "execution_count": 107,
   "id": "903ba825",
   "metadata": {},
   "outputs": [
    {
     "name": "stdout",
     "output_type": "stream",
     "text": [
      "<class 'pandas.core.frame.DataFrame'>\n",
      "RangeIndex: 25835 entries, 0 to 25834\n",
      "Data columns (total 62 columns):\n",
      " #   Column                                             Non-Null Count  Dtype  \n",
      "---  ------                                             --------------  -----  \n",
      " 0   Age_at_Release                                     25835 non-null  int32  \n",
      " 1   Residence_PUMA                                     25835 non-null  int64  \n",
      " 2   Gang_Affiliated                                    22668 non-null  float64\n",
      " 3   Supervision_Risk_Score_First                       25360 non-null  float64\n",
      " 4   Education_Level                                    25835 non-null  int32  \n",
      " 5   Dependents                                         25835 non-null  int32  \n",
      " 6   Prior_Arrest_Episodes_Felony                       25835 non-null  int32  \n",
      " 7   Prior_Arrest_Episodes_Misd                         25835 non-null  int32  \n",
      " 8   Prior_Arrest_Episodes_Violent                      25835 non-null  int32  \n",
      " 9   Prior_Arrest_Episodes_Property                     25835 non-null  int32  \n",
      " 10  Prior_Arrest_Episodes_Drug                         25835 non-null  int32  \n",
      " 11  Prior_Arrest_Episodes_PPViolationCharges           25835 non-null  int32  \n",
      " 12  Prior_Arrest_Episodes_DVCharges                    25835 non-null  int64  \n",
      " 13  Prior_Arrest_Episodes_GunCharges                   25835 non-null  int64  \n",
      " 14  Prior_Conviction_Episodes_Felony                   25835 non-null  int32  \n",
      " 15  Prior_Conviction_Episodes_Misd                     25835 non-null  int32  \n",
      " 16  Prior_Conviction_Episodes_Viol                     25835 non-null  int64  \n",
      " 17  Prior_Conviction_Episodes_Prop                     25835 non-null  int32  \n",
      " 18  Prior_Conviction_Episodes_Drug                     25835 non-null  object \n",
      " 19  Prior_Conviction_Episodes_PPViolationCharges       25835 non-null  bool   \n",
      " 20  Prior_Conviction_Episodes_DomesticViolenceCharges  25835 non-null  bool   \n",
      " 21  Prior_Conviction_Episodes_GunCharges               25835 non-null  bool   \n",
      " 22  Prior_Revocations_Parole                           25835 non-null  bool   \n",
      " 23  Prior_Revocations_Probation                        25835 non-null  bool   \n",
      " 24  Condition_MH_SA                                    25835 non-null  bool   \n",
      " 25  Condition_Cog_Ed                                   25835 non-null  bool   \n",
      " 26  Condition_Other                                    25835 non-null  bool   \n",
      " 27  Violations_ElectronicMonitoring                    25835 non-null  bool   \n",
      " 28  Violations_Instruction                             25835 non-null  bool   \n",
      " 29  Violations_FailToReport                            25835 non-null  bool   \n",
      " 30  Violations_MoveWithoutPermission                   25835 non-null  bool   \n",
      " 31  Delinquency_Reports                                25835 non-null  object \n",
      " 32  Program_Attendances                                25835 non-null  object \n",
      " 33  Program_UnexcusedAbsences                          25835 non-null  object \n",
      " 34  Residence_Changes                                  25835 non-null  object \n",
      " 35  Avg_Days_per_DrugTest                              19732 non-null  float64\n",
      " 36  DrugTests_THC_Positive                             20663 non-null  float64\n",
      " 37  DrugTests_Cocaine_Positive                         20663 non-null  float64\n",
      " 38  DrugTests_Meth_Positive                            20663 non-null  float64\n",
      " 39  DrugTests_Other_Positive                           20663 non-null  float64\n",
      " 40  Percent_Days_Employed                              25373 non-null  float64\n",
      " 41  Jobs_Per_Year                                      25027 non-null  float64\n",
      " 42  Employment_Exempt                                  25835 non-null  bool   \n",
      " 43  Recidivism_Within_3years                           25835 non-null  bool   \n",
      " 44  Recidivism_Arrest_Year1                            25835 non-null  bool   \n",
      " 45  Recidivism_Arrest_Year2                            25835 non-null  bool   \n",
      " 46  Recidivism_Arrest_Year3                            25835 non-null  bool   \n",
      " 47  Training_Sample                                    25835 non-null  int64  \n",
      " 48  Male                                               25835 non-null  uint8  \n",
      " 49  WHITE                                              25835 non-null  uint8  \n",
      " 50  High Supervision                                   25835 non-null  uint8  \n",
      " 51  Specialized Supervision                            25835 non-null  uint8  \n",
      " 52  Standard Supervision                               25835 non-null  uint8  \n",
      " 53  Drug Offense                                       25835 non-null  uint8  \n",
      " 54  Other Offense                                      25835 non-null  uint8  \n",
      " 55  Property Offense                                   25835 non-null  uint8  \n",
      " 56  Violent/Non-Sex Offense                            25835 non-null  uint8  \n",
      " 57  Violent/Sex Offense                                25835 non-null  uint8  \n",
      " 58  1-2 years in prison                                25835 non-null  uint8  \n",
      " 59  2-3+ years in prison                               25835 non-null  uint8  \n",
      " 60  1- years in prison                                 25835 non-null  uint8  \n",
      " 61  3+ years in prison                                 25835 non-null  uint8  \n",
      "dtypes: bool(17), float64(9), int32(12), int64(5), object(5), uint8(14)\n",
      "memory usage: 5.7+ MB\n"
     ]
    }
   ],
   "source": [
    "rec_data.info()"
   ]
  },
  {
   "cell_type": "code",
   "execution_count": 108,
   "id": "ef2ea3dd",
   "metadata": {},
   "outputs": [
    {
     "data": {
      "text/plain": [
       "array(['2 or more', '1', '0'], dtype=object)"
      ]
     },
     "execution_count": 108,
     "metadata": {},
     "output_type": "execute_result"
    }
   ],
   "source": [
    "rec_data['Prior_Conviction_Episodes_Drug'].unique()"
   ]
  },
  {
   "cell_type": "code",
   "execution_count": 109,
   "id": "522088ac",
   "metadata": {},
   "outputs": [],
   "source": [
    "rec_data['Prior_Conviction_Episodes_Drug'] = rec_data['Prior_Conviction_Episodes_Drug'].replace(['2 or more'], 2)"
   ]
  },
  {
   "cell_type": "code",
   "execution_count": 110,
   "id": "6c5eaf30",
   "metadata": {},
   "outputs": [],
   "source": [
    "rec_data['Prior_Conviction_Episodes_Drug'] = rec_data['Prior_Conviction_Episodes_Drug'].astype(int)"
   ]
  },
  {
   "cell_type": "code",
   "execution_count": 111,
   "id": "28c16541",
   "metadata": {},
   "outputs": [
    {
     "name": "stdout",
     "output_type": "stream",
     "text": [
      "<class 'pandas.core.frame.DataFrame'>\n",
      "RangeIndex: 25835 entries, 0 to 25834\n",
      "Data columns (total 62 columns):\n",
      " #   Column                                             Non-Null Count  Dtype  \n",
      "---  ------                                             --------------  -----  \n",
      " 0   Age_at_Release                                     25835 non-null  int32  \n",
      " 1   Residence_PUMA                                     25835 non-null  int64  \n",
      " 2   Gang_Affiliated                                    22668 non-null  float64\n",
      " 3   Supervision_Risk_Score_First                       25360 non-null  float64\n",
      " 4   Education_Level                                    25835 non-null  int32  \n",
      " 5   Dependents                                         25835 non-null  int32  \n",
      " 6   Prior_Arrest_Episodes_Felony                       25835 non-null  int32  \n",
      " 7   Prior_Arrest_Episodes_Misd                         25835 non-null  int32  \n",
      " 8   Prior_Arrest_Episodes_Violent                      25835 non-null  int32  \n",
      " 9   Prior_Arrest_Episodes_Property                     25835 non-null  int32  \n",
      " 10  Prior_Arrest_Episodes_Drug                         25835 non-null  int32  \n",
      " 11  Prior_Arrest_Episodes_PPViolationCharges           25835 non-null  int32  \n",
      " 12  Prior_Arrest_Episodes_DVCharges                    25835 non-null  int64  \n",
      " 13  Prior_Arrest_Episodes_GunCharges                   25835 non-null  int64  \n",
      " 14  Prior_Conviction_Episodes_Felony                   25835 non-null  int32  \n",
      " 15  Prior_Conviction_Episodes_Misd                     25835 non-null  int32  \n",
      " 16  Prior_Conviction_Episodes_Viol                     25835 non-null  int64  \n",
      " 17  Prior_Conviction_Episodes_Prop                     25835 non-null  int32  \n",
      " 18  Prior_Conviction_Episodes_Drug                     25835 non-null  int32  \n",
      " 19  Prior_Conviction_Episodes_PPViolationCharges       25835 non-null  bool   \n",
      " 20  Prior_Conviction_Episodes_DomesticViolenceCharges  25835 non-null  bool   \n",
      " 21  Prior_Conviction_Episodes_GunCharges               25835 non-null  bool   \n",
      " 22  Prior_Revocations_Parole                           25835 non-null  bool   \n",
      " 23  Prior_Revocations_Probation                        25835 non-null  bool   \n",
      " 24  Condition_MH_SA                                    25835 non-null  bool   \n",
      " 25  Condition_Cog_Ed                                   25835 non-null  bool   \n",
      " 26  Condition_Other                                    25835 non-null  bool   \n",
      " 27  Violations_ElectronicMonitoring                    25835 non-null  bool   \n",
      " 28  Violations_Instruction                             25835 non-null  bool   \n",
      " 29  Violations_FailToReport                            25835 non-null  bool   \n",
      " 30  Violations_MoveWithoutPermission                   25835 non-null  bool   \n",
      " 31  Delinquency_Reports                                25835 non-null  object \n",
      " 32  Program_Attendances                                25835 non-null  object \n",
      " 33  Program_UnexcusedAbsences                          25835 non-null  object \n",
      " 34  Residence_Changes                                  25835 non-null  object \n",
      " 35  Avg_Days_per_DrugTest                              19732 non-null  float64\n",
      " 36  DrugTests_THC_Positive                             20663 non-null  float64\n",
      " 37  DrugTests_Cocaine_Positive                         20663 non-null  float64\n",
      " 38  DrugTests_Meth_Positive                            20663 non-null  float64\n",
      " 39  DrugTests_Other_Positive                           20663 non-null  float64\n",
      " 40  Percent_Days_Employed                              25373 non-null  float64\n",
      " 41  Jobs_Per_Year                                      25027 non-null  float64\n",
      " 42  Employment_Exempt                                  25835 non-null  bool   \n",
      " 43  Recidivism_Within_3years                           25835 non-null  bool   \n",
      " 44  Recidivism_Arrest_Year1                            25835 non-null  bool   \n",
      " 45  Recidivism_Arrest_Year2                            25835 non-null  bool   \n",
      " 46  Recidivism_Arrest_Year3                            25835 non-null  bool   \n",
      " 47  Training_Sample                                    25835 non-null  int64  \n",
      " 48  Male                                               25835 non-null  uint8  \n",
      " 49  WHITE                                              25835 non-null  uint8  \n",
      " 50  High Supervision                                   25835 non-null  uint8  \n",
      " 51  Specialized Supervision                            25835 non-null  uint8  \n",
      " 52  Standard Supervision                               25835 non-null  uint8  \n",
      " 53  Drug Offense                                       25835 non-null  uint8  \n",
      " 54  Other Offense                                      25835 non-null  uint8  \n",
      " 55  Property Offense                                   25835 non-null  uint8  \n",
      " 56  Violent/Non-Sex Offense                            25835 non-null  uint8  \n",
      " 57  Violent/Sex Offense                                25835 non-null  uint8  \n",
      " 58  1-2 years in prison                                25835 non-null  uint8  \n",
      " 59  2-3+ years in prison                               25835 non-null  uint8  \n",
      " 60  1- years in prison                                 25835 non-null  uint8  \n",
      " 61  3+ years in prison                                 25835 non-null  uint8  \n",
      "dtypes: bool(17), float64(9), int32(13), int64(5), object(4), uint8(14)\n",
      "memory usage: 5.6+ MB\n"
     ]
    }
   ],
   "source": [
    "rec_data.info()"
   ]
  },
  {
   "cell_type": "code",
   "execution_count": 112,
   "id": "e5c9b765",
   "metadata": {},
   "outputs": [],
   "source": [
    "rec_data['Prior_Conviction_Episodes_PPViolationCharges'] = rec_data['Prior_Conviction_Episodes_PPViolationCharges'].replace([True, False], [1,0])"
   ]
  },
  {
   "cell_type": "code",
   "execution_count": 113,
   "id": "e02bebb7",
   "metadata": {},
   "outputs": [
    {
     "data": {
      "text/plain": [
       "0        0\n",
       "1        1\n",
       "2        0\n",
       "3        0\n",
       "4        0\n",
       "        ..\n",
       "25830    0\n",
       "25831    0\n",
       "25832    0\n",
       "25833    0\n",
       "25834    1\n",
       "Name: Prior_Conviction_Episodes_PPViolationCharges, Length: 25835, dtype: int64"
      ]
     },
     "execution_count": 113,
     "metadata": {},
     "output_type": "execute_result"
    }
   ],
   "source": [
    "rec_data['Prior_Conviction_Episodes_PPViolationCharges']"
   ]
  },
  {
   "cell_type": "code",
   "execution_count": 114,
   "id": "a912cf21",
   "metadata": {},
   "outputs": [],
   "source": [
    "rec_data['Prior_Conviction_Episodes_DomesticViolenceCharges'] = rec_data['Prior_Conviction_Episodes_DomesticViolenceCharges'].replace([True,False], [1,0])"
   ]
  },
  {
   "cell_type": "code",
   "execution_count": 115,
   "id": "83f943a0",
   "metadata": {},
   "outputs": [],
   "source": [
    "rec_data['Prior_Conviction_Episodes_GunCharges'] = rec_data['Prior_Conviction_Episodes_GunCharges'].replace([True,False], [1,0])"
   ]
  },
  {
   "cell_type": "code",
   "execution_count": 116,
   "id": "43060521",
   "metadata": {},
   "outputs": [
    {
     "name": "stdout",
     "output_type": "stream",
     "text": [
      "<class 'pandas.core.frame.DataFrame'>\n",
      "RangeIndex: 25835 entries, 0 to 25834\n",
      "Data columns (total 62 columns):\n",
      " #   Column                                             Non-Null Count  Dtype  \n",
      "---  ------                                             --------------  -----  \n",
      " 0   Age_at_Release                                     25835 non-null  int32  \n",
      " 1   Residence_PUMA                                     25835 non-null  int64  \n",
      " 2   Gang_Affiliated                                    22668 non-null  float64\n",
      " 3   Supervision_Risk_Score_First                       25360 non-null  float64\n",
      " 4   Education_Level                                    25835 non-null  int32  \n",
      " 5   Dependents                                         25835 non-null  int32  \n",
      " 6   Prior_Arrest_Episodes_Felony                       25835 non-null  int32  \n",
      " 7   Prior_Arrest_Episodes_Misd                         25835 non-null  int32  \n",
      " 8   Prior_Arrest_Episodes_Violent                      25835 non-null  int32  \n",
      " 9   Prior_Arrest_Episodes_Property                     25835 non-null  int32  \n",
      " 10  Prior_Arrest_Episodes_Drug                         25835 non-null  int32  \n",
      " 11  Prior_Arrest_Episodes_PPViolationCharges           25835 non-null  int32  \n",
      " 12  Prior_Arrest_Episodes_DVCharges                    25835 non-null  int64  \n",
      " 13  Prior_Arrest_Episodes_GunCharges                   25835 non-null  int64  \n",
      " 14  Prior_Conviction_Episodes_Felony                   25835 non-null  int32  \n",
      " 15  Prior_Conviction_Episodes_Misd                     25835 non-null  int32  \n",
      " 16  Prior_Conviction_Episodes_Viol                     25835 non-null  int64  \n",
      " 17  Prior_Conviction_Episodes_Prop                     25835 non-null  int32  \n",
      " 18  Prior_Conviction_Episodes_Drug                     25835 non-null  int32  \n",
      " 19  Prior_Conviction_Episodes_PPViolationCharges       25835 non-null  int64  \n",
      " 20  Prior_Conviction_Episodes_DomesticViolenceCharges  25835 non-null  int64  \n",
      " 21  Prior_Conviction_Episodes_GunCharges               25835 non-null  int64  \n",
      " 22  Prior_Revocations_Parole                           25835 non-null  bool   \n",
      " 23  Prior_Revocations_Probation                        25835 non-null  bool   \n",
      " 24  Condition_MH_SA                                    25835 non-null  bool   \n",
      " 25  Condition_Cog_Ed                                   25835 non-null  bool   \n",
      " 26  Condition_Other                                    25835 non-null  bool   \n",
      " 27  Violations_ElectronicMonitoring                    25835 non-null  bool   \n",
      " 28  Violations_Instruction                             25835 non-null  bool   \n",
      " 29  Violations_FailToReport                            25835 non-null  bool   \n",
      " 30  Violations_MoveWithoutPermission                   25835 non-null  bool   \n",
      " 31  Delinquency_Reports                                25835 non-null  object \n",
      " 32  Program_Attendances                                25835 non-null  object \n",
      " 33  Program_UnexcusedAbsences                          25835 non-null  object \n",
      " 34  Residence_Changes                                  25835 non-null  object \n",
      " 35  Avg_Days_per_DrugTest                              19732 non-null  float64\n",
      " 36  DrugTests_THC_Positive                             20663 non-null  float64\n",
      " 37  DrugTests_Cocaine_Positive                         20663 non-null  float64\n",
      " 38  DrugTests_Meth_Positive                            20663 non-null  float64\n",
      " 39  DrugTests_Other_Positive                           20663 non-null  float64\n",
      " 40  Percent_Days_Employed                              25373 non-null  float64\n",
      " 41  Jobs_Per_Year                                      25027 non-null  float64\n",
      " 42  Employment_Exempt                                  25835 non-null  bool   \n",
      " 43  Recidivism_Within_3years                           25835 non-null  bool   \n",
      " 44  Recidivism_Arrest_Year1                            25835 non-null  bool   \n",
      " 45  Recidivism_Arrest_Year2                            25835 non-null  bool   \n",
      " 46  Recidivism_Arrest_Year3                            25835 non-null  bool   \n",
      " 47  Training_Sample                                    25835 non-null  int64  \n",
      " 48  Male                                               25835 non-null  uint8  \n",
      " 49  WHITE                                              25835 non-null  uint8  \n",
      " 50  High Supervision                                   25835 non-null  uint8  \n",
      " 51  Specialized Supervision                            25835 non-null  uint8  \n",
      " 52  Standard Supervision                               25835 non-null  uint8  \n",
      " 53  Drug Offense                                       25835 non-null  uint8  \n",
      " 54  Other Offense                                      25835 non-null  uint8  \n",
      " 55  Property Offense                                   25835 non-null  uint8  \n",
      " 56  Violent/Non-Sex Offense                            25835 non-null  uint8  \n",
      " 57  Violent/Sex Offense                                25835 non-null  uint8  \n",
      " 58  1-2 years in prison                                25835 non-null  uint8  \n",
      " 59  2-3+ years in prison                               25835 non-null  uint8  \n",
      " 60  1- years in prison                                 25835 non-null  uint8  \n",
      " 61  3+ years in prison                                 25835 non-null  uint8  \n",
      "dtypes: bool(14), float64(9), int32(13), int64(8), object(4), uint8(14)\n",
      "memory usage: 6.1+ MB\n"
     ]
    }
   ],
   "source": [
    "rec_data.info()"
   ]
  },
  {
   "cell_type": "code",
   "execution_count": 117,
   "id": "7458dcff",
   "metadata": {},
   "outputs": [],
   "source": [
    "rec_data['Prior_Revocations_Parole'] = rec_data['Prior_Revocations_Parole'].replace([True,False], [1,0])"
   ]
  },
  {
   "cell_type": "code",
   "execution_count": 118,
   "id": "9d218990",
   "metadata": {},
   "outputs": [],
   "source": [
    "rec_data['Prior_Revocations_Probation'] = rec_data['Prior_Revocations_Probation'].replace([True,False], [1,0])"
   ]
  },
  {
   "cell_type": "code",
   "execution_count": 119,
   "id": "3c3ceb56",
   "metadata": {},
   "outputs": [
    {
     "name": "stdout",
     "output_type": "stream",
     "text": [
      "<class 'pandas.core.frame.DataFrame'>\n",
      "RangeIndex: 25835 entries, 0 to 25834\n",
      "Data columns (total 62 columns):\n",
      " #   Column                                             Non-Null Count  Dtype  \n",
      "---  ------                                             --------------  -----  \n",
      " 0   Age_at_Release                                     25835 non-null  int32  \n",
      " 1   Residence_PUMA                                     25835 non-null  int64  \n",
      " 2   Gang_Affiliated                                    22668 non-null  float64\n",
      " 3   Supervision_Risk_Score_First                       25360 non-null  float64\n",
      " 4   Education_Level                                    25835 non-null  int32  \n",
      " 5   Dependents                                         25835 non-null  int32  \n",
      " 6   Prior_Arrest_Episodes_Felony                       25835 non-null  int32  \n",
      " 7   Prior_Arrest_Episodes_Misd                         25835 non-null  int32  \n",
      " 8   Prior_Arrest_Episodes_Violent                      25835 non-null  int32  \n",
      " 9   Prior_Arrest_Episodes_Property                     25835 non-null  int32  \n",
      " 10  Prior_Arrest_Episodes_Drug                         25835 non-null  int32  \n",
      " 11  Prior_Arrest_Episodes_PPViolationCharges           25835 non-null  int32  \n",
      " 12  Prior_Arrest_Episodes_DVCharges                    25835 non-null  int64  \n",
      " 13  Prior_Arrest_Episodes_GunCharges                   25835 non-null  int64  \n",
      " 14  Prior_Conviction_Episodes_Felony                   25835 non-null  int32  \n",
      " 15  Prior_Conviction_Episodes_Misd                     25835 non-null  int32  \n",
      " 16  Prior_Conviction_Episodes_Viol                     25835 non-null  int64  \n",
      " 17  Prior_Conviction_Episodes_Prop                     25835 non-null  int32  \n",
      " 18  Prior_Conviction_Episodes_Drug                     25835 non-null  int32  \n",
      " 19  Prior_Conviction_Episodes_PPViolationCharges       25835 non-null  int64  \n",
      " 20  Prior_Conviction_Episodes_DomesticViolenceCharges  25835 non-null  int64  \n",
      " 21  Prior_Conviction_Episodes_GunCharges               25835 non-null  int64  \n",
      " 22  Prior_Revocations_Parole                           25835 non-null  int64  \n",
      " 23  Prior_Revocations_Probation                        25835 non-null  int64  \n",
      " 24  Condition_MH_SA                                    25835 non-null  bool   \n",
      " 25  Condition_Cog_Ed                                   25835 non-null  bool   \n",
      " 26  Condition_Other                                    25835 non-null  bool   \n",
      " 27  Violations_ElectronicMonitoring                    25835 non-null  bool   \n",
      " 28  Violations_Instruction                             25835 non-null  bool   \n",
      " 29  Violations_FailToReport                            25835 non-null  bool   \n",
      " 30  Violations_MoveWithoutPermission                   25835 non-null  bool   \n",
      " 31  Delinquency_Reports                                25835 non-null  object \n",
      " 32  Program_Attendances                                25835 non-null  object \n",
      " 33  Program_UnexcusedAbsences                          25835 non-null  object \n",
      " 34  Residence_Changes                                  25835 non-null  object \n",
      " 35  Avg_Days_per_DrugTest                              19732 non-null  float64\n",
      " 36  DrugTests_THC_Positive                             20663 non-null  float64\n",
      " 37  DrugTests_Cocaine_Positive                         20663 non-null  float64\n",
      " 38  DrugTests_Meth_Positive                            20663 non-null  float64\n",
      " 39  DrugTests_Other_Positive                           20663 non-null  float64\n",
      " 40  Percent_Days_Employed                              25373 non-null  float64\n",
      " 41  Jobs_Per_Year                                      25027 non-null  float64\n",
      " 42  Employment_Exempt                                  25835 non-null  bool   \n",
      " 43  Recidivism_Within_3years                           25835 non-null  bool   \n",
      " 44  Recidivism_Arrest_Year1                            25835 non-null  bool   \n",
      " 45  Recidivism_Arrest_Year2                            25835 non-null  bool   \n",
      " 46  Recidivism_Arrest_Year3                            25835 non-null  bool   \n",
      " 47  Training_Sample                                    25835 non-null  int64  \n",
      " 48  Male                                               25835 non-null  uint8  \n",
      " 49  WHITE                                              25835 non-null  uint8  \n",
      " 50  High Supervision                                   25835 non-null  uint8  \n",
      " 51  Specialized Supervision                            25835 non-null  uint8  \n",
      " 52  Standard Supervision                               25835 non-null  uint8  \n",
      " 53  Drug Offense                                       25835 non-null  uint8  \n",
      " 54  Other Offense                                      25835 non-null  uint8  \n",
      " 55  Property Offense                                   25835 non-null  uint8  \n",
      " 56  Violent/Non-Sex Offense                            25835 non-null  uint8  \n",
      " 57  Violent/Sex Offense                                25835 non-null  uint8  \n",
      " 58  1-2 years in prison                                25835 non-null  uint8  \n",
      " 59  2-3+ years in prison                               25835 non-null  uint8  \n",
      " 60  1- years in prison                                 25835 non-null  uint8  \n",
      " 61  3+ years in prison                                 25835 non-null  uint8  \n",
      "dtypes: bool(12), float64(9), int32(13), int64(10), object(4), uint8(14)\n",
      "memory usage: 6.5+ MB\n"
     ]
    }
   ],
   "source": [
    "rec_data.info()"
   ]
  },
  {
   "cell_type": "code",
   "execution_count": 120,
   "id": "6e1b95ae",
   "metadata": {},
   "outputs": [],
   "source": [
    "rec_data['Condition_MH_SA'] = rec_data['Condition_MH_SA'].replace([True,False], [1,0])"
   ]
  },
  {
   "cell_type": "code",
   "execution_count": 121,
   "id": "dfd5ba5d",
   "metadata": {},
   "outputs": [],
   "source": [
    "rec_data['Condition_Cog_Ed'] = rec_data['Condition_Cog_Ed'].replace([True,False], [1,0])"
   ]
  },
  {
   "cell_type": "code",
   "execution_count": 122,
   "id": "ecfb1f05",
   "metadata": {},
   "outputs": [
    {
     "data": {
      "text/plain": [
       "0    1\n",
       "1    0\n",
       "2    1\n",
       "3    1\n",
       "4    1\n",
       "Name: Condition_Cog_Ed, dtype: int64"
      ]
     },
     "execution_count": 122,
     "metadata": {},
     "output_type": "execute_result"
    }
   ],
   "source": [
    "rec_data['Condition_Cog_Ed'].head()"
   ]
  },
  {
   "cell_type": "code",
   "execution_count": 123,
   "id": "30e7288d",
   "metadata": {},
   "outputs": [],
   "source": [
    "rec_data['Violations_ElectronicMonitoring'] = rec_data['Violations_ElectronicMonitoring'].replace([True,False],[1,0])"
   ]
  },
  {
   "cell_type": "code",
   "execution_count": 124,
   "id": "a980fb5d",
   "metadata": {},
   "outputs": [],
   "source": [
    "rec_data['Violations_Instruction'] = rec_data['Violations_Instruction'].replace([True,False], [1,0])"
   ]
  },
  {
   "cell_type": "code",
   "execution_count": 125,
   "id": "ce51bbac",
   "metadata": {},
   "outputs": [],
   "source": [
    "rec_data['Violations_FailToReport'] = rec_data['Violations_FailToReport'].replace([True,False], [1,0])"
   ]
  },
  {
   "cell_type": "code",
   "execution_count": 126,
   "id": "8f86318d",
   "metadata": {},
   "outputs": [],
   "source": [
    "rec_data['Violations_MoveWithoutPermission'] = rec_data['Violations_MoveWithoutPermission'].replace([True,False], [1,0])"
   ]
  },
  {
   "cell_type": "code",
   "execution_count": 127,
   "id": "a3c4e1f1",
   "metadata": {},
   "outputs": [
    {
     "name": "stdout",
     "output_type": "stream",
     "text": [
      "<class 'pandas.core.frame.DataFrame'>\n",
      "RangeIndex: 25835 entries, 0 to 25834\n",
      "Data columns (total 62 columns):\n",
      " #   Column                                             Non-Null Count  Dtype  \n",
      "---  ------                                             --------------  -----  \n",
      " 0   Age_at_Release                                     25835 non-null  int32  \n",
      " 1   Residence_PUMA                                     25835 non-null  int64  \n",
      " 2   Gang_Affiliated                                    22668 non-null  float64\n",
      " 3   Supervision_Risk_Score_First                       25360 non-null  float64\n",
      " 4   Education_Level                                    25835 non-null  int32  \n",
      " 5   Dependents                                         25835 non-null  int32  \n",
      " 6   Prior_Arrest_Episodes_Felony                       25835 non-null  int32  \n",
      " 7   Prior_Arrest_Episodes_Misd                         25835 non-null  int32  \n",
      " 8   Prior_Arrest_Episodes_Violent                      25835 non-null  int32  \n",
      " 9   Prior_Arrest_Episodes_Property                     25835 non-null  int32  \n",
      " 10  Prior_Arrest_Episodes_Drug                         25835 non-null  int32  \n",
      " 11  Prior_Arrest_Episodes_PPViolationCharges           25835 non-null  int32  \n",
      " 12  Prior_Arrest_Episodes_DVCharges                    25835 non-null  int64  \n",
      " 13  Prior_Arrest_Episodes_GunCharges                   25835 non-null  int64  \n",
      " 14  Prior_Conviction_Episodes_Felony                   25835 non-null  int32  \n",
      " 15  Prior_Conviction_Episodes_Misd                     25835 non-null  int32  \n",
      " 16  Prior_Conviction_Episodes_Viol                     25835 non-null  int64  \n",
      " 17  Prior_Conviction_Episodes_Prop                     25835 non-null  int32  \n",
      " 18  Prior_Conviction_Episodes_Drug                     25835 non-null  int32  \n",
      " 19  Prior_Conviction_Episodes_PPViolationCharges       25835 non-null  int64  \n",
      " 20  Prior_Conviction_Episodes_DomesticViolenceCharges  25835 non-null  int64  \n",
      " 21  Prior_Conviction_Episodes_GunCharges               25835 non-null  int64  \n",
      " 22  Prior_Revocations_Parole                           25835 non-null  int64  \n",
      " 23  Prior_Revocations_Probation                        25835 non-null  int64  \n",
      " 24  Condition_MH_SA                                    25835 non-null  int64  \n",
      " 25  Condition_Cog_Ed                                   25835 non-null  int64  \n",
      " 26  Condition_Other                                    25835 non-null  bool   \n",
      " 27  Violations_ElectronicMonitoring                    25835 non-null  int64  \n",
      " 28  Violations_Instruction                             25835 non-null  int64  \n",
      " 29  Violations_FailToReport                            25835 non-null  int64  \n",
      " 30  Violations_MoveWithoutPermission                   25835 non-null  int64  \n",
      " 31  Delinquency_Reports                                25835 non-null  object \n",
      " 32  Program_Attendances                                25835 non-null  object \n",
      " 33  Program_UnexcusedAbsences                          25835 non-null  object \n",
      " 34  Residence_Changes                                  25835 non-null  object \n",
      " 35  Avg_Days_per_DrugTest                              19732 non-null  float64\n",
      " 36  DrugTests_THC_Positive                             20663 non-null  float64\n",
      " 37  DrugTests_Cocaine_Positive                         20663 non-null  float64\n",
      " 38  DrugTests_Meth_Positive                            20663 non-null  float64\n",
      " 39  DrugTests_Other_Positive                           20663 non-null  float64\n",
      " 40  Percent_Days_Employed                              25373 non-null  float64\n",
      " 41  Jobs_Per_Year                                      25027 non-null  float64\n",
      " 42  Employment_Exempt                                  25835 non-null  bool   \n",
      " 43  Recidivism_Within_3years                           25835 non-null  bool   \n",
      " 44  Recidivism_Arrest_Year1                            25835 non-null  bool   \n",
      " 45  Recidivism_Arrest_Year2                            25835 non-null  bool   \n",
      " 46  Recidivism_Arrest_Year3                            25835 non-null  bool   \n",
      " 47  Training_Sample                                    25835 non-null  int64  \n",
      " 48  Male                                               25835 non-null  uint8  \n",
      " 49  WHITE                                              25835 non-null  uint8  \n",
      " 50  High Supervision                                   25835 non-null  uint8  \n",
      " 51  Specialized Supervision                            25835 non-null  uint8  \n",
      " 52  Standard Supervision                               25835 non-null  uint8  \n",
      " 53  Drug Offense                                       25835 non-null  uint8  \n",
      " 54  Other Offense                                      25835 non-null  uint8  \n",
      " 55  Property Offense                                   25835 non-null  uint8  \n",
      " 56  Violent/Non-Sex Offense                            25835 non-null  uint8  \n",
      " 57  Violent/Sex Offense                                25835 non-null  uint8  \n",
      " 58  1-2 years in prison                                25835 non-null  uint8  \n",
      " 59  2-3+ years in prison                               25835 non-null  uint8  \n",
      " 60  1- years in prison                                 25835 non-null  uint8  \n",
      " 61  3+ years in prison                                 25835 non-null  uint8  \n",
      "dtypes: bool(6), float64(9), int32(13), int64(16), object(4), uint8(14)\n",
      "memory usage: 7.5+ MB\n"
     ]
    }
   ],
   "source": [
    "rec_data.info()"
   ]
  },
  {
   "cell_type": "code",
   "execution_count": 128,
   "id": "077acfaf",
   "metadata": {},
   "outputs": [
    {
     "data": {
      "text/plain": [
       "array(['0', '4 or more', '3', '2', '1'], dtype=object)"
      ]
     },
     "execution_count": 128,
     "metadata": {},
     "output_type": "execute_result"
    }
   ],
   "source": [
    "rec_data['Delinquency_Reports'].unique()"
   ]
  },
  {
   "cell_type": "code",
   "execution_count": 129,
   "id": "caf479a7",
   "metadata": {},
   "outputs": [],
   "source": [
    "rec_data['Delinquency_Reports'] = rec_data['Delinquency_Reports'].replace(['4 or more'], [4])"
   ]
  },
  {
   "cell_type": "code",
   "execution_count": 130,
   "id": "835a38b3",
   "metadata": {},
   "outputs": [],
   "source": [
    "rec_data['Delinquency_Reports'] = rec_data['Delinquency_Reports'].astype(int)"
   ]
  },
  {
   "cell_type": "code",
   "execution_count": 131,
   "id": "a41cb04d",
   "metadata": {},
   "outputs": [],
   "source": [
    "rec_data['Program_Attendances'] = rec_data['Program_Attendances'].replace(['10 or more'], [10])"
   ]
  },
  {
   "cell_type": "code",
   "execution_count": 132,
   "id": "d7862e74",
   "metadata": {},
   "outputs": [
    {
     "data": {
      "text/plain": [
       "array(['0', '2', '3 or more', '1'], dtype=object)"
      ]
     },
     "execution_count": 132,
     "metadata": {},
     "output_type": "execute_result"
    }
   ],
   "source": [
    "rec_data['Program_UnexcusedAbsences'].unique()"
   ]
  },
  {
   "cell_type": "code",
   "execution_count": 133,
   "id": "2d26f1ff",
   "metadata": {},
   "outputs": [],
   "source": [
    "rec_data['Program_UnexcusedAbsences'] = rec_data['Program_UnexcusedAbsences'].replace(['3 or more'], [3])"
   ]
  },
  {
   "cell_type": "code",
   "execution_count": 134,
   "id": "de260c4b",
   "metadata": {},
   "outputs": [],
   "source": [
    "rec_data['Program_UnexcusedAbsences'] = rec_data['Program_UnexcusedAbsences'].astype(int)"
   ]
  },
  {
   "cell_type": "code",
   "execution_count": 135,
   "id": "d400a01e",
   "metadata": {},
   "outputs": [],
   "source": [
    "rec_data['Residence_Changes'] = rec_data['Residence_Changes'].replace(['3 or more'], [3])"
   ]
  },
  {
   "cell_type": "code",
   "execution_count": 136,
   "id": "ac1edf60",
   "metadata": {},
   "outputs": [],
   "source": [
    "rec_data['Residence_Changes'] = rec_data['Residence_Changes'].astype(int)"
   ]
  },
  {
   "cell_type": "code",
   "execution_count": 137,
   "id": "d969cfa7",
   "metadata": {},
   "outputs": [
    {
     "data": {
      "text/plain": [
       "0        2\n",
       "1        2\n",
       "2        0\n",
       "3        3\n",
       "4        0\n",
       "        ..\n",
       "25830    0\n",
       "25831    0\n",
       "25832    1\n",
       "25833    0\n",
       "25834    2\n",
       "Name: Residence_Changes, Length: 25835, dtype: int32"
      ]
     },
     "execution_count": 137,
     "metadata": {},
     "output_type": "execute_result"
    }
   ],
   "source": [
    "rec_data['Residence_Changes']"
   ]
  },
  {
   "cell_type": "code",
   "execution_count": 138,
   "id": "bd8ffbbb",
   "metadata": {},
   "outputs": [
    {
     "name": "stdout",
     "output_type": "stream",
     "text": [
      "<class 'pandas.core.frame.DataFrame'>\n",
      "RangeIndex: 25835 entries, 0 to 25834\n",
      "Data columns (total 62 columns):\n",
      " #   Column                                             Non-Null Count  Dtype  \n",
      "---  ------                                             --------------  -----  \n",
      " 0   Age_at_Release                                     25835 non-null  int32  \n",
      " 1   Residence_PUMA                                     25835 non-null  int64  \n",
      " 2   Gang_Affiliated                                    22668 non-null  float64\n",
      " 3   Supervision_Risk_Score_First                       25360 non-null  float64\n",
      " 4   Education_Level                                    25835 non-null  int32  \n",
      " 5   Dependents                                         25835 non-null  int32  \n",
      " 6   Prior_Arrest_Episodes_Felony                       25835 non-null  int32  \n",
      " 7   Prior_Arrest_Episodes_Misd                         25835 non-null  int32  \n",
      " 8   Prior_Arrest_Episodes_Violent                      25835 non-null  int32  \n",
      " 9   Prior_Arrest_Episodes_Property                     25835 non-null  int32  \n",
      " 10  Prior_Arrest_Episodes_Drug                         25835 non-null  int32  \n",
      " 11  Prior_Arrest_Episodes_PPViolationCharges           25835 non-null  int32  \n",
      " 12  Prior_Arrest_Episodes_DVCharges                    25835 non-null  int64  \n",
      " 13  Prior_Arrest_Episodes_GunCharges                   25835 non-null  int64  \n",
      " 14  Prior_Conviction_Episodes_Felony                   25835 non-null  int32  \n",
      " 15  Prior_Conviction_Episodes_Misd                     25835 non-null  int32  \n",
      " 16  Prior_Conviction_Episodes_Viol                     25835 non-null  int64  \n",
      " 17  Prior_Conviction_Episodes_Prop                     25835 non-null  int32  \n",
      " 18  Prior_Conviction_Episodes_Drug                     25835 non-null  int32  \n",
      " 19  Prior_Conviction_Episodes_PPViolationCharges       25835 non-null  int64  \n",
      " 20  Prior_Conviction_Episodes_DomesticViolenceCharges  25835 non-null  int64  \n",
      " 21  Prior_Conviction_Episodes_GunCharges               25835 non-null  int64  \n",
      " 22  Prior_Revocations_Parole                           25835 non-null  int64  \n",
      " 23  Prior_Revocations_Probation                        25835 non-null  int64  \n",
      " 24  Condition_MH_SA                                    25835 non-null  int64  \n",
      " 25  Condition_Cog_Ed                                   25835 non-null  int64  \n",
      " 26  Condition_Other                                    25835 non-null  bool   \n",
      " 27  Violations_ElectronicMonitoring                    25835 non-null  int64  \n",
      " 28  Violations_Instruction                             25835 non-null  int64  \n",
      " 29  Violations_FailToReport                            25835 non-null  int64  \n",
      " 30  Violations_MoveWithoutPermission                   25835 non-null  int64  \n",
      " 31  Delinquency_Reports                                25835 non-null  int32  \n",
      " 32  Program_Attendances                                25835 non-null  object \n",
      " 33  Program_UnexcusedAbsences                          25835 non-null  int32  \n",
      " 34  Residence_Changes                                  25835 non-null  int32  \n",
      " 35  Avg_Days_per_DrugTest                              19732 non-null  float64\n",
      " 36  DrugTests_THC_Positive                             20663 non-null  float64\n",
      " 37  DrugTests_Cocaine_Positive                         20663 non-null  float64\n",
      " 38  DrugTests_Meth_Positive                            20663 non-null  float64\n",
      " 39  DrugTests_Other_Positive                           20663 non-null  float64\n",
      " 40  Percent_Days_Employed                              25373 non-null  float64\n",
      " 41  Jobs_Per_Year                                      25027 non-null  float64\n",
      " 42  Employment_Exempt                                  25835 non-null  bool   \n",
      " 43  Recidivism_Within_3years                           25835 non-null  bool   \n",
      " 44  Recidivism_Arrest_Year1                            25835 non-null  bool   \n",
      " 45  Recidivism_Arrest_Year2                            25835 non-null  bool   \n",
      " 46  Recidivism_Arrest_Year3                            25835 non-null  bool   \n",
      " 47  Training_Sample                                    25835 non-null  int64  \n",
      " 48  Male                                               25835 non-null  uint8  \n",
      " 49  WHITE                                              25835 non-null  uint8  \n",
      " 50  High Supervision                                   25835 non-null  uint8  \n",
      " 51  Specialized Supervision                            25835 non-null  uint8  \n",
      " 52  Standard Supervision                               25835 non-null  uint8  \n",
      " 53  Drug Offense                                       25835 non-null  uint8  \n",
      " 54  Other Offense                                      25835 non-null  uint8  \n",
      " 55  Property Offense                                   25835 non-null  uint8  \n",
      " 56  Violent/Non-Sex Offense                            25835 non-null  uint8  \n",
      " 57  Violent/Sex Offense                                25835 non-null  uint8  \n",
      " 58  1-2 years in prison                                25835 non-null  uint8  \n",
      " 59  2-3+ years in prison                               25835 non-null  uint8  \n",
      " 60  1- years in prison                                 25835 non-null  uint8  \n",
      " 61  3+ years in prison                                 25835 non-null  uint8  \n",
      "dtypes: bool(6), float64(9), int32(16), int64(16), object(1), uint8(14)\n",
      "memory usage: 7.2+ MB\n"
     ]
    }
   ],
   "source": [
    "rec_data.info()"
   ]
  },
  {
   "cell_type": "code",
   "execution_count": 139,
   "id": "01c4b31b",
   "metadata": {},
   "outputs": [],
   "source": [
    "rec_data['Employment_Exempt'] = rec_data['Employment_Exempt'].replace([True,False], [1,0])"
   ]
  },
  {
   "cell_type": "code",
   "execution_count": 140,
   "id": "8b9de483",
   "metadata": {},
   "outputs": [],
   "source": [
    "rec_data['Recidivism_Within_3years'] = rec_data['Recidivism_Within_3years'].replace([True,False],[1,0])"
   ]
  },
  {
   "cell_type": "code",
   "execution_count": 141,
   "id": "2cf284c2",
   "metadata": {},
   "outputs": [],
   "source": [
    "rec_data['Recidivism_Arrest_Year1'] = rec_data['Recidivism_Arrest_Year1'].replace([True,False],[1,0])"
   ]
  },
  {
   "cell_type": "code",
   "execution_count": 142,
   "id": "40470c1d",
   "metadata": {},
   "outputs": [],
   "source": [
    "rec_data['Recidivism_Arrest_Year2'] = rec_data['Recidivism_Arrest_Year2'].replace([True,False], [1,0])"
   ]
  },
  {
   "cell_type": "code",
   "execution_count": 143,
   "id": "9452f30c",
   "metadata": {},
   "outputs": [],
   "source": [
    "rec_data['Recidivism_Arrest_Year3'] = rec_data['Recidivism_Arrest_Year3'].replace([True,False], [1,0])"
   ]
  },
  {
   "cell_type": "code",
   "execution_count": 144,
   "id": "49c89e10",
   "metadata": {},
   "outputs": [
    {
     "name": "stdout",
     "output_type": "stream",
     "text": [
      "<class 'pandas.core.frame.DataFrame'>\n",
      "RangeIndex: 25835 entries, 0 to 25834\n",
      "Data columns (total 62 columns):\n",
      " #   Column                                             Non-Null Count  Dtype  \n",
      "---  ------                                             --------------  -----  \n",
      " 0   Age_at_Release                                     25835 non-null  int32  \n",
      " 1   Residence_PUMA                                     25835 non-null  int64  \n",
      " 2   Gang_Affiliated                                    22668 non-null  float64\n",
      " 3   Supervision_Risk_Score_First                       25360 non-null  float64\n",
      " 4   Education_Level                                    25835 non-null  int32  \n",
      " 5   Dependents                                         25835 non-null  int32  \n",
      " 6   Prior_Arrest_Episodes_Felony                       25835 non-null  int32  \n",
      " 7   Prior_Arrest_Episodes_Misd                         25835 non-null  int32  \n",
      " 8   Prior_Arrest_Episodes_Violent                      25835 non-null  int32  \n",
      " 9   Prior_Arrest_Episodes_Property                     25835 non-null  int32  \n",
      " 10  Prior_Arrest_Episodes_Drug                         25835 non-null  int32  \n",
      " 11  Prior_Arrest_Episodes_PPViolationCharges           25835 non-null  int32  \n",
      " 12  Prior_Arrest_Episodes_DVCharges                    25835 non-null  int64  \n",
      " 13  Prior_Arrest_Episodes_GunCharges                   25835 non-null  int64  \n",
      " 14  Prior_Conviction_Episodes_Felony                   25835 non-null  int32  \n",
      " 15  Prior_Conviction_Episodes_Misd                     25835 non-null  int32  \n",
      " 16  Prior_Conviction_Episodes_Viol                     25835 non-null  int64  \n",
      " 17  Prior_Conviction_Episodes_Prop                     25835 non-null  int32  \n",
      " 18  Prior_Conviction_Episodes_Drug                     25835 non-null  int32  \n",
      " 19  Prior_Conviction_Episodes_PPViolationCharges       25835 non-null  int64  \n",
      " 20  Prior_Conviction_Episodes_DomesticViolenceCharges  25835 non-null  int64  \n",
      " 21  Prior_Conviction_Episodes_GunCharges               25835 non-null  int64  \n",
      " 22  Prior_Revocations_Parole                           25835 non-null  int64  \n",
      " 23  Prior_Revocations_Probation                        25835 non-null  int64  \n",
      " 24  Condition_MH_SA                                    25835 non-null  int64  \n",
      " 25  Condition_Cog_Ed                                   25835 non-null  int64  \n",
      " 26  Condition_Other                                    25835 non-null  bool   \n",
      " 27  Violations_ElectronicMonitoring                    25835 non-null  int64  \n",
      " 28  Violations_Instruction                             25835 non-null  int64  \n",
      " 29  Violations_FailToReport                            25835 non-null  int64  \n",
      " 30  Violations_MoveWithoutPermission                   25835 non-null  int64  \n",
      " 31  Delinquency_Reports                                25835 non-null  int32  \n",
      " 32  Program_Attendances                                25835 non-null  object \n",
      " 33  Program_UnexcusedAbsences                          25835 non-null  int32  \n",
      " 34  Residence_Changes                                  25835 non-null  int32  \n",
      " 35  Avg_Days_per_DrugTest                              19732 non-null  float64\n",
      " 36  DrugTests_THC_Positive                             20663 non-null  float64\n",
      " 37  DrugTests_Cocaine_Positive                         20663 non-null  float64\n",
      " 38  DrugTests_Meth_Positive                            20663 non-null  float64\n",
      " 39  DrugTests_Other_Positive                           20663 non-null  float64\n",
      " 40  Percent_Days_Employed                              25373 non-null  float64\n",
      " 41  Jobs_Per_Year                                      25027 non-null  float64\n",
      " 42  Employment_Exempt                                  25835 non-null  int64  \n",
      " 43  Recidivism_Within_3years                           25835 non-null  int64  \n",
      " 44  Recidivism_Arrest_Year1                            25835 non-null  int64  \n",
      " 45  Recidivism_Arrest_Year2                            25835 non-null  int64  \n",
      " 46  Recidivism_Arrest_Year3                            25835 non-null  int64  \n",
      " 47  Training_Sample                                    25835 non-null  int64  \n",
      " 48  Male                                               25835 non-null  uint8  \n",
      " 49  WHITE                                              25835 non-null  uint8  \n",
      " 50  High Supervision                                   25835 non-null  uint8  \n",
      " 51  Specialized Supervision                            25835 non-null  uint8  \n",
      " 52  Standard Supervision                               25835 non-null  uint8  \n",
      " 53  Drug Offense                                       25835 non-null  uint8  \n",
      " 54  Other Offense                                      25835 non-null  uint8  \n",
      " 55  Property Offense                                   25835 non-null  uint8  \n",
      " 56  Violent/Non-Sex Offense                            25835 non-null  uint8  \n",
      " 57  Violent/Sex Offense                                25835 non-null  uint8  \n",
      " 58  1-2 years in prison                                25835 non-null  uint8  \n",
      " 59  2-3+ years in prison                               25835 non-null  uint8  \n",
      " 60  1- years in prison                                 25835 non-null  uint8  \n",
      " 61  3+ years in prison                                 25835 non-null  uint8  \n",
      "dtypes: bool(1), float64(9), int32(16), int64(21), object(1), uint8(14)\n",
      "memory usage: 8.1+ MB\n"
     ]
    }
   ],
   "source": [
    "rec_data.info()"
   ]
  },
  {
   "cell_type": "code",
   "execution_count": 145,
   "id": "82ad17e6",
   "metadata": {},
   "outputs": [],
   "source": [
    "rec_data['Gang_Affiliated'] = rec_data['Gang_Affiliated'].fillna(0)"
   ]
  },
  {
   "cell_type": "code",
   "execution_count": 146,
   "id": "532443ca",
   "metadata": {},
   "outputs": [
    {
     "name": "stdout",
     "output_type": "stream",
     "text": [
      "<class 'pandas.core.frame.DataFrame'>\n",
      "RangeIndex: 25835 entries, 0 to 25834\n",
      "Data columns (total 62 columns):\n",
      " #   Column                                             Non-Null Count  Dtype  \n",
      "---  ------                                             --------------  -----  \n",
      " 0   Age_at_Release                                     25835 non-null  int32  \n",
      " 1   Residence_PUMA                                     25835 non-null  int64  \n",
      " 2   Gang_Affiliated                                    25835 non-null  float64\n",
      " 3   Supervision_Risk_Score_First                       25360 non-null  float64\n",
      " 4   Education_Level                                    25835 non-null  int32  \n",
      " 5   Dependents                                         25835 non-null  int32  \n",
      " 6   Prior_Arrest_Episodes_Felony                       25835 non-null  int32  \n",
      " 7   Prior_Arrest_Episodes_Misd                         25835 non-null  int32  \n",
      " 8   Prior_Arrest_Episodes_Violent                      25835 non-null  int32  \n",
      " 9   Prior_Arrest_Episodes_Property                     25835 non-null  int32  \n",
      " 10  Prior_Arrest_Episodes_Drug                         25835 non-null  int32  \n",
      " 11  Prior_Arrest_Episodes_PPViolationCharges           25835 non-null  int32  \n",
      " 12  Prior_Arrest_Episodes_DVCharges                    25835 non-null  int64  \n",
      " 13  Prior_Arrest_Episodes_GunCharges                   25835 non-null  int64  \n",
      " 14  Prior_Conviction_Episodes_Felony                   25835 non-null  int32  \n",
      " 15  Prior_Conviction_Episodes_Misd                     25835 non-null  int32  \n",
      " 16  Prior_Conviction_Episodes_Viol                     25835 non-null  int64  \n",
      " 17  Prior_Conviction_Episodes_Prop                     25835 non-null  int32  \n",
      " 18  Prior_Conviction_Episodes_Drug                     25835 non-null  int32  \n",
      " 19  Prior_Conviction_Episodes_PPViolationCharges       25835 non-null  int64  \n",
      " 20  Prior_Conviction_Episodes_DomesticViolenceCharges  25835 non-null  int64  \n",
      " 21  Prior_Conviction_Episodes_GunCharges               25835 non-null  int64  \n",
      " 22  Prior_Revocations_Parole                           25835 non-null  int64  \n",
      " 23  Prior_Revocations_Probation                        25835 non-null  int64  \n",
      " 24  Condition_MH_SA                                    25835 non-null  int64  \n",
      " 25  Condition_Cog_Ed                                   25835 non-null  int64  \n",
      " 26  Condition_Other                                    25835 non-null  bool   \n",
      " 27  Violations_ElectronicMonitoring                    25835 non-null  int64  \n",
      " 28  Violations_Instruction                             25835 non-null  int64  \n",
      " 29  Violations_FailToReport                            25835 non-null  int64  \n",
      " 30  Violations_MoveWithoutPermission                   25835 non-null  int64  \n",
      " 31  Delinquency_Reports                                25835 non-null  int32  \n",
      " 32  Program_Attendances                                25835 non-null  object \n",
      " 33  Program_UnexcusedAbsences                          25835 non-null  int32  \n",
      " 34  Residence_Changes                                  25835 non-null  int32  \n",
      " 35  Avg_Days_per_DrugTest                              19732 non-null  float64\n",
      " 36  DrugTests_THC_Positive                             20663 non-null  float64\n",
      " 37  DrugTests_Cocaine_Positive                         20663 non-null  float64\n",
      " 38  DrugTests_Meth_Positive                            20663 non-null  float64\n",
      " 39  DrugTests_Other_Positive                           20663 non-null  float64\n",
      " 40  Percent_Days_Employed                              25373 non-null  float64\n",
      " 41  Jobs_Per_Year                                      25027 non-null  float64\n",
      " 42  Employment_Exempt                                  25835 non-null  int64  \n",
      " 43  Recidivism_Within_3years                           25835 non-null  int64  \n",
      " 44  Recidivism_Arrest_Year1                            25835 non-null  int64  \n",
      " 45  Recidivism_Arrest_Year2                            25835 non-null  int64  \n",
      " 46  Recidivism_Arrest_Year3                            25835 non-null  int64  \n",
      " 47  Training_Sample                                    25835 non-null  int64  \n",
      " 48  Male                                               25835 non-null  uint8  \n",
      " 49  WHITE                                              25835 non-null  uint8  \n",
      " 50  High Supervision                                   25835 non-null  uint8  \n",
      " 51  Specialized Supervision                            25835 non-null  uint8  \n",
      " 52  Standard Supervision                               25835 non-null  uint8  \n",
      " 53  Drug Offense                                       25835 non-null  uint8  \n",
      " 54  Other Offense                                      25835 non-null  uint8  \n",
      " 55  Property Offense                                   25835 non-null  uint8  \n",
      " 56  Violent/Non-Sex Offense                            25835 non-null  uint8  \n",
      " 57  Violent/Sex Offense                                25835 non-null  uint8  \n",
      " 58  1-2 years in prison                                25835 non-null  uint8  \n",
      " 59  2-3+ years in prison                               25835 non-null  uint8  \n",
      " 60  1- years in prison                                 25835 non-null  uint8  \n",
      " 61  3+ years in prison                                 25835 non-null  uint8  \n",
      "dtypes: bool(1), float64(9), int32(16), int64(21), object(1), uint8(14)\n",
      "memory usage: 8.1+ MB\n"
     ]
    }
   ],
   "source": [
    "rec_data.info()"
   ]
  },
  {
   "cell_type": "code",
   "execution_count": 147,
   "id": "7be42add",
   "metadata": {},
   "outputs": [],
   "source": [
    "rec_data['Supervision_Risk_Score_First'] = rec_data['Supervision_Risk_Score_First'].fillna(rec_data['Supervision_Risk_Score_First'].mean())"
   ]
  },
  {
   "cell_type": "code",
   "execution_count": 148,
   "id": "dcad6b10",
   "metadata": {},
   "outputs": [],
   "source": [
    "rec_data['Avg_Days_per_DrugTest'] = rec_data['Avg_Days_per_DrugTest'].fillna(rec_data['Avg_Days_per_DrugTest'].mean())"
   ]
  },
  {
   "cell_type": "code",
   "execution_count": 149,
   "id": "f3b07af5",
   "metadata": {},
   "outputs": [
    {
     "name": "stdout",
     "output_type": "stream",
     "text": [
      "<class 'pandas.core.frame.DataFrame'>\n",
      "RangeIndex: 25835 entries, 0 to 25834\n",
      "Data columns (total 62 columns):\n",
      " #   Column                                             Non-Null Count  Dtype  \n",
      "---  ------                                             --------------  -----  \n",
      " 0   Age_at_Release                                     25835 non-null  int32  \n",
      " 1   Residence_PUMA                                     25835 non-null  int64  \n",
      " 2   Gang_Affiliated                                    25835 non-null  float64\n",
      " 3   Supervision_Risk_Score_First                       25835 non-null  float64\n",
      " 4   Education_Level                                    25835 non-null  int32  \n",
      " 5   Dependents                                         25835 non-null  int32  \n",
      " 6   Prior_Arrest_Episodes_Felony                       25835 non-null  int32  \n",
      " 7   Prior_Arrest_Episodes_Misd                         25835 non-null  int32  \n",
      " 8   Prior_Arrest_Episodes_Violent                      25835 non-null  int32  \n",
      " 9   Prior_Arrest_Episodes_Property                     25835 non-null  int32  \n",
      " 10  Prior_Arrest_Episodes_Drug                         25835 non-null  int32  \n",
      " 11  Prior_Arrest_Episodes_PPViolationCharges           25835 non-null  int32  \n",
      " 12  Prior_Arrest_Episodes_DVCharges                    25835 non-null  int64  \n",
      " 13  Prior_Arrest_Episodes_GunCharges                   25835 non-null  int64  \n",
      " 14  Prior_Conviction_Episodes_Felony                   25835 non-null  int32  \n",
      " 15  Prior_Conviction_Episodes_Misd                     25835 non-null  int32  \n",
      " 16  Prior_Conviction_Episodes_Viol                     25835 non-null  int64  \n",
      " 17  Prior_Conviction_Episodes_Prop                     25835 non-null  int32  \n",
      " 18  Prior_Conviction_Episodes_Drug                     25835 non-null  int32  \n",
      " 19  Prior_Conviction_Episodes_PPViolationCharges       25835 non-null  int64  \n",
      " 20  Prior_Conviction_Episodes_DomesticViolenceCharges  25835 non-null  int64  \n",
      " 21  Prior_Conviction_Episodes_GunCharges               25835 non-null  int64  \n",
      " 22  Prior_Revocations_Parole                           25835 non-null  int64  \n",
      " 23  Prior_Revocations_Probation                        25835 non-null  int64  \n",
      " 24  Condition_MH_SA                                    25835 non-null  int64  \n",
      " 25  Condition_Cog_Ed                                   25835 non-null  int64  \n",
      " 26  Condition_Other                                    25835 non-null  bool   \n",
      " 27  Violations_ElectronicMonitoring                    25835 non-null  int64  \n",
      " 28  Violations_Instruction                             25835 non-null  int64  \n",
      " 29  Violations_FailToReport                            25835 non-null  int64  \n",
      " 30  Violations_MoveWithoutPermission                   25835 non-null  int64  \n",
      " 31  Delinquency_Reports                                25835 non-null  int32  \n",
      " 32  Program_Attendances                                25835 non-null  object \n",
      " 33  Program_UnexcusedAbsences                          25835 non-null  int32  \n",
      " 34  Residence_Changes                                  25835 non-null  int32  \n",
      " 35  Avg_Days_per_DrugTest                              25835 non-null  float64\n",
      " 36  DrugTests_THC_Positive                             20663 non-null  float64\n",
      " 37  DrugTests_Cocaine_Positive                         20663 non-null  float64\n",
      " 38  DrugTests_Meth_Positive                            20663 non-null  float64\n",
      " 39  DrugTests_Other_Positive                           20663 non-null  float64\n",
      " 40  Percent_Days_Employed                              25373 non-null  float64\n",
      " 41  Jobs_Per_Year                                      25027 non-null  float64\n",
      " 42  Employment_Exempt                                  25835 non-null  int64  \n",
      " 43  Recidivism_Within_3years                           25835 non-null  int64  \n",
      " 44  Recidivism_Arrest_Year1                            25835 non-null  int64  \n",
      " 45  Recidivism_Arrest_Year2                            25835 non-null  int64  \n",
      " 46  Recidivism_Arrest_Year3                            25835 non-null  int64  \n",
      " 47  Training_Sample                                    25835 non-null  int64  \n",
      " 48  Male                                               25835 non-null  uint8  \n",
      " 49  WHITE                                              25835 non-null  uint8  \n",
      " 50  High Supervision                                   25835 non-null  uint8  \n",
      " 51  Specialized Supervision                            25835 non-null  uint8  \n",
      " 52  Standard Supervision                               25835 non-null  uint8  \n",
      " 53  Drug Offense                                       25835 non-null  uint8  \n",
      " 54  Other Offense                                      25835 non-null  uint8  \n",
      " 55  Property Offense                                   25835 non-null  uint8  \n",
      " 56  Violent/Non-Sex Offense                            25835 non-null  uint8  \n",
      " 57  Violent/Sex Offense                                25835 non-null  uint8  \n",
      " 58  1-2 years in prison                                25835 non-null  uint8  \n",
      " 59  2-3+ years in prison                               25835 non-null  uint8  \n",
      " 60  1- years in prison                                 25835 non-null  uint8  \n",
      " 61  3+ years in prison                                 25835 non-null  uint8  \n",
      "dtypes: bool(1), float64(9), int32(16), int64(21), object(1), uint8(14)\n",
      "memory usage: 8.1+ MB\n"
     ]
    }
   ],
   "source": [
    "rec_data.info()"
   ]
  },
  {
   "cell_type": "code",
   "execution_count": 150,
   "id": "0c55e7a0",
   "metadata": {},
   "outputs": [],
   "source": [
    "rec_data['Avg_Days_per_DrugTest'] = rec_data['Avg_Days_per_DrugTest'].fillna(rec_data['Avg_Days_per_DrugTest'].mean())"
   ]
  },
  {
   "cell_type": "code",
   "execution_count": 151,
   "id": "1763893f",
   "metadata": {},
   "outputs": [
    {
     "data": {
      "text/plain": [
       "0.06334975103789381"
      ]
     },
     "execution_count": 151,
     "metadata": {},
     "output_type": "execute_result"
    }
   ],
   "source": [
    "rec_data['DrugTests_THC_Positive'].mean()"
   ]
  },
  {
   "cell_type": "code",
   "execution_count": 152,
   "id": "4cd75b06",
   "metadata": {},
   "outputs": [],
   "source": [
    "rec_data['DrugTests_THC_Positive'] = rec_data['DrugTests_THC_Positive'].fillna(0)"
   ]
  },
  {
   "cell_type": "code",
   "execution_count": 153,
   "id": "13aa07d9",
   "metadata": {},
   "outputs": [],
   "source": [
    "rec_data['DrugTests_Meth_Positive'] = rec_data['DrugTests_THC_Positive'].fillna(0)"
   ]
  },
  {
   "cell_type": "code",
   "execution_count": 154,
   "id": "1a9e4e57",
   "metadata": {},
   "outputs": [],
   "source": [
    "rec_data['DrugTests_Cocaine_Positive'] = rec_data['DrugTests_THC_Positive'].fillna(0)"
   ]
  },
  {
   "cell_type": "code",
   "execution_count": 155,
   "id": "8bcdd0c2",
   "metadata": {},
   "outputs": [],
   "source": [
    "rec_data['DrugTests_Other_Positive'] = rec_data['DrugTests_THC_Positive'].fillna(0)"
   ]
  },
  {
   "cell_type": "code",
   "execution_count": 156,
   "id": "b6b13fe1",
   "metadata": {},
   "outputs": [],
   "source": [
    "rec_data['Condition_Other'] = rec_data['Condition_Other'].replace([True,False], [1,0])"
   ]
  },
  {
   "cell_type": "code",
   "execution_count": 157,
   "id": "302edcc2",
   "metadata": {},
   "outputs": [
    {
     "name": "stdout",
     "output_type": "stream",
     "text": [
      "<class 'pandas.core.frame.DataFrame'>\n",
      "RangeIndex: 25835 entries, 0 to 25834\n",
      "Data columns (total 62 columns):\n",
      " #   Column                                             Non-Null Count  Dtype  \n",
      "---  ------                                             --------------  -----  \n",
      " 0   Age_at_Release                                     25835 non-null  int32  \n",
      " 1   Residence_PUMA                                     25835 non-null  int64  \n",
      " 2   Gang_Affiliated                                    25835 non-null  float64\n",
      " 3   Supervision_Risk_Score_First                       25835 non-null  float64\n",
      " 4   Education_Level                                    25835 non-null  int32  \n",
      " 5   Dependents                                         25835 non-null  int32  \n",
      " 6   Prior_Arrest_Episodes_Felony                       25835 non-null  int32  \n",
      " 7   Prior_Arrest_Episodes_Misd                         25835 non-null  int32  \n",
      " 8   Prior_Arrest_Episodes_Violent                      25835 non-null  int32  \n",
      " 9   Prior_Arrest_Episodes_Property                     25835 non-null  int32  \n",
      " 10  Prior_Arrest_Episodes_Drug                         25835 non-null  int32  \n",
      " 11  Prior_Arrest_Episodes_PPViolationCharges           25835 non-null  int32  \n",
      " 12  Prior_Arrest_Episodes_DVCharges                    25835 non-null  int64  \n",
      " 13  Prior_Arrest_Episodes_GunCharges                   25835 non-null  int64  \n",
      " 14  Prior_Conviction_Episodes_Felony                   25835 non-null  int32  \n",
      " 15  Prior_Conviction_Episodes_Misd                     25835 non-null  int32  \n",
      " 16  Prior_Conviction_Episodes_Viol                     25835 non-null  int64  \n",
      " 17  Prior_Conviction_Episodes_Prop                     25835 non-null  int32  \n",
      " 18  Prior_Conviction_Episodes_Drug                     25835 non-null  int32  \n",
      " 19  Prior_Conviction_Episodes_PPViolationCharges       25835 non-null  int64  \n",
      " 20  Prior_Conviction_Episodes_DomesticViolenceCharges  25835 non-null  int64  \n",
      " 21  Prior_Conviction_Episodes_GunCharges               25835 non-null  int64  \n",
      " 22  Prior_Revocations_Parole                           25835 non-null  int64  \n",
      " 23  Prior_Revocations_Probation                        25835 non-null  int64  \n",
      " 24  Condition_MH_SA                                    25835 non-null  int64  \n",
      " 25  Condition_Cog_Ed                                   25835 non-null  int64  \n",
      " 26  Condition_Other                                    25835 non-null  int64  \n",
      " 27  Violations_ElectronicMonitoring                    25835 non-null  int64  \n",
      " 28  Violations_Instruction                             25835 non-null  int64  \n",
      " 29  Violations_FailToReport                            25835 non-null  int64  \n",
      " 30  Violations_MoveWithoutPermission                   25835 non-null  int64  \n",
      " 31  Delinquency_Reports                                25835 non-null  int32  \n",
      " 32  Program_Attendances                                25835 non-null  object \n",
      " 33  Program_UnexcusedAbsences                          25835 non-null  int32  \n",
      " 34  Residence_Changes                                  25835 non-null  int32  \n",
      " 35  Avg_Days_per_DrugTest                              25835 non-null  float64\n",
      " 36  DrugTests_THC_Positive                             25835 non-null  float64\n",
      " 37  DrugTests_Cocaine_Positive                         25835 non-null  float64\n",
      " 38  DrugTests_Meth_Positive                            25835 non-null  float64\n",
      " 39  DrugTests_Other_Positive                           25835 non-null  float64\n",
      " 40  Percent_Days_Employed                              25373 non-null  float64\n",
      " 41  Jobs_Per_Year                                      25027 non-null  float64\n",
      " 42  Employment_Exempt                                  25835 non-null  int64  \n",
      " 43  Recidivism_Within_3years                           25835 non-null  int64  \n",
      " 44  Recidivism_Arrest_Year1                            25835 non-null  int64  \n",
      " 45  Recidivism_Arrest_Year2                            25835 non-null  int64  \n",
      " 46  Recidivism_Arrest_Year3                            25835 non-null  int64  \n",
      " 47  Training_Sample                                    25835 non-null  int64  \n",
      " 48  Male                                               25835 non-null  uint8  \n",
      " 49  WHITE                                              25835 non-null  uint8  \n",
      " 50  High Supervision                                   25835 non-null  uint8  \n",
      " 51  Specialized Supervision                            25835 non-null  uint8  \n",
      " 52  Standard Supervision                               25835 non-null  uint8  \n",
      " 53  Drug Offense                                       25835 non-null  uint8  \n",
      " 54  Other Offense                                      25835 non-null  uint8  \n",
      " 55  Property Offense                                   25835 non-null  uint8  \n",
      " 56  Violent/Non-Sex Offense                            25835 non-null  uint8  \n",
      " 57  Violent/Sex Offense                                25835 non-null  uint8  \n",
      " 58  1-2 years in prison                                25835 non-null  uint8  \n",
      " 59  2-3+ years in prison                               25835 non-null  uint8  \n",
      " 60  1- years in prison                                 25835 non-null  uint8  \n",
      " 61  3+ years in prison                                 25835 non-null  uint8  \n",
      "dtypes: float64(9), int32(16), int64(22), object(1), uint8(14)\n",
      "memory usage: 8.2+ MB\n"
     ]
    }
   ],
   "source": [
    "rec_data.info()"
   ]
  },
  {
   "cell_type": "code",
   "execution_count": 158,
   "id": "cf2e529d",
   "metadata": {},
   "outputs": [],
   "source": [
    "rec_data['Jobs_Per_Year'] = rec_data['Jobs_Per_Year'].fillna(rec_data['Jobs_Per_Year'].mean())"
   ]
  },
  {
   "cell_type": "code",
   "execution_count": 159,
   "id": "99160678",
   "metadata": {},
   "outputs": [
    {
     "data": {
      "text/plain": [
       "0        0.447610\n",
       "1        2.000000\n",
       "2        0.000000\n",
       "3        0.718996\n",
       "4        0.929389\n",
       "           ...   \n",
       "25830    0.572044\n",
       "25831    0.576104\n",
       "25832    0.894125\n",
       "25833    0.000000\n",
       "25834    0.398745\n",
       "Name: Jobs_Per_Year, Length: 25835, dtype: float64"
      ]
     },
     "execution_count": 159,
     "metadata": {},
     "output_type": "execute_result"
    }
   ],
   "source": [
    "rec_data['Jobs_Per_Year']"
   ]
  },
  {
   "cell_type": "code",
   "execution_count": 160,
   "id": "a207a540",
   "metadata": {},
   "outputs": [],
   "source": [
    "rec_data['Percent_Days_Employed'] = rec_data['Percent_Days_Employed'].fillna(rec_data['Percent_Days_Employed'].mean())"
   ]
  },
  {
   "cell_type": "code",
   "execution_count": 161,
   "id": "6afa0f20",
   "metadata": {},
   "outputs": [
    {
     "name": "stdout",
     "output_type": "stream",
     "text": [
      "<class 'pandas.core.frame.DataFrame'>\n",
      "RangeIndex: 25835 entries, 0 to 25834\n",
      "Data columns (total 62 columns):\n",
      " #   Column                                             Non-Null Count  Dtype  \n",
      "---  ------                                             --------------  -----  \n",
      " 0   Age_at_Release                                     25835 non-null  int32  \n",
      " 1   Residence_PUMA                                     25835 non-null  int64  \n",
      " 2   Gang_Affiliated                                    25835 non-null  float64\n",
      " 3   Supervision_Risk_Score_First                       25835 non-null  float64\n",
      " 4   Education_Level                                    25835 non-null  int32  \n",
      " 5   Dependents                                         25835 non-null  int32  \n",
      " 6   Prior_Arrest_Episodes_Felony                       25835 non-null  int32  \n",
      " 7   Prior_Arrest_Episodes_Misd                         25835 non-null  int32  \n",
      " 8   Prior_Arrest_Episodes_Violent                      25835 non-null  int32  \n",
      " 9   Prior_Arrest_Episodes_Property                     25835 non-null  int32  \n",
      " 10  Prior_Arrest_Episodes_Drug                         25835 non-null  int32  \n",
      " 11  Prior_Arrest_Episodes_PPViolationCharges           25835 non-null  int32  \n",
      " 12  Prior_Arrest_Episodes_DVCharges                    25835 non-null  int64  \n",
      " 13  Prior_Arrest_Episodes_GunCharges                   25835 non-null  int64  \n",
      " 14  Prior_Conviction_Episodes_Felony                   25835 non-null  int32  \n",
      " 15  Prior_Conviction_Episodes_Misd                     25835 non-null  int32  \n",
      " 16  Prior_Conviction_Episodes_Viol                     25835 non-null  int64  \n",
      " 17  Prior_Conviction_Episodes_Prop                     25835 non-null  int32  \n",
      " 18  Prior_Conviction_Episodes_Drug                     25835 non-null  int32  \n",
      " 19  Prior_Conviction_Episodes_PPViolationCharges       25835 non-null  int64  \n",
      " 20  Prior_Conviction_Episodes_DomesticViolenceCharges  25835 non-null  int64  \n",
      " 21  Prior_Conviction_Episodes_GunCharges               25835 non-null  int64  \n",
      " 22  Prior_Revocations_Parole                           25835 non-null  int64  \n",
      " 23  Prior_Revocations_Probation                        25835 non-null  int64  \n",
      " 24  Condition_MH_SA                                    25835 non-null  int64  \n",
      " 25  Condition_Cog_Ed                                   25835 non-null  int64  \n",
      " 26  Condition_Other                                    25835 non-null  int64  \n",
      " 27  Violations_ElectronicMonitoring                    25835 non-null  int64  \n",
      " 28  Violations_Instruction                             25835 non-null  int64  \n",
      " 29  Violations_FailToReport                            25835 non-null  int64  \n",
      " 30  Violations_MoveWithoutPermission                   25835 non-null  int64  \n",
      " 31  Delinquency_Reports                                25835 non-null  int32  \n",
      " 32  Program_Attendances                                25835 non-null  object \n",
      " 33  Program_UnexcusedAbsences                          25835 non-null  int32  \n",
      " 34  Residence_Changes                                  25835 non-null  int32  \n",
      " 35  Avg_Days_per_DrugTest                              25835 non-null  float64\n",
      " 36  DrugTests_THC_Positive                             25835 non-null  float64\n",
      " 37  DrugTests_Cocaine_Positive                         25835 non-null  float64\n",
      " 38  DrugTests_Meth_Positive                            25835 non-null  float64\n",
      " 39  DrugTests_Other_Positive                           25835 non-null  float64\n",
      " 40  Percent_Days_Employed                              25835 non-null  float64\n",
      " 41  Jobs_Per_Year                                      25835 non-null  float64\n",
      " 42  Employment_Exempt                                  25835 non-null  int64  \n",
      " 43  Recidivism_Within_3years                           25835 non-null  int64  \n",
      " 44  Recidivism_Arrest_Year1                            25835 non-null  int64  \n",
      " 45  Recidivism_Arrest_Year2                            25835 non-null  int64  \n",
      " 46  Recidivism_Arrest_Year3                            25835 non-null  int64  \n",
      " 47  Training_Sample                                    25835 non-null  int64  \n",
      " 48  Male                                               25835 non-null  uint8  \n",
      " 49  WHITE                                              25835 non-null  uint8  \n",
      " 50  High Supervision                                   25835 non-null  uint8  \n",
      " 51  Specialized Supervision                            25835 non-null  uint8  \n",
      " 52  Standard Supervision                               25835 non-null  uint8  \n",
      " 53  Drug Offense                                       25835 non-null  uint8  \n",
      " 54  Other Offense                                      25835 non-null  uint8  \n",
      " 55  Property Offense                                   25835 non-null  uint8  \n",
      " 56  Violent/Non-Sex Offense                            25835 non-null  uint8  \n",
      " 57  Violent/Sex Offense                                25835 non-null  uint8  \n",
      " 58  1-2 years in prison                                25835 non-null  uint8  \n",
      " 59  2-3+ years in prison                               25835 non-null  uint8  \n",
      " 60  1- years in prison                                 25835 non-null  uint8  \n",
      " 61  3+ years in prison                                 25835 non-null  uint8  \n",
      "dtypes: float64(9), int32(16), int64(22), object(1), uint8(14)\n",
      "memory usage: 8.2+ MB\n"
     ]
    }
   ],
   "source": [
    "rec_data.info()"
   ]
  },
  {
   "cell_type": "code",
   "execution_count": 162,
   "id": "27fb64a3",
   "metadata": {},
   "outputs": [],
   "source": [
    "rec_data['Program_Attendances'] = rec_data['Program_Attendances'].astype(int)"
   ]
  },
  {
   "cell_type": "code",
   "execution_count": 163,
   "id": "826adaec",
   "metadata": {},
   "outputs": [
    {
     "name": "stdout",
     "output_type": "stream",
     "text": [
      "<class 'pandas.core.frame.DataFrame'>\n",
      "RangeIndex: 25835 entries, 0 to 25834\n",
      "Data columns (total 62 columns):\n",
      " #   Column                                             Non-Null Count  Dtype  \n",
      "---  ------                                             --------------  -----  \n",
      " 0   Age_at_Release                                     25835 non-null  int32  \n",
      " 1   Residence_PUMA                                     25835 non-null  int64  \n",
      " 2   Gang_Affiliated                                    25835 non-null  float64\n",
      " 3   Supervision_Risk_Score_First                       25835 non-null  float64\n",
      " 4   Education_Level                                    25835 non-null  int32  \n",
      " 5   Dependents                                         25835 non-null  int32  \n",
      " 6   Prior_Arrest_Episodes_Felony                       25835 non-null  int32  \n",
      " 7   Prior_Arrest_Episodes_Misd                         25835 non-null  int32  \n",
      " 8   Prior_Arrest_Episodes_Violent                      25835 non-null  int32  \n",
      " 9   Prior_Arrest_Episodes_Property                     25835 non-null  int32  \n",
      " 10  Prior_Arrest_Episodes_Drug                         25835 non-null  int32  \n",
      " 11  Prior_Arrest_Episodes_PPViolationCharges           25835 non-null  int32  \n",
      " 12  Prior_Arrest_Episodes_DVCharges                    25835 non-null  int64  \n",
      " 13  Prior_Arrest_Episodes_GunCharges                   25835 non-null  int64  \n",
      " 14  Prior_Conviction_Episodes_Felony                   25835 non-null  int32  \n",
      " 15  Prior_Conviction_Episodes_Misd                     25835 non-null  int32  \n",
      " 16  Prior_Conviction_Episodes_Viol                     25835 non-null  int64  \n",
      " 17  Prior_Conviction_Episodes_Prop                     25835 non-null  int32  \n",
      " 18  Prior_Conviction_Episodes_Drug                     25835 non-null  int32  \n",
      " 19  Prior_Conviction_Episodes_PPViolationCharges       25835 non-null  int64  \n",
      " 20  Prior_Conviction_Episodes_DomesticViolenceCharges  25835 non-null  int64  \n",
      " 21  Prior_Conviction_Episodes_GunCharges               25835 non-null  int64  \n",
      " 22  Prior_Revocations_Parole                           25835 non-null  int64  \n",
      " 23  Prior_Revocations_Probation                        25835 non-null  int64  \n",
      " 24  Condition_MH_SA                                    25835 non-null  int64  \n",
      " 25  Condition_Cog_Ed                                   25835 non-null  int64  \n",
      " 26  Condition_Other                                    25835 non-null  int64  \n",
      " 27  Violations_ElectronicMonitoring                    25835 non-null  int64  \n",
      " 28  Violations_Instruction                             25835 non-null  int64  \n",
      " 29  Violations_FailToReport                            25835 non-null  int64  \n",
      " 30  Violations_MoveWithoutPermission                   25835 non-null  int64  \n",
      " 31  Delinquency_Reports                                25835 non-null  int32  \n",
      " 32  Program_Attendances                                25835 non-null  int32  \n",
      " 33  Program_UnexcusedAbsences                          25835 non-null  int32  \n",
      " 34  Residence_Changes                                  25835 non-null  int32  \n",
      " 35  Avg_Days_per_DrugTest                              25835 non-null  float64\n",
      " 36  DrugTests_THC_Positive                             25835 non-null  float64\n",
      " 37  DrugTests_Cocaine_Positive                         25835 non-null  float64\n",
      " 38  DrugTests_Meth_Positive                            25835 non-null  float64\n",
      " 39  DrugTests_Other_Positive                           25835 non-null  float64\n",
      " 40  Percent_Days_Employed                              25835 non-null  float64\n",
      " 41  Jobs_Per_Year                                      25835 non-null  float64\n",
      " 42  Employment_Exempt                                  25835 non-null  int64  \n",
      " 43  Recidivism_Within_3years                           25835 non-null  int64  \n",
      " 44  Recidivism_Arrest_Year1                            25835 non-null  int64  \n",
      " 45  Recidivism_Arrest_Year2                            25835 non-null  int64  \n",
      " 46  Recidivism_Arrest_Year3                            25835 non-null  int64  \n",
      " 47  Training_Sample                                    25835 non-null  int64  \n",
      " 48  Male                                               25835 non-null  uint8  \n",
      " 49  WHITE                                              25835 non-null  uint8  \n",
      " 50  High Supervision                                   25835 non-null  uint8  \n",
      " 51  Specialized Supervision                            25835 non-null  uint8  \n",
      " 52  Standard Supervision                               25835 non-null  uint8  \n",
      " 53  Drug Offense                                       25835 non-null  uint8  \n",
      " 54  Other Offense                                      25835 non-null  uint8  \n",
      " 55  Property Offense                                   25835 non-null  uint8  \n",
      " 56  Violent/Non-Sex Offense                            25835 non-null  uint8  \n",
      " 57  Violent/Sex Offense                                25835 non-null  uint8  \n",
      " 58  1-2 years in prison                                25835 non-null  uint8  \n",
      " 59  2-3+ years in prison                               25835 non-null  uint8  \n",
      " 60  1- years in prison                                 25835 non-null  uint8  \n",
      " 61  3+ years in prison                                 25835 non-null  uint8  \n",
      "dtypes: float64(9), int32(17), int64(22), uint8(14)\n",
      "memory usage: 8.1 MB\n"
     ]
    }
   ],
   "source": [
    "rec_data.info()"
   ]
  },
  {
   "cell_type": "code",
   "execution_count": 164,
   "id": "8cebc66b",
   "metadata": {},
   "outputs": [],
   "source": [
    "import seaborn as sns\n",
    "import matplotlib.pyplot as plt"
   ]
  },
  {
   "cell_type": "code",
   "execution_count": 165,
   "id": "d96ee749",
   "metadata": {},
   "outputs": [
    {
     "name": "stderr",
     "output_type": "stream",
     "text": [
      "C:\\Users\\anime\\anaconda3\\envs\\tensor\\lib\\site-packages\\seaborn\\_decorators.py:43: FutureWarning: Pass the following variable as a keyword arg: x. From version 0.12, the only valid positional argument will be `data`, and passing other arguments without an explicit keyword will result in an error or misinterpretation.\n",
      "  FutureWarning\n"
     ]
    },
    {
     "data": {
      "text/plain": [
       "<AxesSubplot:title={'center':'Histogram of Recidivism Within 3 Years (0 = No Recidivism, 1 = Recidivism)'}, xlabel='Recidivism_Within_3years', ylabel='count'>"
      ]
     },
     "execution_count": 165,
     "metadata": {},
     "output_type": "execute_result"
    },
    {
     "data": {
      "image/png": "[encoded data removed]",
      "text/plain": [
       "<Figure size 720x720 with 1 Axes>"
      ]
     },
     "metadata": {
      "needs_background": "light"
     },
     "output_type": "display_data"
    }
   ],
   "source": [
    "fig = plt.figure(figsize=(10,10))\n",
    "plt.title('Histogram of Recidivism Within 3 Years (0 = No Recidivism, 1 = Recidivism)')\n",
    "sns.countplot(rec_data['Recidivism_Within_3years'], palette='deep')"
   ]
  },
  {
   "cell_type": "code",
   "execution_count": 166,
   "id": "8225dbc9",
   "metadata": {},
   "outputs": [
    {
     "name": "stderr",
     "output_type": "stream",
     "text": [
      "C:\\Users\\anime\\anaconda3\\envs\\tensor\\lib\\site-packages\\seaborn\\_decorators.py:43: FutureWarning: Pass the following variable as a keyword arg: x. From version 0.12, the only valid positional argument will be `data`, and passing other arguments without an explicit keyword will result in an error or misinterpretation.\n",
      "  FutureWarning\n"
     ]
    },
    {
     "data": {
      "text/plain": [
       "<AxesSubplot:title={'center':'Histogram of Recidivism in First Year (0 = No Recidivism, 1 = Recidivism)'}, xlabel='Recidivism_Arrest_Year1', ylabel='count'>"
      ]
     },
     "execution_count": 166,
     "metadata": {},
     "output_type": "execute_result"
    },
    {
     "data": {
      "image/png": "[encoded data removed]",
      "text/plain": [
       "<Figure size 720x720 with 1 Axes>"
      ]
     },
     "metadata": {
      "needs_background": "light"
     },
     "output_type": "display_data"
    }
   ],
   "source": [
    "fig = plt.figure(figsize=(10,10))\n",
    "plt.title('Histogram of Recidivism in First Year (0 = No Recidivism, 1 = Recidivism)')\n",
    "sns.countplot(rec_data['Recidivism_Arrest_Year1'], palette='deep')"
   ]
  },
  {
   "cell_type": "code",
   "execution_count": 167,
   "id": "52da58f2",
   "metadata": {},
   "outputs": [
    {
     "name": "stderr",
     "output_type": "stream",
     "text": [
      "C:\\Users\\anime\\anaconda3\\envs\\tensor\\lib\\site-packages\\seaborn\\_decorators.py:43: FutureWarning: Pass the following variable as a keyword arg: x. From version 0.12, the only valid positional argument will be `data`, and passing other arguments without an explicit keyword will result in an error or misinterpretation.\n",
      "  FutureWarning\n"
     ]
    },
    {
     "data": {
      "text/plain": [
       "<AxesSubplot:title={'center':'Histogram of Recidivism in Second Year (0 = No Recidivism, 1 = Recidivism)'}, xlabel='Recidivism_Arrest_Year2', ylabel='count'>"
      ]
     },
     "execution_count": 167,
     "metadata": {},
     "output_type": "execute_result"
    },
    {
     "data": {
      "image/png": "[encoded data removed]",
      "text/plain": [
       "<Figure size 720x720 with 1 Axes>"
      ]
     },
     "metadata": {
      "needs_background": "light"
     },
     "output_type": "display_data"
    }
   ],
   "source": [
    "fig = plt.figure(figsize=(10,10))\n",
    "plt.title('Histogram of Recidivism in Second Year (0 = No Recidivism, 1 = Recidivism)')\n",
    "sns.countplot(rec_data['Recidivism_Arrest_Year2'], palette='deep')"
   ]
  },
  {
   "cell_type": "code",
   "execution_count": 168,
   "id": "e506e108",
   "metadata": {},
   "outputs": [
    {
     "name": "stderr",
     "output_type": "stream",
     "text": [
      "C:\\Users\\anime\\anaconda3\\envs\\tensor\\lib\\site-packages\\seaborn\\_decorators.py:43: FutureWarning: Pass the following variable as a keyword arg: x. From version 0.12, the only valid positional argument will be `data`, and passing other arguments without an explicit keyword will result in an error or misinterpretation.\n",
      "  FutureWarning\n"
     ]
    },
    {
     "data": {
      "text/plain": [
       "<AxesSubplot:title={'center':'Histogram of Recidivism in Third Year (0 = No Recidivism, 1 = Recidivism)'}, xlabel='Recidivism_Arrest_Year3', ylabel='count'>"
      ]
     },
     "execution_count": 168,
     "metadata": {},
     "output_type": "execute_result"
    },
    {
     "data": {
      "image/png": "[encoded data removed]",
      "text/plain": [
       "<Figure size 720x720 with 1 Axes>"
      ]
     },
     "metadata": {
      "needs_background": "light"
     },
     "output_type": "display_data"
    }
   ],
   "source": [
    "fig = plt.figure(figsize=(10,10))\n",
    "plt.title('Histogram of Recidivism in Third Year (0 = No Recidivism, 1 = Recidivism)')\n",
    "sns.countplot(rec_data['Recidivism_Arrest_Year3'], palette='deep')"
   ]
  },
  {
   "cell_type": "code",
   "execution_count": 169,
   "id": "d85e8b39",
   "metadata": {},
   "outputs": [
    {
     "data": {
      "text/html": [
       "<div>\n",
       "<style scoped>\n",
       "    .dataframe tbody tr th:only-of-type {\n",
       "        vertical-align: middle;\n",
       "    }\n",
       "\n",
       "    .dataframe tbody tr th {\n",
       "        vertical-align: top;\n",
       "    }\n",
       "\n",
       "    .dataframe thead th {\n",
       "        text-align: right;\n",
       "    }\n",
       "</style>\n",
       "<table border=\"1\" class=\"dataframe\">\n",
       "  <thead>\n",
       "    <tr style=\"text-align: right;\">\n",
       "      <th></th>\n",
       "      <th>Age_at_Release</th>\n",
       "      <th>Residence_PUMA</th>\n",
       "      <th>Gang_Affiliated</th>\n",
       "      <th>Supervision_Risk_Score_First</th>\n",
       "      <th>Education_Level</th>\n",
       "      <th>Dependents</th>\n",
       "      <th>Prior_Arrest_Episodes_Felony</th>\n",
       "      <th>Prior_Arrest_Episodes_Misd</th>\n",
       "      <th>Prior_Arrest_Episodes_Violent</th>\n",
       "      <th>Prior_Arrest_Episodes_Property</th>\n",
       "      <th>...</th>\n",
       "      <th>Standard Supervision</th>\n",
       "      <th>Drug Offense</th>\n",
       "      <th>Other Offense</th>\n",
       "      <th>Property Offense</th>\n",
       "      <th>Violent/Non-Sex Offense</th>\n",
       "      <th>Violent/Sex Offense</th>\n",
       "      <th>1-2 years in prison</th>\n",
       "      <th>2-3+ years in prison</th>\n",
       "      <th>1- years in prison</th>\n",
       "      <th>3+ years in prison</th>\n",
       "    </tr>\n",
       "  </thead>\n",
       "  <tbody>\n",
       "    <tr>\n",
       "      <th>0</th>\n",
       "      <td>45</td>\n",
       "      <td>16</td>\n",
       "      <td>0.0</td>\n",
       "      <td>3.0</td>\n",
       "      <td>2</td>\n",
       "      <td>3</td>\n",
       "      <td>6</td>\n",
       "      <td>6</td>\n",
       "      <td>1</td>\n",
       "      <td>3</td>\n",
       "      <td>...</td>\n",
       "      <td>1</td>\n",
       "      <td>1</td>\n",
       "      <td>0</td>\n",
       "      <td>0</td>\n",
       "      <td>0</td>\n",
       "      <td>0</td>\n",
       "      <td>0</td>\n",
       "      <td>0</td>\n",
       "      <td>0</td>\n",
       "      <td>1</td>\n",
       "    </tr>\n",
       "    <tr>\n",
       "      <th>1</th>\n",
       "      <td>35</td>\n",
       "      <td>16</td>\n",
       "      <td>0.0</td>\n",
       "      <td>6.0</td>\n",
       "      <td>0</td>\n",
       "      <td>1</td>\n",
       "      <td>7</td>\n",
       "      <td>6</td>\n",
       "      <td>3</td>\n",
       "      <td>0</td>\n",
       "      <td>...</td>\n",
       "      <td>0</td>\n",
       "      <td>0</td>\n",
       "      <td>0</td>\n",
       "      <td>0</td>\n",
       "      <td>1</td>\n",
       "      <td>0</td>\n",
       "      <td>0</td>\n",
       "      <td>0</td>\n",
       "      <td>0</td>\n",
       "      <td>1</td>\n",
       "    </tr>\n",
       "    <tr>\n",
       "      <th>2</th>\n",
       "      <td>50</td>\n",
       "      <td>24</td>\n",
       "      <td>0.0</td>\n",
       "      <td>7.0</td>\n",
       "      <td>2</td>\n",
       "      <td>3</td>\n",
       "      <td>6</td>\n",
       "      <td>6</td>\n",
       "      <td>3</td>\n",
       "      <td>2</td>\n",
       "      <td>...</td>\n",
       "      <td>0</td>\n",
       "      <td>1</td>\n",
       "      <td>0</td>\n",
       "      <td>0</td>\n",
       "      <td>0</td>\n",
       "      <td>0</td>\n",
       "      <td>1</td>\n",
       "      <td>0</td>\n",
       "      <td>0</td>\n",
       "      <td>0</td>\n",
       "    </tr>\n",
       "    <tr>\n",
       "      <th>3</th>\n",
       "      <td>40</td>\n",
       "      <td>16</td>\n",
       "      <td>0.0</td>\n",
       "      <td>7.0</td>\n",
       "      <td>0</td>\n",
       "      <td>1</td>\n",
       "      <td>8</td>\n",
       "      <td>6</td>\n",
       "      <td>0</td>\n",
       "      <td>3</td>\n",
       "      <td>...</td>\n",
       "      <td>0</td>\n",
       "      <td>0</td>\n",
       "      <td>0</td>\n",
       "      <td>1</td>\n",
       "      <td>0</td>\n",
       "      <td>0</td>\n",
       "      <td>1</td>\n",
       "      <td>0</td>\n",
       "      <td>0</td>\n",
       "      <td>0</td>\n",
       "    </tr>\n",
       "    <tr>\n",
       "      <th>4</th>\n",
       "      <td>35</td>\n",
       "      <td>16</td>\n",
       "      <td>0.0</td>\n",
       "      <td>4.0</td>\n",
       "      <td>0</td>\n",
       "      <td>3</td>\n",
       "      <td>4</td>\n",
       "      <td>4</td>\n",
       "      <td>3</td>\n",
       "      <td>2</td>\n",
       "      <td>...</td>\n",
       "      <td>0</td>\n",
       "      <td>0</td>\n",
       "      <td>0</td>\n",
       "      <td>0</td>\n",
       "      <td>1</td>\n",
       "      <td>0</td>\n",
       "      <td>1</td>\n",
       "      <td>0</td>\n",
       "      <td>0</td>\n",
       "      <td>0</td>\n",
       "    </tr>\n",
       "  </tbody>\n",
       "</table>\n",
       "<p>5 rows × 62 columns</p>\n",
       "</div>"
      ],
      "text/plain": [
       "   Age_at_Release  Residence_PUMA  Gang_Affiliated  \\\n",
       "0              45              16              0.0   \n",
       "1              35              16              0.0   \n",
       "2              50              24              0.0   \n",
       "3              40              16              0.0   \n",
       "4              35              16              0.0   \n",
       "\n",
       "   Supervision_Risk_Score_First  Education_Level  Dependents  \\\n",
       "0                           3.0                2           3   \n",
       "1                           6.0                0           1   \n",
       "2                           7.0                2           3   \n",
       "3                           7.0                0           1   \n",
       "4                           4.0                0           3   \n",
       "\n",
       "   Prior_Arrest_Episodes_Felony  Prior_Arrest_Episodes_Misd  \\\n",
       "0                             6                           6   \n",
       "1                             7                           6   \n",
       "2                             6                           6   \n",
       "3                             8                           6   \n",
       "4                             4                           4   \n",
       "\n",
       "   Prior_Arrest_Episodes_Violent  Prior_Arrest_Episodes_Property  ...  \\\n",
       "0                              1                               3  ...   \n",
       "1                              3                               0  ...   \n",
       "2                              3                               2  ...   \n",
       "3                              0                               3  ...   \n",
       "4                              3                               2  ...   \n",
       "\n",
       "   Standard Supervision  Drug Offense  Other Offense  Property Offense  \\\n",
       "0                     1             1              0                 0   \n",
       "1                     0             0              0                 0   \n",
       "2                     0             1              0                 0   \n",
       "3                     0             0              0                 1   \n",
       "4                     0             0              0                 0   \n",
       "\n",
       "   Violent/Non-Sex Offense  Violent/Sex Offense  1-2 years in prison  \\\n",
       "0                        0                    0                    0   \n",
       "1                        1                    0                    0   \n",
       "2                        0                    0                    1   \n",
       "3                        0                    0                    1   \n",
       "4                        1                    0                    1   \n",
       "\n",
       "   2-3+ years in prison  1- years in prison  3+ years in prison  \n",
       "0                     0                   0                   1  \n",
       "1                     0                   0                   1  \n",
       "2                     0                   0                   0  \n",
       "3                     0                   0                   0  \n",
       "4                     0                   0                   0  \n",
       "\n",
       "[5 rows x 62 columns]"
      ]
     },
     "execution_count": 169,
     "metadata": {},
     "output_type": "execute_result"
    }
   ],
   "source": [
    "rec_data.head()"
   ]
  },
  {
   "cell_type": "code",
   "execution_count": 170,
   "id": "023fe466",
   "metadata": {},
   "outputs": [
    {
     "data": {
      "text/plain": [
       "0.5768918134313915"
      ]
     },
     "execution_count": 170,
     "metadata": {},
     "output_type": "execute_result"
    }
   ],
   "source": [
    "len(rec_data[rec_data['Recidivism_Within_3years'] == 1])/len(rec_data)"
   ]
  },
  {
   "cell_type": "code",
   "execution_count": 171,
   "id": "63d09f42",
   "metadata": {},
   "outputs": [
    {
     "data": {
      "text/plain": [
       "0.4231081865686085"
      ]
     },
     "execution_count": 171,
     "metadata": {},
     "output_type": "execute_result"
    }
   ],
   "source": [
    "len(rec_data[rec_data['Recidivism_Within_3years'] == 0])/len(rec_data)"
   ]
  },
  {
   "cell_type": "code",
   "execution_count": 172,
   "id": "bbfb8de3",
   "metadata": {},
   "outputs": [
    {
     "data": {
      "text/plain": [
       "Text(0.5, 1.0, 'Histogram of Supervision Risk Score')"
      ]
     },
     "execution_count": 172,
     "metadata": {},
     "output_type": "execute_result"
    },
    {
     "data": {
      "text/plain": [
       "<Figure size 1080x1080 with 0 Axes>"
      ]
     },
     "metadata": {},
     "output_type": "display_data"
    },
    {
     "data": {
      "image/png": "[encoded data removed]",
      "text/plain": [
       "<Figure size 360x360 with 1 Axes>"
      ]
     },
     "metadata": {
      "needs_background": "light"
     },
     "output_type": "display_data"
    }
   ],
   "source": [
    "plt.figure(figsize=(15,15))\n",
    "sns.displot(rec_data['Supervision_Risk_Score_First'], bins = 5)\n",
    "plt.title(\"Histogram of Supervision Risk Score\")"
   ]
  },
  {
   "cell_type": "code",
   "execution_count": 173,
   "id": "8b5759eb",
   "metadata": {},
   "outputs": [
    {
     "data": {
      "text/html": [
       "<div>\n",
       "<style scoped>\n",
       "    .dataframe tbody tr th:only-of-type {\n",
       "        vertical-align: middle;\n",
       "    }\n",
       "\n",
       "    .dataframe tbody tr th {\n",
       "        vertical-align: top;\n",
       "    }\n",
       "\n",
       "    .dataframe thead th {\n",
       "        text-align: right;\n",
       "    }\n",
       "</style>\n",
       "<table border=\"1\" class=\"dataframe\">\n",
       "  <thead>\n",
       "    <tr style=\"text-align: right;\">\n",
       "      <th></th>\n",
       "      <th>Age_at_Release</th>\n",
       "      <th>Residence_PUMA</th>\n",
       "      <th>Gang_Affiliated</th>\n",
       "      <th>Supervision_Risk_Score_First</th>\n",
       "      <th>Education_Level</th>\n",
       "      <th>Dependents</th>\n",
       "      <th>Prior_Arrest_Episodes_Felony</th>\n",
       "      <th>Prior_Arrest_Episodes_Misd</th>\n",
       "      <th>Prior_Arrest_Episodes_Violent</th>\n",
       "      <th>Prior_Arrest_Episodes_Property</th>\n",
       "      <th>...</th>\n",
       "      <th>Standard Supervision</th>\n",
       "      <th>Drug Offense</th>\n",
       "      <th>Other Offense</th>\n",
       "      <th>Property Offense</th>\n",
       "      <th>Violent/Non-Sex Offense</th>\n",
       "      <th>Violent/Sex Offense</th>\n",
       "      <th>1-2 years in prison</th>\n",
       "      <th>2-3+ years in prison</th>\n",
       "      <th>1- years in prison</th>\n",
       "      <th>3+ years in prison</th>\n",
       "    </tr>\n",
       "  </thead>\n",
       "  <tbody>\n",
       "    <tr>\n",
       "      <th>count</th>\n",
       "      <td>25835.000000</td>\n",
       "      <td>25835.000000</td>\n",
       "      <td>25835.000000</td>\n",
       "      <td>25835.000000</td>\n",
       "      <td>25835.000000</td>\n",
       "      <td>25835.000000</td>\n",
       "      <td>25835.000000</td>\n",
       "      <td>25835.000000</td>\n",
       "      <td>25835.000000</td>\n",
       "      <td>25835.000000</td>\n",
       "      <td>...</td>\n",
       "      <td>25835.000000</td>\n",
       "      <td>25835.000000</td>\n",
       "      <td>25835.000000</td>\n",
       "      <td>25835.000000</td>\n",
       "      <td>25835.000000</td>\n",
       "      <td>25835.000000</td>\n",
       "      <td>25835.000000</td>\n",
       "      <td>25835.000000</td>\n",
       "      <td>25835.000000</td>\n",
       "      <td>25835.000000</td>\n",
       "    </tr>\n",
       "    <tr>\n",
       "      <th>mean</th>\n",
       "      <td>34.590091</td>\n",
       "      <td>12.361796</td>\n",
       "      <td>0.152429</td>\n",
       "      <td>6.082216</td>\n",
       "      <td>0.797368</td>\n",
       "      <td>1.471221</td>\n",
       "      <td>4.632979</td>\n",
       "      <td>3.327231</td>\n",
       "      <td>1.013006</td>\n",
       "      <td>2.218463</td>\n",
       "      <td>...</td>\n",
       "      <td>0.386414</td>\n",
       "      <td>0.200890</td>\n",
       "      <td>0.107567</td>\n",
       "      <td>0.320650</td>\n",
       "      <td>0.211922</td>\n",
       "      <td>0.032127</td>\n",
       "      <td>0.312909</td>\n",
       "      <td>0.162841</td>\n",
       "      <td>0.311515</td>\n",
       "      <td>0.212735</td>\n",
       "    </tr>\n",
       "    <tr>\n",
       "      <th>std</th>\n",
       "      <td>9.390456</td>\n",
       "      <td>7.133742</td>\n",
       "      <td>0.359443</td>\n",
       "      <td>2.359447</td>\n",
       "      <td>0.719782</td>\n",
       "      <td>1.214021</td>\n",
       "      <td>2.432633</td>\n",
       "      <td>2.286816</td>\n",
       "      <td>1.081233</td>\n",
       "      <td>1.889522</td>\n",
       "      <td>...</td>\n",
       "      <td>0.486937</td>\n",
       "      <td>0.400674</td>\n",
       "      <td>0.309839</td>\n",
       "      <td>0.466736</td>\n",
       "      <td>0.408678</td>\n",
       "      <td>0.176341</td>\n",
       "      <td>0.463687</td>\n",
       "      <td>0.369228</td>\n",
       "      <td>0.463122</td>\n",
       "      <td>0.409249</td>\n",
       "    </tr>\n",
       "    <tr>\n",
       "      <th>min</th>\n",
       "      <td>20.000000</td>\n",
       "      <td>1.000000</td>\n",
       "      <td>0.000000</td>\n",
       "      <td>1.000000</td>\n",
       "      <td>0.000000</td>\n",
       "      <td>0.000000</td>\n",
       "      <td>0.000000</td>\n",
       "      <td>0.000000</td>\n",
       "      <td>0.000000</td>\n",
       "      <td>0.000000</td>\n",
       "      <td>...</td>\n",
       "      <td>0.000000</td>\n",
       "      <td>0.000000</td>\n",
       "      <td>0.000000</td>\n",
       "      <td>0.000000</td>\n",
       "      <td>0.000000</td>\n",
       "      <td>0.000000</td>\n",
       "      <td>0.000000</td>\n",
       "      <td>0.000000</td>\n",
       "      <td>0.000000</td>\n",
       "      <td>0.000000</td>\n",
       "    </tr>\n",
       "    <tr>\n",
       "      <th>25%</th>\n",
       "      <td>25.000000</td>\n",
       "      <td>6.000000</td>\n",
       "      <td>0.000000</td>\n",
       "      <td>4.000000</td>\n",
       "      <td>0.000000</td>\n",
       "      <td>0.000000</td>\n",
       "      <td>3.000000</td>\n",
       "      <td>1.000000</td>\n",
       "      <td>0.000000</td>\n",
       "      <td>0.000000</td>\n",
       "      <td>...</td>\n",
       "      <td>0.000000</td>\n",
       "      <td>0.000000</td>\n",
       "      <td>0.000000</td>\n",
       "      <td>0.000000</td>\n",
       "      <td>0.000000</td>\n",
       "      <td>0.000000</td>\n",
       "      <td>0.000000</td>\n",
       "      <td>0.000000</td>\n",
       "      <td>0.000000</td>\n",
       "      <td>0.000000</td>\n",
       "    </tr>\n",
       "    <tr>\n",
       "      <th>50%</th>\n",
       "      <td>35.000000</td>\n",
       "      <td>12.000000</td>\n",
       "      <td>0.000000</td>\n",
       "      <td>6.000000</td>\n",
       "      <td>1.000000</td>\n",
       "      <td>1.000000</td>\n",
       "      <td>4.000000</td>\n",
       "      <td>3.000000</td>\n",
       "      <td>1.000000</td>\n",
       "      <td>2.000000</td>\n",
       "      <td>...</td>\n",
       "      <td>0.000000</td>\n",
       "      <td>0.000000</td>\n",
       "      <td>0.000000</td>\n",
       "      <td>0.000000</td>\n",
       "      <td>0.000000</td>\n",
       "      <td>0.000000</td>\n",
       "      <td>0.000000</td>\n",
       "      <td>0.000000</td>\n",
       "      <td>0.000000</td>\n",
       "      <td>0.000000</td>\n",
       "    </tr>\n",
       "    <tr>\n",
       "      <th>75%</th>\n",
       "      <td>40.000000</td>\n",
       "      <td>18.000000</td>\n",
       "      <td>0.000000</td>\n",
       "      <td>8.000000</td>\n",
       "      <td>1.000000</td>\n",
       "      <td>3.000000</td>\n",
       "      <td>7.000000</td>\n",
       "      <td>6.000000</td>\n",
       "      <td>2.000000</td>\n",
       "      <td>4.000000</td>\n",
       "      <td>...</td>\n",
       "      <td>1.000000</td>\n",
       "      <td>0.000000</td>\n",
       "      <td>0.000000</td>\n",
       "      <td>1.000000</td>\n",
       "      <td>0.000000</td>\n",
       "      <td>0.000000</td>\n",
       "      <td>1.000000</td>\n",
       "      <td>0.000000</td>\n",
       "      <td>1.000000</td>\n",
       "      <td>0.000000</td>\n",
       "    </tr>\n",
       "    <tr>\n",
       "      <th>max</th>\n",
       "      <td>50.000000</td>\n",
       "      <td>25.000000</td>\n",
       "      <td>1.000000</td>\n",
       "      <td>10.000000</td>\n",
       "      <td>2.000000</td>\n",
       "      <td>3.000000</td>\n",
       "      <td>9.000000</td>\n",
       "      <td>6.000000</td>\n",
       "      <td>3.000000</td>\n",
       "      <td>5.000000</td>\n",
       "      <td>...</td>\n",
       "      <td>1.000000</td>\n",
       "      <td>1.000000</td>\n",
       "      <td>1.000000</td>\n",
       "      <td>1.000000</td>\n",
       "      <td>1.000000</td>\n",
       "      <td>1.000000</td>\n",
       "      <td>1.000000</td>\n",
       "      <td>1.000000</td>\n",
       "      <td>1.000000</td>\n",
       "      <td>1.000000</td>\n",
       "    </tr>\n",
       "  </tbody>\n",
       "</table>\n",
       "<p>8 rows × 62 columns</p>\n",
       "</div>"
      ],
      "text/plain": [
       "       Age_at_Release  Residence_PUMA  Gang_Affiliated  \\\n",
       "count    25835.000000    25835.000000     25835.000000   \n",
       "mean        34.590091       12.361796         0.152429   \n",
       "std          9.390456        7.133742         0.359443   \n",
       "min         20.000000        1.000000         0.000000   \n",
       "25%         25.000000        6.000000         0.000000   \n",
       "50%         35.000000       12.000000         0.000000   \n",
       "75%         40.000000       18.000000         0.000000   \n",
       "max         50.000000       25.000000         1.000000   \n",
       "\n",
       "       Supervision_Risk_Score_First  Education_Level    Dependents  \\\n",
       "count                  25835.000000     25835.000000  25835.000000   \n",
       "mean                       6.082216         0.797368      1.471221   \n",
       "std                        2.359447         0.719782      1.214021   \n",
       "min                        1.000000         0.000000      0.000000   \n",
       "25%                        4.000000         0.000000      0.000000   \n",
       "50%                        6.000000         1.000000      1.000000   \n",
       "75%                        8.000000         1.000000      3.000000   \n",
       "max                       10.000000         2.000000      3.000000   \n",
       "\n",
       "       Prior_Arrest_Episodes_Felony  Prior_Arrest_Episodes_Misd  \\\n",
       "count                  25835.000000                25835.000000   \n",
       "mean                       4.632979                    3.327231   \n",
       "std                        2.432633                    2.286816   \n",
       "min                        0.000000                    0.000000   \n",
       "25%                        3.000000                    1.000000   \n",
       "50%                        4.000000                    3.000000   \n",
       "75%                        7.000000                    6.000000   \n",
       "max                        9.000000                    6.000000   \n",
       "\n",
       "       Prior_Arrest_Episodes_Violent  Prior_Arrest_Episodes_Property  ...  \\\n",
       "count                   25835.000000                    25835.000000  ...   \n",
       "mean                        1.013006                        2.218463  ...   \n",
       "std                         1.081233                        1.889522  ...   \n",
       "min                         0.000000                        0.000000  ...   \n",
       "25%                         0.000000                        0.000000  ...   \n",
       "50%                         1.000000                        2.000000  ...   \n",
       "75%                         2.000000                        4.000000  ...   \n",
       "max                         3.000000                        5.000000  ...   \n",
       "\n",
       "       Standard Supervision  Drug Offense  Other Offense  Property Offense  \\\n",
       "count          25835.000000  25835.000000   25835.000000      25835.000000   \n",
       "mean               0.386414      0.200890       0.107567          0.320650   \n",
       "std                0.486937      0.400674       0.309839          0.466736   \n",
       "min                0.000000      0.000000       0.000000          0.000000   \n",
       "25%                0.000000      0.000000       0.000000          0.000000   \n",
       "50%                0.000000      0.000000       0.000000          0.000000   \n",
       "75%                1.000000      0.000000       0.000000          1.000000   \n",
       "max                1.000000      1.000000       1.000000          1.000000   \n",
       "\n",
       "       Violent/Non-Sex Offense  Violent/Sex Offense  1-2 years in prison  \\\n",
       "count             25835.000000         25835.000000         25835.000000   \n",
       "mean                  0.211922             0.032127             0.312909   \n",
       "std                   0.408678             0.176341             0.463687   \n",
       "min                   0.000000             0.000000             0.000000   \n",
       "25%                   0.000000             0.000000             0.000000   \n",
       "50%                   0.000000             0.000000             0.000000   \n",
       "75%                   0.000000             0.000000             1.000000   \n",
       "max                   1.000000             1.000000             1.000000   \n",
       "\n",
       "       2-3+ years in prison  1- years in prison  3+ years in prison  \n",
       "count          25835.000000        25835.000000        25835.000000  \n",
       "mean               0.162841            0.311515            0.212735  \n",
       "std                0.369228            0.463122            0.409249  \n",
       "min                0.000000            0.000000            0.000000  \n",
       "25%                0.000000            0.000000            0.000000  \n",
       "50%                0.000000            0.000000            0.000000  \n",
       "75%                0.000000            1.000000            0.000000  \n",
       "max                1.000000            1.000000            1.000000  \n",
       "\n",
       "[8 rows x 62 columns]"
      ]
     },
     "execution_count": 173,
     "metadata": {},
     "output_type": "execute_result"
    }
   ],
   "source": [
    "rec_data.describe()"
   ]
  },
  {
   "cell_type": "code",
   "execution_count": 174,
   "id": "0639c565",
   "metadata": {},
   "outputs": [
    {
     "name": "stdout",
     "output_type": "stream",
     "text": [
      "<class 'pandas.core.frame.DataFrame'>\n",
      "RangeIndex: 25835 entries, 0 to 25834\n",
      "Data columns (total 62 columns):\n",
      " #   Column                                             Non-Null Count  Dtype  \n",
      "---  ------                                             --------------  -----  \n",
      " 0   Age_at_Release                                     25835 non-null  int32  \n",
      " 1   Residence_PUMA                                     25835 non-null  int64  \n",
      " 2   Gang_Affiliated                                    25835 non-null  float64\n",
      " 3   Supervision_Risk_Score_First                       25835 non-null  float64\n",
      " 4   Education_Level                                    25835 non-null  int32  \n",
      " 5   Dependents                                         25835 non-null  int32  \n",
      " 6   Prior_Arrest_Episodes_Felony                       25835 non-null  int32  \n",
      " 7   Prior_Arrest_Episodes_Misd                         25835 non-null  int32  \n",
      " 8   Prior_Arrest_Episodes_Violent                      25835 non-null  int32  \n",
      " 9   Prior_Arrest_Episodes_Property                     25835 non-null  int32  \n",
      " 10  Prior_Arrest_Episodes_Drug                         25835 non-null  int32  \n",
      " 11  Prior_Arrest_Episodes_PPViolationCharges           25835 non-null  int32  \n",
      " 12  Prior_Arrest_Episodes_DVCharges                    25835 non-null  int64  \n",
      " 13  Prior_Arrest_Episodes_GunCharges                   25835 non-null  int64  \n",
      " 14  Prior_Conviction_Episodes_Felony                   25835 non-null  int32  \n",
      " 15  Prior_Conviction_Episodes_Misd                     25835 non-null  int32  \n",
      " 16  Prior_Conviction_Episodes_Viol                     25835 non-null  int64  \n",
      " 17  Prior_Conviction_Episodes_Prop                     25835 non-null  int32  \n",
      " 18  Prior_Conviction_Episodes_Drug                     25835 non-null  int32  \n",
      " 19  Prior_Conviction_Episodes_PPViolationCharges       25835 non-null  int64  \n",
      " 20  Prior_Conviction_Episodes_DomesticViolenceCharges  25835 non-null  int64  \n",
      " 21  Prior_Conviction_Episodes_GunCharges               25835 non-null  int64  \n",
      " 22  Prior_Revocations_Parole                           25835 non-null  int64  \n",
      " 23  Prior_Revocations_Probation                        25835 non-null  int64  \n",
      " 24  Condition_MH_SA                                    25835 non-null  int64  \n",
      " 25  Condition_Cog_Ed                                   25835 non-null  int64  \n",
      " 26  Condition_Other                                    25835 non-null  int64  \n",
      " 27  Violations_ElectronicMonitoring                    25835 non-null  int64  \n",
      " 28  Violations_Instruction                             25835 non-null  int64  \n",
      " 29  Violations_FailToReport                            25835 non-null  int64  \n",
      " 30  Violations_MoveWithoutPermission                   25835 non-null  int64  \n",
      " 31  Delinquency_Reports                                25835 non-null  int32  \n",
      " 32  Program_Attendances                                25835 non-null  int32  \n",
      " 33  Program_UnexcusedAbsences                          25835 non-null  int32  \n",
      " 34  Residence_Changes                                  25835 non-null  int32  \n",
      " 35  Avg_Days_per_DrugTest                              25835 non-null  float64\n",
      " 36  DrugTests_THC_Positive                             25835 non-null  float64\n",
      " 37  DrugTests_Cocaine_Positive                         25835 non-null  float64\n",
      " 38  DrugTests_Meth_Positive                            25835 non-null  float64\n",
      " 39  DrugTests_Other_Positive                           25835 non-null  float64\n",
      " 40  Percent_Days_Employed                              25835 non-null  float64\n",
      " 41  Jobs_Per_Year                                      25835 non-null  float64\n",
      " 42  Employment_Exempt                                  25835 non-null  int64  \n",
      " 43  Recidivism_Within_3years                           25835 non-null  int64  \n",
      " 44  Recidivism_Arrest_Year1                            25835 non-null  int64  \n",
      " 45  Recidivism_Arrest_Year2                            25835 non-null  int64  \n",
      " 46  Recidivism_Arrest_Year3                            25835 non-null  int64  \n",
      " 47  Training_Sample                                    25835 non-null  int64  \n",
      " 48  Male                                               25835 non-null  uint8  \n",
      " 49  WHITE                                              25835 non-null  uint8  \n",
      " 50  High Supervision                                   25835 non-null  uint8  \n",
      " 51  Specialized Supervision                            25835 non-null  uint8  \n",
      " 52  Standard Supervision                               25835 non-null  uint8  \n",
      " 53  Drug Offense                                       25835 non-null  uint8  \n",
      " 54  Other Offense                                      25835 non-null  uint8  \n",
      " 55  Property Offense                                   25835 non-null  uint8  \n",
      " 56  Violent/Non-Sex Offense                            25835 non-null  uint8  \n",
      " 57  Violent/Sex Offense                                25835 non-null  uint8  \n",
      " 58  1-2 years in prison                                25835 non-null  uint8  \n",
      " 59  2-3+ years in prison                               25835 non-null  uint8  \n",
      " 60  1- years in prison                                 25835 non-null  uint8  \n",
      " 61  3+ years in prison                                 25835 non-null  uint8  \n",
      "dtypes: float64(9), int32(17), int64(22), uint8(14)\n",
      "memory usage: 8.1 MB\n"
     ]
    }
   ],
   "source": [
    "rec_data.info()"
   ]
  },
  {
   "cell_type": "code",
   "execution_count": 175,
   "id": "69be942b",
   "metadata": {},
   "outputs": [
    {
     "name": "stderr",
     "output_type": "stream",
     "text": [
      "C:\\Users\\anime\\anaconda3\\envs\\tensor\\lib\\site-packages\\seaborn\\_decorators.py:43: FutureWarning: Pass the following variable as a keyword arg: x. From version 0.12, the only valid positional argument will be `data`, and passing other arguments without an explicit keyword will result in an error or misinterpretation.\n",
      "  FutureWarning\n"
     ]
    },
    {
     "data": {
      "text/plain": [
       "<AxesSubplot:title={'center':'Countplot of Gender Distribution (0=Female, 1=Male)'}, xlabel='Male', ylabel='count'>"
      ]
     },
     "execution_count": 175,
     "metadata": {},
     "output_type": "execute_result"
    },
    {
     "data": {
      "image/png": "[encoded data removed]",
      "text/plain": [
       "<Figure size 1080x1080 with 1 Axes>"
      ]
     },
     "metadata": {
      "needs_background": "light"
     },
     "output_type": "display_data"
    }
   ],
   "source": [
    "plt.figure(figsize=(15,15))\n",
    "plt.title('Countplot of Gender Distribution (0=Female, 1=Male)')\n",
    "sns.countplot(rec_data['Male'])"
   ]
  },
  {
   "cell_type": "code",
   "execution_count": 176,
   "id": "279dcccc",
   "metadata": {},
   "outputs": [
    {
     "name": "stderr",
     "output_type": "stream",
     "text": [
      "C:\\Users\\anime\\anaconda3\\envs\\tensor\\lib\\site-packages\\seaborn\\_decorators.py:43: FutureWarning: Pass the following variable as a keyword arg: x. From version 0.12, the only valid positional argument will be `data`, and passing other arguments without an explicit keyword will result in an error or misinterpretation.\n",
      "  FutureWarning\n"
     ]
    },
    {
     "data": {
      "text/plain": [
       "<AxesSubplot:title={'center':'Countplot of Race Distribution (0=Black, 1=White)'}, xlabel='WHITE', ylabel='count'>"
      ]
     },
     "execution_count": 176,
     "metadata": {},
     "output_type": "execute_result"
    },
    {
     "data": {
      "image/png": "[encoded data removed]",
      "text/plain": [
       "<Figure size 1080x1080 with 1 Axes>"
      ]
     },
     "metadata": {
      "needs_background": "light"
     },
     "output_type": "display_data"
    }
   ],
   "source": [
    "plt.figure(figsize=(15,15))\n",
    "plt.title('Countplot of Race Distribution (0=Black, 1=White)')\n",
    "sns.countplot(rec_data['WHITE'])"
   ]
  },
  {
   "cell_type": "code",
   "execution_count": 177,
   "id": "14324fe8",
   "metadata": {
    "scrolled": true
   },
   "outputs": [
    {
     "name": "stdout",
     "output_type": "stream",
     "text": [
      "<class 'pandas.core.frame.DataFrame'>\n",
      "RangeIndex: 25835 entries, 0 to 25834\n",
      "Data columns (total 62 columns):\n",
      " #   Column                                             Non-Null Count  Dtype  \n",
      "---  ------                                             --------------  -----  \n",
      " 0   Age_at_Release                                     25835 non-null  int32  \n",
      " 1   Residence_PUMA                                     25835 non-null  int64  \n",
      " 2   Gang_Affiliated                                    25835 non-null  float64\n",
      " 3   Supervision_Risk_Score_First                       25835 non-null  float64\n",
      " 4   Education_Level                                    25835 non-null  int32  \n",
      " 5   Dependents                                         25835 non-null  int32  \n",
      " 6   Prior_Arrest_Episodes_Felony                       25835 non-null  int32  \n",
      " 7   Prior_Arrest_Episodes_Misd                         25835 non-null  int32  \n",
      " 8   Prior_Arrest_Episodes_Violent                      25835 non-null  int32  \n",
      " 9   Prior_Arrest_Episodes_Property                     25835 non-null  int32  \n",
      " 10  Prior_Arrest_Episodes_Drug                         25835 non-null  int32  \n",
      " 11  Prior_Arrest_Episodes_PPViolationCharges           25835 non-null  int32  \n",
      " 12  Prior_Arrest_Episodes_DVCharges                    25835 non-null  int64  \n",
      " 13  Prior_Arrest_Episodes_GunCharges                   25835 non-null  int64  \n",
      " 14  Prior_Conviction_Episodes_Felony                   25835 non-null  int32  \n",
      " 15  Prior_Conviction_Episodes_Misd                     25835 non-null  int32  \n",
      " 16  Prior_Conviction_Episodes_Viol                     25835 non-null  int64  \n",
      " 17  Prior_Conviction_Episodes_Prop                     25835 non-null  int32  \n",
      " 18  Prior_Conviction_Episodes_Drug                     25835 non-null  int32  \n",
      " 19  Prior_Conviction_Episodes_PPViolationCharges       25835 non-null  int64  \n",
      " 20  Prior_Conviction_Episodes_DomesticViolenceCharges  25835 non-null  int64  \n",
      " 21  Prior_Conviction_Episodes_GunCharges               25835 non-null  int64  \n",
      " 22  Prior_Revocations_Parole                           25835 non-null  int64  \n",
      " 23  Prior_Revocations_Probation                        25835 non-null  int64  \n",
      " 24  Condition_MH_SA                                    25835 non-null  int64  \n",
      " 25  Condition_Cog_Ed                                   25835 non-null  int64  \n",
      " 26  Condition_Other                                    25835 non-null  int64  \n",
      " 27  Violations_ElectronicMonitoring                    25835 non-null  int64  \n",
      " 28  Violations_Instruction                             25835 non-null  int64  \n",
      " 29  Violations_FailToReport                            25835 non-null  int64  \n",
      " 30  Violations_MoveWithoutPermission                   25835 non-null  int64  \n",
      " 31  Delinquency_Reports                                25835 non-null  int32  \n",
      " 32  Program_Attendances                                25835 non-null  int32  \n",
      " 33  Program_UnexcusedAbsences                          25835 non-null  int32  \n",
      " 34  Residence_Changes                                  25835 non-null  int32  \n",
      " 35  Avg_Days_per_DrugTest                              25835 non-null  float64\n",
      " 36  DrugTests_THC_Positive                             25835 non-null  float64\n",
      " 37  DrugTests_Cocaine_Positive                         25835 non-null  float64\n",
      " 38  DrugTests_Meth_Positive                            25835 non-null  float64\n",
      " 39  DrugTests_Other_Positive                           25835 non-null  float64\n",
      " 40  Percent_Days_Employed                              25835 non-null  float64\n",
      " 41  Jobs_Per_Year                                      25835 non-null  float64\n",
      " 42  Employment_Exempt                                  25835 non-null  int64  \n",
      " 43  Recidivism_Within_3years                           25835 non-null  int64  \n",
      " 44  Recidivism_Arrest_Year1                            25835 non-null  int64  \n",
      " 45  Recidivism_Arrest_Year2                            25835 non-null  int64  \n",
      " 46  Recidivism_Arrest_Year3                            25835 non-null  int64  \n",
      " 47  Training_Sample                                    25835 non-null  int64  \n",
      " 48  Male                                               25835 non-null  uint8  \n",
      " 49  WHITE                                              25835 non-null  uint8  \n",
      " 50  High Supervision                                   25835 non-null  uint8  \n",
      " 51  Specialized Supervision                            25835 non-null  uint8  \n",
      " 52  Standard Supervision                               25835 non-null  uint8  \n",
      " 53  Drug Offense                                       25835 non-null  uint8  \n",
      " 54  Other Offense                                      25835 non-null  uint8  \n",
      " 55  Property Offense                                   25835 non-null  uint8  \n",
      " 56  Violent/Non-Sex Offense                            25835 non-null  uint8  \n",
      " 57  Violent/Sex Offense                                25835 non-null  uint8  \n",
      " 58  1-2 years in prison                                25835 non-null  uint8  \n",
      " 59  2-3+ years in prison                               25835 non-null  uint8  \n",
      " 60  1- years in prison                                 25835 non-null  uint8  \n",
      " 61  3+ years in prison                                 25835 non-null  uint8  \n",
      "dtypes: float64(9), int32(17), int64(22), uint8(14)\n",
      "memory usage: 8.1 MB\n"
     ]
    }
   ],
   "source": [
    "rec_data.info()"
   ]
  },
  {
   "cell_type": "code",
   "execution_count": 178,
   "id": "affe5475",
   "metadata": {},
   "outputs": [
    {
     "data": {
      "text/plain": [
       "<seaborn.axisgrid.FacetGrid at 0x15ad994d7f0>"
      ]
     },
     "execution_count": 178,
     "metadata": {},
     "output_type": "execute_result"
    },
    {
     "data": {
      "image/png": "[encoded data removed]",
      "text/plain": [
       "<Figure size 360x360 with 1 Axes>"
      ]
     },
     "metadata": {
      "needs_background": "light"
     },
     "output_type": "display_data"
    }
   ],
   "source": [
    "sns.displot(rec_data['Education_Level'], bins = 3)"
   ]
  },
  {
   "cell_type": "code",
   "execution_count": 179,
   "id": "71bd8168",
   "metadata": {},
   "outputs": [
    {
     "data": {
      "text/plain": [
       "<seaborn.axisgrid.FacetGrid at 0x15ad9811f60>"
      ]
     },
     "execution_count": 179,
     "metadata": {},
     "output_type": "execute_result"
    },
    {
     "data": {
      "image/png": "[encoded data removed]",
      "text/plain": [
       "<Figure size 360x360 with 1 Axes>"
      ]
     },
     "metadata": {
      "needs_background": "light"
     },
     "output_type": "display_data"
    }
   ],
   "source": [
    "sns.displot(rec_data['Prior_Arrest_Episodes_Felony'], bins = 5)"
   ]
  },
  {
   "cell_type": "code",
   "execution_count": 180,
   "id": "830dd872",
   "metadata": {},
   "outputs": [
    {
     "data": {
      "text/plain": [
       "<seaborn.axisgrid.FacetGrid at 0x15ad9782ac8>"
      ]
     },
     "execution_count": 180,
     "metadata": {},
     "output_type": "execute_result"
    },
    {
     "data": {
      "image/png": "[encoded data removed]",
      "text/plain": [
       "<Figure size 360x360 with 1 Axes>"
      ]
     },
     "metadata": {
      "needs_background": "light"
     },
     "output_type": "display_data"
    }
   ],
   "source": [
    "sns.displot(rec_data['Prior_Arrest_Episodes_Misd'], bins = 5)"
   ]
  },
  {
   "cell_type": "code",
   "execution_count": 181,
   "id": "e840fb25",
   "metadata": {
    "scrolled": true
   },
   "outputs": [
    {
     "data": {
      "text/plain": [
       "<seaborn.axisgrid.FacetGrid at 0x15ad9811f98>"
      ]
     },
     "execution_count": 181,
     "metadata": {},
     "output_type": "execute_result"
    },
    {
     "data": {
      "image/png": "[encoded data removed]",
      "text/plain": [
       "<Figure size 360x360 with 1 Axes>"
      ]
     },
     "metadata": {
      "needs_background": "light"
     },
     "output_type": "display_data"
    }
   ],
   "source": [
    "sns.displot(rec_data['Dependents'], bins = 3)"
   ]
  },
  {
   "cell_type": "code",
   "execution_count": 182,
   "id": "10938978",
   "metadata": {},
   "outputs": [],
   "source": [
    "rec_data_norecidivism = rec_data[rec_data['Recidivism_Within_3years'] == 0]"
   ]
  },
  {
   "cell_type": "code",
   "execution_count": 183,
   "id": "101ea3a9",
   "metadata": {
    "scrolled": true
   },
   "outputs": [
    {
     "data": {
      "text/plain": [
       "<seaborn.axisgrid.FacetGrid at 0x15ad9a82b00>"
      ]
     },
     "execution_count": 183,
     "metadata": {},
     "output_type": "execute_result"
    },
    {
     "data": {
      "image/png": "[encoded data removed]",
      "text/plain": [
       "<Figure size 360x360 with 1 Axes>"
      ]
     },
     "metadata": {
      "needs_background": "light"
     },
     "output_type": "display_data"
    }
   ],
   "source": [
    "sns.displot(rec_data_norecidivism['Supervision_Risk_Score_First'], bins = 5)"
   ]
  },
  {
   "cell_type": "code",
   "execution_count": 184,
   "id": "479f402e",
   "metadata": {
    "scrolled": true
   },
   "outputs": [
    {
     "data": {
      "text/plain": [
       "<seaborn.axisgrid.FacetGrid at 0x15ad9aa80f0>"
      ]
     },
     "execution_count": 184,
     "metadata": {},
     "output_type": "execute_result"
    },
    {
     "data": {
      "image/png": "[encoded data removed]",
      "text/plain": [
       "<Figure size 360x360 with 1 Axes>"
      ]
     },
     "metadata": {
      "needs_background": "light"
     },
     "output_type": "display_data"
    }
   ],
   "source": [
    "sns.displot(rec_data_norecidivism['Dependents'], bins = 3)"
   ]
  },
  {
   "cell_type": "code",
   "execution_count": 185,
   "id": "5ef6743c",
   "metadata": {},
   "outputs": [
    {
     "data": {
      "text/plain": [
       "<seaborn.axisgrid.FacetGrid at 0x15adb026e10>"
      ]
     },
     "execution_count": 185,
     "metadata": {},
     "output_type": "execute_result"
    },
    {
     "data": {
      "image/png": "[encoded data removed]",
      "text/plain": [
       "<Figure size 360x360 with 1 Axes>"
      ]
     },
     "metadata": {
      "needs_background": "light"
     },
     "output_type": "display_data"
    }
   ],
   "source": [
    "sns.displot(rec_data_norecidivism['Prior_Arrest_Episodes_Felony'], bins = 8)"
   ]
  },
  {
   "cell_type": "code",
   "execution_count": 186,
   "id": "b82c7697",
   "metadata": {},
   "outputs": [
    {
     "name": "stderr",
     "output_type": "stream",
     "text": [
      "C:\\Users\\anime\\anaconda3\\envs\\tensor\\lib\\site-packages\\seaborn\\_decorators.py:43: FutureWarning: Pass the following variable as a keyword arg: x. From version 0.12, the only valid positional argument will be `data`, and passing other arguments without an explicit keyword will result in an error or misinterpretation.\n",
      "  FutureWarning\n"
     ]
    },
    {
     "data": {
      "text/plain": [
       "<AxesSubplot:xlabel='Male', ylabel='count'>"
      ]
     },
     "execution_count": 186,
     "metadata": {},
     "output_type": "execute_result"
    },
    {
     "data": {
      "image/png": "[encoded data removed]",
      "text/plain": [
       "<Figure size 432x288 with 1 Axes>"
      ]
     },
     "metadata": {
      "needs_background": "light"
     },
     "output_type": "display_data"
    }
   ],
   "source": [
    "sns.countplot(rec_data_norecidivism['Male'])"
   ]
  },
  {
   "cell_type": "code",
   "execution_count": 187,
   "id": "c134f896",
   "metadata": {},
   "outputs": [
    {
     "name": "stderr",
     "output_type": "stream",
     "text": [
      "C:\\Users\\anime\\anaconda3\\envs\\tensor\\lib\\site-packages\\seaborn\\_decorators.py:43: FutureWarning: Pass the following variable as a keyword arg: x. From version 0.12, the only valid positional argument will be `data`, and passing other arguments without an explicit keyword will result in an error or misinterpretation.\n",
      "  FutureWarning\n"
     ]
    },
    {
     "data": {
      "text/plain": [
       "<AxesSubplot:xlabel='WHITE', ylabel='count'>"
      ]
     },
     "execution_count": 187,
     "metadata": {},
     "output_type": "execute_result"
    },
    {
     "data": {
      "image/png": "[encoded data removed]",
      "text/plain": [
       "<Figure size 432x288 with 1 Axes>"
      ]
     },
     "metadata": {
      "needs_background": "light"
     },
     "output_type": "display_data"
    }
   ],
   "source": [
    "sns.countplot(rec_data_norecidivism['WHITE'])"
   ]
  },
  {
   "cell_type": "code",
   "execution_count": 188,
   "id": "51d79bb8",
   "metadata": {},
   "outputs": [
    {
     "name": "stderr",
     "output_type": "stream",
     "text": [
      "C:\\Users\\anime\\anaconda3\\envs\\tensor\\lib\\site-packages\\seaborn\\_decorators.py:43: FutureWarning: Pass the following variable as a keyword arg: x. From version 0.12, the only valid positional argument will be `data`, and passing other arguments without an explicit keyword will result in an error or misinterpretation.\n",
      "  FutureWarning\n"
     ]
    },
    {
     "data": {
      "text/plain": [
       "<AxesSubplot:xlabel='Violent/Sex Offense', ylabel='count'>"
      ]
     },
     "execution_count": 188,
     "metadata": {},
     "output_type": "execute_result"
    },
    {
     "data": {
      "image/png": "[encoded data removed]",
      "text/plain": [
       "<Figure size 432x288 with 1 Axes>"
      ]
     },
     "metadata": {
      "needs_background": "light"
     },
     "output_type": "display_data"
    }
   ],
   "source": [
    "sns.countplot(rec_data_norecidivism['Violent/Sex Offense'])"
   ]
  },
  {
   "cell_type": "code",
   "execution_count": 189,
   "id": "ce5c2259",
   "metadata": {
    "scrolled": true
   },
   "outputs": [
    {
     "data": {
      "text/plain": [
       "<seaborn.axisgrid.FacetGrid at 0x15adb0c02b0>"
      ]
     },
     "execution_count": 189,
     "metadata": {},
     "output_type": "execute_result"
    },
    {
     "data": {
      "image/png": "[encoded data removed]",
      "text/plain": [
       "<Figure size 360x360 with 1 Axes>"
      ]
     },
     "metadata": {
      "needs_background": "light"
     },
     "output_type": "display_data"
    }
   ],
   "source": [
    "sns.displot(rec_data_norecidivism['Delinquency_Reports'],bins =3)"
   ]
  },
  {
   "cell_type": "code",
   "execution_count": 190,
   "id": "f756cddf",
   "metadata": {},
   "outputs": [
    {
     "name": "stderr",
     "output_type": "stream",
     "text": [
      "C:\\Users\\anime\\anaconda3\\envs\\tensor\\lib\\site-packages\\seaborn\\_decorators.py:43: FutureWarning: Pass the following variable as a keyword arg: x. From version 0.12, the only valid positional argument will be `data`, and passing other arguments without an explicit keyword will result in an error or misinterpretation.\n",
      "  FutureWarning\n"
     ]
    },
    {
     "data": {
      "text/plain": [
       "<AxesSubplot:xlabel='Gang_Affiliated', ylabel='count'>"
      ]
     },
     "execution_count": 190,
     "metadata": {},
     "output_type": "execute_result"
    },
    {
     "data": {
      "image/png": "[encoded data removed]",
      "text/plain": [
       "<Figure size 432x288 with 1 Axes>"
      ]
     },
     "metadata": {
      "needs_background": "light"
     },
     "output_type": "display_data"
    }
   ],
   "source": [
    "sns.countplot(rec_data_norecidivism['Gang_Affiliated'])"
   ]
  },
  {
   "cell_type": "code",
   "execution_count": 191,
   "id": "96301f47",
   "metadata": {},
   "outputs": [
    {
     "data": {
      "text/plain": [
       "<seaborn.axisgrid.FacetGrid at 0x15adb8b6b38>"
      ]
     },
     "execution_count": 191,
     "metadata": {},
     "output_type": "execute_result"
    },
    {
     "data": {
      "image/png": "[encoded data removed]",
      "text/plain": [
       "<Figure size 360x360 with 1 Axes>"
      ]
     },
     "metadata": {
      "needs_background": "light"
     },
     "output_type": "display_data"
    }
   ],
   "source": [
    "sns.displot(rec_data_norecidivism['Residence_PUMA'])"
   ]
  },
  {
   "cell_type": "code",
   "execution_count": 192,
   "id": "b3818fdd",
   "metadata": {},
   "outputs": [],
   "source": [
    "rec_data_recidivism = rec_data[rec_data['Recidivism_Within_3years'] == 1]"
   ]
  },
  {
   "cell_type": "code",
   "execution_count": 193,
   "id": "66a60f8f",
   "metadata": {},
   "outputs": [
    {
     "data": {
      "text/plain": [
       "<seaborn.axisgrid.FacetGrid at 0x15adb9cef60>"
      ]
     },
     "execution_count": 193,
     "metadata": {},
     "output_type": "execute_result"
    },
    {
     "data": {
      "image/png": "[encoded data removed]",
      "text/plain": [
       "<Figure size 360x360 with 1 Axes>"
      ]
     },
     "metadata": {
      "needs_background": "light"
     },
     "output_type": "display_data"
    }
   ],
   "source": [
    "sns.displot(rec_data_recidivism['Dependents'], bins = 3)"
   ]
  },
  {
   "cell_type": "code",
   "execution_count": 194,
   "id": "c86139c4",
   "metadata": {},
   "outputs": [
    {
     "data": {
      "text/plain": [
       "<seaborn.axisgrid.FacetGrid at 0x15adb97b160>"
      ]
     },
     "execution_count": 194,
     "metadata": {},
     "output_type": "execute_result"
    },
    {
     "data": {
      "image/png": "[encoded data removed]",
      "text/plain": [
       "<Figure size 360x360 with 1 Axes>"
      ]
     },
     "metadata": {
      "needs_background": "light"
     },
     "output_type": "display_data"
    }
   ],
   "source": [
    "sns.displot(rec_data_recidivism['Supervision_Risk_Score_First'], bins = 5)"
   ]
  },
  {
   "cell_type": "code",
   "execution_count": 195,
   "id": "955c68fc",
   "metadata": {},
   "outputs": [
    {
     "data": {
      "text/plain": [
       "<seaborn.axisgrid.FacetGrid at 0x15adce43c18>"
      ]
     },
     "execution_count": 195,
     "metadata": {},
     "output_type": "execute_result"
    },
    {
     "data": {
      "image/png": "[encoded data removed]",
      "text/plain": [
       "<Figure size 360x360 with 1 Axes>"
      ]
     },
     "metadata": {
      "needs_background": "light"
     },
     "output_type": "display_data"
    }
   ],
   "source": [
    "sns.displot(rec_data_recidivism['Prior_Arrest_Episodes_Felony'], bins = 8)"
   ]
  },
  {
   "cell_type": "code",
   "execution_count": 196,
   "id": "3f7aa318",
   "metadata": {},
   "outputs": [
    {
     "name": "stderr",
     "output_type": "stream",
     "text": [
      "C:\\Users\\anime\\anaconda3\\envs\\tensor\\lib\\site-packages\\seaborn\\_decorators.py:43: FutureWarning: Pass the following variable as a keyword arg: x. From version 0.12, the only valid positional argument will be `data`, and passing other arguments without an explicit keyword will result in an error or misinterpretation.\n",
      "  FutureWarning\n"
     ]
    },
    {
     "data": {
      "text/plain": [
       "<AxesSubplot:xlabel='Male', ylabel='count'>"
      ]
     },
     "execution_count": 196,
     "metadata": {},
     "output_type": "execute_result"
    },
    {
     "data": {
      "image/png": "[encoded data removed]",
      "text/plain": [
       "<Figure size 432x288 with 1 Axes>"
      ]
     },
     "metadata": {
      "needs_background": "light"
     },
     "output_type": "display_data"
    }
   ],
   "source": [
    "sns.countplot(rec_data_recidivism['Male'])"
   ]
  },
  {
   "cell_type": "code",
   "execution_count": 197,
   "id": "1a969e68",
   "metadata": {
    "scrolled": true
   },
   "outputs": [
    {
     "name": "stderr",
     "output_type": "stream",
     "text": [
      "C:\\Users\\anime\\anaconda3\\envs\\tensor\\lib\\site-packages\\seaborn\\_decorators.py:43: FutureWarning: Pass the following variable as a keyword arg: x. From version 0.12, the only valid positional argument will be `data`, and passing other arguments without an explicit keyword will result in an error or misinterpretation.\n",
      "  FutureWarning\n"
     ]
    },
    {
     "data": {
      "text/plain": [
       "<AxesSubplot:xlabel='WHITE', ylabel='count'>"
      ]
     },
     "execution_count": 197,
     "metadata": {},
     "output_type": "execute_result"
    },
    {
     "data": {
      "image/png": "[encoded data removed]",
      "text/plain": [
       "<Figure size 432x288 with 1 Axes>"
      ]
     },
     "metadata": {
      "needs_background": "light"
     },
     "output_type": "display_data"
    }
   ],
   "source": [
    "sns.countplot(rec_data_recidivism['WHITE'])"
   ]
  },
  {
   "cell_type": "code",
   "execution_count": 198,
   "id": "8ecab22d",
   "metadata": {},
   "outputs": [
    {
     "name": "stderr",
     "output_type": "stream",
     "text": [
      "C:\\Users\\anime\\anaconda3\\envs\\tensor\\lib\\site-packages\\seaborn\\_decorators.py:43: FutureWarning: Pass the following variable as a keyword arg: x. From version 0.12, the only valid positional argument will be `data`, and passing other arguments without an explicit keyword will result in an error or misinterpretation.\n",
      "  FutureWarning\n"
     ]
    },
    {
     "data": {
      "text/plain": [
       "<AxesSubplot:xlabel='Violent/Sex Offense', ylabel='count'>"
      ]
     },
     "execution_count": 198,
     "metadata": {},
     "output_type": "execute_result"
    },
    {
     "data": {
      "image/png": "[encoded data removed]",
      "text/plain": [
       "<Figure size 432x288 with 1 Axes>"
      ]
     },
     "metadata": {
      "needs_background": "light"
     },
     "output_type": "display_data"
    }
   ],
   "source": [
    "sns.countplot(rec_data_recidivism['Violent/Sex Offense'])"
   ]
  },
  {
   "cell_type": "code",
   "execution_count": 199,
   "id": "6bd7b553",
   "metadata": {
    "scrolled": true
   },
   "outputs": [
    {
     "data": {
      "text/plain": [
       "<seaborn.axisgrid.FacetGrid at 0x15adced3b38>"
      ]
     },
     "execution_count": 199,
     "metadata": {},
     "output_type": "execute_result"
    },
    {
     "data": {
      "image/png": "[encoded data removed]",
      "text/plain": [
       "<Figure size 360x360 with 1 Axes>"
      ]
     },
     "metadata": {
      "needs_background": "light"
     },
     "output_type": "display_data"
    }
   ],
   "source": [
    "sns.displot(rec_data_recidivism['Delinquency_Reports'],bins = 3)"
   ]
  },
  {
   "cell_type": "code",
   "execution_count": 200,
   "id": "cee00505",
   "metadata": {},
   "outputs": [
    {
     "name": "stderr",
     "output_type": "stream",
     "text": [
      "C:\\Users\\anime\\anaconda3\\envs\\tensor\\lib\\site-packages\\seaborn\\_decorators.py:43: FutureWarning: Pass the following variable as a keyword arg: x. From version 0.12, the only valid positional argument will be `data`, and passing other arguments without an explicit keyword will result in an error or misinterpretation.\n",
      "  FutureWarning\n"
     ]
    },
    {
     "data": {
      "text/plain": [
       "<AxesSubplot:xlabel='Gang_Affiliated', ylabel='count'>"
      ]
     },
     "execution_count": 200,
     "metadata": {},
     "output_type": "execute_result"
    },
    {
     "data": {
      "image/png": "[encoded data removed]",
      "text/plain": [
       "<Figure size 432x288 with 1 Axes>"
      ]
     },
     "metadata": {
      "needs_background": "light"
     },
     "output_type": "display_data"
    }
   ],
   "source": [
    "sns.countplot(rec_data_recidivism['Gang_Affiliated'])"
   ]
  },
  {
   "cell_type": "code",
   "execution_count": 201,
   "id": "a5b9b306",
   "metadata": {},
   "outputs": [
    {
     "data": {
      "text/plain": [
       "<seaborn.axisgrid.FacetGrid at 0x15add050f98>"
      ]
     },
     "execution_count": 201,
     "metadata": {},
     "output_type": "execute_result"
    },
    {
     "data": {
      "image/png": "[encoded data removed]",
      "text/plain": [
       "<Figure size 360x360 with 1 Axes>"
      ]
     },
     "metadata": {
      "needs_background": "light"
     },
     "output_type": "display_data"
    }
   ],
   "source": [
    "sns.displot(rec_data_recidivism['Residence_PUMA'])"
   ]
  },
  {
   "cell_type": "code",
   "execution_count": 202,
   "id": "24dc6819",
   "metadata": {},
   "outputs": [
    {
     "name": "stdout",
     "output_type": "stream",
     "text": [
      "<class 'pandas.core.frame.DataFrame'>\n",
      "RangeIndex: 25835 entries, 0 to 25834\n",
      "Data columns (total 62 columns):\n",
      " #   Column                                             Non-Null Count  Dtype  \n",
      "---  ------                                             --------------  -----  \n",
      " 0   Age_at_Release                                     25835 non-null  int32  \n",
      " 1   Residence_PUMA                                     25835 non-null  int64  \n",
      " 2   Gang_Affiliated                                    25835 non-null  float64\n",
      " 3   Supervision_Risk_Score_First                       25835 non-null  float64\n",
      " 4   Education_Level                                    25835 non-null  int32  \n",
      " 5   Dependents                                         25835 non-null  int32  \n",
      " 6   Prior_Arrest_Episodes_Felony                       25835 non-null  int32  \n",
      " 7   Prior_Arrest_Episodes_Misd                         25835 non-null  int32  \n",
      " 8   Prior_Arrest_Episodes_Violent                      25835 non-null  int32  \n",
      " 9   Prior_Arrest_Episodes_Property                     25835 non-null  int32  \n",
      " 10  Prior_Arrest_Episodes_Drug                         25835 non-null  int32  \n",
      " 11  Prior_Arrest_Episodes_PPViolationCharges           25835 non-null  int32  \n",
      " 12  Prior_Arrest_Episodes_DVCharges                    25835 non-null  int64  \n",
      " 13  Prior_Arrest_Episodes_GunCharges                   25835 non-null  int64  \n",
      " 14  Prior_Conviction_Episodes_Felony                   25835 non-null  int32  \n",
      " 15  Prior_Conviction_Episodes_Misd                     25835 non-null  int32  \n",
      " 16  Prior_Conviction_Episodes_Viol                     25835 non-null  int64  \n",
      " 17  Prior_Conviction_Episodes_Prop                     25835 non-null  int32  \n",
      " 18  Prior_Conviction_Episodes_Drug                     25835 non-null  int32  \n",
      " 19  Prior_Conviction_Episodes_PPViolationCharges       25835 non-null  int64  \n",
      " 20  Prior_Conviction_Episodes_DomesticViolenceCharges  25835 non-null  int64  \n",
      " 21  Prior_Conviction_Episodes_GunCharges               25835 non-null  int64  \n",
      " 22  Prior_Revocations_Parole                           25835 non-null  int64  \n",
      " 23  Prior_Revocations_Probation                        25835 non-null  int64  \n",
      " 24  Condition_MH_SA                                    25835 non-null  int64  \n",
      " 25  Condition_Cog_Ed                                   25835 non-null  int64  \n",
      " 26  Condition_Other                                    25835 non-null  int64  \n",
      " 27  Violations_ElectronicMonitoring                    25835 non-null  int64  \n",
      " 28  Violations_Instruction                             25835 non-null  int64  \n",
      " 29  Violations_FailToReport                            25835 non-null  int64  \n",
      " 30  Violations_MoveWithoutPermission                   25835 non-null  int64  \n",
      " 31  Delinquency_Reports                                25835 non-null  int32  \n",
      " 32  Program_Attendances                                25835 non-null  int32  \n",
      " 33  Program_UnexcusedAbsences                          25835 non-null  int32  \n",
      " 34  Residence_Changes                                  25835 non-null  int32  \n",
      " 35  Avg_Days_per_DrugTest                              25835 non-null  float64\n",
      " 36  DrugTests_THC_Positive                             25835 non-null  float64\n",
      " 37  DrugTests_Cocaine_Positive                         25835 non-null  float64\n",
      " 38  DrugTests_Meth_Positive                            25835 non-null  float64\n",
      " 39  DrugTests_Other_Positive                           25835 non-null  float64\n",
      " 40  Percent_Days_Employed                              25835 non-null  float64\n",
      " 41  Jobs_Per_Year                                      25835 non-null  float64\n",
      " 42  Employment_Exempt                                  25835 non-null  int64  \n",
      " 43  Recidivism_Within_3years                           25835 non-null  int64  \n",
      " 44  Recidivism_Arrest_Year1                            25835 non-null  int64  \n",
      " 45  Recidivism_Arrest_Year2                            25835 non-null  int64  \n",
      " 46  Recidivism_Arrest_Year3                            25835 non-null  int64  \n",
      " 47  Training_Sample                                    25835 non-null  int64  \n",
      " 48  Male                                               25835 non-null  uint8  \n",
      " 49  WHITE                                              25835 non-null  uint8  \n",
      " 50  High Supervision                                   25835 non-null  uint8  \n",
      " 51  Specialized Supervision                            25835 non-null  uint8  \n",
      " 52  Standard Supervision                               25835 non-null  uint8  \n",
      " 53  Drug Offense                                       25835 non-null  uint8  \n",
      " 54  Other Offense                                      25835 non-null  uint8  \n",
      " 55  Property Offense                                   25835 non-null  uint8  \n",
      " 56  Violent/Non-Sex Offense                            25835 non-null  uint8  \n",
      " 57  Violent/Sex Offense                                25835 non-null  uint8  \n",
      " 58  1-2 years in prison                                25835 non-null  uint8  \n",
      " 59  2-3+ years in prison                               25835 non-null  uint8  \n",
      " 60  1- years in prison                                 25835 non-null  uint8  \n",
      " 61  3+ years in prison                                 25835 non-null  uint8  \n",
      "dtypes: float64(9), int32(17), int64(22), uint8(14)\n",
      "memory usage: 8.1 MB\n"
     ]
    }
   ],
   "source": [
    "rec_data.info()"
   ]
  },
  {
   "cell_type": "code",
   "execution_count": 203,
   "id": "df2866dd",
   "metadata": {},
   "outputs": [],
   "source": [
    "from tensorflow.keras.models import Sequential\n",
    "from tensorflow.keras.layers import Dense,Activation,Dropout\n",
    "from sklearn.preprocessing import StandardScaler"
   ]
  },
  {
   "cell_type": "code",
   "execution_count": 204,
   "id": "bda7ed36",
   "metadata": {},
   "outputs": [],
   "source": [
    "scaler = StandardScaler()"
   ]
  },
  {
   "cell_type": "code",
   "execution_count": 205,
   "id": "f6f23681",
   "metadata": {},
   "outputs": [],
   "source": [
    "X = rec_data.drop(['Recidivism_Within_3years', 'Recidivism_Arrest_Year1', 'Recidivism_Arrest_Year2', 'Recidivism_Arrest_Year2'], axis=1)"
   ]
  },
  {
   "cell_type": "code",
   "execution_count": 206,
   "id": "62984600",
   "metadata": {},
   "outputs": [],
   "source": [
    "y1 = rec_data['Recidivism_Within_3years']"
   ]
  },
  {
   "cell_type": "code",
   "execution_count": 207,
   "id": "9dc5e66e",
   "metadata": {},
   "outputs": [],
   "source": [
    "y2 = rec_data['Recidivism_Arrest_Year1']"
   ]
  },
  {
   "cell_type": "code",
   "execution_count": 208,
   "id": "885e40c7",
   "metadata": {},
   "outputs": [],
   "source": [
    "y3 = rec_data['Recidivism_Arrest_Year2']"
   ]
  },
  {
   "cell_type": "code",
   "execution_count": 209,
   "id": "3e807b33",
   "metadata": {},
   "outputs": [],
   "source": [
    "y4 = rec_data['Recidivism_Arrest_Year3']"
   ]
  },
  {
   "cell_type": "code",
   "execution_count": 210,
   "id": "1d84d825",
   "metadata": {},
   "outputs": [],
   "source": [
    "from sklearn.model_selection import train_test_split"
   ]
  },
  {
   "cell_type": "code",
   "execution_count": 211,
   "id": "3e318b67",
   "metadata": {},
   "outputs": [],
   "source": [
    "X_train1, X_test1, y_train1, y_test1 = train_test_split(X,y1,test_size = 0.25, random_state = 101)"
   ]
  },
  {
   "cell_type": "code",
   "execution_count": 212,
   "id": "6ca26300",
   "metadata": {},
   "outputs": [
    {
     "data": {
      "text/html": [
       "<div>\n",
       "<style scoped>\n",
       "    .dataframe tbody tr th:only-of-type {\n",
       "        vertical-align: middle;\n",
       "    }\n",
       "\n",
       "    .dataframe tbody tr th {\n",
       "        vertical-align: top;\n",
       "    }\n",
       "\n",
       "    .dataframe thead th {\n",
       "        text-align: right;\n",
       "    }\n",
       "</style>\n",
       "<table border=\"1\" class=\"dataframe\">\n",
       "  <thead>\n",
       "    <tr style=\"text-align: right;\">\n",
       "      <th></th>\n",
       "      <th>Age_at_Release</th>\n",
       "      <th>Residence_PUMA</th>\n",
       "      <th>Gang_Affiliated</th>\n",
       "      <th>Supervision_Risk_Score_First</th>\n",
       "      <th>Education_Level</th>\n",
       "      <th>Dependents</th>\n",
       "      <th>Prior_Arrest_Episodes_Felony</th>\n",
       "      <th>Prior_Arrest_Episodes_Misd</th>\n",
       "      <th>Prior_Arrest_Episodes_Violent</th>\n",
       "      <th>Prior_Arrest_Episodes_Property</th>\n",
       "      <th>...</th>\n",
       "      <th>Standard Supervision</th>\n",
       "      <th>Drug Offense</th>\n",
       "      <th>Other Offense</th>\n",
       "      <th>Property Offense</th>\n",
       "      <th>Violent/Non-Sex Offense</th>\n",
       "      <th>Violent/Sex Offense</th>\n",
       "      <th>1-2 years in prison</th>\n",
       "      <th>2-3+ years in prison</th>\n",
       "      <th>1- years in prison</th>\n",
       "      <th>3+ years in prison</th>\n",
       "    </tr>\n",
       "  </thead>\n",
       "  <tbody>\n",
       "    <tr>\n",
       "      <th>13040</th>\n",
       "      <td>50</td>\n",
       "      <td>15</td>\n",
       "      <td>0.0</td>\n",
       "      <td>1.0</td>\n",
       "      <td>1</td>\n",
       "      <td>0</td>\n",
       "      <td>8</td>\n",
       "      <td>2</td>\n",
       "      <td>0</td>\n",
       "      <td>3</td>\n",
       "      <td>...</td>\n",
       "      <td>1</td>\n",
       "      <td>0</td>\n",
       "      <td>0</td>\n",
       "      <td>1</td>\n",
       "      <td>0</td>\n",
       "      <td>0</td>\n",
       "      <td>0</td>\n",
       "      <td>0</td>\n",
       "      <td>1</td>\n",
       "      <td>0</td>\n",
       "    </tr>\n",
       "    <tr>\n",
       "      <th>24876</th>\n",
       "      <td>30</td>\n",
       "      <td>4</td>\n",
       "      <td>0.0</td>\n",
       "      <td>5.0</td>\n",
       "      <td>0</td>\n",
       "      <td>3</td>\n",
       "      <td>9</td>\n",
       "      <td>4</td>\n",
       "      <td>0</td>\n",
       "      <td>4</td>\n",
       "      <td>...</td>\n",
       "      <td>1</td>\n",
       "      <td>0</td>\n",
       "      <td>0</td>\n",
       "      <td>1</td>\n",
       "      <td>0</td>\n",
       "      <td>0</td>\n",
       "      <td>0</td>\n",
       "      <td>0</td>\n",
       "      <td>1</td>\n",
       "      <td>0</td>\n",
       "    </tr>\n",
       "    <tr>\n",
       "      <th>25471</th>\n",
       "      <td>30</td>\n",
       "      <td>22</td>\n",
       "      <td>0.0</td>\n",
       "      <td>4.0</td>\n",
       "      <td>2</td>\n",
       "      <td>1</td>\n",
       "      <td>5</td>\n",
       "      <td>6</td>\n",
       "      <td>1</td>\n",
       "      <td>3</td>\n",
       "      <td>...</td>\n",
       "      <td>1</td>\n",
       "      <td>0</td>\n",
       "      <td>0</td>\n",
       "      <td>0</td>\n",
       "      <td>0</td>\n",
       "      <td>0</td>\n",
       "      <td>0</td>\n",
       "      <td>0</td>\n",
       "      <td>1</td>\n",
       "      <td>0</td>\n",
       "    </tr>\n",
       "    <tr>\n",
       "      <th>5055</th>\n",
       "      <td>50</td>\n",
       "      <td>25</td>\n",
       "      <td>0.0</td>\n",
       "      <td>1.0</td>\n",
       "      <td>1</td>\n",
       "      <td>3</td>\n",
       "      <td>7</td>\n",
       "      <td>2</td>\n",
       "      <td>1</td>\n",
       "      <td>3</td>\n",
       "      <td>...</td>\n",
       "      <td>1</td>\n",
       "      <td>1</td>\n",
       "      <td>0</td>\n",
       "      <td>0</td>\n",
       "      <td>0</td>\n",
       "      <td>0</td>\n",
       "      <td>0</td>\n",
       "      <td>0</td>\n",
       "      <td>0</td>\n",
       "      <td>1</td>\n",
       "    </tr>\n",
       "    <tr>\n",
       "      <th>22884</th>\n",
       "      <td>40</td>\n",
       "      <td>3</td>\n",
       "      <td>1.0</td>\n",
       "      <td>4.0</td>\n",
       "      <td>2</td>\n",
       "      <td>3</td>\n",
       "      <td>8</td>\n",
       "      <td>6</td>\n",
       "      <td>3</td>\n",
       "      <td>2</td>\n",
       "      <td>...</td>\n",
       "      <td>1</td>\n",
       "      <td>0</td>\n",
       "      <td>0</td>\n",
       "      <td>0</td>\n",
       "      <td>0</td>\n",
       "      <td>0</td>\n",
       "      <td>0</td>\n",
       "      <td>0</td>\n",
       "      <td>1</td>\n",
       "      <td>0</td>\n",
       "    </tr>\n",
       "  </tbody>\n",
       "</table>\n",
       "<p>5 rows × 59 columns</p>\n",
       "</div>"
      ],
      "text/plain": [
       "       Age_at_Release  Residence_PUMA  Gang_Affiliated  \\\n",
       "13040              50              15              0.0   \n",
       "24876              30               4              0.0   \n",
       "25471              30              22              0.0   \n",
       "5055               50              25              0.0   \n",
       "22884              40               3              1.0   \n",
       "\n",
       "       Supervision_Risk_Score_First  Education_Level  Dependents  \\\n",
       "13040                           1.0                1           0   \n",
       "24876                           5.0                0           3   \n",
       "25471                           4.0                2           1   \n",
       "5055                            1.0                1           3   \n",
       "22884                           4.0                2           3   \n",
       "\n",
       "       Prior_Arrest_Episodes_Felony  Prior_Arrest_Episodes_Misd  \\\n",
       "13040                             8                           2   \n",
       "24876                             9                           4   \n",
       "25471                             5                           6   \n",
       "5055                              7                           2   \n",
       "22884                             8                           6   \n",
       "\n",
       "       Prior_Arrest_Episodes_Violent  Prior_Arrest_Episodes_Property  ...  \\\n",
       "13040                              0                               3  ...   \n",
       "24876                              0                               4  ...   \n",
       "25471                              1                               3  ...   \n",
       "5055                               1                               3  ...   \n",
       "22884                              3                               2  ...   \n",
       "\n",
       "       Standard Supervision  Drug Offense  Other Offense  Property Offense  \\\n",
       "13040                     1             0              0                 1   \n",
       "24876                     1             0              0                 1   \n",
       "25471                     1             0              0                 0   \n",
       "5055                      1             1              0                 0   \n",
       "22884                     1             0              0                 0   \n",
       "\n",
       "       Violent/Non-Sex Offense  Violent/Sex Offense  1-2 years in prison  \\\n",
       "13040                        0                    0                    0   \n",
       "24876                        0                    0                    0   \n",
       "25471                        0                    0                    0   \n",
       "5055                         0                    0                    0   \n",
       "22884                        0                    0                    0   \n",
       "\n",
       "       2-3+ years in prison  1- years in prison  3+ years in prison  \n",
       "13040                     0                   1                   0  \n",
       "24876                     0                   1                   0  \n",
       "25471                     0                   1                   0  \n",
       "5055                      0                   0                   1  \n",
       "22884                     0                   1                   0  \n",
       "\n",
       "[5 rows x 59 columns]"
      ]
     },
     "execution_count": 212,
     "metadata": {},
     "output_type": "execute_result"
    }
   ],
   "source": [
    "X_train1.head()"
   ]
  },
  {
   "cell_type": "code",
   "execution_count": 220,
   "id": "ef65a575",
   "metadata": {},
   "outputs": [],
   "source": [
    "import xgboost as xgb"
   ]
  },
  {
   "cell_type": "code",
   "execution_count": 221,
   "id": "e6138786",
   "metadata": {},
   "outputs": [],
   "source": [
    "model = xgb.XGBClassifier()"
   ]
  },
  {
   "cell_type": "code",
   "execution_count": 222,
   "id": "0ae8def4",
   "metadata": {},
   "outputs": [],
   "source": [
    "X_train1 = scaler.fit_transform(X_train1)"
   ]
  },
  {
   "cell_type": "code",
   "execution_count": 223,
   "id": "80685007",
   "metadata": {},
   "outputs": [
    {
     "name": "stderr",
     "output_type": "stream",
     "text": [
      "C:\\Users\\anime\\anaconda3\\envs\\tensor\\lib\\site-packages\\xgboost\\sklearn.py:888: UserWarning: The use of label encoder in XGBClassifier is deprecated and will be removed in a future release. To remove this warning, do the following: 1) Pass option use_label_encoder=False when constructing XGBClassifier object; and 2) Encode your labels (y) as integers starting with 0, i.e. 0, 1, 2, ..., [num_class - 1].\n",
      "  warnings.warn(label_encoder_deprecation_msg, UserWarning)\n"
     ]
    },
    {
     "name": "stdout",
     "output_type": "stream",
     "text": [
      "[10:51:04] WARNING: ..\\src\\learner.cc:1061: Starting in XGBoost 1.3.0, the default evaluation metric used with the objective 'binary:logistic' was changed from 'error' to 'logloss'. Explicitly set eval_metric if you'd like to restore the old behavior.\n"
     ]
    },
    {
     "data": {
      "text/plain": [
       "XGBClassifier(base_score=0.5, booster='gbtree', colsample_bylevel=1,\n",
       "              colsample_bynode=1, colsample_bytree=1, gamma=0, gpu_id=-1,\n",
       "              importance_type='gain', interaction_constraints='',\n",
       "              learning_rate=0.300000012, max_delta_step=0, max_depth=6,\n",
       "              min_child_weight=1, missing=nan, monotone_constraints='()',\n",
       "              n_estimators=100, n_jobs=16, num_parallel_tree=1, random_state=0,\n",
       "              reg_alpha=0, reg_lambda=1, scale_pos_weight=1, subsample=1,\n",
       "              tree_method='exact', validate_parameters=1, verbosity=None)"
      ]
     },
     "execution_count": 223,
     "metadata": {},
     "output_type": "execute_result"
    }
   ],
   "source": [
    "model.fit(X_train1, y_train1)"
   ]
  },
  {
   "cell_type": "code",
   "execution_count": 224,
   "id": "b56cb132",
   "metadata": {},
   "outputs": [],
   "source": [
    "X_test1 = scaler.fit_transform(X_test1)"
   ]
  },
  {
   "cell_type": "code",
   "execution_count": 225,
   "id": "335d835a",
   "metadata": {},
   "outputs": [],
   "source": [
    "y_pred1 = model.predict(X_test1)"
   ]
  },
  {
   "cell_type": "code",
   "execution_count": 226,
   "id": "86938747",
   "metadata": {},
   "outputs": [
    {
     "data": {
      "text/plain": [
       "1"
      ]
     },
     "execution_count": 226,
     "metadata": {},
     "output_type": "execute_result"
    }
   ],
   "source": [
    "y_pred1[0]"
   ]
  },
  {
   "cell_type": "code",
   "execution_count": 227,
   "id": "9416e312",
   "metadata": {},
   "outputs": [
    {
     "data": {
      "text/plain": [
       "<pandas.core.indexing._iLocIndexer at 0x15ae6705228>"
      ]
     },
     "execution_count": 227,
     "metadata": {},
     "output_type": "execute_result"
    }
   ],
   "source": [
    "y_test1.iloc(0)"
   ]
  },
  {
   "cell_type": "code",
   "execution_count": 228,
   "id": "05170576",
   "metadata": {},
   "outputs": [
    {
     "data": {
      "text/plain": [
       "1"
      ]
     },
     "execution_count": 228,
     "metadata": {},
     "output_type": "execute_result"
    }
   ],
   "source": [
    "y_pred1[3]"
   ]
  },
  {
   "cell_type": "code",
   "execution_count": 229,
   "id": "cc1b4c83",
   "metadata": {},
   "outputs": [
    {
     "ename": "IndexError",
     "evalue": "invalid index to scalar variable.",
     "output_type": "error",
     "traceback": [
      "\u001b[1;31m---------------------------------------------------------------------------\u001b[0m",
      "\u001b[1;31mIndexError\u001b[0m                                Traceback (most recent call last)",
      "\u001b[1;32m<ipython-input-229-6e563b16c818>\u001b[0m in \u001b[0;36m<module>\u001b[1;34m\u001b[0m\n\u001b[0;32m      3\u001b[0m \u001b[1;32mfor\u001b[0m \u001b[0mi\u001b[0m \u001b[1;32min\u001b[0m \u001b[0my_pred1\u001b[0m\u001b[1;33m:\u001b[0m\u001b[1;33m\u001b[0m\u001b[1;33m\u001b[0m\u001b[0m\n\u001b[0;32m      4\u001b[0m \u001b[1;33m\u001b[0m\u001b[0m\n\u001b[1;32m----> 5\u001b[1;33m     \u001b[0mprediction_probabilities\u001b[0m\u001b[1;33m.\u001b[0m\u001b[0mappend\u001b[0m\u001b[1;33m(\u001b[0m\u001b[1;33m(\u001b[0m\u001b[0mi\u001b[0m\u001b[1;33m[\u001b[0m\u001b[1;36m1\u001b[0m\u001b[1;33m]\u001b[0m\u001b[1;33m*\u001b[0m\u001b[1;36m100\u001b[0m\u001b[1;33m)\u001b[0m\u001b[1;33m.\u001b[0m\u001b[0mround\u001b[0m\u001b[1;33m(\u001b[0m\u001b[1;33m)\u001b[0m\u001b[1;33m)\u001b[0m\u001b[1;33m\u001b[0m\u001b[1;33m\u001b[0m\u001b[0m\n\u001b[0m",
      "\u001b[1;31mIndexError\u001b[0m: invalid index to scalar variable."
     ]
    }
   ],
   "source": [
    "prediction_probabilities = []\n",
    "\n",
    "for i in y_pred1:\n",
    "    \n",
    "    prediction_probabilities.append((i[1]*100).round())"
   ]
  },
  {
   "cell_type": "code",
   "execution_count": 230,
   "id": "1c3d5c7c",
   "metadata": {},
   "outputs": [
    {
     "data": {
      "text/plain": [
       "[]"
      ]
     },
     "execution_count": 230,
     "metadata": {},
     "output_type": "execute_result"
    }
   ],
   "source": [
    "prediction_probabilities"
   ]
  },
  {
   "cell_type": "code",
   "execution_count": 231,
   "id": "e02ec58b",
   "metadata": {},
   "outputs": [],
   "source": [
    "from sklearn.metrics import classification_report, confusion_matrix"
   ]
  },
  {
   "cell_type": "code",
   "execution_count": 232,
   "id": "126e5d77",
   "metadata": {},
   "outputs": [
    {
     "name": "stdout",
     "output_type": "stream",
     "text": [
      "              precision    recall  f1-score   support\n",
      "\n",
      "           0       0.74      0.70      0.72      2667\n",
      "           1       0.80      0.82      0.81      3792\n",
      "\n",
      "    accuracy                           0.77      6459\n",
      "   macro avg       0.77      0.76      0.77      6459\n",
      "weighted avg       0.77      0.77      0.77      6459\n",
      "\n"
     ]
    }
   ],
   "source": [
    "print(classification_report(y_test1, y_pred1))"
   ]
  },
  {
   "cell_type": "code",
   "execution_count": 233,
   "id": "3c2400a1",
   "metadata": {},
   "outputs": [],
   "source": [
    "cm_reg_xgboost = confusion_matrix(y_test1,y_pred1)"
   ]
  },
  {
   "cell_type": "code",
   "execution_count": 234,
   "id": "b4e30257",
   "metadata": {},
   "outputs": [],
   "source": [
    "optimized_model = xgb.XGBClassifier(n_estimators = 59, max_depth = 6, subsample = 0.7, \n",
    "                                   min_child_weight = 5, learning_rate=0.1, gamma = 6)"
   ]
  },
  {
   "cell_type": "code",
   "execution_count": 235,
   "id": "bfec9b5b",
   "metadata": {},
   "outputs": [
    {
     "name": "stderr",
     "output_type": "stream",
     "text": [
      "C:\\Users\\anime\\anaconda3\\envs\\tensor\\lib\\site-packages\\xgboost\\sklearn.py:888: UserWarning: The use of label encoder in XGBClassifier is deprecated and will be removed in a future release. To remove this warning, do the following: 1) Pass option use_label_encoder=False when constructing XGBClassifier object; and 2) Encode your labels (y) as integers starting with 0, i.e. 0, 1, 2, ..., [num_class - 1].\n",
      "  warnings.warn(label_encoder_deprecation_msg, UserWarning)\n"
     ]
    },
    {
     "name": "stdout",
     "output_type": "stream",
     "text": [
      "[10:51:20] WARNING: ..\\src\\learner.cc:1061: Starting in XGBoost 1.3.0, the default evaluation metric used with the objective 'binary:logistic' was changed from 'error' to 'logloss'. Explicitly set eval_metric if you'd like to restore the old behavior.\n"
     ]
    },
    {
     "data": {
      "text/plain": [
       "XGBClassifier(base_score=0.5, booster='gbtree', colsample_bylevel=1,\n",
       "              colsample_bynode=1, colsample_bytree=1, gamma=6, gpu_id=-1,\n",
       "              importance_type='gain', interaction_constraints='',\n",
       "              learning_rate=0.1, max_delta_step=0, max_depth=6,\n",
       "              min_child_weight=5, missing=nan, monotone_constraints='()',\n",
       "              n_estimators=59, n_jobs=16, num_parallel_tree=1, random_state=0,\n",
       "              reg_alpha=0, reg_lambda=1, scale_pos_weight=1, subsample=0.7,\n",
       "              tree_method='exact', validate_parameters=1, verbosity=None)"
      ]
     },
     "execution_count": 235,
     "metadata": {},
     "output_type": "execute_result"
    }
   ],
   "source": [
    "optimized_model.fit(X_train1, y_train1)"
   ]
  },
  {
   "cell_type": "code",
   "execution_count": 236,
   "id": "ed8a2a53",
   "metadata": {},
   "outputs": [],
   "source": [
    "y_pred2 = optimized_model.predict(X_test1)"
   ]
  },
  {
   "cell_type": "code",
   "execution_count": 237,
   "id": "5166ca0e",
   "metadata": {},
   "outputs": [
    {
     "name": "stdout",
     "output_type": "stream",
     "text": [
      "              precision    recall  f1-score   support\n",
      "\n",
      "           0       0.76      0.70      0.73      2667\n",
      "           1       0.80      0.85      0.82      3792\n",
      "\n",
      "    accuracy                           0.79      6459\n",
      "   macro avg       0.78      0.77      0.78      6459\n",
      "weighted avg       0.79      0.79      0.79      6459\n",
      "\n"
     ]
    }
   ],
   "source": [
    "print(classification_report(y_test1, y_pred2))"
   ]
  },
  {
   "cell_type": "code",
   "execution_count": 238,
   "id": "375c826e",
   "metadata": {},
   "outputs": [],
   "source": [
    "cm_optimized_xgboost = confusion_matrix(y_test1, y_pred2)"
   ]
  },
  {
   "cell_type": "code",
   "execution_count": 239,
   "id": "d5d87046",
   "metadata": {},
   "outputs": [],
   "source": [
    "from sklearn.metrics import ConfusionMatrixDisplay"
   ]
  },
  {
   "cell_type": "code",
   "execution_count": 240,
   "id": "468b8696",
   "metadata": {},
   "outputs": [
    {
     "data": {
      "text/plain": [
       "<sklearn.metrics._plot.confusion_matrix.ConfusionMatrixDisplay at 0x15ae65257f0>"
      ]
     },
     "execution_count": 240,
     "metadata": {},
     "output_type": "execute_result"
    },
    {
     "data": {
      "image/png": "[encoded data removed]",
      "text/plain": [
       "<Figure size 432x288 with 2 Axes>"
      ]
     },
     "metadata": {
      "needs_background": "light"
     },
     "output_type": "display_data"
    }
   ],
   "source": [
    "ConfusionMatrixDisplay(cm_optimized_xgboost).plot()"
   ]
  },
  {
   "cell_type": "code",
   "execution_count": 241,
   "id": "22a66afb",
   "metadata": {},
   "outputs": [
    {
     "data": {
      "text/plain": [
       "<sklearn.metrics._plot.confusion_matrix.ConfusionMatrixDisplay at 0x15ae73a9940>"
      ]
     },
     "execution_count": 241,
     "metadata": {},
     "output_type": "execute_result"
    },
    {
     "data": {
      "image/png": "[encoded data removed]",
      "text/plain": [
       "<Figure size 432x288 with 2 Axes>"
      ]
     },
     "metadata": {
      "needs_background": "light"
     },
     "output_type": "display_data"
    }
   ],
   "source": [
    "ConfusionMatrixDisplay(cm_reg_xgboost).plot()"
   ]
  },
  {
   "cell_type": "code",
   "execution_count": 242,
   "id": "cc17100d",
   "metadata": {},
   "outputs": [],
   "source": [
    "X_train2, X_test2, y_train2, y_test2 = train_test_split(X,y1,test_size = 0.25, random_state = 101)"
   ]
  },
  {
   "cell_type": "code",
   "execution_count": 243,
   "id": "bb3d3ee6",
   "metadata": {},
   "outputs": [
    {
     "name": "stderr",
     "output_type": "stream",
     "text": [
      "C:\\Users\\anime\\anaconda3\\envs\\tensor\\lib\\site-packages\\xgboost\\sklearn.py:888: UserWarning: The use of label encoder in XGBClassifier is deprecated and will be removed in a future release. To remove this warning, do the following: 1) Pass option use_label_encoder=False when constructing XGBClassifier object; and 2) Encode your labels (y) as integers starting with 0, i.e. 0, 1, 2, ..., [num_class - 1].\n",
      "  warnings.warn(label_encoder_deprecation_msg, UserWarning)\n"
     ]
    },
    {
     "name": "stdout",
     "output_type": "stream",
     "text": [
      "[10:51:33] WARNING: ..\\src\\learner.cc:1061: Starting in XGBoost 1.3.0, the default evaluation metric used with the objective 'binary:logistic' was changed from 'error' to 'logloss'. Explicitly set eval_metric if you'd like to restore the old behavior.\n"
     ]
    },
    {
     "data": {
      "text/plain": [
       "XGBClassifier(base_score=0.5, booster='gbtree', colsample_bylevel=1,\n",
       "              colsample_bynode=1, colsample_bytree=1, gamma=6, gpu_id=-1,\n",
       "              importance_type='gain', interaction_constraints='',\n",
       "              learning_rate=0.1, max_delta_step=0, max_depth=6,\n",
       "              min_child_weight=5, missing=nan, monotone_constraints='()',\n",
       "              n_estimators=59, n_jobs=16, num_parallel_tree=1, random_state=0,\n",
       "              reg_alpha=0, reg_lambda=1, scale_pos_weight=1, subsample=0.7,\n",
       "              tree_method='exact', validate_parameters=1, verbosity=None)"
      ]
     },
     "execution_count": 243,
     "metadata": {},
     "output_type": "execute_result"
    }
   ],
   "source": [
    "optimized_model.fit(X_train2, y_train2)"
   ]
  },
  {
   "cell_type": "code",
   "execution_count": 245,
   "id": "5be0b40b",
   "metadata": {},
   "outputs": [],
   "source": [
    "from sklearn.ensemble import RandomForestClassifier"
   ]
  },
  {
   "cell_type": "code",
   "execution_count": 246,
   "id": "4bf1fa9c",
   "metadata": {},
   "outputs": [],
   "source": [
    "rf = RandomForestClassifier(n_estimators = 59)"
   ]
  },
  {
   "cell_type": "code",
   "execution_count": 247,
   "id": "04f16c5f",
   "metadata": {},
   "outputs": [
    {
     "data": {
      "text/plain": [
       "RandomForestClassifier(n_estimators=59)"
      ]
     },
     "execution_count": 247,
     "metadata": {},
     "output_type": "execute_result"
    }
   ],
   "source": [
    "rf.fit(X_train2, y_train2)"
   ]
  },
  {
   "cell_type": "code",
   "execution_count": 248,
   "id": "28eb3e02",
   "metadata": {},
   "outputs": [],
   "source": [
    "y_pred5 = rf.predict(X_test2)"
   ]
  },
  {
   "cell_type": "code",
   "execution_count": 249,
   "id": "eafd922b",
   "metadata": {},
   "outputs": [
    {
     "data": {
      "text/plain": [
       "<sklearn.metrics._plot.confusion_matrix.ConfusionMatrixDisplay at 0x15ae7d76c18>"
      ]
     },
     "execution_count": 249,
     "metadata": {},
     "output_type": "execute_result"
    },
    {
     "data": {
      "image/png": "[encoded data removed]",
      "text/plain": [
       "<Figure size 432x288 with 2 Axes>"
      ]
     },
     "metadata": {
      "needs_background": "light"
     },
     "output_type": "display_data"
    }
   ],
   "source": [
    "ConfusionMatrixDisplay(confusion_matrix(y_test2,y_pred5)).plot()"
   ]
  },
  {
   "cell_type": "code",
   "execution_count": 250,
   "id": "56138d42",
   "metadata": {},
   "outputs": [],
   "source": [
    "y_pred3 = optimized_model.predict(X_test2)"
   ]
  },
  {
   "cell_type": "code",
   "execution_count": 251,
   "id": "46140d01",
   "metadata": {},
   "outputs": [
    {
     "data": {
      "text/plain": [
       "<sklearn.metrics._plot.confusion_matrix.ConfusionMatrixDisplay at 0x15ae7e0af60>"
      ]
     },
     "execution_count": 251,
     "metadata": {},
     "output_type": "execute_result"
    },
    {
     "data": {
      "image/png": "[encoded data removed]",
      "text/plain": [
       "<Figure size 432x288 with 2 Axes>"
      ]
     },
     "metadata": {
      "needs_background": "light"
     },
     "output_type": "display_data"
    }
   ],
   "source": [
    "ConfusionMatrixDisplay(confusion_matrix(y_test2,y_pred3)).plot()"
   ]
  },
  {
   "cell_type": "code",
   "execution_count": 252,
   "id": "93a7bb5c",
   "metadata": {},
   "outputs": [
    {
     "name": "stdout",
     "output_type": "stream",
     "text": [
      "              precision    recall  f1-score   support\n",
      "\n",
      "           0       0.77      0.71      0.74      2667\n",
      "           1       0.81      0.85      0.83      3792\n",
      "\n",
      "    accuracy                           0.79      6459\n",
      "   macro avg       0.79      0.78      0.78      6459\n",
      "weighted avg       0.79      0.79      0.79      6459\n",
      "\n"
     ]
    }
   ],
   "source": [
    "print(classification_report(y_test2,y_pred3))"
   ]
  },
  {
   "cell_type": "code",
   "execution_count": 253,
   "id": "74ff0876",
   "metadata": {},
   "outputs": [
    {
     "name": "stderr",
     "output_type": "stream",
     "text": [
      "C:\\Users\\anime\\anaconda3\\envs\\tensor\\lib\\site-packages\\xgboost\\sklearn.py:888: UserWarning: The use of label encoder in XGBClassifier is deprecated and will be removed in a future release. To remove this warning, do the following: 1) Pass option use_label_encoder=False when constructing XGBClassifier object; and 2) Encode your labels (y) as integers starting with 0, i.e. 0, 1, 2, ..., [num_class - 1].\n",
      "  warnings.warn(label_encoder_deprecation_msg, UserWarning)\n"
     ]
    },
    {
     "name": "stdout",
     "output_type": "stream",
     "text": [
      "[10:52:14] WARNING: ..\\src\\learner.cc:1061: Starting in XGBoost 1.3.0, the default evaluation metric used with the objective 'binary:logistic' was changed from 'error' to 'logloss'. Explicitly set eval_metric if you'd like to restore the old behavior.\n"
     ]
    },
    {
     "data": {
      "text/plain": [
       "XGBClassifier(base_score=0.5, booster='gbtree', colsample_bylevel=1,\n",
       "              colsample_bynode=1, colsample_bytree=1, gamma=0, gpu_id=-1,\n",
       "              importance_type='gain', interaction_constraints='',\n",
       "              learning_rate=0.300000012, max_delta_step=0, max_depth=6,\n",
       "              min_child_weight=1, missing=nan, monotone_constraints='()',\n",
       "              n_estimators=100, n_jobs=16, num_parallel_tree=1, random_state=0,\n",
       "              reg_alpha=0, reg_lambda=1, scale_pos_weight=1, subsample=1,\n",
       "              tree_method='exact', validate_parameters=1, verbosity=None)"
      ]
     },
     "execution_count": 253,
     "metadata": {},
     "output_type": "execute_result"
    }
   ],
   "source": [
    "model.fit(X_train2, y_train2)"
   ]
  },
  {
   "cell_type": "code",
   "execution_count": 254,
   "id": "9d4d18fa",
   "metadata": {},
   "outputs": [],
   "source": [
    "y_pred4 = model.predict(X_test2)"
   ]
  },
  {
   "cell_type": "code",
   "execution_count": 255,
   "id": "bcd80c90",
   "metadata": {},
   "outputs": [
    {
     "data": {
      "text/plain": [
       "<sklearn.metrics._plot.confusion_matrix.ConfusionMatrixDisplay at 0x15ae6728080>"
      ]
     },
     "execution_count": 255,
     "metadata": {},
     "output_type": "execute_result"
    },
    {
     "data": {
      "image/png": "[encoded data removed]",
      "text/plain": [
       "<Figure size 432x288 with 2 Axes>"
      ]
     },
     "metadata": {
      "needs_background": "light"
     },
     "output_type": "display_data"
    }
   ],
   "source": [
    "ConfusionMatrixDisplay(confusion_matrix(y_test2,y_pred4)).plot()"
   ]
  },
  {
   "cell_type": "code",
   "execution_count": 256,
   "id": "9c44f323",
   "metadata": {},
   "outputs": [
    {
     "name": "stdout",
     "output_type": "stream",
     "text": [
      "              precision    recall  f1-score   support\n",
      "\n",
      "           0       0.75      0.72      0.73      2667\n",
      "           1       0.81      0.83      0.82      3792\n",
      "\n",
      "    accuracy                           0.79      6459\n",
      "   macro avg       0.78      0.78      0.78      6459\n",
      "weighted avg       0.78      0.79      0.78      6459\n",
      "\n"
     ]
    }
   ],
   "source": [
    "print(classification_report(y_test2,y_pred4))"
   ]
  },
  {
   "cell_type": "code",
   "execution_count": 257,
   "id": "a1e989ae",
   "metadata": {},
   "outputs": [
    {
     "data": {
      "text/plain": [
       "(19376, 59)"
      ]
     },
     "execution_count": 257,
     "metadata": {},
     "output_type": "execute_result"
    }
   ],
   "source": [
    "X_train1.shape"
   ]
  },
  {
   "cell_type": "code",
   "execution_count": 258,
   "id": "58cb98a3",
   "metadata": {},
   "outputs": [],
   "source": [
    "model2 = Sequential()"
   ]
  },
  {
   "cell_type": "code",
   "execution_count": 259,
   "id": "196d32bb",
   "metadata": {},
   "outputs": [],
   "source": [
    "model2.add(Dense(60, activation='relu'))"
   ]
  },
  {
   "cell_type": "code",
   "execution_count": 260,
   "id": "24307c6c",
   "metadata": {},
   "outputs": [],
   "source": [
    "model2.add(Dense(30, activation='relu'))"
   ]
  },
  {
   "cell_type": "code",
   "execution_count": 261,
   "id": "42ad060f",
   "metadata": {},
   "outputs": [],
   "source": [
    "model2.add(Dense(15, activation='relu'))"
   ]
  },
  {
   "cell_type": "code",
   "execution_count": 262,
   "id": "2b124238",
   "metadata": {},
   "outputs": [],
   "source": [
    "model2.add(Dense(7, activation='relu'))"
   ]
  },
  {
   "cell_type": "code",
   "execution_count": 263,
   "id": "580b4a72",
   "metadata": {},
   "outputs": [],
   "source": [
    "model2.add(Dense(1, activation='sigmoid'))"
   ]
  },
  {
   "cell_type": "code",
   "execution_count": 264,
   "id": "325affd5",
   "metadata": {},
   "outputs": [],
   "source": [
    "model2.compile(loss='binary_crossentropy', optimizer='adam')"
   ]
  },
  {
   "cell_type": "code",
   "execution_count": 265,
   "id": "fceb96cd",
   "metadata": {},
   "outputs": [
    {
     "name": "stdout",
     "output_type": "stream",
     "text": [
      "Epoch 1/100\n",
      "606/606 [==============================] - 2s 2ms/step - loss: 0.5439\n",
      "Epoch 2/100\n",
      "606/606 [==============================] - 1s 2ms/step - loss: 0.4848\n",
      "Epoch 3/100\n",
      "606/606 [==============================] - 1s 2ms/step - loss: 0.4724\n",
      "Epoch 4/100\n",
      "606/606 [==============================] - 2s 3ms/step - loss: 0.4624\n",
      "Epoch 5/100\n",
      "606/606 [==============================] - 1s 2ms/step - loss: 0.4540\n",
      "Epoch 6/100\n",
      "606/606 [==============================] - 1s 2ms/step - loss: 0.4469\n",
      "Epoch 7/100\n",
      "606/606 [==============================] - 2s 3ms/step - loss: 0.4387\n",
      "Epoch 8/100\n",
      "606/606 [==============================] - 2s 4ms/step - loss: 0.4320A: 0s\n",
      "Epoch 9/100\n",
      "606/606 [==============================] - 2s 3ms/step - loss: 0.4254\n",
      "Epoch 10/100\n",
      "606/606 [==============================] - 1s 2ms/step - loss: 0.4173\n",
      "Epoch 11/100\n",
      "606/606 [==============================] - 1s 2ms/step - loss: 0.4099\n",
      "Epoch 12/100\n",
      "606/606 [==============================] - 1s 2ms/step - loss: 0.4028A:\n",
      "Epoch 13/100\n",
      "606/606 [==============================] - 1s 2ms/step - loss: 0.3970\n",
      "Epoch 14/100\n",
      "606/606 [==============================] - 1s 2ms/step - loss: 0.3905\n",
      "Epoch 15/100\n",
      "606/606 [==============================] - 1s 2ms/step - loss: 0.3839\n",
      "Epoch 16/100\n",
      "606/606 [==============================] - 1s 2ms/step - loss: 0.3784\n",
      "Epoch 17/100\n",
      "606/606 [==============================] - 1s 2ms/step - loss: 0.3717\n",
      "Epoch 18/100\n",
      "606/606 [==============================] - 1s 2ms/step - loss: 0.3654\n",
      "Epoch 19/100\n",
      "606/606 [==============================] - 1s 2ms/step - loss: 0.3604\n",
      "Epoch 20/100\n",
      "606/606 [==============================] - 1s 2ms/step - loss: 0.3538\n",
      "Epoch 21/100\n",
      "606/606 [==============================] - 1s 2ms/step - loss: 0.3480\n",
      "Epoch 22/100\n",
      "606/606 [==============================] - 1s 2ms/step - loss: 0.3426A: 0s - loss: 0.34\n",
      "Epoch 23/100\n",
      "606/606 [==============================] - 1s 2ms/step - loss: 0.3380\n",
      "Epoch 24/100\n",
      "606/606 [==============================] - 1s 2ms/step - loss: 0.3325\n",
      "Epoch 25/100\n",
      "606/606 [==============================] - 1s 2ms/step - loss: 0.3261\n",
      "Epoch 26/100\n",
      "606/606 [==============================] - 1s 2ms/step - loss: 0.3229\n",
      "Epoch 27/100\n",
      "606/606 [==============================] - 1s 2ms/step - loss: 0.3196\n",
      "Epoch 28/100\n",
      "606/606 [==============================] - 1s 2ms/step - loss: 0.3132\n",
      "Epoch 29/100\n",
      "606/606 [==============================] - 1s 2ms/step - loss: 0.3115\n",
      "Epoch 30/100\n",
      "606/606 [==============================] - 1s 2ms/step - loss: 0.3055\n",
      "Epoch 31/100\n",
      "606/606 [==============================] - 1s 2ms/step - loss: 0.3022\n",
      "Epoch 32/100\n",
      "606/606 [==============================] - 1s 2ms/step - loss: 0.2963\n",
      "Epoch 33/100\n",
      "606/606 [==============================] - 1s 2ms/step - loss: 0.2938\n",
      "Epoch 34/100\n",
      "606/606 [==============================] - 1s 2ms/step - loss: 0.2902\n",
      "Epoch 35/100\n",
      "606/606 [==============================] - 2s 3ms/step - loss: 0.2868\n",
      "Epoch 36/100\n",
      "606/606 [==============================] - 2s 3ms/step - loss: 0.2831\n",
      "Epoch 37/100\n",
      "606/606 [==============================] - 1s 2ms/step - loss: 0.2810\n",
      "Epoch 38/100\n",
      "606/606 [==============================] - 1s 2ms/step - loss: 0.2774\n",
      "Epoch 39/100\n",
      "606/606 [==============================] - 1s 2ms/step - loss: 0.2742\n",
      "Epoch 40/100\n",
      "606/606 [==============================] - 1s 2ms/step - loss: 0.2698\n",
      "Epoch 41/100\n",
      "606/606 [==============================] - 1s 2ms/step - loss: 0.2669A: 0s - loss: 0\n",
      "Epoch 42/100\n",
      "606/606 [==============================] - 1s 2ms/step - loss: 0.2667\n",
      "Epoch 43/100\n",
      "606/606 [==============================] - 1s 2ms/step - loss: 0.2641\n",
      "Epoch 44/100\n",
      "606/606 [==============================] - 1s 2ms/step - loss: 0.2599\n",
      "Epoch 45/100\n",
      "606/606 [==============================] - 1s 2ms/step - loss: 0.2543\n",
      "Epoch 46/100\n",
      "606/606 [==============================] - 1s 2ms/step - loss: 0.2545\n",
      "Epoch 47/100\n",
      "606/606 [==============================] - 2s 2ms/step - loss: 0.2489\n",
      "Epoch 48/100\n",
      "606/606 [==============================] - 1s 2ms/step - loss: 0.2472\n",
      "Epoch 49/100\n",
      "606/606 [==============================] - 1s 2ms/step - loss: 0.2451\n",
      "Epoch 50/100\n",
      "606/606 [==============================] - 1s 2ms/step - loss: 0.2403\n",
      "Epoch 51/100\n",
      "606/606 [==============================] - 1s 2ms/step - loss: 0.2415\n",
      "Epoch 52/100\n",
      "606/606 [==============================] - 1s 2ms/step - loss: 0.2399\n",
      "Epoch 53/100\n",
      "606/606 [==============================] - 1s 2ms/step - loss: 0.2359\n",
      "Epoch 54/100\n",
      "606/606 [==============================] - 1s 2ms/step - loss: 0.2358\n",
      "Epoch 55/100\n",
      "606/606 [==============================] - 1s 2ms/step - loss: 0.2311\n",
      "Epoch 56/100\n",
      "606/606 [==============================] - 1s 2ms/step - loss: 0.2323\n",
      "Epoch 57/100\n",
      "606/606 [==============================] - 1s 2ms/step - loss: 0.2260\n",
      "Epoch 58/100\n",
      "606/606 [==============================] - 1s 2ms/step - loss: 0.2283\n",
      "Epoch 59/100\n",
      "606/606 [==============================] - 1s 2ms/step - loss: 0.2264\n",
      "Epoch 60/100\n",
      "606/606 [==============================] - 1s 2ms/step - loss: 0.2233\n",
      "Epoch 61/100\n",
      "606/606 [==============================] - 1s 2ms/step - loss: 0.2215\n",
      "Epoch 62/100\n",
      "606/606 [==============================] - 2s 3ms/step - loss: 0.2213\n",
      "Epoch 63/100\n",
      "606/606 [==============================] - 1s 2ms/step - loss: 0.2156\n",
      "Epoch 64/100\n",
      "606/606 [==============================] - 1s 2ms/step - loss: 0.2155\n",
      "Epoch 65/100\n",
      "606/606 [==============================] - 2s 3ms/step - loss: 0.2143\n",
      "Epoch 66/100\n",
      "606/606 [==============================] - 1s 2ms/step - loss: 0.2097\n",
      "Epoch 67/100\n",
      "606/606 [==============================] - 1s 2ms/step - loss: 0.2088\n",
      "Epoch 68/100\n",
      "606/606 [==============================] - 1s 2ms/step - loss: 0.2115\n",
      "Epoch 69/100\n",
      "606/606 [==============================] - 2s 3ms/step - loss: 0.2066\n",
      "Epoch 70/100\n",
      "606/606 [==============================] - 2s 3ms/step - loss: 0.2111\n",
      "Epoch 71/100\n",
      "606/606 [==============================] - 2s 3ms/step - loss: 0.2025\n",
      "Epoch 72/100\n",
      "606/606 [==============================] - 2s 4ms/step - loss: 0.2022\n",
      "Epoch 73/100\n",
      "606/606 [==============================] - 2s 4ms/step - loss: 0.2046\n",
      "Epoch 74/100\n",
      "606/606 [==============================] - 2s 4ms/step - loss: 0.1995\n",
      "Epoch 75/100\n",
      "606/606 [==============================] - 2s 4ms/step - loss: 0.2028\n",
      "Epoch 76/100\n",
      "606/606 [==============================] - 2s 4ms/step - loss: 0.1949A: 0s - lo\n",
      "Epoch 77/100\n",
      "606/606 [==============================] - 2s 4ms/step - loss: 0.1988\n",
      "Epoch 78/100\n",
      "606/606 [==============================] - 2s 4ms/step - loss: 0.1967\n",
      "Epoch 79/100\n",
      "606/606 [==============================] - 2s 4ms/step - loss: 0.1950\n",
      "Epoch 80/100\n",
      "606/606 [==============================] - 2s 4ms/step - loss: 0.1942\n",
      "Epoch 81/100\n",
      "606/606 [==============================] - 2s 4ms/step - loss: 0.1883\n",
      "Epoch 82/100\n",
      "606/606 [==============================] - 2s 3ms/step - loss: 0.1906\n",
      "Epoch 83/100\n",
      "606/606 [==============================] - 1s 2ms/step - loss: 0.1945\n",
      "Epoch 84/100\n",
      "606/606 [==============================] - 1s 2ms/step - loss: 0.1909\n",
      "Epoch 85/100\n",
      "606/606 [==============================] - 1s 2ms/step - loss: 0.1911\n",
      "Epoch 86/100\n",
      "606/606 [==============================] - 1s 2ms/step - loss: 0.1888\n",
      "Epoch 87/100\n",
      "606/606 [==============================] - 2s 3ms/step - loss: 0.1825\n",
      "Epoch 88/100\n",
      "606/606 [==============================] - 2s 3ms/step - loss: 0.1838\n",
      "Epoch 89/100\n",
      "606/606 [==============================] - 2s 3ms/step - loss: 0.1817\n",
      "Epoch 90/100\n",
      "606/606 [==============================] - 1s 2ms/step - loss: 0.1858\n",
      "Epoch 91/100\n",
      "606/606 [==============================] - 1s 2ms/step - loss: 0.1805\n",
      "Epoch 92/100\n",
      "606/606 [==============================] - 1s 2ms/step - loss: 0.1770\n",
      "Epoch 93/100\n",
      "606/606 [==============================] - 1s 2ms/step - loss: 0.1855\n",
      "Epoch 94/100\n",
      "606/606 [==============================] - 1s 2ms/step - loss: 0.1780\n",
      "Epoch 95/100\n",
      "606/606 [==============================] - 1s 2ms/step - loss: 0.1805\n",
      "Epoch 96/100\n",
      "606/606 [==============================] - 1s 2ms/step - loss: 0.1722\n",
      "Epoch 97/100\n",
      "606/606 [==============================] - 2s 3ms/step - loss: 0.1740A: 0s - loss: \n",
      "Epoch 98/100\n",
      "606/606 [==============================] - 2s 3ms/step - loss: 0.1753\n",
      "Epoch 99/100\n",
      "606/606 [==============================] - 3s 4ms/step - loss: 0.1821\n",
      "Epoch 100/100\n",
      "606/606 [==============================] - 2s 3ms/step - loss: 0.1748\n"
     ]
    },
    {
     "data": {
      "text/plain": [
       "<keras.callbacks.History at 0x15ae97eaa90>"
      ]
     },
     "execution_count": 265,
     "metadata": {},
     "output_type": "execute_result"
    }
   ],
   "source": [
    "model2.fit(X_train1, y_train1, epochs = 100)"
   ]
  },
  {
   "cell_type": "code",
   "execution_count": 266,
   "id": "c1e880b5",
   "metadata": {},
   "outputs": [],
   "source": [
    "predictions_2 = model2.predict(X_test1)"
   ]
  },
  {
   "cell_type": "code",
   "execution_count": 267,
   "id": "ea93d768",
   "metadata": {},
   "outputs": [
    {
     "data": {
      "text/plain": [
       "array([0.9999216], dtype=float32)"
      ]
     },
     "execution_count": 267,
     "metadata": {},
     "output_type": "execute_result"
    }
   ],
   "source": [
    "predictions_2[0]"
   ]
  },
  {
   "cell_type": "code",
   "execution_count": 268,
   "id": "ef4e0ea1",
   "metadata": {},
   "outputs": [],
   "source": [
    "predictions_2_official = []\n",
    "for i in predictions_2:\n",
    "    \n",
    "    if i >= 0.5:\n",
    "        \n",
    "        predictions_2_official.append(1)\n",
    "        \n",
    "    else:\n",
    "        \n",
    "        predictions_2_official.append(0)"
   ]
  },
  {
   "cell_type": "code",
   "execution_count": 269,
   "id": "2e9ade0f",
   "metadata": {},
   "outputs": [
    {
     "data": {
      "text/plain": [
       "[1,\n",
       " 1,\n",
       " 1,\n",
       " 1,\n",
       " 0,\n",
       " 0,\n",
       " 0,\n",
       " 0,\n",
       " 1,\n",
       " 1,\n",
       " 0,\n",
       " 0,\n",
       " 1,\n",
       " 1,\n",
       " 0,\n",
       " 1,\n",
       " 1,\n",
       " 1,\n",
       " 0,\n",
       " 1,\n",
       " 0,\n",
       " 1,\n",
       " 1,\n",
       " 1,\n",
       " 0,\n",
       " 0,\n",
       " 1,\n",
       " 0,\n",
       " 0,\n",
       " 1,\n",
       " 1,\n",
       " 0,\n",
       " 0,\n",
       " 1,\n",
       " 1,\n",
       " 0,\n",
       " 0,\n",
       " 1,\n",
       " 0,\n",
       " 0,\n",
       " 1,\n",
       " 1,\n",
       " 0,\n",
       " 1,\n",
       " 0,\n",
       " 0,\n",
       " 1,\n",
       " 0,\n",
       " 1,\n",
       " 0,\n",
       " 0,\n",
       " 1,\n",
       " 1,\n",
       " 1,\n",
       " 1,\n",
       " 0,\n",
       " 0,\n",
       " 1,\n",
       " 1,\n",
       " 1,\n",
       " 0,\n",
       " 0,\n",
       " 1,\n",
       " 0,\n",
       " 1,\n",
       " 0,\n",
       " 1,\n",
       " 1,\n",
       " 0,\n",
       " 0,\n",
       " 0,\n",
       " 0,\n",
       " 1,\n",
       " 1,\n",
       " 1,\n",
       " 1,\n",
       " 0,\n",
       " 1,\n",
       " 1,\n",
       " 1,\n",
       " 0,\n",
       " 1,\n",
       " 0,\n",
       " 1,\n",
       " 0,\n",
       " 1,\n",
       " 1,\n",
       " 1,\n",
       " 1,\n",
       " 1,\n",
       " 0,\n",
       " 0,\n",
       " 0,\n",
       " 1,\n",
       " 1,\n",
       " 0,\n",
       " 0,\n",
       " 0,\n",
       " 1,\n",
       " 1,\n",
       " 1,\n",
       " 0,\n",
       " 1,\n",
       " 0,\n",
       " 1,\n",
       " 1,\n",
       " 1,\n",
       " 0,\n",
       " 1,\n",
       " 1,\n",
       " 1,\n",
       " 0,\n",
       " 1,\n",
       " 1,\n",
       " 1,\n",
       " 1,\n",
       " 0,\n",
       " 0,\n",
       " 1,\n",
       " 0,\n",
       " 0,\n",
       " 1,\n",
       " 0,\n",
       " 0,\n",
       " 0,\n",
       " 1,\n",
       " 1,\n",
       " 0,\n",
       " 0,\n",
       " 0,\n",
       " 1,\n",
       " 1,\n",
       " 0,\n",
       " 0,\n",
       " 0,\n",
       " 0,\n",
       " 1,\n",
       " 1,\n",
       " 1,\n",
       " 1,\n",
       " 0,\n",
       " 1,\n",
       " 1,\n",
       " 1,\n",
       " 1,\n",
       " 0,\n",
       " 1,\n",
       " 0,\n",
       " 0,\n",
       " 1,\n",
       " 1,\n",
       " 1,\n",
       " 0,\n",
       " 1,\n",
       " 0,\n",
       " 1,\n",
       " 0,\n",
       " 0,\n",
       " 1,\n",
       " 1,\n",
       " 0,\n",
       " 0,\n",
       " 1,\n",
       " 1,\n",
       " 0,\n",
       " 0,\n",
       " 1,\n",
       " 1,\n",
       " 0,\n",
       " 0,\n",
       " 1,\n",
       " 1,\n",
       " 1,\n",
       " 0,\n",
       " 1,\n",
       " 1,\n",
       " 1,\n",
       " 0,\n",
       " 0,\n",
       " 1,\n",
       " 0,\n",
       " 0,\n",
       " 0,\n",
       " 1,\n",
       " 1,\n",
       " 1,\n",
       " 1,\n",
       " 1,\n",
       " 1,\n",
       " 0,\n",
       " 1,\n",
       " 0,\n",
       " 1,\n",
       " 1,\n",
       " 1,\n",
       " 1,\n",
       " 1,\n",
       " 0,\n",
       " 1,\n",
       " 1,\n",
       " 1,\n",
       " 1,\n",
       " 0,\n",
       " 0,\n",
       " 0,\n",
       " 0,\n",
       " 0,\n",
       " 0,\n",
       " 1,\n",
       " 1,\n",
       " 1,\n",
       " 1,\n",
       " 1,\n",
       " 1,\n",
       " 0,\n",
       " 1,\n",
       " 0,\n",
       " 0,\n",
       " 0,\n",
       " 0,\n",
       " 0,\n",
       " 0,\n",
       " 1,\n",
       " 0,\n",
       " 0,\n",
       " 1,\n",
       " 0,\n",
       " 1,\n",
       " 1,\n",
       " 1,\n",
       " 1,\n",
       " 1,\n",
       " 1,\n",
       " 0,\n",
       " 0,\n",
       " 1,\n",
       " 1,\n",
       " 0,\n",
       " 0,\n",
       " 1,\n",
       " 1,\n",
       " 0,\n",
       " 1,\n",
       " 1,\n",
       " 1,\n",
       " 1,\n",
       " 1,\n",
       " 0,\n",
       " 0,\n",
       " 1,\n",
       " 0,\n",
       " 1,\n",
       " 1,\n",
       " 1,\n",
       " 1,\n",
       " 1,\n",
       " 0,\n",
       " 1,\n",
       " 0,\n",
       " 1,\n",
       " 1,\n",
       " 1,\n",
       " 1,\n",
       " 1,\n",
       " 1,\n",
       " 0,\n",
       " 1,\n",
       " 1,\n",
       " 1,\n",
       " 1,\n",
       " 0,\n",
       " 0,\n",
       " 0,\n",
       " 1,\n",
       " 1,\n",
       " 0,\n",
       " 1,\n",
       " 1,\n",
       " 0,\n",
       " 1,\n",
       " 0,\n",
       " 1,\n",
       " 1,\n",
       " 0,\n",
       " 0,\n",
       " 1,\n",
       " 0,\n",
       " 0,\n",
       " 1,\n",
       " 0,\n",
       " 0,\n",
       " 0,\n",
       " 1,\n",
       " 1,\n",
       " 1,\n",
       " 1,\n",
       " 0,\n",
       " 1,\n",
       " 1,\n",
       " 0,\n",
       " 0,\n",
       " 1,\n",
       " 0,\n",
       " 0,\n",
       " 1,\n",
       " 0,\n",
       " 1,\n",
       " 1,\n",
       " 0,\n",
       " 0,\n",
       " 0,\n",
       " 1,\n",
       " 1,\n",
       " 0,\n",
       " 1,\n",
       " 0,\n",
       " 1,\n",
       " 0,\n",
       " 1,\n",
       " 0,\n",
       " 0,\n",
       " 1,\n",
       " 1,\n",
       " 0,\n",
       " 0,\n",
       " 0,\n",
       " 0,\n",
       " 0,\n",
       " 1,\n",
       " 0,\n",
       " 1,\n",
       " 1,\n",
       " 0,\n",
       " 0,\n",
       " 0,\n",
       " 0,\n",
       " 0,\n",
       " 1,\n",
       " 0,\n",
       " 0,\n",
       " 1,\n",
       " 0,\n",
       " 1,\n",
       " 0,\n",
       " 1,\n",
       " 1,\n",
       " 0,\n",
       " 1,\n",
       " 1,\n",
       " 1,\n",
       " 0,\n",
       " 0,\n",
       " 1,\n",
       " 0,\n",
       " 0,\n",
       " 1,\n",
       " 1,\n",
       " 0,\n",
       " 0,\n",
       " 0,\n",
       " 1,\n",
       " 0,\n",
       " 1,\n",
       " 1,\n",
       " 0,\n",
       " 0,\n",
       " 1,\n",
       " 0,\n",
       " 1,\n",
       " 1,\n",
       " 0,\n",
       " 1,\n",
       " 0,\n",
       " 1,\n",
       " 0,\n",
       " 1,\n",
       " 0,\n",
       " 0,\n",
       " 1,\n",
       " 0,\n",
       " 1,\n",
       " 1,\n",
       " 0,\n",
       " 0,\n",
       " 1,\n",
       " 1,\n",
       " 1,\n",
       " 0,\n",
       " 0,\n",
       " 0,\n",
       " 1,\n",
       " 0,\n",
       " 1,\n",
       " 1,\n",
       " 1,\n",
       " 0,\n",
       " 0,\n",
       " 0,\n",
       " 1,\n",
       " 1,\n",
       " 0,\n",
       " 0,\n",
       " 0,\n",
       " 0,\n",
       " 1,\n",
       " 1,\n",
       " 0,\n",
       " 1,\n",
       " 1,\n",
       " 1,\n",
       " 1,\n",
       " 1,\n",
       " 0,\n",
       " 0,\n",
       " 1,\n",
       " 0,\n",
       " 1,\n",
       " 1,\n",
       " 1,\n",
       " 1,\n",
       " 1,\n",
       " 1,\n",
       " 0,\n",
       " 1,\n",
       " 1,\n",
       " 1,\n",
       " 1,\n",
       " 1,\n",
       " 1,\n",
       " 1,\n",
       " 1,\n",
       " 0,\n",
       " 1,\n",
       " 1,\n",
       " 0,\n",
       " 1,\n",
       " 0,\n",
       " 1,\n",
       " 0,\n",
       " 1,\n",
       " 1,\n",
       " 1,\n",
       " 1,\n",
       " 1,\n",
       " 0,\n",
       " 1,\n",
       " 0,\n",
       " 1,\n",
       " 1,\n",
       " 1,\n",
       " 0,\n",
       " 0,\n",
       " 0,\n",
       " 0,\n",
       " 1,\n",
       " 1,\n",
       " 0,\n",
       " 1,\n",
       " 0,\n",
       " 1,\n",
       " 0,\n",
       " 0,\n",
       " 0,\n",
       " 1,\n",
       " 0,\n",
       " 1,\n",
       " 0,\n",
       " 1,\n",
       " 0,\n",
       " 0,\n",
       " 0,\n",
       " 0,\n",
       " 0,\n",
       " 0,\n",
       " 1,\n",
       " 1,\n",
       " 0,\n",
       " 0,\n",
       " 0,\n",
       " 1,\n",
       " 0,\n",
       " 1,\n",
       " 0,\n",
       " 1,\n",
       " 0,\n",
       " 0,\n",
       " 0,\n",
       " 0,\n",
       " 0,\n",
       " 1,\n",
       " 0,\n",
       " 1,\n",
       " 1,\n",
       " 1,\n",
       " 0,\n",
       " 1,\n",
       " 1,\n",
       " 1,\n",
       " 1,\n",
       " 1,\n",
       " 1,\n",
       " 1,\n",
       " 0,\n",
       " 1,\n",
       " 0,\n",
       " 0,\n",
       " 0,\n",
       " 0,\n",
       " 0,\n",
       " 1,\n",
       " 0,\n",
       " 1,\n",
       " 1,\n",
       " 1,\n",
       " 1,\n",
       " 1,\n",
       " 1,\n",
       " 1,\n",
       " 0,\n",
       " 0,\n",
       " 0,\n",
       " 1,\n",
       " 0,\n",
       " 1,\n",
       " 1,\n",
       " 1,\n",
       " 0,\n",
       " 1,\n",
       " 0,\n",
       " 1,\n",
       " 1,\n",
       " 0,\n",
       " 1,\n",
       " 1,\n",
       " 0,\n",
       " 0,\n",
       " 1,\n",
       " 1,\n",
       " 1,\n",
       " 1,\n",
       " 1,\n",
       " 0,\n",
       " 1,\n",
       " 1,\n",
       " 0,\n",
       " 1,\n",
       " 1,\n",
       " 1,\n",
       " 0,\n",
       " 0,\n",
       " 0,\n",
       " 0,\n",
       " 0,\n",
       " 0,\n",
       " 1,\n",
       " 0,\n",
       " 0,\n",
       " 1,\n",
       " 0,\n",
       " 1,\n",
       " 1,\n",
       " 1,\n",
       " 0,\n",
       " 1,\n",
       " 1,\n",
       " 1,\n",
       " 1,\n",
       " 0,\n",
       " 1,\n",
       " 1,\n",
       " 1,\n",
       " 1,\n",
       " 0,\n",
       " 0,\n",
       " 0,\n",
       " 0,\n",
       " 0,\n",
       " 0,\n",
       " 0,\n",
       " 0,\n",
       " 0,\n",
       " 0,\n",
       " 1,\n",
       " 0,\n",
       " 1,\n",
       " 0,\n",
       " 0,\n",
       " 1,\n",
       " 0,\n",
       " 0,\n",
       " 1,\n",
       " 1,\n",
       " 0,\n",
       " 1,\n",
       " 1,\n",
       " 0,\n",
       " 1,\n",
       " 0,\n",
       " 1,\n",
       " 0,\n",
       " 0,\n",
       " 1,\n",
       " 1,\n",
       " 1,\n",
       " 0,\n",
       " 1,\n",
       " 1,\n",
       " 0,\n",
       " 1,\n",
       " 1,\n",
       " 0,\n",
       " 1,\n",
       " 0,\n",
       " 1,\n",
       " 1,\n",
       " 0,\n",
       " 1,\n",
       " 0,\n",
       " 0,\n",
       " 0,\n",
       " 1,\n",
       " 1,\n",
       " 0,\n",
       " 1,\n",
       " 1,\n",
       " 1,\n",
       " 1,\n",
       " 0,\n",
       " 1,\n",
       " 0,\n",
       " 0,\n",
       " 1,\n",
       " 1,\n",
       " 0,\n",
       " 0,\n",
       " 1,\n",
       " 0,\n",
       " 0,\n",
       " 0,\n",
       " 1,\n",
       " 0,\n",
       " 1,\n",
       " 0,\n",
       " 1,\n",
       " 1,\n",
       " 1,\n",
       " 0,\n",
       " 1,\n",
       " 1,\n",
       " 1,\n",
       " 1,\n",
       " 1,\n",
       " 0,\n",
       " 1,\n",
       " 0,\n",
       " 1,\n",
       " 1,\n",
       " 1,\n",
       " 1,\n",
       " 0,\n",
       " 0,\n",
       " 0,\n",
       " 1,\n",
       " 1,\n",
       " 0,\n",
       " 1,\n",
       " 1,\n",
       " 1,\n",
       " 1,\n",
       " 1,\n",
       " 1,\n",
       " 1,\n",
       " 1,\n",
       " 1,\n",
       " 1,\n",
       " 1,\n",
       " 0,\n",
       " 0,\n",
       " 1,\n",
       " 0,\n",
       " 1,\n",
       " 0,\n",
       " 0,\n",
       " 0,\n",
       " 1,\n",
       " 0,\n",
       " 1,\n",
       " 0,\n",
       " 1,\n",
       " 0,\n",
       " 1,\n",
       " 1,\n",
       " 0,\n",
       " 1,\n",
       " 0,\n",
       " 1,\n",
       " 1,\n",
       " 1,\n",
       " 0,\n",
       " 1,\n",
       " 1,\n",
       " 1,\n",
       " 1,\n",
       " 1,\n",
       " 0,\n",
       " 0,\n",
       " 0,\n",
       " 0,\n",
       " 0,\n",
       " 0,\n",
       " 1,\n",
       " 0,\n",
       " 0,\n",
       " 0,\n",
       " 1,\n",
       " 1,\n",
       " 1,\n",
       " 0,\n",
       " 1,\n",
       " 0,\n",
       " 1,\n",
       " 0,\n",
       " 1,\n",
       " 1,\n",
       " 1,\n",
       " 0,\n",
       " 1,\n",
       " 1,\n",
       " 0,\n",
       " 1,\n",
       " 1,\n",
       " 1,\n",
       " 1,\n",
       " 1,\n",
       " 1,\n",
       " 1,\n",
       " 0,\n",
       " 0,\n",
       " 0,\n",
       " 1,\n",
       " 1,\n",
       " 1,\n",
       " 1,\n",
       " 1,\n",
       " 1,\n",
       " 0,\n",
       " 1,\n",
       " 0,\n",
       " 0,\n",
       " 1,\n",
       " 1,\n",
       " 0,\n",
       " 0,\n",
       " 1,\n",
       " 1,\n",
       " 0,\n",
       " 0,\n",
       " 1,\n",
       " 0,\n",
       " 1,\n",
       " 1,\n",
       " 0,\n",
       " 0,\n",
       " 0,\n",
       " 0,\n",
       " 1,\n",
       " 0,\n",
       " 0,\n",
       " 1,\n",
       " 0,\n",
       " 1,\n",
       " 0,\n",
       " 1,\n",
       " 1,\n",
       " 1,\n",
       " 0,\n",
       " 0,\n",
       " 1,\n",
       " 0,\n",
       " 0,\n",
       " 0,\n",
       " 1,\n",
       " 0,\n",
       " 1,\n",
       " 0,\n",
       " 0,\n",
       " 0,\n",
       " 0,\n",
       " 0,\n",
       " 1,\n",
       " 1,\n",
       " 1,\n",
       " 1,\n",
       " 0,\n",
       " 1,\n",
       " 1,\n",
       " 1,\n",
       " 1,\n",
       " 1,\n",
       " 1,\n",
       " 0,\n",
       " 1,\n",
       " 1,\n",
       " 0,\n",
       " 0,\n",
       " 1,\n",
       " 0,\n",
       " 0,\n",
       " 0,\n",
       " 1,\n",
       " 1,\n",
       " 0,\n",
       " 1,\n",
       " 1,\n",
       " 0,\n",
       " 1,\n",
       " 1,\n",
       " 1,\n",
       " 1,\n",
       " 1,\n",
       " 0,\n",
       " 0,\n",
       " 1,\n",
       " 1,\n",
       " 0,\n",
       " 0,\n",
       " 1,\n",
       " 0,\n",
       " 1,\n",
       " 1,\n",
       " 0,\n",
       " 1,\n",
       " 0,\n",
       " 1,\n",
       " 1,\n",
       " 0,\n",
       " 0,\n",
       " 0,\n",
       " 0,\n",
       " 1,\n",
       " 1,\n",
       " 0,\n",
       " 0,\n",
       " 1,\n",
       " 1,\n",
       " 0,\n",
       " 1,\n",
       " 0,\n",
       " 1,\n",
       " 1,\n",
       " 0,\n",
       " 0,\n",
       " 0,\n",
       " 1,\n",
       " 1,\n",
       " 1,\n",
       " 1,\n",
       " 1,\n",
       " 0,\n",
       " 0,\n",
       " 1,\n",
       " 0,\n",
       " 0,\n",
       " 0,\n",
       " 0,\n",
       " 0,\n",
       " 1,\n",
       " 1,\n",
       " 0,\n",
       " 1,\n",
       " 0,\n",
       " 1,\n",
       " 0,\n",
       " 0,\n",
       " 0,\n",
       " 1,\n",
       " 1,\n",
       " 0,\n",
       " 1,\n",
       " 0,\n",
       " 1,\n",
       " 0,\n",
       " 0,\n",
       " 0,\n",
       " 1,\n",
       " 1,\n",
       " 1,\n",
       " 0,\n",
       " 0,\n",
       " 0,\n",
       " 1,\n",
       " 1,\n",
       " 0,\n",
       " 0,\n",
       " 1,\n",
       " 0,\n",
       " 1,\n",
       " 1,\n",
       " 0,\n",
       " 1,\n",
       " 0,\n",
       " 1,\n",
       " 1,\n",
       " 1,\n",
       " 1,\n",
       " 1,\n",
       " 1,\n",
       " 1,\n",
       " 0,\n",
       " 1,\n",
       " 0,\n",
       " 1,\n",
       " 1,\n",
       " 0,\n",
       " 1,\n",
       " 1,\n",
       " 1,\n",
       " 0,\n",
       " 1,\n",
       " 1,\n",
       " 0,\n",
       " 0,\n",
       " 1,\n",
       " 0,\n",
       " 0,\n",
       " 0,\n",
       " 1,\n",
       " 0,\n",
       " 1,\n",
       " 0,\n",
       " 1,\n",
       " 1,\n",
       " 1,\n",
       " 0,\n",
       " 1,\n",
       " 0,\n",
       " 1,\n",
       " 1,\n",
       " 1,\n",
       " 1,\n",
       " 0,\n",
       " 1,\n",
       " 0,\n",
       " 0,\n",
       " 0,\n",
       " 0,\n",
       " 0,\n",
       " 0,\n",
       " 1,\n",
       " 1,\n",
       " 0,\n",
       " 1,\n",
       " 1,\n",
       " 0,\n",
       " 0,\n",
       " 0,\n",
       " 0,\n",
       " 0,\n",
       " 0,\n",
       " 1,\n",
       " 1,\n",
       " 0,\n",
       " 0,\n",
       " 1,\n",
       " 1,\n",
       " 1,\n",
       " 1,\n",
       " 1,\n",
       " 0,\n",
       " 1,\n",
       " 1,\n",
       " 0,\n",
       " 0,\n",
       " 1,\n",
       " 1,\n",
       " 1,\n",
       " 1,\n",
       " 1,\n",
       " 0,\n",
       " 0,\n",
       " 0,\n",
       " 0,\n",
       " 0,\n",
       " 1,\n",
       " 1,\n",
       " 1,\n",
       " 1,\n",
       " 1,\n",
       " 0,\n",
       " 1,\n",
       " 1,\n",
       " 1,\n",
       " 1,\n",
       " 0,\n",
       " 1,\n",
       " 0,\n",
       " 1,\n",
       " 0,\n",
       " 1,\n",
       " 0,\n",
       " ...]"
      ]
     },
     "execution_count": 269,
     "metadata": {},
     "output_type": "execute_result"
    }
   ],
   "source": [
    "predictions_2_official"
   ]
  },
  {
   "cell_type": "code",
   "execution_count": 270,
   "id": "bf290ed2",
   "metadata": {},
   "outputs": [
    {
     "name": "stdout",
     "output_type": "stream",
     "text": [
      "              precision    recall  f1-score   support\n",
      "\n",
      "           0       0.63      0.67      0.65      2667\n",
      "           1       0.76      0.72      0.74      3792\n",
      "\n",
      "    accuracy                           0.70      6459\n",
      "   macro avg       0.69      0.70      0.70      6459\n",
      "weighted avg       0.71      0.70      0.70      6459\n",
      "\n"
     ]
    }
   ],
   "source": [
    "print(classification_report(y_test1, predictions_2_official))"
   ]
  },
  {
   "cell_type": "code",
   "execution_count": 271,
   "id": "7e424b47",
   "metadata": {},
   "outputs": [],
   "source": [
    "from sklearn.model_selection import train_test_split\n",
    "X_train11, X_test11, y_train11, y_test11 = train_test_split(X, y1, test_size=0.2, random_state=1)\n",
    "X_train11, X_val11, y_train11, y_val11 = train_test_split(X_train11, y_train11, test_size=0.25, random_state=1) "
   ]
  },
  {
   "cell_type": "code",
   "execution_count": 272,
   "id": "eebc165d",
   "metadata": {},
   "outputs": [],
   "source": [
    "X_train11 = scaler.fit_transform(X_train11)"
   ]
  },
  {
   "cell_type": "code",
   "execution_count": 273,
   "id": "e9a43b91",
   "metadata": {},
   "outputs": [],
   "source": [
    "X_test11 = scaler.fit_transform(X_test11)"
   ]
  },
  {
   "cell_type": "code",
   "execution_count": 274,
   "id": "ce4db4e4",
   "metadata": {},
   "outputs": [],
   "source": [
    "X_val11 = scaler.fit_transform(X_val11)"
   ]
  },
  {
   "cell_type": "code",
   "execution_count": 275,
   "id": "95496ae4",
   "metadata": {},
   "outputs": [],
   "source": [
    "model_path = \"recidivism_model.json\""
   ]
  },
  {
   "cell_type": "code",
   "execution_count": 276,
   "id": "218bc208",
   "metadata": {},
   "outputs": [],
   "source": [
    "model_2_new = Sequential()"
   ]
  },
  {
   "cell_type": "code",
   "execution_count": 277,
   "id": "5f15f0ff",
   "metadata": {},
   "outputs": [],
   "source": [
    "model_2_new.add(Dense(59, activation='relu'))"
   ]
  },
  {
   "cell_type": "code",
   "execution_count": 278,
   "id": "c6efb862",
   "metadata": {},
   "outputs": [],
   "source": [
    "model_2_new.add(Dense(29, activation='relu'))"
   ]
  },
  {
   "cell_type": "code",
   "execution_count": 279,
   "id": "0fbd128f",
   "metadata": {},
   "outputs": [],
   "source": [
    "model_2_new.add(Dense(15, activation='relu'))"
   ]
  },
  {
   "cell_type": "code",
   "execution_count": 280,
   "id": "db43d273",
   "metadata": {},
   "outputs": [],
   "source": [
    "model_2_new.add(Dense(8, activation='relu'))"
   ]
  },
  {
   "cell_type": "code",
   "execution_count": 281,
   "id": "fff533b7",
   "metadata": {},
   "outputs": [],
   "source": [
    "model_2_new.add(Dense(1, activation='sigmoid'))"
   ]
  },
  {
   "cell_type": "code",
   "execution_count": 282,
   "id": "841bbc95",
   "metadata": {},
   "outputs": [],
   "source": [
    "model_2_new.compile(loss='binary_crossentropy', optimizer='adam')"
   ]
  },
  {
   "cell_type": "code",
   "execution_count": 283,
   "id": "c20c4272",
   "metadata": {},
   "outputs": [],
   "source": [
    "from tensorflow.keras.callbacks import ModelCheckpoint, CSVLogger, ReduceLROnPlateau, TensorBoard, EarlyStopping"
   ]
  },
  {
   "cell_type": "code",
   "execution_count": 284,
   "id": "8a657d27",
   "metadata": {},
   "outputs": [],
   "source": [
    "callbacks = [ModelCheckpoint(model_path, verbose=1, save_best_only=True),\n",
    "            ReduceLROnPlateau(monitor='val_loss', factor = 0.1, patience = 5, min_lr = 1e-7, verbose=1),\n",
    "            EarlyStopping(monitor='val_loss', patience = 8, restore_best_weights = False)]"
   ]
  },
  {
   "cell_type": "code",
   "execution_count": 285,
   "id": "5cc53b4f",
   "metadata": {},
   "outputs": [
    {
     "name": "stdout",
     "output_type": "stream",
     "text": [
      "Epoch 1/100\n",
      "485/485 [==============================] - 2s 3ms/step - loss: 0.5490 - val_loss: 0.5090\n",
      "\n",
      "Epoch 00001: val_loss improved from inf to 0.50896, saving model to recidivism_model.json\n",
      "INFO:tensorflow:Assets written to: recidivism_model.json\\assets\n",
      "Epoch 2/100\n",
      "485/485 [==============================] - 2s 4ms/step - loss: 0.4834 - val_loss: 0.5027\n",
      "\n",
      "Epoch 00002: val_loss improved from 0.50896 to 0.50269, saving model to recidivism_model.json\n",
      "INFO:tensorflow:Assets written to: recidivism_model.json\\assets\n",
      "Epoch 3/100\n",
      "485/485 [==============================] - 2s 4ms/step - loss: 0.4660 - val_loss: 0.5055\n",
      "\n",
      "Epoch 00003: val_loss did not improve from 0.50269\n",
      "Epoch 4/100\n",
      "485/485 [==============================] - 1s 3ms/step - loss: 0.4557 - val_loss: 0.5042\n",
      "\n",
      "Epoch 00004: val_loss did not improve from 0.50269\n",
      "Epoch 5/100\n",
      "485/485 [==============================] - 1s 3ms/step - loss: 0.4439 - val_loss: 0.5033\n",
      "\n",
      "Epoch 00005: val_loss did not improve from 0.50269\n",
      "Epoch 6/100\n",
      "485/485 [==============================] - 1s 3ms/step - loss: 0.4333 - val_loss: 0.5129\n",
      "\n",
      "Epoch 00006: val_loss did not improve from 0.50269\n",
      "Epoch 7/100\n",
      "485/485 [==============================] - 1s 3ms/step - loss: 0.4227 - val_loss: 0.5119\n",
      "\n",
      "Epoch 00007: val_loss did not improve from 0.50269\n",
      "\n",
      "Epoch 00007: ReduceLROnPlateau reducing learning rate to 0.00010000000474974513.\n",
      "Epoch 8/100\n",
      "485/485 [==============================] - 1s 2ms/step - loss: 0.3960 - val_loss: 0.5170\n",
      "\n",
      "Epoch 00008: val_loss did not improve from 0.50269\n",
      "Epoch 9/100\n",
      "485/485 [==============================] - 1s 3ms/step - loss: 0.3882 - val_loss: 0.5196\n",
      "\n",
      "Epoch 00009: val_loss did not improve from 0.50269\n",
      "Epoch 10/100\n",
      "485/485 [==============================] - 1s 2ms/step - loss: 0.3845 - val_loss: 0.5240\n",
      "\n",
      "Epoch 00010: val_loss did not improve from 0.50269\n"
     ]
    },
    {
     "data": {
      "text/plain": [
       "<keras.callbacks.History at 0x15ae9bcf978>"
      ]
     },
     "execution_count": 285,
     "metadata": {},
     "output_type": "execute_result"
    }
   ],
   "source": [
    "model_2_new.fit(\n",
    "    \n",
    "    X_train11, y_train11,\n",
    "    epochs = 100,\n",
    "    validation_data = (X_val11, y_val11),\n",
    "    callbacks = callbacks\n",
    "\n",
    ")"
   ]
  },
  {
   "cell_type": "code",
   "execution_count": 286,
   "id": "e96a340e",
   "metadata": {},
   "outputs": [],
   "source": [
    "recidivism_percentages = model_2_new.predict(X_test11)"
   ]
  },
  {
   "cell_type": "code",
   "execution_count": 287,
   "id": "f9c1fd1b",
   "metadata": {},
   "outputs": [
    {
     "data": {
      "text/plain": [
       "array([[0.17540786],\n",
       "       [0.6116612 ],\n",
       "       [0.9380477 ],\n",
       "       ...,\n",
       "       [0.9199964 ],\n",
       "       [0.4977259 ],\n",
       "       [0.44847092]], dtype=float32)"
      ]
     },
     "execution_count": 287,
     "metadata": {},
     "output_type": "execute_result"
    }
   ],
   "source": [
    "recidivism_percentages"
   ]
  },
  {
   "cell_type": "code",
   "execution_count": 288,
   "id": "4742df59",
   "metadata": {},
   "outputs": [],
   "source": [
    "recidivism_predictions = []"
   ]
  },
  {
   "cell_type": "code",
   "execution_count": 289,
   "id": "64fc5ce0",
   "metadata": {},
   "outputs": [],
   "source": [
    "for i in recidivism_percentages:\n",
    "    \n",
    "    if i >= 0.5:\n",
    "        \n",
    "        recidivism_predictions.append(1)\n",
    "        \n",
    "    else:\n",
    "        \n",
    "        recidivism_predictions.append(0)"
   ]
  },
  {
   "cell_type": "code",
   "execution_count": 290,
   "id": "a70d0672",
   "metadata": {},
   "outputs": [
    {
     "name": "stdout",
     "output_type": "stream",
     "text": [
      "              precision    recall  f1-score   support\n",
      "\n",
      "           0       0.72      0.67      0.69      2229\n",
      "           1       0.76      0.80      0.78      2938\n",
      "\n",
      "    accuracy                           0.75      5167\n",
      "   macro avg       0.74      0.74      0.74      5167\n",
      "weighted avg       0.74      0.75      0.74      5167\n",
      "\n"
     ]
    }
   ],
   "source": [
    "print(classification_report(y_test11, recidivism_predictions))"
   ]
  },
  {
   "cell_type": "code",
   "execution_count": 324,
   "id": "f0573c2e",
   "metadata": {},
   "outputs": [],
   "source": [
    "from sklearn.linear_model import LogisticRegression"
   ]
  },
  {
   "cell_type": "code",
   "execution_count": 325,
   "id": "55cae9cc",
   "metadata": {},
   "outputs": [],
   "source": [
    "mod = LogisticRegression()"
   ]
  },
  {
   "cell_type": "code",
   "execution_count": 326,
   "id": "72f247a2",
   "metadata": {},
   "outputs": [
    {
     "data": {
      "text/plain": [
       "LogisticRegression()"
      ]
     },
     "execution_count": 326,
     "metadata": {},
     "output_type": "execute_result"
    }
   ],
   "source": [
    "mod.fit(X_train11, y_train11)"
   ]
  },
  {
   "cell_type": "code",
   "execution_count": 327,
   "id": "c3f39134",
   "metadata": {},
   "outputs": [],
   "source": [
    "pred = mod.predict_proba(X_test11)"
   ]
  },
  {
   "cell_type": "code",
   "execution_count": 328,
   "id": "d303b0ef",
   "metadata": {},
   "outputs": [
    {
     "data": {
      "text/plain": [
       "array([[0.79374542, 0.20625458],\n",
       "       [0.37513013, 0.62486987],\n",
       "       [0.42119477, 0.57880523],\n",
       "       ...,\n",
       "       [0.19611058, 0.80388942],\n",
       "       [0.40918178, 0.59081822],\n",
       "       [0.58156923, 0.41843077]])"
      ]
     },
     "execution_count": 328,
     "metadata": {},
     "output_type": "execute_result"
    }
   ],
   "source": [
    "pred"
   ]
  },
  {
   "cell_type": "code",
   "execution_count": 329,
   "id": "8a1c2877",
   "metadata": {},
   "outputs": [],
   "source": [
    "preddys = []\n",
    "for i in pred:\n",
    "    \n",
    "    if i[1] >= 0.5:\n",
    "        \n",
    "        preddys.append(1)\n",
    "        \n",
    "    else:\n",
    "        \n",
    "        preddys.append(0)"
   ]
  },
  {
   "cell_type": "code",
   "execution_count": 330,
   "id": "feb90f9d",
   "metadata": {},
   "outputs": [
    {
     "name": "stdout",
     "output_type": "stream",
     "text": [
      "              precision    recall  f1-score   support\n",
      "\n",
      "           0       0.74      0.67      0.70      2229\n",
      "           1       0.76      0.83      0.79      2938\n",
      "\n",
      "    accuracy                           0.76      5167\n",
      "   macro avg       0.75      0.75      0.75      5167\n",
      "weighted avg       0.76      0.76      0.75      5167\n",
      "\n"
     ]
    }
   ],
   "source": [
    "print(classification_report(y_test11,preddys))"
   ]
  },
  {
   "cell_type": "code",
   "execution_count": 331,
   "id": "e525d0d4",
   "metadata": {},
   "outputs": [
    {
     "name": "stdout",
     "output_type": "stream",
     "text": [
      "hello\n"
     ]
    }
   ],
   "source": [
    "print('hello')"
   ]
  },
  {
   "cell_type": "markdown",
   "id": "bbacacaf",
   "metadata": {},
   "source": [
    "Custom K_Nearest_Neighbors Algorithm"
   ]
  },
  {
   "cell_type": "code",
   "execution_count": 332,
   "id": "6e68f02e",
   "metadata": {},
   "outputs": [],
   "source": [
    "from sklearn.neighbors import KNeighborsClassifier"
   ]
  },
  {
   "cell_type": "code",
   "execution_count": 333,
   "id": "43e9e3f0",
   "metadata": {},
   "outputs": [],
   "source": [
    "knn = KNeighborsClassifier(n_neighbors = 9)"
   ]
  },
  {
   "cell_type": "code",
   "execution_count": 334,
   "id": "b134028b",
   "metadata": {},
   "outputs": [
    {
     "data": {
      "text/plain": [
       "KNeighborsClassifier(n_neighbors=9)"
      ]
     },
     "execution_count": 334,
     "metadata": {},
     "output_type": "execute_result"
    }
   ],
   "source": [
    "knn.fit(X_train2, y_train2)"
   ]
  },
  {
   "cell_type": "code",
   "execution_count": 335,
   "id": "15435128",
   "metadata": {},
   "outputs": [],
   "source": [
    "y_pred6 = knn.predict(X_test2)"
   ]
  },
  {
   "cell_type": "code",
   "execution_count": 336,
   "id": "1994bf75",
   "metadata": {},
   "outputs": [
    {
     "data": {
      "text/plain": [
       "array([1, 1, 1, ..., 1, 1, 1], dtype=int64)"
      ]
     },
     "execution_count": 336,
     "metadata": {},
     "output_type": "execute_result"
    }
   ],
   "source": [
    "y_pred6"
   ]
  },
  {
   "cell_type": "code",
   "execution_count": 337,
   "id": "84f4c0cc",
   "metadata": {},
   "outputs": [
    {
     "data": {
      "text/plain": [
       "<sklearn.metrics._plot.confusion_matrix.ConfusionMatrixDisplay at 0x15aee561eb8>"
      ]
     },
     "execution_count": 337,
     "metadata": {},
     "output_type": "execute_result"
    },
    {
     "data": {
      "image/png": "[encoded data removed]",
      "text/plain": [
       "<Figure size 432x288 with 2 Axes>"
      ]
     },
     "metadata": {
      "needs_background": "light"
     },
     "output_type": "display_data"
    }
   ],
   "source": [
    "ConfusionMatrixDisplay(confusion_matrix(y_test2,y_pred6)).plot()"
   ]
  }
 ],
 "metadata": {
  "kernelspec": {
   "display_name": "Python 3",
   "language": "python",
   "name": "python3"
  },
  "language_info": {
   "codemirror_mode": {
    "name": "ipython",
    "version": 3
   },
   "file_extension": ".py",
   "mimetype": "text/x-python",
   "name": "python",
   "nbconvert_exporter": "python",
   "pygments_lexer": "ipython3",
   "version": "3.6.13"
  }
 },
 "nbformat": 4,
 "nbformat_minor": 5
}
